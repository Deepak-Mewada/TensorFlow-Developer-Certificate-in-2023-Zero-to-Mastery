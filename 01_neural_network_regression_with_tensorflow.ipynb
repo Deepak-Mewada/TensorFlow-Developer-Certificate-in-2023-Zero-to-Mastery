{
  "nbformat": 4,
  "nbformat_minor": 0,
  "metadata": {
    "colab": {
      "provenance": [],
      "mount_file_id": "1VAJPDoKBrkuTEU39lpSepk74zQQOpDVU",
      "authorship_tag": "ABX9TyPEu2HecISpvICilqLnakqe",
      "include_colab_link": true
    },
    "kernelspec": {
      "name": "python3",
      "display_name": "Python 3"
    },
    "language_info": {
      "name": "python"
    }
  },
  "cells": [
    {
      "cell_type": "markdown",
      "metadata": {
        "id": "view-in-github",
        "colab_type": "text"
      },
      "source": [
        "<a href=\"https://colab.research.google.com/github/Deepak-Mewada/TensorFlow-Developer-Certificate-in-2023-Zero-to-Mastery/blob/main/01_neural_network_regression_with_tensorflow.ipynb\" target=\"_parent\"><img src=\"https://colab.research.google.com/assets/colab-badge.svg\" alt=\"Open In Colab\"/></a>"
      ]
    },
    {
      "cell_type": "markdown",
      "source": [
        "#Introduction to Regression with Neural Network in tenosrFlow"
      ],
      "metadata": {
        "id": "4rOD3wzL_2-u"
      }
    },
    {
      "cell_type": "code",
      "execution_count": 67,
      "metadata": {
        "colab": {
          "base_uri": "https://localhost:8080/",
          "height": 36
        },
        "id": "z2JouPF2_sp3",
        "outputId": "25f2c147-7b18-4f27-bd2d-d69a9e115da7"
      },
      "outputs": [
        {
          "output_type": "execute_result",
          "data": {
            "text/plain": [
              "'2.9.2'"
            ],
            "application/vnd.google.colaboratory.intrinsic+json": {
              "type": "string"
            }
          },
          "metadata": {},
          "execution_count": 67
        }
      ],
      "source": [
        "# Import tensorflow \n",
        "import tensorflow as tf\n",
        "tf.__version__"
      ]
    },
    {
      "cell_type": "markdown",
      "source": [
        "#Creating data to view and fit"
      ],
      "metadata": {
        "id": "LIndur20AMBd"
      }
    },
    {
      "cell_type": "code",
      "source": [
        "import numpy as np\n",
        "import matplotlib.pyplot as plt\n",
        "\n",
        "# create features\n",
        "X = np.array([-7.0, -4., -1,2,5,6,7,8,11])\n",
        "\n",
        "#create lables\n",
        "y= np.array([3,6.0,9.0,12.0,15.0,16.0,17.0,18,21])\n",
        "\n",
        "#visulalize it\n",
        "plt.scatter(X,y)"
      ],
      "metadata": {
        "colab": {
          "base_uri": "https://localhost:8080/",
          "height": 283
        },
        "id": "kJ6ado9RAKrF",
        "outputId": "8364edc4-3c19-403e-a12b-21126359a28e"
      },
      "execution_count": 68,
      "outputs": [
        {
          "output_type": "execute_result",
          "data": {
            "text/plain": [
              "<matplotlib.collections.PathCollection at 0x7fc83311d710>"
            ]
          },
          "metadata": {},
          "execution_count": 68
        },
        {
          "output_type": "display_data",
          "data": {
            "text/plain": [
              "<Figure size 432x288 with 1 Axes>"
            ],
            "image/png": "[encoded data removed]"
          },
          "metadata": {
            "needs_background": "light"
          }
        }
      ]
    },
    {
      "cell_type": "code",
      "source": [
        "y== X+10"
      ],
      "metadata": {
        "colab": {
          "base_uri": "https://localhost:8080/"
        },
        "id": "0uJ5mFEuBaCO",
        "outputId": "04264774-e46d-4e33-d5c2-323c310b0b64"
      },
      "execution_count": 69,
      "outputs": [
        {
          "output_type": "execute_result",
          "data": {
            "text/plain": [
              "array([ True,  True,  True,  True,  True,  True,  True,  True,  True])"
            ]
          },
          "metadata": {},
          "execution_count": 69
        }
      ]
    },
    {
      "cell_type": "markdown",
      "source": [
        "#Input and output shape"
      ],
      "metadata": {
        "id": "mfyYsklHCV-l"
      }
    },
    {
      "cell_type": "code",
      "source": [
        "X.shape, y.shape"
      ],
      "metadata": {
        "colab": {
          "base_uri": "https://localhost:8080/"
        },
        "id": "OEFWVBgNCM_N",
        "outputId": "28f1f2bd-fdc8-4bbf-e589-248a79cba4a1"
      },
      "execution_count": 70,
      "outputs": [
        {
          "output_type": "execute_result",
          "data": {
            "text/plain": [
              "((9,), (9,))"
            ]
          },
          "metadata": {},
          "execution_count": 70
        }
      ]
    },
    {
      "cell_type": "code",
      "source": [
        "#create a demo tensor for our housing price prediction problem\n",
        "house_info = tf.constant([\"bedroom\", \"bathroom\", \"garage\"])\n",
        "house_price = tf.constant([939700])\n",
        "house_info, house_price"
      ],
      "metadata": {
        "colab": {
          "base_uri": "https://localhost:8080/"
        },
        "id": "5rSj-n7yCNnX",
        "outputId": "d5be5a5e-b37c-40a3-db0f-8473f97754e2"
      },
      "execution_count": 71,
      "outputs": [
        {
          "output_type": "execute_result",
          "data": {
            "text/plain": [
              "(<tf.Tensor: shape=(3,), dtype=string, numpy=array([b'bedroom', b'bathroom', b'garage'], dtype=object)>,\n",
              " <tf.Tensor: shape=(1,), dtype=int32, numpy=array([939700], dtype=int32)>)"
            ]
          },
          "metadata": {},
          "execution_count": 71
        }
      ]
    },
    {
      "cell_type": "code",
      "source": [
        "X[0], y[0]"
      ],
      "metadata": {
        "colab": {
          "base_uri": "https://localhost:8080/"
        },
        "id": "qkGjL-z_C_02",
        "outputId": "5367a698-265d-42f8-aabb-d8e1d15463e0"
      },
      "execution_count": 72,
      "outputs": [
        {
          "output_type": "execute_result",
          "data": {
            "text/plain": [
              "(-7.0, 3.0)"
            ]
          },
          "metadata": {},
          "execution_count": 72
        }
      ]
    },
    {
      "cell_type": "code",
      "source": [
        "X[1],y[1]"
      ],
      "metadata": {
        "colab": {
          "base_uri": "https://localhost:8080/"
        },
        "id": "R53K5Eo5DGKG",
        "outputId": "cbe8625a-1a80-450a-ca10-a3189601970c"
      },
      "execution_count": 73,
      "outputs": [
        {
          "output_type": "execute_result",
          "data": {
            "text/plain": [
              "(-4.0, 6.0)"
            ]
          },
          "metadata": {},
          "execution_count": 73
        }
      ]
    },
    {
      "cell_type": "code",
      "source": [
        "#turn our Numpy arrays into tensors\n",
        "X = tf.constant(X)\n",
        "y = tf.constant(y)\n",
        "X, y"
      ],
      "metadata": {
        "colab": {
          "base_uri": "https://localhost:8080/"
        },
        "id": "z1D30c_zDJQe",
        "outputId": "b83426cb-2ae9-42e5-cc06-9b7c237f7493"
      },
      "execution_count": 74,
      "outputs": [
        {
          "output_type": "execute_result",
          "data": {
            "text/plain": [
              "(<tf.Tensor: shape=(9,), dtype=float64, numpy=array([-7., -4., -1.,  2.,  5.,  6.,  7.,  8., 11.])>,\n",
              " <tf.Tensor: shape=(9,), dtype=float64, numpy=array([ 3.,  6.,  9., 12., 15., 16., 17., 18., 21.])>)"
            ]
          },
          "metadata": {},
          "execution_count": 74
        }
      ]
    },
    {
      "cell_type": "code",
      "source": [
        "input_shape= X[0].shape\n",
        "output_shape= y[0].shape\n",
        "input_shape, output_shape"
      ],
      "metadata": {
        "colab": {
          "base_uri": "https://localhost:8080/"
        },
        "id": "n6XaVcOaDJq-",
        "outputId": "87d20d37-d86b-479f-f202-2241f217653a"
      },
      "execution_count": 75,
      "outputs": [
        {
          "output_type": "execute_result",
          "data": {
            "text/plain": [
              "(TensorShape([]), TensorShape([]))"
            ]
          },
          "metadata": {},
          "execution_count": 75
        }
      ]
    },
    {
      "cell_type": "markdown",
      "source": [
        "## Steps in modellin with tensorFlow\n",
        "1. Creating a model\n",
        "2. Compiling a model\n",
        "3. Fitting a model\n",
        "\n"
      ],
      "metadata": {
        "id": "5YbqOrc0EbLm"
      }
    },
    {
      "cell_type": "code",
      "source": [
        "#model= tf.keras.Sequential()\n",
        "#model.add(tf.keras.layers.Dense(1))"
      ],
      "metadata": {
        "id": "mUs0tayKJdBX"
      },
      "execution_count": 76,
      "outputs": []
    },
    {
      "cell_type": "code",
      "source": [
        "# Set random seed\n",
        "tf.random.set_seed(41)\n",
        "\n",
        "#1. create a model using the Sequential API\n",
        "model = tf.keras.Sequential([\n",
        "          tf.keras.layers.Dense(1)\n",
        "                          ])\n",
        "\n",
        "# 2. Compile the model\n",
        "model.compile(\n",
        "              loss= tf.losses.mae,\n",
        "              optimizer=tf.optimizers.SGD(),\n",
        "              metrics=[\"mae\"]\n",
        "            )\n"
      ],
      "metadata": {
        "id": "7Eynsc3fEUvO"
      },
      "execution_count": 77,
      "outputs": []
    },
    {
      "cell_type": "code",
      "source": [
        "X.ndim, y.ndim"
      ],
      "metadata": {
        "colab": {
          "base_uri": "https://localhost:8080/"
        },
        "id": "M5QavfXCQVi5",
        "outputId": "0ca9592a-a986-414c-903b-e22c652215ea"
      },
      "execution_count": 78,
      "outputs": [
        {
          "output_type": "execute_result",
          "data": {
            "text/plain": [
              "(1, 1)"
            ]
          },
          "metadata": {},
          "execution_count": 78
        }
      ]
    },
    {
      "cell_type": "code",
      "source": [
        "X=tf.expand_dims(X,-1)\n",
        "X"
      ],
      "metadata": {
        "colab": {
          "base_uri": "https://localhost:8080/"
        },
        "id": "Q6TJ3sjkSMKp",
        "outputId": "61613069-6ef2-4ed1-a882-9cf5f3bc73b2"
      },
      "execution_count": 79,
      "outputs": [
        {
          "output_type": "execute_result",
          "data": {
            "text/plain": [
              "<tf.Tensor: shape=(9, 1), dtype=float64, numpy=\n",
              "array([[-7.],\n",
              "       [-4.],\n",
              "       [-1.],\n",
              "       [ 2.],\n",
              "       [ 5.],\n",
              "       [ 6.],\n",
              "       [ 7.],\n",
              "       [ 8.],\n",
              "       [11.]])>"
            ]
          },
          "metadata": {},
          "execution_count": 79
        }
      ]
    },
    {
      "cell_type": "code",
      "source": [
        "X,y"
      ],
      "metadata": {
        "colab": {
          "base_uri": "https://localhost:8080/"
        },
        "id": "1nTJMOLsSzEp",
        "outputId": "b77ac18f-8d00-4918-f3cb-8a807c7766c8"
      },
      "execution_count": 80,
      "outputs": [
        {
          "output_type": "execute_result",
          "data": {
            "text/plain": [
              "(<tf.Tensor: shape=(9, 1), dtype=float64, numpy=\n",
              " array([[-7.],\n",
              "        [-4.],\n",
              "        [-1.],\n",
              "        [ 2.],\n",
              "        [ 5.],\n",
              "        [ 6.],\n",
              "        [ 7.],\n",
              "        [ 8.],\n",
              "        [11.]])>,\n",
              " <tf.Tensor: shape=(9,), dtype=float64, numpy=array([ 3.,  6.,  9., 12., 15., 16., 17., 18., 21.])>)"
            ]
          },
          "metadata": {},
          "execution_count": 80
        }
      ]
    },
    {
      "cell_type": "code",
      "source": [
        "#3. fit the model\n",
        "\n",
        "model.fit(x=X, y=y, epochs=5)"
      ],
      "metadata": {
        "colab": {
          "base_uri": "https://localhost:8080/"
        },
        "id": "2CF6kkY6Qomg",
        "outputId": "ad13e7fd-2ea6-4fc3-c9d5-b51d8b9a0cf9"
      },
      "execution_count": 81,
      "outputs": [
        {
          "output_type": "stream",
          "name": "stdout",
          "text": [
            "Epoch 1/5\n",
            "1/1 [==============================] - 0s 309ms/step - loss: 12.2808 - mae: 12.2808\n",
            "Epoch 2/5\n",
            "1/1 [==============================] - 0s 8ms/step - loss: 12.1808 - mae: 12.1808\n",
            "Epoch 3/5\n",
            "1/1 [==============================] - 0s 10ms/step - loss: 12.0808 - mae: 12.0808\n",
            "Epoch 4/5\n",
            "1/1 [==============================] - 0s 10ms/step - loss: 11.9808 - mae: 11.9808\n",
            "Epoch 5/5\n",
            "1/1 [==============================] - 0s 8ms/step - loss: 11.8808 - mae: 11.8808\n"
          ]
        },
        {
          "output_type": "execute_result",
          "data": {
            "text/plain": [
              "<keras.callbacks.History at 0x7fc833139410>"
            ]
          },
          "metadata": {},
          "execution_count": 81
        }
      ]
    },
    {
      "cell_type": "code",
      "source": [
        "X,y"
      ],
      "metadata": {
        "colab": {
          "base_uri": "https://localhost:8080/"
        },
        "id": "wA_ZzqtiXGY7",
        "outputId": "6ee66b32-fe68-4735-f892-0c29f434a0d8"
      },
      "execution_count": 82,
      "outputs": [
        {
          "output_type": "execute_result",
          "data": {
            "text/plain": [
              "(<tf.Tensor: shape=(9, 1), dtype=float64, numpy=\n",
              " array([[-7.],\n",
              "        [-4.],\n",
              "        [-1.],\n",
              "        [ 2.],\n",
              "        [ 5.],\n",
              "        [ 6.],\n",
              "        [ 7.],\n",
              "        [ 8.],\n",
              "        [11.]])>,\n",
              " <tf.Tensor: shape=(9,), dtype=float64, numpy=array([ 3.,  6.,  9., 12., 15., 16., 17., 18., 21.])>)"
            ]
          },
          "metadata": {},
          "execution_count": 82
        }
      ]
    },
    {
      "cell_type": "code",
      "source": [
        "model.predict([17])"
      ],
      "metadata": {
        "colab": {
          "base_uri": "https://localhost:8080/"
        },
        "id": "7bTGmJM8WrfM",
        "outputId": "ebc4bd74-f1b2-4c5e-bf63-a33e722a8d28"
      },
      "execution_count": 83,
      "outputs": [
        {
          "output_type": "stream",
          "name": "stdout",
          "text": [
            "1/1 [==============================] - 0s 102ms/step\n"
          ]
        },
        {
          "output_type": "execute_result",
          "data": {
            "text/plain": [
              "array([[6.6754527]], dtype=float32)"
            ]
          },
          "metadata": {},
          "execution_count": 83
        }
      ]
    },
    {
      "cell_type": "markdown",
      "source": [
        "# Improving the model performance\n",
        "\n",
        "We can improve our model by altering the steps we took to create a model"
      ],
      "metadata": {
        "id": "iaSzOPFWYx0i"
      }
    },
    {
      "cell_type": "code",
      "source": [
        " #Let's rebuild the model\n",
        "\n",
        "#1. create the model\n",
        "model=tf.keras.Sequential([\n",
        "    tf.keras.layers.Dense(1)\n",
        "])\n",
        "\n",
        "#2. compie the model\n",
        "model.compile(\n",
        "      loss= tf.losses.mae,\n",
        "      optimizer=tf.optimizers.SGD(),\n",
        "      metrics= [\"mae\"] \n",
        ")\n",
        "\n",
        "\n",
        "#3. fitting the model\n",
        "history=model.fit(X,y, epochs=100)"
      ],
      "metadata": {
        "colab": {
          "base_uri": "https://localhost:8080/"
        },
        "id": "SgDTcmTOWsDC",
        "outputId": "ebe92e3e-f42c-4335-b386-d60d66b33fd0"
      },
      "execution_count": 84,
      "outputs": [
        {
          "output_type": "stream",
          "name": "stdout",
          "text": [
            "Epoch 1/100\n",
            "1/1 [==============================] - 0s 315ms/step - loss: 11.9897 - mae: 11.9897\n",
            "Epoch 2/100\n",
            "1/1 [==============================] - 0s 11ms/step - loss: 11.8897 - mae: 11.8897\n",
            "Epoch 3/100\n",
            "1/1 [==============================] - 0s 9ms/step - loss: 11.7897 - mae: 11.7897\n",
            "Epoch 4/100\n",
            "1/1 [==============================] - 0s 9ms/step - loss: 11.6897 - mae: 11.6897\n",
            "Epoch 5/100\n",
            "1/1 [==============================] - 0s 7ms/step - loss: 11.5897 - mae: 11.5897\n",
            "Epoch 6/100\n",
            "1/1 [==============================] - 0s 8ms/step - loss: 11.4897 - mae: 11.4897\n",
            "Epoch 7/100\n",
            "1/1 [==============================] - 0s 7ms/step - loss: 11.3897 - mae: 11.3897\n",
            "Epoch 8/100\n",
            "1/1 [==============================] - 0s 8ms/step - loss: 11.2897 - mae: 11.2897\n",
            "Epoch 9/100\n",
            "1/1 [==============================] - 0s 9ms/step - loss: 11.1897 - mae: 11.1897\n",
            "Epoch 10/100\n",
            "1/1 [==============================] - 0s 6ms/step - loss: 11.0897 - mae: 11.0897\n",
            "Epoch 11/100\n",
            "1/1 [==============================] - 0s 8ms/step - loss: 10.9897 - mae: 10.9897\n",
            "Epoch 12/100\n",
            "1/1 [==============================] - 0s 8ms/step - loss: 10.8897 - mae: 10.8897\n",
            "Epoch 13/100\n",
            "1/1 [==============================] - 0s 8ms/step - loss: 10.7897 - mae: 10.7897\n",
            "Epoch 14/100\n",
            "1/1 [==============================] - 0s 8ms/step - loss: 10.6897 - mae: 10.6897\n",
            "Epoch 15/100\n",
            "1/1 [==============================] - 0s 9ms/step - loss: 10.5897 - mae: 10.5897\n",
            "Epoch 16/100\n",
            "1/1 [==============================] - 0s 7ms/step - loss: 10.4897 - mae: 10.4897\n",
            "Epoch 17/100\n",
            "1/1 [==============================] - 0s 9ms/step - loss: 10.3897 - mae: 10.3897\n",
            "Epoch 18/100\n",
            "1/1 [==============================] - 0s 7ms/step - loss: 10.2897 - mae: 10.2897\n",
            "Epoch 19/100\n",
            "1/1 [==============================] - 0s 10ms/step - loss: 10.1897 - mae: 10.1897\n",
            "Epoch 20/100\n",
            "1/1 [==============================] - 0s 7ms/step - loss: 10.0897 - mae: 10.0897\n",
            "Epoch 21/100\n",
            "1/1 [==============================] - 0s 10ms/step - loss: 9.9897 - mae: 9.9897\n",
            "Epoch 22/100\n",
            "1/1 [==============================] - 0s 6ms/step - loss: 9.8897 - mae: 9.8897\n",
            "Epoch 23/100\n",
            "1/1 [==============================] - 0s 6ms/step - loss: 9.7897 - mae: 9.7897\n",
            "Epoch 24/100\n",
            "1/1 [==============================] - 0s 6ms/step - loss: 9.6897 - mae: 9.6897\n",
            "Epoch 25/100\n",
            "1/1 [==============================] - 0s 6ms/step - loss: 9.5897 - mae: 9.5897\n",
            "Epoch 26/100\n",
            "1/1 [==============================] - 0s 6ms/step - loss: 9.4897 - mae: 9.4897\n",
            "Epoch 27/100\n",
            "1/1 [==============================] - 0s 11ms/step - loss: 9.3897 - mae: 9.3897\n",
            "Epoch 28/100\n",
            "1/1 [==============================] - 0s 11ms/step - loss: 9.2897 - mae: 9.2897\n",
            "Epoch 29/100\n",
            "1/1 [==============================] - 0s 9ms/step - loss: 9.1897 - mae: 9.1897\n",
            "Epoch 30/100\n",
            "1/1 [==============================] - 0s 7ms/step - loss: 9.0897 - mae: 9.0897\n",
            "Epoch 31/100\n",
            "1/1 [==============================] - 0s 7ms/step - loss: 8.9897 - mae: 8.9897\n",
            "Epoch 32/100\n",
            "1/1 [==============================] - 0s 7ms/step - loss: 8.8897 - mae: 8.8897\n",
            "Epoch 33/100\n",
            "1/1 [==============================] - 0s 12ms/step - loss: 8.7897 - mae: 8.7897\n",
            "Epoch 34/100\n",
            "1/1 [==============================] - 0s 9ms/step - loss: 8.6897 - mae: 8.6897\n",
            "Epoch 35/100\n",
            "1/1 [==============================] - 0s 8ms/step - loss: 8.5897 - mae: 8.5897\n",
            "Epoch 36/100\n",
            "1/1 [==============================] - 0s 7ms/step - loss: 8.4897 - mae: 8.4897\n",
            "Epoch 37/100\n",
            "1/1 [==============================] - 0s 7ms/step - loss: 8.3897 - mae: 8.3897\n",
            "Epoch 38/100\n",
            "1/1 [==============================] - 0s 19ms/step - loss: 8.2897 - mae: 8.2897\n",
            "Epoch 39/100\n",
            "1/1 [==============================] - 0s 63ms/step - loss: 8.1897 - mae: 8.1897\n",
            "Epoch 40/100\n",
            "1/1 [==============================] - 0s 12ms/step - loss: 8.0897 - mae: 8.0897\n",
            "Epoch 41/100\n",
            "1/1 [==============================] - 0s 9ms/step - loss: 7.9897 - mae: 7.9897\n",
            "Epoch 42/100\n",
            "1/1 [==============================] - 0s 7ms/step - loss: 7.8897 - mae: 7.8897\n",
            "Epoch 43/100\n",
            "1/1 [==============================] - 0s 7ms/step - loss: 7.7897 - mae: 7.7897\n",
            "Epoch 44/100\n",
            "1/1 [==============================] - 0s 7ms/step - loss: 7.6897 - mae: 7.6897\n",
            "Epoch 45/100\n",
            "1/1 [==============================] - 0s 7ms/step - loss: 7.5897 - mae: 7.5897\n",
            "Epoch 46/100\n",
            "1/1 [==============================] - 0s 7ms/step - loss: 7.4897 - mae: 7.4897\n",
            "Epoch 47/100\n",
            "1/1 [==============================] - 0s 7ms/step - loss: 7.3897 - mae: 7.3897\n",
            "Epoch 48/100\n",
            "1/1 [==============================] - 0s 7ms/step - loss: 7.2897 - mae: 7.2897\n",
            "Epoch 49/100\n",
            "1/1 [==============================] - 0s 7ms/step - loss: 7.1897 - mae: 7.1897\n",
            "Epoch 50/100\n",
            "1/1 [==============================] - 0s 6ms/step - loss: 7.0897 - mae: 7.0897\n",
            "Epoch 51/100\n",
            "1/1 [==============================] - 0s 7ms/step - loss: 6.9897 - mae: 6.9897\n",
            "Epoch 52/100\n",
            "1/1 [==============================] - 0s 7ms/step - loss: 6.8996 - mae: 6.8996\n",
            "Epoch 53/100\n",
            "1/1 [==============================] - 0s 7ms/step - loss: 6.8904 - mae: 6.8904\n",
            "Epoch 54/100\n",
            "1/1 [==============================] - 0s 7ms/step - loss: 6.8813 - mae: 6.8813\n",
            "Epoch 55/100\n",
            "1/1 [==============================] - 0s 7ms/step - loss: 6.8722 - mae: 6.8722\n",
            "Epoch 56/100\n",
            "1/1 [==============================] - 0s 7ms/step - loss: 6.8630 - mae: 6.8630\n",
            "Epoch 57/100\n",
            "1/1 [==============================] - 0s 7ms/step - loss: 6.8539 - mae: 6.8539\n",
            "Epoch 58/100\n",
            "1/1 [==============================] - 0s 7ms/step - loss: 6.8448 - mae: 6.8448\n",
            "Epoch 59/100\n",
            "1/1 [==============================] - 0s 7ms/step - loss: 6.8356 - mae: 6.8356\n",
            "Epoch 60/100\n",
            "1/1 [==============================] - 0s 7ms/step - loss: 6.8265 - mae: 6.8265\n",
            "Epoch 61/100\n",
            "1/1 [==============================] - 0s 7ms/step - loss: 6.8173 - mae: 6.8173\n",
            "Epoch 62/100\n",
            "1/1 [==============================] - 0s 7ms/step - loss: 6.8082 - mae: 6.8082\n",
            "Epoch 63/100\n",
            "1/1 [==============================] - 0s 7ms/step - loss: 6.7991 - mae: 6.7991\n",
            "Epoch 64/100\n",
            "1/1 [==============================] - 0s 7ms/step - loss: 6.7899 - mae: 6.7899\n",
            "Epoch 65/100\n",
            "1/1 [==============================] - 0s 7ms/step - loss: 6.7808 - mae: 6.7808\n",
            "Epoch 66/100\n",
            "1/1 [==============================] - 0s 7ms/step - loss: 6.7717 - mae: 6.7717\n",
            "Epoch 67/100\n",
            "1/1 [==============================] - 0s 7ms/step - loss: 6.7625 - mae: 6.7625\n",
            "Epoch 68/100\n",
            "1/1 [==============================] - 0s 8ms/step - loss: 6.7534 - mae: 6.7534\n",
            "Epoch 69/100\n",
            "1/1 [==============================] - 0s 12ms/step - loss: 6.7443 - mae: 6.7443\n",
            "Epoch 70/100\n",
            "1/1 [==============================] - 0s 7ms/step - loss: 6.7351 - mae: 6.7351\n",
            "Epoch 71/100\n",
            "1/1 [==============================] - 0s 7ms/step - loss: 6.7260 - mae: 6.7260\n",
            "Epoch 72/100\n",
            "1/1 [==============================] - 0s 11ms/step - loss: 6.7169 - mae: 6.7169\n",
            "Epoch 73/100\n",
            "1/1 [==============================] - 0s 7ms/step - loss: 6.7077 - mae: 6.7077\n",
            "Epoch 74/100\n",
            "1/1 [==============================] - 0s 7ms/step - loss: 6.6986 - mae: 6.6986\n",
            "Epoch 75/100\n",
            "1/1 [==============================] - 0s 7ms/step - loss: 6.6894 - mae: 6.6894\n",
            "Epoch 76/100\n",
            "1/1 [==============================] - 0s 7ms/step - loss: 6.6803 - mae: 6.6803\n",
            "Epoch 77/100\n",
            "1/1 [==============================] - 0s 7ms/step - loss: 6.6712 - mae: 6.6712\n",
            "Epoch 78/100\n",
            "1/1 [==============================] - 0s 7ms/step - loss: 6.6620 - mae: 6.6620\n",
            "Epoch 79/100\n",
            "1/1 [==============================] - 0s 7ms/step - loss: 6.6529 - mae: 6.6529\n",
            "Epoch 80/100\n",
            "1/1 [==============================] - 0s 7ms/step - loss: 6.6438 - mae: 6.6438\n",
            "Epoch 81/100\n",
            "1/1 [==============================] - 0s 7ms/step - loss: 6.6346 - mae: 6.6346\n",
            "Epoch 82/100\n",
            "1/1 [==============================] - 0s 7ms/step - loss: 6.6255 - mae: 6.6255\n",
            "Epoch 83/100\n",
            "1/1 [==============================] - 0s 7ms/step - loss: 6.6164 - mae: 6.6164\n",
            "Epoch 84/100\n",
            "1/1 [==============================] - 0s 7ms/step - loss: 6.6072 - mae: 6.6072\n",
            "Epoch 85/100\n",
            "1/1 [==============================] - 0s 7ms/step - loss: 6.5981 - mae: 6.5981\n",
            "Epoch 86/100\n",
            "1/1 [==============================] - 0s 7ms/step - loss: 6.5890 - mae: 6.5890\n",
            "Epoch 87/100\n",
            "1/1 [==============================] - 0s 7ms/step - loss: 6.5798 - mae: 6.5798\n",
            "Epoch 88/100\n",
            "1/1 [==============================] - 0s 7ms/step - loss: 6.5707 - mae: 6.5707\n",
            "Epoch 89/100\n",
            "1/1 [==============================] - 0s 7ms/step - loss: 6.5615 - mae: 6.5615\n",
            "Epoch 90/100\n",
            "1/1 [==============================] - 0s 7ms/step - loss: 6.5524 - mae: 6.5524\n",
            "Epoch 91/100\n",
            "1/1 [==============================] - 0s 7ms/step - loss: 6.5433 - mae: 6.5433\n",
            "Epoch 92/100\n",
            "1/1 [==============================] - 0s 6ms/step - loss: 6.5341 - mae: 6.5341\n",
            "Epoch 93/100\n",
            "1/1 [==============================] - 0s 7ms/step - loss: 6.5250 - mae: 6.5250\n",
            "Epoch 94/100\n",
            "1/1 [==============================] - 0s 7ms/step - loss: 6.5159 - mae: 6.5159\n",
            "Epoch 95/100\n",
            "1/1 [==============================] - 0s 7ms/step - loss: 6.5067 - mae: 6.5067\n",
            "Epoch 96/100\n",
            "1/1 [==============================] - 0s 7ms/step - loss: 6.4976 - mae: 6.4976\n",
            "Epoch 97/100\n",
            "1/1 [==============================] - 0s 7ms/step - loss: 6.4885 - mae: 6.4885\n",
            "Epoch 98/100\n",
            "1/1 [==============================] - 0s 7ms/step - loss: 6.4793 - mae: 6.4793\n",
            "Epoch 99/100\n",
            "1/1 [==============================] - 0s 7ms/step - loss: 6.4702 - mae: 6.4702\n",
            "Epoch 100/100\n",
            "1/1 [==============================] - 0s 6ms/step - loss: 6.4610 - mae: 6.4610\n"
          ]
        }
      ]
    },
    {
      "cell_type": "code",
      "source": [
        "plt.plot(history.history[\"mae\"])"
      ],
      "metadata": {
        "colab": {
          "base_uri": "https://localhost:8080/",
          "height": 283
        },
        "id": "A3E_EKfdXHyp",
        "outputId": "8da492cb-7e99-427d-dc1b-2c162f5a1373"
      },
      "execution_count": 85,
      "outputs": [
        {
          "output_type": "execute_result",
          "data": {
            "text/plain": [
              "[<matplotlib.lines.Line2D at 0x7fc832f1f4d0>]"
            ]
          },
          "metadata": {},
          "execution_count": 85
        },
        {
          "output_type": "display_data",
          "data": {
            "text/plain": [
              "<Figure size 432x288 with 1 Axes>"
            ],
            "image/png": "[encoded data removed]"
          },
          "metadata": {
            "needs_background": "light"
          }
        }
      ]
    },
    {
      "cell_type": "code",
      "source": [
        "X,model.predict([X])"
      ],
      "metadata": {
        "colab": {
          "base_uri": "https://localhost:8080/"
        },
        "id": "RdrtFLMVTGU3",
        "outputId": "5f77bda1-a87b-4f26-b2ac-f45c1bee746b"
      },
      "execution_count": 86,
      "outputs": [
        {
          "output_type": "stream",
          "name": "stderr",
          "text": [
            "WARNING:tensorflow:Layers in a Sequential model should only have a single input tensor. Received: inputs=(<tf.Tensor 'IteratorGetNext:0' shape=(None, 1) dtype=float64>,). Consider rewriting this model with the Functional API.\n"
          ]
        },
        {
          "output_type": "stream",
          "name": "stdout",
          "text": [
            "1/1 [==============================] - 0s 44ms/step\n"
          ]
        },
        {
          "output_type": "execute_result",
          "data": {
            "text/plain": [
              "(<tf.Tensor: shape=(9, 1), dtype=float64, numpy=\n",
              " array([[-7.],\n",
              "        [-4.],\n",
              "        [-1.],\n",
              "        [ 2.],\n",
              "        [ 5.],\n",
              "        [ 6.],\n",
              "        [ 7.],\n",
              "        [ 8.],\n",
              "        [11.]])>, array([[-14.081908 ],\n",
              "        [ -7.664901 ],\n",
              "        [ -1.247893 ],\n",
              "        [  5.1691146],\n",
              "        [ 11.5861225],\n",
              "        [ 13.725124 ],\n",
              "        [ 15.864127 ],\n",
              "        [ 18.00313  ],\n",
              "        [ 24.420137 ]], dtype=float32))"
            ]
          },
          "metadata": {},
          "execution_count": 86
        }
      ]
    },
    {
      "cell_type": "markdown",
      "source": [
        "### updating the model"
      ],
      "metadata": {
        "id": "lhekU8TSXuQQ"
      }
    },
    {
      "cell_type": "code",
      "source": [
        "#1. designing the model\n",
        "\n",
        "model=tf.keras.Sequential([\n",
        "    #tf.keras.layers.Dense(1),\n",
        "    tf.keras.layers.Dense(4),\n",
        "    tf.keras.layers.Dense(1)\n",
        "])\n",
        "\n",
        "#2.compiling the modle\n",
        "model.compile(loss=tf.keras.losses.mae,\n",
        "              optimizer=tf.optimizers.Adam(0.1),\n",
        "              metrics=[\"mae\"])\n",
        "\n",
        "#3.Fitting the modle\n",
        "history=model.fit(X,y,epochs=100)\n"
      ],
      "metadata": {
        "colab": {
          "base_uri": "https://localhost:8080/"
        },
        "id": "-nvFOUQ-Xx9o",
        "outputId": "f87f3e93-aae9-4d0e-8d04-79453a86937c"
      },
      "execution_count": 87,
      "outputs": [
        {
          "output_type": "stream",
          "name": "stdout",
          "text": [
            "Epoch 1/100\n",
            "1/1 [==============================] - 0s 394ms/step - loss: 13.8919 - mae: 13.8919\n",
            "Epoch 2/100\n",
            "1/1 [==============================] - 0s 8ms/step - loss: 12.4516 - mae: 12.4516\n",
            "Epoch 3/100\n",
            "1/1 [==============================] - 0s 9ms/step - loss: 11.1640 - mae: 11.1640\n",
            "Epoch 4/100\n",
            "1/1 [==============================] - 0s 9ms/step - loss: 9.9203 - mae: 9.9203\n",
            "Epoch 5/100\n",
            "1/1 [==============================] - 0s 8ms/step - loss: 8.5741 - mae: 8.5741\n",
            "Epoch 6/100\n",
            "1/1 [==============================] - 0s 8ms/step - loss: 7.0329 - mae: 7.0329\n",
            "Epoch 7/100\n",
            "1/1 [==============================] - 0s 12ms/step - loss: 5.7151 - mae: 5.7151\n",
            "Epoch 8/100\n",
            "1/1 [==============================] - 0s 14ms/step - loss: 6.5794 - mae: 6.5794\n",
            "Epoch 9/100\n",
            "1/1 [==============================] - 0s 10ms/step - loss: 7.3539 - mae: 7.3539\n",
            "Epoch 10/100\n",
            "1/1 [==============================] - 0s 8ms/step - loss: 7.0125 - mae: 7.0125\n",
            "Epoch 11/100\n",
            "1/1 [==============================] - 0s 6ms/step - loss: 6.0548 - mae: 6.0548\n",
            "Epoch 12/100\n",
            "1/1 [==============================] - 0s 7ms/step - loss: 5.1111 - mae: 5.1111\n",
            "Epoch 13/100\n",
            "1/1 [==============================] - 0s 8ms/step - loss: 4.7029 - mae: 4.7029\n",
            "Epoch 14/100\n",
            "1/1 [==============================] - 0s 9ms/step - loss: 4.7449 - mae: 4.7449\n",
            "Epoch 15/100\n",
            "1/1 [==============================] - 0s 7ms/step - loss: 5.0417 - mae: 5.0417\n",
            "Epoch 16/100\n",
            "1/1 [==============================] - 0s 7ms/step - loss: 5.0331 - mae: 5.0331\n",
            "Epoch 17/100\n",
            "1/1 [==============================] - 0s 16ms/step - loss: 4.7691 - mae: 4.7691\n",
            "Epoch 18/100\n",
            "1/1 [==============================] - 0s 10ms/step - loss: 4.2800 - mae: 4.2800\n",
            "Epoch 19/100\n",
            "1/1 [==============================] - 0s 9ms/step - loss: 3.6656 - mae: 3.6656\n",
            "Epoch 20/100\n",
            "1/1 [==============================] - 0s 8ms/step - loss: 3.2586 - mae: 3.2586\n",
            "Epoch 21/100\n",
            "1/1 [==============================] - 0s 10ms/step - loss: 3.2021 - mae: 3.2021\n",
            "Epoch 22/100\n",
            "1/1 [==============================] - 0s 10ms/step - loss: 3.2602 - mae: 3.2602\n",
            "Epoch 23/100\n",
            "1/1 [==============================] - 0s 10ms/step - loss: 3.0897 - mae: 3.0897\n",
            "Epoch 24/100\n",
            "1/1 [==============================] - 0s 21ms/step - loss: 2.5641 - mae: 2.5641\n",
            "Epoch 25/100\n",
            "1/1 [==============================] - 0s 9ms/step - loss: 1.9615 - mae: 1.9615\n",
            "Epoch 26/100\n",
            "1/1 [==============================] - 0s 10ms/step - loss: 1.8040 - mae: 1.8040\n",
            "Epoch 27/100\n",
            "1/1 [==============================] - 0s 12ms/step - loss: 1.7731 - mae: 1.7731\n",
            "Epoch 28/100\n",
            "1/1 [==============================] - 0s 7ms/step - loss: 1.4442 - mae: 1.4442\n",
            "Epoch 29/100\n",
            "1/1 [==============================] - 0s 11ms/step - loss: 0.8338 - mae: 0.8338\n",
            "Epoch 30/100\n",
            "1/1 [==============================] - 0s 13ms/step - loss: 0.3878 - mae: 0.3878\n",
            "Epoch 31/100\n",
            "1/1 [==============================] - 0s 8ms/step - loss: 0.5873 - mae: 0.5873\n",
            "Epoch 32/100\n",
            "1/1 [==============================] - 0s 9ms/step - loss: 0.6779 - mae: 0.6779\n",
            "Epoch 33/100\n",
            "1/1 [==============================] - 0s 9ms/step - loss: 1.0040 - mae: 1.0040\n",
            "Epoch 34/100\n",
            "1/1 [==============================] - 0s 10ms/step - loss: 1.1888 - mae: 1.1888\n",
            "Epoch 35/100\n",
            "1/1 [==============================] - 0s 7ms/step - loss: 1.0071 - mae: 1.0071\n",
            "Epoch 36/100\n",
            "1/1 [==============================] - 0s 7ms/step - loss: 1.1041 - mae: 1.1041\n",
            "Epoch 37/100\n",
            "1/1 [==============================] - 0s 7ms/step - loss: 1.0608 - mae: 1.0608\n",
            "Epoch 38/100\n",
            "1/1 [==============================] - 0s 9ms/step - loss: 0.7107 - mae: 0.7107\n",
            "Epoch 39/100\n",
            "1/1 [==============================] - 0s 10ms/step - loss: 0.6490 - mae: 0.6490\n",
            "Epoch 40/100\n",
            "1/1 [==============================] - 0s 9ms/step - loss: 0.4672 - mae: 0.4672\n",
            "Epoch 41/100\n",
            "1/1 [==============================] - 0s 7ms/step - loss: 0.0232 - mae: 0.0232\n",
            "Epoch 42/100\n",
            "1/1 [==============================] - 0s 9ms/step - loss: 0.5258 - mae: 0.5258\n",
            "Epoch 43/100\n",
            "1/1 [==============================] - 0s 7ms/step - loss: 0.5698 - mae: 0.5698\n",
            "Epoch 44/100\n",
            "1/1 [==============================] - 0s 14ms/step - loss: 0.3728 - mae: 0.3728\n",
            "Epoch 45/100\n",
            "1/1 [==============================] - 0s 6ms/step - loss: 0.5627 - mae: 0.5627\n",
            "Epoch 46/100\n",
            "1/1 [==============================] - 0s 7ms/step - loss: 0.5057 - mae: 0.5057\n",
            "Epoch 47/100\n",
            "1/1 [==============================] - 0s 7ms/step - loss: 0.2279 - mae: 0.2279\n",
            "Epoch 48/100\n",
            "1/1 [==============================] - 0s 8ms/step - loss: 0.2481 - mae: 0.2481\n",
            "Epoch 49/100\n",
            "1/1 [==============================] - 0s 9ms/step - loss: 0.0829 - mae: 0.0829\n",
            "Epoch 50/100\n",
            "1/1 [==============================] - 0s 8ms/step - loss: 0.1684 - mae: 0.1684\n",
            "Epoch 51/100\n",
            "1/1 [==============================] - 0s 8ms/step - loss: 0.1931 - mae: 0.1931\n",
            "Epoch 52/100\n",
            "1/1 [==============================] - 0s 8ms/step - loss: 0.2125 - mae: 0.2125\n",
            "Epoch 53/100\n",
            "1/1 [==============================] - 0s 7ms/step - loss: 0.1306 - mae: 0.1306\n",
            "Epoch 54/100\n",
            "1/1 [==============================] - 0s 12ms/step - loss: 0.0858 - mae: 0.0858\n",
            "Epoch 55/100\n",
            "1/1 [==============================] - 0s 7ms/step - loss: 0.2242 - mae: 0.2242\n",
            "Epoch 56/100\n",
            "1/1 [==============================] - 0s 8ms/step - loss: 0.1370 - mae: 0.1370\n",
            "Epoch 57/100\n",
            "1/1 [==============================] - 0s 7ms/step - loss: 0.1739 - mae: 0.1739\n",
            "Epoch 58/100\n",
            "1/1 [==============================] - 0s 9ms/step - loss: 0.0854 - mae: 0.0854\n",
            "Epoch 59/100\n",
            "1/1 [==============================] - 0s 11ms/step - loss: 0.1754 - mae: 0.1754\n",
            "Epoch 60/100\n",
            "1/1 [==============================] - 0s 7ms/step - loss: 0.1232 - mae: 0.1232\n",
            "Epoch 61/100\n",
            "1/1 [==============================] - 0s 10ms/step - loss: 0.1617 - mae: 0.1617\n",
            "Epoch 62/100\n",
            "1/1 [==============================] - 0s 9ms/step - loss: 0.1374 - mae: 0.1374\n",
            "Epoch 63/100\n",
            "1/1 [==============================] - 0s 7ms/step - loss: 0.0843 - mae: 0.0843\n",
            "Epoch 64/100\n",
            "1/1 [==============================] - 0s 7ms/step - loss: 0.1970 - mae: 0.1970\n",
            "Epoch 65/100\n",
            "1/1 [==============================] - 0s 9ms/step - loss: 0.1114 - mae: 0.1114\n",
            "Epoch 66/100\n",
            "1/1 [==============================] - 0s 7ms/step - loss: 0.0657 - mae: 0.0657\n",
            "Epoch 67/100\n",
            "1/1 [==============================] - 0s 10ms/step - loss: 0.2200 - mae: 0.2200\n",
            "Epoch 68/100\n",
            "1/1 [==============================] - 0s 7ms/step - loss: 0.1800 - mae: 0.1800\n",
            "Epoch 69/100\n",
            "1/1 [==============================] - 0s 9ms/step - loss: 0.3084 - mae: 0.3084\n",
            "Epoch 70/100\n",
            "1/1 [==============================] - 0s 7ms/step - loss: 0.2781 - mae: 0.2781\n",
            "Epoch 71/100\n",
            "1/1 [==============================] - 0s 9ms/step - loss: 0.1032 - mae: 0.1032\n",
            "Epoch 72/100\n",
            "1/1 [==============================] - 0s 7ms/step - loss: 0.0912 - mae: 0.0912\n",
            "Epoch 73/100\n",
            "1/1 [==============================] - 0s 7ms/step - loss: 0.2744 - mae: 0.2744\n",
            "Epoch 74/100\n",
            "1/1 [==============================] - 0s 9ms/step - loss: 0.2187 - mae: 0.2187\n",
            "Epoch 75/100\n",
            "1/1 [==============================] - 0s 7ms/step - loss: 0.1922 - mae: 0.1922\n",
            "Epoch 76/100\n",
            "1/1 [==============================] - 0s 8ms/step - loss: 0.1868 - mae: 0.1868\n",
            "Epoch 77/100\n",
            "1/1 [==============================] - 0s 8ms/step - loss: 0.1954 - mae: 0.1954\n",
            "Epoch 78/100\n",
            "1/1 [==============================] - 0s 8ms/step - loss: 0.1829 - mae: 0.1829\n",
            "Epoch 79/100\n",
            "1/1 [==============================] - 0s 9ms/step - loss: 0.1780 - mae: 0.1780\n",
            "Epoch 80/100\n",
            "1/1 [==============================] - 0s 7ms/step - loss: 0.1312 - mae: 0.1312\n",
            "Epoch 81/100\n",
            "1/1 [==============================] - 0s 9ms/step - loss: 0.2719 - mae: 0.2719\n",
            "Epoch 82/100\n",
            "1/1 [==============================] - 0s 7ms/step - loss: 0.2969 - mae: 0.2969\n",
            "Epoch 83/100\n",
            "1/1 [==============================] - 0s 8ms/step - loss: 0.0383 - mae: 0.0383\n",
            "Epoch 84/100\n",
            "1/1 [==============================] - 0s 7ms/step - loss: 0.0377 - mae: 0.0377\n",
            "Epoch 85/100\n",
            "1/1 [==============================] - 0s 7ms/step - loss: 0.2441 - mae: 0.2441\n",
            "Epoch 86/100\n",
            "1/1 [==============================] - 0s 8ms/step - loss: 0.1511 - mae: 0.1511\n",
            "Epoch 87/100\n",
            "1/1 [==============================] - 0s 9ms/step - loss: 0.2768 - mae: 0.2768\n",
            "Epoch 88/100\n",
            "1/1 [==============================] - 0s 7ms/step - loss: 0.2995 - mae: 0.2995\n",
            "Epoch 89/100\n",
            "1/1 [==============================] - 0s 9ms/step - loss: 0.0465 - mae: 0.0465\n",
            "Epoch 90/100\n",
            "1/1 [==============================] - 0s 10ms/step - loss: 0.0721 - mae: 0.0721\n",
            "Epoch 91/100\n",
            "1/1 [==============================] - 0s 8ms/step - loss: 0.2208 - mae: 0.2208\n",
            "Epoch 92/100\n",
            "1/1 [==============================] - 0s 10ms/step - loss: 0.1589 - mae: 0.1589\n",
            "Epoch 93/100\n",
            "1/1 [==============================] - 0s 8ms/step - loss: 0.2295 - mae: 0.2295\n",
            "Epoch 94/100\n",
            "1/1 [==============================] - 0s 7ms/step - loss: 0.2487 - mae: 0.2487\n",
            "Epoch 95/100\n",
            "1/1 [==============================] - 0s 11ms/step - loss: 0.0956 - mae: 0.0956\n",
            "Epoch 96/100\n",
            "1/1 [==============================] - 0s 9ms/step - loss: 0.0862 - mae: 0.0862\n",
            "Epoch 97/100\n",
            "1/1 [==============================] - 0s 10ms/step - loss: 0.2421 - mae: 0.2421\n",
            "Epoch 98/100\n",
            "1/1 [==============================] - 0s 11ms/step - loss: 0.2048 - mae: 0.2048\n",
            "Epoch 99/100\n",
            "1/1 [==============================] - 0s 10ms/step - loss: 0.2056 - mae: 0.2056\n",
            "Epoch 100/100\n",
            "1/1 [==============================] - 0s 8ms/step - loss: 0.2251 - mae: 0.2251\n"
          ]
        }
      ]
    },
    {
      "cell_type": "code",
      "source": [
        "X,model(X)"
      ],
      "metadata": {
        "colab": {
          "base_uri": "https://localhost:8080/"
        },
        "id": "rET9EQkSZFRI",
        "outputId": "c56688db-12b5-4131-d8cf-48f44be2e3ea"
      },
      "execution_count": 88,
      "outputs": [
        {
          "output_type": "execute_result",
          "data": {
            "text/plain": [
              "(<tf.Tensor: shape=(9, 1), dtype=float64, numpy=\n",
              " array([[-7.],\n",
              "        [-4.],\n",
              "        [-1.],\n",
              "        [ 2.],\n",
              "        [ 5.],\n",
              "        [ 6.],\n",
              "        [ 7.],\n",
              "        [ 8.],\n",
              "        [11.]])>, <tf.Tensor: shape=(9, 1), dtype=float32, numpy=\n",
              " array([[ 3.009042 ],\n",
              "        [ 5.9848266],\n",
              "        [ 8.960611 ],\n",
              "        [11.936396 ],\n",
              "        [14.912181 ],\n",
              "        [15.904109 ],\n",
              "        [16.896038 ],\n",
              "        [17.887966 ],\n",
              "        [20.863749 ]], dtype=float32)>)"
            ]
          },
          "metadata": {},
          "execution_count": 88
        }
      ]
    },
    {
      "cell_type": "code",
      "source": [
        "X,model(X)"
      ],
      "metadata": {
        "colab": {
          "base_uri": "https://localhost:8080/"
        },
        "id": "OgP5-TL8Zl5X",
        "outputId": "361f1e41-506c-4baa-b140-201fcff00c8e"
      },
      "execution_count": 89,
      "outputs": [
        {
          "output_type": "execute_result",
          "data": {
            "text/plain": [
              "(<tf.Tensor: shape=(9, 1), dtype=float64, numpy=\n",
              " array([[-7.],\n",
              "        [-4.],\n",
              "        [-1.],\n",
              "        [ 2.],\n",
              "        [ 5.],\n",
              "        [ 6.],\n",
              "        [ 7.],\n",
              "        [ 8.],\n",
              "        [11.]])>, <tf.Tensor: shape=(9, 1), dtype=float32, numpy=\n",
              " array([[ 3.009042 ],\n",
              "        [ 5.9848266],\n",
              "        [ 8.960611 ],\n",
              "        [11.936396 ],\n",
              "        [14.912181 ],\n",
              "        [15.904109 ],\n",
              "        [16.896038 ],\n",
              "        [17.887966 ],\n",
              "        [20.863749 ]], dtype=float32)>)"
            ]
          },
          "metadata": {},
          "execution_count": 89
        }
      ]
    },
    {
      "cell_type": "markdown",
      "source": [
        "### Evaluating the model\n",
        "\n",
        "Three words should be mind\n",
        "> visualise , Visualise , Visualise\n",
        "\n",
        "* The data\n",
        "* the model\n",
        "* the training\n",
        "* the prediction"
      ],
      "metadata": {
        "id": "cJbTkMzDb_5J"
      }
    },
    {
      "cell_type": "code",
      "source": [
        "### EValuating the model\n",
        "\n",
        "model.evaluate(model.predict(X),y)"
      ],
      "metadata": {
        "colab": {
          "base_uri": "https://localhost:8080/"
        },
        "id": "S36nGi3-b_lp",
        "outputId": "dae43c87-fe56-4fd2-d443-d2b163096952"
      },
      "execution_count": 90,
      "outputs": [
        {
          "output_type": "stream",
          "name": "stdout",
          "text": [
            "1/1 [==============================] - 0s 155ms/step\n",
            "1/1 [==============================] - 0s 155ms/step - loss: 9.7765 - mae: 9.7765\n"
          ]
        },
        {
          "output_type": "execute_result",
          "data": {
            "text/plain": [
              "[9.776508331298828, 9.776508331298828]"
            ]
          },
          "metadata": {},
          "execution_count": 90
        }
      ]
    },
    {
      "cell_type": "code",
      "source": [
        "#make a bigger data\n",
        "X= tf.range(-100,100,4)\n",
        "X"
      ],
      "metadata": {
        "colab": {
          "base_uri": "https://localhost:8080/"
        },
        "id": "OcEvCvH4dHgl",
        "outputId": "709c6101-dba5-4733-f75f-92a427680dbe"
      },
      "execution_count": 91,
      "outputs": [
        {
          "output_type": "execute_result",
          "data": {
            "text/plain": [
              "<tf.Tensor: shape=(50,), dtype=int32, numpy=\n",
              "array([-100,  -96,  -92,  -88,  -84,  -80,  -76,  -72,  -68,  -64,  -60,\n",
              "        -56,  -52,  -48,  -44,  -40,  -36,  -32,  -28,  -24,  -20,  -16,\n",
              "        -12,   -8,   -4,    0,    4,    8,   12,   16,   20,   24,   28,\n",
              "         32,   36,   40,   44,   48,   52,   56,   60,   64,   68,   72,\n",
              "         76,   80,   84,   88,   92,   96], dtype=int32)>"
            ]
          },
          "metadata": {},
          "execution_count": 91
        }
      ]
    },
    {
      "cell_type": "code",
      "source": [
        "y=X+10\n",
        "y"
      ],
      "metadata": {
        "colab": {
          "base_uri": "https://localhost:8080/"
        },
        "id": "058UEI0WdTdB",
        "outputId": "3de1f5b7-b648-4358-d888-304b9ef1d275"
      },
      "execution_count": 92,
      "outputs": [
        {
          "output_type": "execute_result",
          "data": {
            "text/plain": [
              "<tf.Tensor: shape=(50,), dtype=int32, numpy=\n",
              "array([-90, -86, -82, -78, -74, -70, -66, -62, -58, -54, -50, -46, -42,\n",
              "       -38, -34, -30, -26, -22, -18, -14, -10,  -6,  -2,   2,   6,  10,\n",
              "        14,  18,  22,  26,  30,  34,  38,  42,  46,  50,  54,  58,  62,\n",
              "        66,  70,  74,  78,  82,  86,  90,  94,  98, 102, 106], dtype=int32)>"
            ]
          },
          "metadata": {},
          "execution_count": 92
        }
      ]
    },
    {
      "cell_type": "code",
      "source": [
        "#visualize the data\n",
        "plt.scatter(X,y)"
      ],
      "metadata": {
        "colab": {
          "base_uri": "https://localhost:8080/",
          "height": 283
        },
        "id": "lEFlUerjdWJi",
        "outputId": "b7719bc2-ebfa-4392-aafe-bae8f2f34ab9"
      },
      "execution_count": 93,
      "outputs": [
        {
          "output_type": "execute_result",
          "data": {
            "text/plain": [
              "<matplotlib.collections.PathCollection at 0x7fc832ceda50>"
            ]
          },
          "metadata": {},
          "execution_count": 93
        },
        {
          "output_type": "display_data",
          "data": {
            "text/plain": [
              "<Figure size 432x288 with 1 Axes>"
            ],
            "image/png": "[encoded data removed]"
          },
          "metadata": {
            "needs_background": "light"
          }
        }
      ]
    },
    {
      "cell_type": "markdown",
      "source": [
        "## Th3 3 sets\n",
        "* training set : 70-80%\n",
        "* validation set : 10-15%\n",
        "* test set: 10-15%\n",
        "\n",
        "The model should perform well on the datat it has not seen so far"
      ],
      "metadata": {
        "id": "GrZqfTWBeCZ2"
      }
    },
    {
      "cell_type": "code",
      "source": [
        "# Split the data into train and test dataset\n",
        "\n",
        "\n",
        "X_train= X[:40] #first 40 training samples(80%of data)\n",
        "X_test=X[40:] \n",
        "y_train=y[:40] #last 10 example samples\n",
        "y_test=y[40:]"
      ],
      "metadata": {
        "id": "TtV1tFohdbAi"
      },
      "execution_count": 94,
      "outputs": []
    },
    {
      "cell_type": "markdown",
      "source": [
        "### Visualise the data\n",
        "Now we've got our data in training an dtesting set...let's visualise"
      ],
      "metadata": {
        "id": "vHyfIsS1e2li"
      }
    },
    {
      "cell_type": "code",
      "source": [
        "plt.figure(figsize=(10,7))\n",
        "\n",
        "#plot training data in blue\n",
        "plt.scatter(X_train,y_train, c=\"b\", label=\"Training data\")\n",
        "#plot test data in green\n",
        "plt.scatter(X_test,y_test,c=\"y\",label=\"testing data\")\n",
        "\n",
        "plt.legend();"
      ],
      "metadata": {
        "colab": {
          "base_uri": "https://localhost:8080/",
          "height": 428
        },
        "id": "ObviTdZLd8nr",
        "outputId": "200d30d0-9d48-4bd8-f176-8ed5f8032f64"
      },
      "execution_count": 95,
      "outputs": [
        {
          "output_type": "display_data",
          "data": {
            "text/plain": [
              "<Figure size 720x504 with 1 Axes>"
            ],
            "image/png": "[encoded data removed]"
          },
          "metadata": {
            "needs_background": "light"
          }
        }
      ]
    },
    {
      "cell_type": "code",
      "source": [
        "# Let's have a look at how to build a neural network\n",
        "\n",
        "#1. Create a model\n",
        "model=tf.keras.Sequential([\n",
        "    tf.keras.layers.Dense(1)\n",
        "])\n",
        "\n",
        "#2. Compile the model\n",
        "model.compile(loss=tf.losses.MAE,\n",
        "           optimizer=tf.optimizers.SGD(),\n",
        "           metrics=[\"mae\"])\n",
        "\n",
        "#3. Fitting the model\n",
        "#history= model.fit(X,y, epochs=100)"
      ],
      "metadata": {
        "id": "xJrsSp8LhA4D"
      },
      "execution_count": 96,
      "outputs": []
    },
    {
      "cell_type": "code",
      "source": [
        "### Visualizing the model\n",
        "#model.summary()"
      ],
      "metadata": {
        "id": "vOXchevah-bc"
      },
      "execution_count": 97,
      "outputs": []
    },
    {
      "cell_type": "code",
      "source": [
        "#model.build()"
      ],
      "metadata": {
        "id": "xn-XJXJAiwss"
      },
      "execution_count": 98,
      "outputs": []
    },
    {
      "cell_type": "code",
      "source": [
        "# let's create a model which build automatically by defining the input_shape arguments\n",
        "\n",
        "tf.random.set_seed(42)\n",
        "\n",
        "#Crerate a Model\n",
        "model= tf.keras.Sequential([\n",
        "    tf.keras.layers.Dense(10,input_shape=[1], name= \"input_layer\"),\n",
        "    tf.keras.layers.Dense(1,name=\"output_layers\")\n",
        "], name=\"model_1\")\n",
        "\n",
        "\n",
        "#2.Compile the model\n",
        "model.compile(\n",
        "    loss=tf.keras.losses.MAE,\n",
        "    optimizer= tf.keras.optimizers.Adam(0.01),\n",
        "    metrics=[\"mae\"]\n",
        ")\n",
        "\n",
        "\n",
        "#3. Fit the  model\n"
      ],
      "metadata": {
        "id": "byHZq2T6i9EM"
      },
      "execution_count": 99,
      "outputs": []
    },
    {
      "cell_type": "code",
      "source": [
        "#model \n",
        "model.summary()"
      ],
      "metadata": {
        "colab": {
          "base_uri": "https://localhost:8080/"
        },
        "id": "6ZWAluPrpvZ4",
        "outputId": "de2841b1-f3ff-4cee-a524-d9d6bbd83760"
      },
      "execution_count": 100,
      "outputs": [
        {
          "output_type": "stream",
          "name": "stdout",
          "text": [
            "Model: \"model_1\"\n",
            "_________________________________________________________________\n",
            " Layer (type)                Output Shape              Param #   \n",
            "=================================================================\n",
            " input_layer (Dense)         (None, 10)                20        \n",
            "                                                                 \n",
            " output_layers (Dense)       (None, 1)                 11        \n",
            "                                                                 \n",
            "=================================================================\n",
            "Total params: 31\n",
            "Trainable params: 31\n",
            "Non-trainable params: 0\n",
            "_________________________________________________________________\n"
          ]
        }
      ]
    },
    {
      "cell_type": "code",
      "source": [
        "model.fit(X_train,y_train, epochs=100, verbose=2)"
      ],
      "metadata": {
        "id": "KQsug7vkrgx2",
        "colab": {
          "base_uri": "https://localhost:8080/"
        },
        "outputId": "fe28ccdc-2713-4670-b587-7d8f8a4d2829"
      },
      "execution_count": 101,
      "outputs": [
        {
          "output_type": "stream",
          "name": "stdout",
          "text": [
            "Epoch 1/100\n",
            "2/2 - 1s - loss: 24.7643 - mae: 24.7643 - 561ms/epoch - 280ms/step\n",
            "Epoch 2/100\n",
            "2/2 - 0s - loss: 19.0262 - mae: 19.0262 - 10ms/epoch - 5ms/step\n",
            "Epoch 3/100\n",
            "2/2 - 0s - loss: 13.5870 - mae: 13.5870 - 9ms/epoch - 4ms/step\n",
            "Epoch 4/100\n",
            "2/2 - 0s - loss: 8.8757 - mae: 8.8757 - 9ms/epoch - 4ms/step\n",
            "Epoch 5/100\n",
            "2/2 - 0s - loss: 8.6327 - mae: 8.6327 - 9ms/epoch - 4ms/step\n",
            "Epoch 6/100\n",
            "2/2 - 0s - loss: 10.8266 - mae: 10.8266 - 9ms/epoch - 4ms/step\n",
            "Epoch 7/100\n",
            "2/2 - 0s - loss: 11.7706 - mae: 11.7706 - 8ms/epoch - 4ms/step\n",
            "Epoch 8/100\n",
            "2/2 - 0s - loss: 11.8001 - mae: 11.8001 - 8ms/epoch - 4ms/step\n",
            "Epoch 9/100\n",
            "2/2 - 0s - loss: 11.1962 - mae: 11.1962 - 8ms/epoch - 4ms/step\n",
            "Epoch 10/100\n",
            "2/2 - 0s - loss: 10.0506 - mae: 10.0506 - 8ms/epoch - 4ms/step\n",
            "Epoch 11/100\n",
            "2/2 - 0s - loss: 8.4785 - mae: 8.4785 - 14ms/epoch - 7ms/step\n",
            "Epoch 12/100\n",
            "2/2 - 0s - loss: 7.3061 - mae: 7.3061 - 11ms/epoch - 5ms/step\n",
            "Epoch 13/100\n",
            "2/2 - 0s - loss: 7.9295 - mae: 7.9295 - 8ms/epoch - 4ms/step\n",
            "Epoch 14/100\n",
            "2/2 - 0s - loss: 8.2075 - mae: 8.2075 - 8ms/epoch - 4ms/step\n",
            "Epoch 15/100\n",
            "2/2 - 0s - loss: 7.7219 - mae: 7.7219 - 9ms/epoch - 4ms/step\n",
            "Epoch 16/100\n",
            "2/2 - 0s - loss: 7.1421 - mae: 7.1421 - 8ms/epoch - 4ms/step\n",
            "Epoch 17/100\n",
            "2/2 - 0s - loss: 6.9032 - mae: 6.9032 - 9ms/epoch - 4ms/step\n",
            "Epoch 18/100\n",
            "2/2 - 0s - loss: 7.1171 - mae: 7.1171 - 9ms/epoch - 4ms/step\n",
            "Epoch 19/100\n",
            "2/2 - 0s - loss: 6.8713 - mae: 6.8713 - 9ms/epoch - 4ms/step\n",
            "Epoch 20/100\n",
            "2/2 - 0s - loss: 6.6966 - mae: 6.6966 - 9ms/epoch - 4ms/step\n",
            "Epoch 21/100\n",
            "2/2 - 0s - loss: 6.6737 - mae: 6.6737 - 12ms/epoch - 6ms/step\n",
            "Epoch 22/100\n",
            "2/2 - 0s - loss: 6.5517 - mae: 6.5517 - 13ms/epoch - 7ms/step\n",
            "Epoch 23/100\n",
            "2/2 - 0s - loss: 6.5632 - mae: 6.5632 - 10ms/epoch - 5ms/step\n",
            "Epoch 24/100\n",
            "2/2 - 0s - loss: 6.5071 - mae: 6.5071 - 8ms/epoch - 4ms/step\n",
            "Epoch 25/100\n",
            "2/2 - 0s - loss: 6.3482 - mae: 6.3482 - 10ms/epoch - 5ms/step\n",
            "Epoch 26/100\n",
            "2/2 - 0s - loss: 6.2796 - mae: 6.2796 - 8ms/epoch - 4ms/step\n",
            "Epoch 27/100\n",
            "2/2 - 0s - loss: 6.2361 - mae: 6.2361 - 8ms/epoch - 4ms/step\n",
            "Epoch 28/100\n",
            "2/2 - 0s - loss: 6.1653 - mae: 6.1653 - 8ms/epoch - 4ms/step\n",
            "Epoch 29/100\n",
            "2/2 - 0s - loss: 6.0706 - mae: 6.0706 - 8ms/epoch - 4ms/step\n",
            "Epoch 30/100\n",
            "2/2 - 0s - loss: 6.0291 - mae: 6.0291 - 8ms/epoch - 4ms/step\n",
            "Epoch 31/100\n",
            "2/2 - 0s - loss: 5.9077 - mae: 5.9077 - 9ms/epoch - 4ms/step\n",
            "Epoch 32/100\n",
            "2/2 - 0s - loss: 5.9504 - mae: 5.9504 - 12ms/epoch - 6ms/step\n",
            "Epoch 33/100\n",
            "2/2 - 0s - loss: 6.0770 - mae: 6.0770 - 12ms/epoch - 6ms/step\n",
            "Epoch 34/100\n",
            "2/2 - 0s - loss: 5.9371 - mae: 5.9371 - 10ms/epoch - 5ms/step\n",
            "Epoch 35/100\n",
            "2/2 - 0s - loss: 5.7583 - mae: 5.7583 - 12ms/epoch - 6ms/step\n",
            "Epoch 36/100\n",
            "2/2 - 0s - loss: 5.6100 - mae: 5.6100 - 11ms/epoch - 5ms/step\n",
            "Epoch 37/100\n",
            "2/2 - 0s - loss: 5.5049 - mae: 5.5049 - 9ms/epoch - 4ms/step\n",
            "Epoch 38/100\n",
            "2/2 - 0s - loss: 5.5993 - mae: 5.5993 - 9ms/epoch - 4ms/step\n",
            "Epoch 39/100\n",
            "2/2 - 0s - loss: 5.5565 - mae: 5.5565 - 9ms/epoch - 5ms/step\n",
            "Epoch 40/100\n",
            "2/2 - 0s - loss: 5.3353 - mae: 5.3353 - 8ms/epoch - 4ms/step\n",
            "Epoch 41/100\n",
            "2/2 - 0s - loss: 5.1988 - mae: 5.1988 - 8ms/epoch - 4ms/step\n",
            "Epoch 42/100\n",
            "2/2 - 0s - loss: 5.3877 - mae: 5.3877 - 9ms/epoch - 4ms/step\n",
            "Epoch 43/100\n",
            "2/2 - 0s - loss: 5.1514 - mae: 5.1514 - 8ms/epoch - 4ms/step\n",
            "Epoch 44/100\n",
            "2/2 - 0s - loss: 4.9465 - mae: 4.9465 - 8ms/epoch - 4ms/step\n",
            "Epoch 45/100\n",
            "2/2 - 0s - loss: 5.0810 - mae: 5.0810 - 8ms/epoch - 4ms/step\n",
            "Epoch 46/100\n",
            "2/2 - 0s - loss: 5.0890 - mae: 5.0890 - 8ms/epoch - 4ms/step\n",
            "Epoch 47/100\n",
            "2/2 - 0s - loss: 4.8108 - mae: 4.8108 - 8ms/epoch - 4ms/step\n",
            "Epoch 48/100\n",
            "2/2 - 0s - loss: 4.6230 - mae: 4.6230 - 8ms/epoch - 4ms/step\n",
            "Epoch 49/100\n",
            "2/2 - 0s - loss: 4.6238 - mae: 4.6238 - 8ms/epoch - 4ms/step\n",
            "Epoch 50/100\n",
            "2/2 - 0s - loss: 4.4386 - mae: 4.4386 - 10ms/epoch - 5ms/step\n",
            "Epoch 51/100\n",
            "2/2 - 0s - loss: 4.5251 - mae: 4.5251 - 11ms/epoch - 5ms/step\n",
            "Epoch 52/100\n",
            "2/2 - 0s - loss: 4.3965 - mae: 4.3965 - 12ms/epoch - 6ms/step\n",
            "Epoch 53/100\n",
            "2/2 - 0s - loss: 4.2997 - mae: 4.2997 - 17ms/epoch - 8ms/step\n",
            "Epoch 54/100\n",
            "2/2 - 0s - loss: 4.1182 - mae: 4.1182 - 9ms/epoch - 4ms/step\n",
            "Epoch 55/100\n",
            "2/2 - 0s - loss: 4.1023 - mae: 4.1023 - 10ms/epoch - 5ms/step\n",
            "Epoch 56/100\n",
            "2/2 - 0s - loss: 3.8748 - mae: 3.8748 - 11ms/epoch - 5ms/step\n",
            "Epoch 57/100\n",
            "2/2 - 0s - loss: 3.8659 - mae: 3.8659 - 11ms/epoch - 6ms/step\n",
            "Epoch 58/100\n",
            "2/2 - 0s - loss: 3.7244 - mae: 3.7244 - 11ms/epoch - 6ms/step\n",
            "Epoch 59/100\n",
            "2/2 - 0s - loss: 3.6444 - mae: 3.6444 - 11ms/epoch - 5ms/step\n",
            "Epoch 60/100\n",
            "2/2 - 0s - loss: 3.5109 - mae: 3.5109 - 11ms/epoch - 6ms/step\n",
            "Epoch 61/100\n",
            "2/2 - 0s - loss: 3.4097 - mae: 3.4097 - 10ms/epoch - 5ms/step\n",
            "Epoch 62/100\n",
            "2/2 - 0s - loss: 3.3124 - mae: 3.3124 - 9ms/epoch - 5ms/step\n",
            "Epoch 63/100\n",
            "2/2 - 0s - loss: 3.2729 - mae: 3.2729 - 9ms/epoch - 4ms/step\n",
            "Epoch 64/100\n",
            "2/2 - 0s - loss: 3.1014 - mae: 3.1014 - 9ms/epoch - 5ms/step\n",
            "Epoch 65/100\n",
            "2/2 - 0s - loss: 2.9931 - mae: 2.9931 - 9ms/epoch - 5ms/step\n",
            "Epoch 66/100\n",
            "2/2 - 0s - loss: 2.8670 - mae: 2.8670 - 11ms/epoch - 5ms/step\n",
            "Epoch 67/100\n",
            "2/2 - 0s - loss: 2.8825 - mae: 2.8825 - 10ms/epoch - 5ms/step\n",
            "Epoch 68/100\n",
            "2/2 - 0s - loss: 2.6894 - mae: 2.6894 - 9ms/epoch - 4ms/step\n",
            "Epoch 69/100\n",
            "2/2 - 0s - loss: 2.5258 - mae: 2.5258 - 9ms/epoch - 4ms/step\n",
            "Epoch 70/100\n",
            "2/2 - 0s - loss: 2.5212 - mae: 2.5212 - 9ms/epoch - 4ms/step\n",
            "Epoch 71/100\n",
            "2/2 - 0s - loss: 2.2685 - mae: 2.2685 - 8ms/epoch - 4ms/step\n",
            "Epoch 72/100\n",
            "2/2 - 0s - loss: 2.3147 - mae: 2.3147 - 8ms/epoch - 4ms/step\n",
            "Epoch 73/100\n",
            "2/2 - 0s - loss: 2.1676 - mae: 2.1676 - 9ms/epoch - 4ms/step\n",
            "Epoch 74/100\n",
            "2/2 - 0s - loss: 1.9131 - mae: 1.9131 - 8ms/epoch - 4ms/step\n",
            "Epoch 75/100\n",
            "2/2 - 0s - loss: 2.2775 - mae: 2.2775 - 8ms/epoch - 4ms/step\n",
            "Epoch 76/100\n",
            "2/2 - 0s - loss: 1.9966 - mae: 1.9966 - 8ms/epoch - 4ms/step\n",
            "Epoch 77/100\n",
            "2/2 - 0s - loss: 1.6327 - mae: 1.6327 - 8ms/epoch - 4ms/step\n",
            "Epoch 78/100\n",
            "2/2 - 0s - loss: 1.5498 - mae: 1.5498 - 9ms/epoch - 4ms/step\n",
            "Epoch 79/100\n",
            "2/2 - 0s - loss: 1.5338 - mae: 1.5338 - 8ms/epoch - 4ms/step\n",
            "Epoch 80/100\n",
            "2/2 - 0s - loss: 1.2707 - mae: 1.2707 - 8ms/epoch - 4ms/step\n",
            "Epoch 81/100\n",
            "2/2 - 0s - loss: 1.2268 - mae: 1.2268 - 8ms/epoch - 4ms/step\n",
            "Epoch 82/100\n",
            "2/2 - 0s - loss: 0.8647 - mae: 0.8647 - 8ms/epoch - 4ms/step\n",
            "Epoch 83/100\n",
            "2/2 - 0s - loss: 0.6219 - mae: 0.6219 - 8ms/epoch - 4ms/step\n",
            "Epoch 84/100\n",
            "2/2 - 0s - loss: 0.5439 - mae: 0.5439 - 9ms/epoch - 4ms/step\n",
            "Epoch 85/100\n",
            "2/2 - 0s - loss: 0.8905 - mae: 0.8905 - 9ms/epoch - 5ms/step\n",
            "Epoch 86/100\n",
            "2/2 - 0s - loss: 0.4026 - mae: 0.4026 - 10ms/epoch - 5ms/step\n",
            "Epoch 87/100\n",
            "2/2 - 0s - loss: 0.7196 - mae: 0.7196 - 10ms/epoch - 5ms/step\n",
            "Epoch 88/100\n",
            "2/2 - 0s - loss: 1.3945 - mae: 1.3945 - 9ms/epoch - 5ms/step\n",
            "Epoch 89/100\n",
            "2/2 - 0s - loss: 1.4896 - mae: 1.4896 - 9ms/epoch - 4ms/step\n",
            "Epoch 90/100\n",
            "2/2 - 0s - loss: 0.9490 - mae: 0.9490 - 10ms/epoch - 5ms/step\n",
            "Epoch 91/100\n",
            "2/2 - 0s - loss: 1.2693 - mae: 1.2693 - 12ms/epoch - 6ms/step\n",
            "Epoch 92/100\n",
            "2/2 - 0s - loss: 0.9246 - mae: 0.9246 - 10ms/epoch - 5ms/step\n",
            "Epoch 93/100\n",
            "2/2 - 0s - loss: 1.1841 - mae: 1.1841 - 9ms/epoch - 5ms/step\n",
            "Epoch 94/100\n",
            "2/2 - 0s - loss: 0.8709 - mae: 0.8709 - 10ms/epoch - 5ms/step\n",
            "Epoch 95/100\n",
            "2/2 - 0s - loss: 0.8290 - mae: 0.8290 - 15ms/epoch - 8ms/step\n",
            "Epoch 96/100\n",
            "2/2 - 0s - loss: 1.2720 - mae: 1.2720 - 9ms/epoch - 5ms/step\n",
            "Epoch 97/100\n",
            "2/2 - 0s - loss: 0.9911 - mae: 0.9911 - 10ms/epoch - 5ms/step\n",
            "Epoch 98/100\n",
            "2/2 - 0s - loss: 1.0985 - mae: 1.0985 - 10ms/epoch - 5ms/step\n",
            "Epoch 99/100\n",
            "2/2 - 0s - loss: 0.8477 - mae: 0.8477 - 9ms/epoch - 5ms/step\n",
            "Epoch 100/100\n",
            "2/2 - 0s - loss: 1.3402 - mae: 1.3402 - 9ms/epoch - 4ms/step\n"
          ]
        },
        {
          "output_type": "execute_result",
          "data": {
            "text/plain": [
              "<keras.callbacks.History at 0x7fc8312dd810>"
            ]
          },
          "metadata": {},
          "execution_count": 101
        }
      ]
    },
    {
      "cell_type": "code",
      "source": [
        "from tensorflow.keras.utils import  plot_model\n",
        "plot_model(model, show_shapes=\"True\")"
      ],
      "metadata": {
        "colab": {
          "base_uri": "https://localhost:8080/",
          "height": 312
        },
        "id": "l8JFf6besVBN",
        "outputId": "36ea93cd-7f77-4546-df52-70107faf1ddb"
      },
      "execution_count": 102,
      "outputs": [
        {
          "output_type": "execute_result",
          "data": {
            "image/png": "[encoded data removed]",
            "text/plain": [
              "<IPython.core.display.Image object>"
            ]
          },
          "metadata": {},
          "execution_count": 102
        }
      ]
    },
    {
      "cell_type": "markdown",
      "source": [
        "## Visualise the prdiction of model"
      ],
      "metadata": {
        "id": "_cYLyRTktnDn"
      }
    },
    {
      "cell_type": "code",
      "source": [
        "# getting the prediction\n",
        "\n",
        "y_pred= model.predict(X_test)\n"
      ],
      "metadata": {
        "colab": {
          "base_uri": "https://localhost:8080/"
        },
        "id": "zW56XPBEsoYp",
        "outputId": "e4b7cc67-ce90-421d-eb05-947102939e6b"
      },
      "execution_count": 103,
      "outputs": [
        {
          "output_type": "stream",
          "name": "stdout",
          "text": [
            "1/1 [==============================] - 0s 53ms/step\n"
          ]
        }
      ]
    },
    {
      "cell_type": "markdown",
      "source": [
        "@ when we know something will get repeated the go for function"
      ],
      "metadata": {
        "id": "ymLCx69Cv7l2"
      }
    },
    {
      "cell_type": "code",
      "source": [
        "def plot_predictions(\n",
        "        train_data=X_train,\n",
        "        test_data=X_test,\n",
        "        train_label=y_train,\n",
        "        test_label=y_test,\n",
        "        predctions=y_pred):\n",
        "   \"\"\"\n",
        "   Plots trianikng dtata, test data & prediction\n",
        "   \"\"\"   \n",
        "  #plotting training with blue\n",
        "   plt.scatter(train_data,train_label, c=\"b\", label=\"training\")\n",
        "\n",
        "  #plotting the testing\n",
        "   plt.scatter(test_data,test_label, c=\"g\", label=\"testing\")\n",
        "\n",
        "  #plotting the prediction\n",
        "   plt.scatter(test_data,predctions,c=\"red\", label=\"prediction\")\n",
        "\n",
        "   plt.legend()\n"
      ],
      "metadata": {
        "id": "boDCgj9gwE_I"
      },
      "execution_count": 104,
      "outputs": []
    },
    {
      "cell_type": "code",
      "source": [
        "plot_predictions()"
      ],
      "metadata": {
        "colab": {
          "base_uri": "https://localhost:8080/",
          "height": 265
        },
        "id": "cMne_5sGxDVG",
        "outputId": "0a9ebfe0-a765-478f-c198-6f6613b50ec1"
      },
      "execution_count": 105,
      "outputs": [
        {
          "output_type": "display_data",
          "data": {
            "text/plain": [
              "<Figure size 432x288 with 1 Axes>"
            ],
            "image/png": "[encoded data removed]"
          },
          "metadata": {
            "needs_background": "light"
          }
        }
      ]
    },
    {
      "cell_type": "markdown",
      "source": [
        "### Evaluating our model predictions with a regression evaluation metrics"
      ],
      "metadata": {
        "id": "zxtJXqyhxfIo"
      }
    },
    {
      "cell_type": "code",
      "source": [
        "y_test, y_pred"
      ],
      "metadata": {
        "colab": {
          "base_uri": "https://localhost:8080/"
        },
        "id": "IhdqcnAz2uXa",
        "outputId": "b64b32ec-5b50-4d8d-89db-092ebe6b58af"
      },
      "execution_count": 106,
      "outputs": [
        {
          "output_type": "execute_result",
          "data": {
            "text/plain": [
              "(<tf.Tensor: shape=(10,), dtype=int32, numpy=array([ 70,  74,  78,  82,  86,  90,  94,  98, 102, 106], dtype=int32)>,\n",
              " array([[ 72.42796 ],\n",
              "        [ 76.58641 ],\n",
              "        [ 80.74484 ],\n",
              "        [ 84.90328 ],\n",
              "        [ 89.06172 ],\n",
              "        [ 93.22017 ],\n",
              "        [ 97.37861 ],\n",
              "        [101.53704 ],\n",
              "        [105.69549 ],\n",
              "        [109.853935]], dtype=float32))"
            ]
          },
          "metadata": {},
          "execution_count": 106
        }
      ]
    },
    {
      "cell_type": "code",
      "source": [
        "#### Evaluating our model\n",
        "model.evaluate(X_test,y_pred.squeeze())"
      ],
      "metadata": {
        "colab": {
          "base_uri": "https://localhost:8080/"
        },
        "id": "Tc-ioLQaxLTz",
        "outputId": "6c77e873-1786-4f3a-b4b7-d73a47b32453"
      },
      "execution_count": 107,
      "outputs": [
        {
          "output_type": "stream",
          "name": "stdout",
          "text": [
            "1/1 [==============================] - 0s 105ms/step - loss: 4.5776e-06 - mae: 4.5776e-06\n"
          ]
        },
        {
          "output_type": "execute_result",
          "data": {
            "text/plain": [
              "[4.57763690064894e-06, 4.57763690064894e-06]"
            ]
          },
          "metadata": {},
          "execution_count": 107
        }
      ]
    },
    {
      "cell_type": "code",
      "source": [
        "#evaluate using tf library\n",
        "tf.keras.losses.MAE(y_test,y_pred.squeeze())"
      ],
      "metadata": {
        "colab": {
          "base_uri": "https://localhost:8080/"
        },
        "id": "5z_EYvSzxLSU",
        "outputId": "d137799e-841c-4ad3-a61d-27507343706e"
      },
      "execution_count": 108,
      "outputs": [
        {
          "output_type": "execute_result",
          "data": {
            "text/plain": [
              "<tf.Tensor: shape=(), dtype=float32, numpy=3.1409461>"
            ]
          },
          "metadata": {},
          "execution_count": 108
        }
      ]
    },
    {
      "cell_type": "code",
      "source": [
        "tf.metrics.mean_absolute_error(y_test,tf.squeeze(y_pred))"
      ],
      "metadata": {
        "colab": {
          "base_uri": "https://localhost:8080/"
        },
        "id": "-wQfqDrR28LD",
        "outputId": "b1e12554-61ef-47d9-ce88-ca143adf47e0"
      },
      "execution_count": 109,
      "outputs": [
        {
          "output_type": "execute_result",
          "data": {
            "text/plain": [
              "<tf.Tensor: shape=(), dtype=float32, numpy=3.1409461>"
            ]
          },
          "metadata": {},
          "execution_count": 109
        }
      ]
    },
    {
      "cell_type": "code",
      "source": [
        "# mean squared error\n",
        "tf.keras.losses.MSE(y_test,y_pred.squeeze()),tf.metrics.mean_squared_error(y_test,y_pred.squeeze())"
      ],
      "metadata": {
        "colab": {
          "base_uri": "https://localhost:8080/"
        },
        "id": "6eSTOrs23qga",
        "outputId": "7e37674d-f84d-4d5e-f9dd-6ecf8f0696e0"
      },
      "execution_count": 110,
      "outputs": [
        {
          "output_type": "execute_result",
          "data": {
            "text/plain": [
              "(<tf.Tensor: shape=(), dtype=float32, numpy=10.072645>,\n",
              " <tf.Tensor: shape=(), dtype=float32, numpy=10.072645>)"
            ]
          },
          "metadata": {},
          "execution_count": 110
        }
      ]
    },
    {
      "cell_type": "code",
      "source": [
        "# Make some function to reuse MAE and MSE\n",
        "\n",
        "def mae(y_true,y_pred):\n",
        "  return tf.metrics.mean_absolute_error(y_true, tf.squeeze(y_pred))\n",
        "\n",
        "def mse(y_true, y_pred):\n",
        "  return tf.metrics.mean_squared_error(y_true,tf.squeeze(y_pred))\n",
        "\n",
        "\n"
      ],
      "metadata": {
        "id": "jRVIU5Ea4aNR"
      },
      "execution_count": 111,
      "outputs": []
    },
    {
      "cell_type": "markdown",
      "source": [
        "###Running experiments to improve our model"
      ],
      "metadata": {
        "id": "lmUCyXsT498T"
      }
    },
    {
      "cell_type": "code",
      "source": [
        "X_train=tf.expand_dims(X_train,axis=-1)"
      ],
      "metadata": {
        "id": "PuvLPWCGLUzt"
      },
      "execution_count": 112,
      "outputs": []
    },
    {
      "cell_type": "code",
      "source": [
        "X_train, y_train"
      ],
      "metadata": {
        "colab": {
          "base_uri": "https://localhost:8080/"
        },
        "id": "8DhawPGGNHqQ",
        "outputId": "84f4a7ec-f3d2-4791-e918-549a67ec3748"
      },
      "execution_count": 113,
      "outputs": [
        {
          "output_type": "execute_result",
          "data": {
            "text/plain": [
              "(<tf.Tensor: shape=(40, 1), dtype=int32, numpy=\n",
              " array([[-100],\n",
              "        [ -96],\n",
              "        [ -92],\n",
              "        [ -88],\n",
              "        [ -84],\n",
              "        [ -80],\n",
              "        [ -76],\n",
              "        [ -72],\n",
              "        [ -68],\n",
              "        [ -64],\n",
              "        [ -60],\n",
              "        [ -56],\n",
              "        [ -52],\n",
              "        [ -48],\n",
              "        [ -44],\n",
              "        [ -40],\n",
              "        [ -36],\n",
              "        [ -32],\n",
              "        [ -28],\n",
              "        [ -24],\n",
              "        [ -20],\n",
              "        [ -16],\n",
              "        [ -12],\n",
              "        [  -8],\n",
              "        [  -4],\n",
              "        [   0],\n",
              "        [   4],\n",
              "        [   8],\n",
              "        [  12],\n",
              "        [  16],\n",
              "        [  20],\n",
              "        [  24],\n",
              "        [  28],\n",
              "        [  32],\n",
              "        [  36],\n",
              "        [  40],\n",
              "        [  44],\n",
              "        [  48],\n",
              "        [  52],\n",
              "        [  56]], dtype=int32)>, <tf.Tensor: shape=(40,), dtype=int32, numpy=\n",
              " array([-90, -86, -82, -78, -74, -70, -66, -62, -58, -54, -50, -46, -42,\n",
              "        -38, -34, -30, -26, -22, -18, -14, -10,  -6,  -2,   2,   6,  10,\n",
              "         14,  18,  22,  26,  30,  34,  38,  42,  46,  50,  54,  58,  62,\n",
              "         66], dtype=int32)>)"
            ]
          },
          "metadata": {},
          "execution_count": 113
        }
      ]
    },
    {
      "cell_type": "code",
      "source": [
        "#Build model1\n",
        "\n",
        "# Set the random seed\n",
        "tf.random.set_seed(42)\n",
        "\n",
        "#1. create the model\n",
        "model_1= tf.keras.Sequential([\n",
        "    tf.keras.layers.Dense(1)\n",
        "])\n",
        "\n",
        "#2. Compilr the model\n",
        "model_1.compile(\n",
        "          loss= tf.losses.MAE,\n",
        "          optimizer= tf.optimizers.SGD(),\n",
        "          metrics=[\"mae\"]   \n",
        ")\n",
        "\n",
        "#3. Fit the model\n",
        "#model_1.fit(X_train,y_train, epochs=100)\n",
        "model_1.fit(X_train,y_train, epochs=100, verbose=2)\n"
      ],
      "metadata": {
        "id": "kXwwdyOz4710",
        "colab": {
          "base_uri": "https://localhost:8080/"
        },
        "outputId": "fcdfa740-7af5-4d04-a64e-f1cab1966424"
      },
      "execution_count": 114,
      "outputs": [
        {
          "output_type": "stream",
          "name": "stdout",
          "text": [
            "Epoch 1/100\n",
            "2/2 - 0s - loss: 15.9024 - mae: 15.9024 - 342ms/epoch - 171ms/step\n",
            "Epoch 2/100\n",
            "2/2 - 0s - loss: 11.2837 - mae: 11.2837 - 11ms/epoch - 5ms/step\n",
            "Epoch 3/100\n",
            "2/2 - 0s - loss: 11.1075 - mae: 11.1075 - 8ms/epoch - 4ms/step\n",
            "Epoch 4/100\n",
            "2/2 - 0s - loss: 9.2990 - mae: 9.2990 - 9ms/epoch - 4ms/step\n",
            "Epoch 5/100\n",
            "2/2 - 0s - loss: 10.1677 - mae: 10.1677 - 8ms/epoch - 4ms/step\n",
            "Epoch 6/100\n",
            "2/2 - 0s - loss: 9.4303 - mae: 9.4303 - 8ms/epoch - 4ms/step\n",
            "Epoch 7/100\n",
            "2/2 - 0s - loss: 8.5704 - mae: 8.5704 - 8ms/epoch - 4ms/step\n",
            "Epoch 8/100\n",
            "2/2 - 0s - loss: 9.0442 - mae: 9.0442 - 9ms/epoch - 4ms/step\n",
            "Epoch 9/100\n",
            "2/2 - 0s - loss: 18.7517 - mae: 18.7517 - 8ms/epoch - 4ms/step\n",
            "Epoch 10/100\n",
            "2/2 - 0s - loss: 10.1142 - mae: 10.1142 - 8ms/epoch - 4ms/step\n",
            "Epoch 11/100\n",
            "2/2 - 0s - loss: 8.3980 - mae: 8.3980 - 8ms/epoch - 4ms/step\n",
            "Epoch 12/100\n",
            "2/2 - 0s - loss: 10.6639 - mae: 10.6639 - 7ms/epoch - 4ms/step\n",
            "Epoch 13/100\n",
            "2/2 - 0s - loss: 9.7977 - mae: 9.7977 - 8ms/epoch - 4ms/step\n",
            "Epoch 14/100\n",
            "2/2 - 0s - loss: 16.0103 - mae: 16.0103 - 8ms/epoch - 4ms/step\n",
            "Epoch 15/100\n",
            "2/2 - 0s - loss: 11.4068 - mae: 11.4068 - 7ms/epoch - 4ms/step\n",
            "Epoch 16/100\n",
            "2/2 - 0s - loss: 8.5393 - mae: 8.5393 - 7ms/epoch - 4ms/step\n",
            "Epoch 17/100\n",
            "2/2 - 0s - loss: 13.6348 - mae: 13.6348 - 7ms/epoch - 4ms/step\n",
            "Epoch 18/100\n",
            "2/2 - 0s - loss: 11.4629 - mae: 11.4629 - 8ms/epoch - 4ms/step\n",
            "Epoch 19/100\n",
            "2/2 - 0s - loss: 17.9148 - mae: 17.9148 - 7ms/epoch - 4ms/step\n",
            "Epoch 20/100\n",
            "2/2 - 0s - loss: 15.0494 - mae: 15.0494 - 8ms/epoch - 4ms/step\n",
            "Epoch 21/100\n",
            "2/2 - 0s - loss: 11.0216 - mae: 11.0216 - 9ms/epoch - 5ms/step\n",
            "Epoch 22/100\n",
            "2/2 - 0s - loss: 8.1558 - mae: 8.1558 - 15ms/epoch - 7ms/step\n",
            "Epoch 23/100\n",
            "2/2 - 0s - loss: 9.5138 - mae: 9.5138 - 10ms/epoch - 5ms/step\n",
            "Epoch 24/100\n",
            "2/2 - 0s - loss: 7.6617 - mae: 7.6617 - 10ms/epoch - 5ms/step\n",
            "Epoch 25/100\n",
            "2/2 - 0s - loss: 13.1859 - mae: 13.1859 - 7ms/epoch - 4ms/step\n",
            "Epoch 26/100\n",
            "2/2 - 0s - loss: 16.4211 - mae: 16.4211 - 7ms/epoch - 4ms/step\n",
            "Epoch 27/100\n",
            "2/2 - 0s - loss: 13.1660 - mae: 13.1660 - 8ms/epoch - 4ms/step\n",
            "Epoch 28/100\n",
            "2/2 - 0s - loss: 14.2559 - mae: 14.2559 - 8ms/epoch - 4ms/step\n",
            "Epoch 29/100\n",
            "2/2 - 0s - loss: 10.0670 - mae: 10.0670 - 8ms/epoch - 4ms/step\n",
            "Epoch 30/100\n",
            "2/2 - 0s - loss: 16.3409 - mae: 16.3409 - 8ms/epoch - 4ms/step\n",
            "Epoch 31/100\n",
            "2/2 - 0s - loss: 23.6444 - mae: 23.6444 - 9ms/epoch - 4ms/step\n",
            "Epoch 32/100\n",
            "2/2 - 0s - loss: 7.6215 - mae: 7.6215 - 10ms/epoch - 5ms/step\n",
            "Epoch 33/100\n",
            "2/2 - 0s - loss: 9.3221 - mae: 9.3221 - 9ms/epoch - 5ms/step\n",
            "Epoch 34/100\n",
            "2/2 - 0s - loss: 13.7313 - mae: 13.7313 - 9ms/epoch - 5ms/step\n",
            "Epoch 35/100\n",
            "2/2 - 0s - loss: 11.1276 - mae: 11.1276 - 8ms/epoch - 4ms/step\n",
            "Epoch 36/100\n",
            "2/2 - 0s - loss: 13.3222 - mae: 13.3222 - 9ms/epoch - 4ms/step\n",
            "Epoch 37/100\n",
            "2/2 - 0s - loss: 9.4763 - mae: 9.4763 - 10ms/epoch - 5ms/step\n",
            "Epoch 38/100\n",
            "2/2 - 0s - loss: 10.1381 - mae: 10.1381 - 9ms/epoch - 5ms/step\n",
            "Epoch 39/100\n",
            "2/2 - 0s - loss: 10.1793 - mae: 10.1793 - 9ms/epoch - 4ms/step\n",
            "Epoch 40/100\n",
            "2/2 - 0s - loss: 10.9137 - mae: 10.9137 - 9ms/epoch - 4ms/step\n",
            "Epoch 41/100\n",
            "2/2 - 0s - loss: 7.9063 - mae: 7.9063 - 14ms/epoch - 7ms/step\n",
            "Epoch 42/100\n",
            "2/2 - 0s - loss: 10.0914 - mae: 10.0914 - 9ms/epoch - 5ms/step\n",
            "Epoch 43/100\n",
            "2/2 - 0s - loss: 8.7006 - mae: 8.7006 - 9ms/epoch - 4ms/step\n",
            "Epoch 44/100\n",
            "2/2 - 0s - loss: 12.2046 - mae: 12.2046 - 9ms/epoch - 4ms/step\n",
            "Epoch 45/100\n",
            "2/2 - 0s - loss: 13.7970 - mae: 13.7970 - 9ms/epoch - 4ms/step\n",
            "Epoch 46/100\n",
            "2/2 - 0s - loss: 8.4687 - mae: 8.4687 - 12ms/epoch - 6ms/step\n",
            "Epoch 47/100\n",
            "2/2 - 0s - loss: 9.1330 - mae: 9.1330 - 7ms/epoch - 3ms/step\n",
            "Epoch 48/100\n",
            "2/2 - 0s - loss: 10.6190 - mae: 10.6190 - 9ms/epoch - 4ms/step\n",
            "Epoch 49/100\n",
            "2/2 - 0s - loss: 7.7503 - mae: 7.7503 - 8ms/epoch - 4ms/step\n",
            "Epoch 50/100\n",
            "2/2 - 0s - loss: 9.5407 - mae: 9.5407 - 7ms/epoch - 4ms/step\n",
            "Epoch 51/100\n",
            "2/2 - 0s - loss: 9.1584 - mae: 9.1584 - 6ms/epoch - 3ms/step\n",
            "Epoch 52/100\n",
            "2/2 - 0s - loss: 16.3630 - mae: 16.3630 - 8ms/epoch - 4ms/step\n",
            "Epoch 53/100\n",
            "2/2 - 0s - loss: 14.1299 - mae: 14.1299 - 8ms/epoch - 4ms/step\n",
            "Epoch 54/100\n",
            "2/2 - 0s - loss: 21.1247 - mae: 21.1247 - 9ms/epoch - 5ms/step\n",
            "Epoch 55/100\n",
            "2/2 - 0s - loss: 16.3961 - mae: 16.3961 - 11ms/epoch - 6ms/step\n",
            "Epoch 56/100\n",
            "2/2 - 0s - loss: 9.9806 - mae: 9.9806 - 8ms/epoch - 4ms/step\n",
            "Epoch 57/100\n",
            "2/2 - 0s - loss: 9.9606 - mae: 9.9606 - 9ms/epoch - 4ms/step\n",
            "Epoch 58/100\n",
            "2/2 - 0s - loss: 9.2209 - mae: 9.2209 - 7ms/epoch - 4ms/step\n",
            "Epoch 59/100\n",
            "2/2 - 0s - loss: 8.4239 - mae: 8.4239 - 7ms/epoch - 4ms/step\n",
            "Epoch 60/100\n",
            "2/2 - 0s - loss: 9.4869 - mae: 9.4869 - 7ms/epoch - 4ms/step\n",
            "Epoch 61/100\n",
            "2/2 - 0s - loss: 11.4354 - mae: 11.4354 - 8ms/epoch - 4ms/step\n",
            "Epoch 62/100\n",
            "2/2 - 0s - loss: 11.6887 - mae: 11.6887 - 8ms/epoch - 4ms/step\n",
            "Epoch 63/100\n",
            "2/2 - 0s - loss: 7.0838 - mae: 7.0838 - 8ms/epoch - 4ms/step\n",
            "Epoch 64/100\n",
            "2/2 - 0s - loss: 16.9675 - mae: 16.9675 - 8ms/epoch - 4ms/step\n",
            "Epoch 65/100\n",
            "2/2 - 0s - loss: 12.4599 - mae: 12.4599 - 8ms/epoch - 4ms/step\n",
            "Epoch 66/100\n",
            "2/2 - 0s - loss: 13.0184 - mae: 13.0184 - 8ms/epoch - 4ms/step\n",
            "Epoch 67/100\n",
            "2/2 - 0s - loss: 8.0600 - mae: 8.0600 - 7ms/epoch - 3ms/step\n",
            "Epoch 68/100\n",
            "2/2 - 0s - loss: 10.1888 - mae: 10.1888 - 8ms/epoch - 4ms/step\n",
            "Epoch 69/100\n",
            "2/2 - 0s - loss: 12.3633 - mae: 12.3633 - 6ms/epoch - 3ms/step\n",
            "Epoch 70/100\n",
            "2/2 - 0s - loss: 9.0516 - mae: 9.0516 - 7ms/epoch - 3ms/step\n",
            "Epoch 71/100\n",
            "2/2 - 0s - loss: 10.0378 - mae: 10.0378 - 7ms/epoch - 4ms/step\n",
            "Epoch 72/100\n",
            "2/2 - 0s - loss: 10.0516 - mae: 10.0516 - 8ms/epoch - 4ms/step\n",
            "Epoch 73/100\n",
            "2/2 - 0s - loss: 12.6151 - mae: 12.6151 - 8ms/epoch - 4ms/step\n",
            "Epoch 74/100\n",
            "2/2 - 0s - loss: 10.3819 - mae: 10.3819 - 7ms/epoch - 4ms/step\n",
            "Epoch 75/100\n",
            "2/2 - 0s - loss: 9.7229 - mae: 9.7229 - 9ms/epoch - 4ms/step\n",
            "Epoch 76/100\n",
            "2/2 - 0s - loss: 11.2252 - mae: 11.2252 - 9ms/epoch - 5ms/step\n",
            "Epoch 77/100\n",
            "2/2 - 0s - loss: 8.3642 - mae: 8.3642 - 8ms/epoch - 4ms/step\n",
            "Epoch 78/100\n",
            "2/2 - 0s - loss: 9.1274 - mae: 9.1274 - 7ms/epoch - 4ms/step\n",
            "Epoch 79/100\n",
            "2/2 - 0s - loss: 19.5039 - mae: 19.5039 - 9ms/epoch - 4ms/step\n",
            "Epoch 80/100\n",
            "2/2 - 0s - loss: 14.8945 - mae: 14.8945 - 12ms/epoch - 6ms/step\n",
            "Epoch 81/100\n",
            "2/2 - 0s - loss: 9.0034 - mae: 9.0034 - 10ms/epoch - 5ms/step\n",
            "Epoch 82/100\n",
            "2/2 - 0s - loss: 13.0206 - mae: 13.0206 - 9ms/epoch - 5ms/step\n",
            "Epoch 83/100\n",
            "2/2 - 0s - loss: 7.9299 - mae: 7.9299 - 9ms/epoch - 4ms/step\n",
            "Epoch 84/100\n",
            "2/2 - 0s - loss: 7.6872 - mae: 7.6872 - 10ms/epoch - 5ms/step\n",
            "Epoch 85/100\n",
            "2/2 - 0s - loss: 10.0328 - mae: 10.0328 - 9ms/epoch - 4ms/step\n",
            "Epoch 86/100\n",
            "2/2 - 0s - loss: 9.2433 - mae: 9.2433 - 9ms/epoch - 4ms/step\n",
            "Epoch 87/100\n",
            "2/2 - 0s - loss: 12.0209 - mae: 12.0209 - 9ms/epoch - 5ms/step\n",
            "Epoch 88/100\n",
            "2/2 - 0s - loss: 10.6389 - mae: 10.6389 - 8ms/epoch - 4ms/step\n",
            "Epoch 89/100\n",
            "2/2 - 0s - loss: 7.2667 - mae: 7.2667 - 8ms/epoch - 4ms/step\n",
            "Epoch 90/100\n",
            "2/2 - 0s - loss: 12.7786 - mae: 12.7786 - 9ms/epoch - 5ms/step\n",
            "Epoch 91/100\n",
            "2/2 - 0s - loss: 7.3481 - mae: 7.3481 - 9ms/epoch - 5ms/step\n",
            "Epoch 92/100\n",
            "2/2 - 0s - loss: 7.7175 - mae: 7.7175 - 9ms/epoch - 4ms/step\n",
            "Epoch 93/100\n",
            "2/2 - 0s - loss: 7.1263 - mae: 7.1263 - 8ms/epoch - 4ms/step\n",
            "Epoch 94/100\n",
            "2/2 - 0s - loss: 12.6190 - mae: 12.6190 - 9ms/epoch - 5ms/step\n",
            "Epoch 95/100\n",
            "2/2 - 0s - loss: 10.0912 - mae: 10.0912 - 9ms/epoch - 4ms/step\n",
            "Epoch 96/100\n",
            "2/2 - 0s - loss: 9.3558 - mae: 9.3558 - 8ms/epoch - 4ms/step\n",
            "Epoch 97/100\n",
            "2/2 - 0s - loss: 12.6834 - mae: 12.6834 - 11ms/epoch - 5ms/step\n",
            "Epoch 98/100\n",
            "2/2 - 0s - loss: 8.6762 - mae: 8.6762 - 8ms/epoch - 4ms/step\n",
            "Epoch 99/100\n",
            "2/2 - 0s - loss: 9.4693 - mae: 9.4693 - 15ms/epoch - 8ms/step\n",
            "Epoch 100/100\n",
            "2/2 - 0s - loss: 8.7067 - mae: 8.7067 - 9ms/epoch - 4ms/step\n"
          ]
        },
        {
          "output_type": "execute_result",
          "data": {
            "text/plain": [
              "<keras.callbacks.History at 0x7fc831998410>"
            ]
          },
          "metadata": {},
          "execution_count": 114
        }
      ]
    },
    {
      "cell_type": "code",
      "source": [
        "y_test, y_pred"
      ],
      "metadata": {
        "colab": {
          "base_uri": "https://localhost:8080/"
        },
        "id": "n2qqet8oM6r0",
        "outputId": "b3ba9f56-2542-48c4-bf28-5398450e2e1d"
      },
      "execution_count": 115,
      "outputs": [
        {
          "output_type": "execute_result",
          "data": {
            "text/plain": [
              "(<tf.Tensor: shape=(10,), dtype=int32, numpy=array([ 70,  74,  78,  82,  86,  90,  94,  98, 102, 106], dtype=int32)>,\n",
              " array([[ 72.42796 ],\n",
              "        [ 76.58641 ],\n",
              "        [ 80.74484 ],\n",
              "        [ 84.90328 ],\n",
              "        [ 89.06172 ],\n",
              "        [ 93.22017 ],\n",
              "        [ 97.37861 ],\n",
              "        [101.53704 ],\n",
              "        [105.69549 ],\n",
              "        [109.853935]], dtype=float32))"
            ]
          },
          "metadata": {},
          "execution_count": 115
        }
      ]
    },
    {
      "cell_type": "code",
      "source": [
        "y_pred_1= model_1.predict(X_test) \n",
        "plot_predictions(predctions=y_pred_1)"
      ],
      "metadata": {
        "colab": {
          "base_uri": "https://localhost:8080/",
          "height": 322
        },
        "id": "G_kbMQyNMZ2_",
        "outputId": "7a19c831-67b5-4a9e-900e-7da0e69eb2a4"
      },
      "execution_count": 116,
      "outputs": [
        {
          "output_type": "stream",
          "name": "stderr",
          "text": [
            "WARNING:tensorflow:5 out of the last 5 calls to <function Model.make_predict_function.<locals>.predict_function at 0x7fc831951cb0> triggered tf.function retracing. Tracing is expensive and the excessive number of tracings could be due to (1) creating @tf.function repeatedly in a loop, (2) passing tensors with different shapes, (3) passing Python objects instead of tensors. For (1), please define your @tf.function outside of the loop. For (2), @tf.function has reduce_retracing=True option that can avoid unnecessary retracing. For (3), please refer to https://www.tensorflow.org/guide/function#controlling_retracing and https://www.tensorflow.org/api_docs/python/tf/function for  more details.\n"
          ]
        },
        {
          "output_type": "stream",
          "name": "stdout",
          "text": [
            "1/1 [==============================] - 0s 43ms/step\n"
          ]
        },
        {
          "output_type": "display_data",
          "data": {
            "text/plain": [
              "<Figure size 432x288 with 1 Axes>"
            ],
            "image/png": "[encoded data removed]"
          },
          "metadata": {
            "needs_background": "light"
          }
        }
      ]
    },
    {
      "cell_type": "code",
      "source": [
        "#Calculate model_1 evaluaiton metircs\n",
        "mae_1 = mae(y_test, y_pred_1)\n",
        "mse_1 = mse(y_test, y_pred_1)\n",
        "mae_1, mse_1"
      ],
      "metadata": {
        "colab": {
          "base_uri": "https://localhost:8080/"
        },
        "id": "OloRhxWxObQA",
        "outputId": "759483d3-0bf4-483e-a1e2-8ef1a8992ffc"
      },
      "execution_count": 120,
      "outputs": [
        {
          "output_type": "execute_result",
          "data": {
            "text/plain": [
              "(<tf.Tensor: shape=(), dtype=float32, numpy=18.745327>,\n",
              " <tf.Tensor: shape=(), dtype=float32, numpy=353.57336>)"
            ]
          },
          "metadata": {},
          "execution_count": 120
        }
      ]
    },
    {
      "cell_type": "markdown",
      "source": [
        "**Build model_2** "
      ],
      "metadata": {
        "id": "hXEtpcymQQfy"
      }
    },
    {
      "cell_type": "code",
      "source": [
        "#set random seed\n",
        "tf.random.set_seed(42)\n",
        "\n",
        "# 1. Design the model\n",
        "model_2= tf.keras.Sequential([\n",
        "    tf.keras.layers.Dense(10),\n",
        "    tf.keras.layers.Dense(1)\n",
        "])\n",
        "\n",
        "\n",
        "#2. Compile the model\n",
        "model_2.compile(loss= tf.keras.losses.MAE,\n",
        "                optimizer= tf.optimizers.SGD(),\n",
        "                metrics=[\"mae\"]\n",
        "                )                \n",
        "\n",
        "\n",
        "#3. fit the model\n",
        "model_2.fit(X_train,y_train, epochs=100)\n"
      ],
      "metadata": {
        "id": "2UH3yd9YPrIl",
        "colab": {
          "base_uri": "https://localhost:8080/"
        },
        "outputId": "e9541104-3966-4ccf-9f21-b1d7110ed643"
      },
      "execution_count": 121,
      "outputs": [
        {
          "output_type": "stream",
          "name": "stdout",
          "text": [
            "Epoch 1/100\n",
            "2/2 [==============================] - 0s 6ms/step - loss: 27.4058 - mae: 27.4058\n",
            "Epoch 2/100\n",
            "2/2 [==============================] - 0s 6ms/step - loss: 24.6339 - mae: 24.6339\n",
            "Epoch 3/100\n",
            "2/2 [==============================] - 0s 6ms/step - loss: 29.8935 - mae: 29.8935\n",
            "Epoch 4/100\n",
            "2/2 [==============================] - 0s 6ms/step - loss: 27.4055 - mae: 27.4055\n",
            "Epoch 5/100\n",
            "2/2 [==============================] - 0s 6ms/step - loss: 14.9463 - mae: 14.9463\n",
            "Epoch 6/100\n",
            "2/2 [==============================] - 0s 5ms/step - loss: 11.8819 - mae: 11.8819\n",
            "Epoch 7/100\n",
            "2/2 [==============================] - 0s 5ms/step - loss: 11.1988 - mae: 11.1988\n",
            "Epoch 8/100\n",
            "2/2 [==============================] - 0s 5ms/step - loss: 11.0910 - mae: 11.0910\n",
            "Epoch 9/100\n",
            "2/2 [==============================] - 0s 6ms/step - loss: 40.4763 - mae: 40.4763\n",
            "Epoch 10/100\n",
            "2/2 [==============================] - 0s 6ms/step - loss: 27.8687 - mae: 27.8687\n",
            "Epoch 11/100\n",
            "2/2 [==============================] - 0s 5ms/step - loss: 10.2473 - mae: 10.2473\n",
            "Epoch 12/100\n",
            "2/2 [==============================] - 0s 5ms/step - loss: 25.2803 - mae: 25.2803\n",
            "Epoch 13/100\n",
            "2/2 [==============================] - 0s 6ms/step - loss: 16.9897 - mae: 16.9897\n",
            "Epoch 14/100\n",
            "2/2 [==============================] - 0s 6ms/step - loss: 25.9217 - mae: 25.9217\n",
            "Epoch 15/100\n",
            "2/2 [==============================] - 0s 5ms/step - loss: 17.9948 - mae: 17.9948\n",
            "Epoch 16/100\n",
            "2/2 [==============================] - 0s 6ms/step - loss: 7.3510 - mae: 7.3510\n",
            "Epoch 17/100\n",
            "2/2 [==============================] - 0s 5ms/step - loss: 10.8636 - mae: 10.8636\n",
            "Epoch 18/100\n",
            "2/2 [==============================] - 0s 5ms/step - loss: 19.5304 - mae: 19.5304\n",
            "Epoch 19/100\n",
            "2/2 [==============================] - 0s 5ms/step - loss: 10.3469 - mae: 10.3469\n",
            "Epoch 20/100\n",
            "2/2 [==============================] - 0s 5ms/step - loss: 17.6985 - mae: 17.6985\n",
            "Epoch 21/100\n",
            "2/2 [==============================] - 0s 7ms/step - loss: 15.8985 - mae: 15.8985\n",
            "Epoch 22/100\n",
            "2/2 [==============================] - 0s 7ms/step - loss: 14.1991 - mae: 14.1991\n",
            "Epoch 23/100\n",
            "2/2 [==============================] - 0s 6ms/step - loss: 8.7720 - mae: 8.7720\n",
            "Epoch 24/100\n",
            "2/2 [==============================] - 0s 6ms/step - loss: 11.0570 - mae: 11.0570\n",
            "Epoch 25/100\n",
            "2/2 [==============================] - 0s 6ms/step - loss: 12.6838 - mae: 12.6838\n",
            "Epoch 26/100\n",
            "2/2 [==============================] - 0s 7ms/step - loss: 26.1877 - mae: 26.1877\n",
            "Epoch 27/100\n",
            "2/2 [==============================] - 0s 6ms/step - loss: 11.7432 - mae: 11.7432\n",
            "Epoch 28/100\n",
            "2/2 [==============================] - 0s 7ms/step - loss: 22.8730 - mae: 22.8730\n",
            "Epoch 29/100\n",
            "2/2 [==============================] - 0s 6ms/step - loss: 9.2459 - mae: 9.2459\n",
            "Epoch 30/100\n",
            "2/2 [==============================] - 0s 5ms/step - loss: 29.2641 - mae: 29.2641\n",
            "Epoch 31/100\n",
            "2/2 [==============================] - 0s 7ms/step - loss: 53.0224 - mae: 53.0224\n",
            "Epoch 32/100\n",
            "2/2 [==============================] - 0s 16ms/step - loss: 11.9951 - mae: 11.9951\n",
            "Epoch 33/100\n",
            "2/2 [==============================] - 0s 9ms/step - loss: 15.6357 - mae: 15.6357\n",
            "Epoch 34/100\n",
            "2/2 [==============================] - 0s 5ms/step - loss: 12.6925 - mae: 12.6925\n",
            "Epoch 35/100\n",
            "2/2 [==============================] - 0s 5ms/step - loss: 9.2398 - mae: 9.2398\n",
            "Epoch 36/100\n",
            "2/2 [==============================] - 0s 5ms/step - loss: 16.6497 - mae: 16.6497\n",
            "Epoch 37/100\n",
            "2/2 [==============================] - 0s 5ms/step - loss: 11.0382 - mae: 11.0382\n",
            "Epoch 38/100\n",
            "2/2 [==============================] - 0s 9ms/step - loss: 18.1634 - mae: 18.1634\n",
            "Epoch 39/100\n",
            "2/2 [==============================] - 0s 5ms/step - loss: 19.1013 - mae: 19.1013\n",
            "Epoch 40/100\n",
            "2/2 [==============================] - 0s 6ms/step - loss: 20.4324 - mae: 20.4324\n",
            "Epoch 41/100\n",
            "2/2 [==============================] - 0s 16ms/step - loss: 14.9102 - mae: 14.9102\n",
            "Epoch 42/100\n",
            "2/2 [==============================] - 0s 7ms/step - loss: 12.2809 - mae: 12.2809\n",
            "Epoch 43/100\n",
            "2/2 [==============================] - 0s 7ms/step - loss: 10.7333 - mae: 10.7333\n",
            "Epoch 44/100\n",
            "2/2 [==============================] - 0s 6ms/step - loss: 23.0260 - mae: 23.0260\n",
            "Epoch 45/100\n",
            "2/2 [==============================] - 0s 6ms/step - loss: 10.3897 - mae: 10.3897\n",
            "Epoch 46/100\n",
            "2/2 [==============================] - 0s 6ms/step - loss: 11.7904 - mae: 11.7904\n",
            "Epoch 47/100\n",
            "2/2 [==============================] - 0s 6ms/step - loss: 9.6438 - mae: 9.6438\n",
            "Epoch 48/100\n",
            "2/2 [==============================] - 0s 7ms/step - loss: 17.2335 - mae: 17.2335\n",
            "Epoch 49/100\n",
            "2/2 [==============================] - 0s 5ms/step - loss: 9.5729 - mae: 9.5729\n",
            "Epoch 50/100\n",
            "2/2 [==============================] - 0s 6ms/step - loss: 13.8185 - mae: 13.8185\n",
            "Epoch 51/100\n",
            "2/2 [==============================] - 0s 5ms/step - loss: 11.5958 - mae: 11.5958\n",
            "Epoch 52/100\n",
            "2/2 [==============================] - 0s 5ms/step - loss: 30.5538 - mae: 30.5538\n",
            "Epoch 53/100\n",
            "2/2 [==============================] - 0s 4ms/step - loss: 14.3541 - mae: 14.3541\n",
            "Epoch 54/100\n",
            "2/2 [==============================] - 0s 6ms/step - loss: 23.9713 - mae: 23.9713\n",
            "Epoch 55/100\n",
            "2/2 [==============================] - 0s 6ms/step - loss: 23.1938 - mae: 23.1938\n",
            "Epoch 56/100\n",
            "2/2 [==============================] - 0s 5ms/step - loss: 10.8837 - mae: 10.8837\n",
            "Epoch 57/100\n",
            "2/2 [==============================] - 0s 5ms/step - loss: 12.7445 - mae: 12.7445\n",
            "Epoch 58/100\n",
            "2/2 [==============================] - 0s 6ms/step - loss: 9.5995 - mae: 9.5995\n",
            "Epoch 59/100\n",
            "2/2 [==============================] - 0s 9ms/step - loss: 12.5172 - mae: 12.5172\n",
            "Epoch 60/100\n",
            "2/2 [==============================] - 0s 5ms/step - loss: 12.3200 - mae: 12.3200\n",
            "Epoch 61/100\n",
            "2/2 [==============================] - 0s 6ms/step - loss: 17.4604 - mae: 17.4604\n",
            "Epoch 62/100\n",
            "2/2 [==============================] - 0s 6ms/step - loss: 10.6052 - mae: 10.6052\n",
            "Epoch 63/100\n",
            "2/2 [==============================] - 0s 5ms/step - loss: 10.4893 - mae: 10.4893\n",
            "Epoch 64/100\n",
            "2/2 [==============================] - 0s 8ms/step - loss: 24.8450 - mae: 24.8450\n",
            "Epoch 65/100\n",
            "2/2 [==============================] - 0s 4ms/step - loss: 10.6761 - mae: 10.6761\n",
            "Epoch 66/100\n",
            "2/2 [==============================] - 0s 5ms/step - loss: 21.7809 - mae: 21.7809\n",
            "Epoch 67/100\n",
            "2/2 [==============================] - 0s 5ms/step - loss: 10.7136 - mae: 10.7136\n",
            "Epoch 68/100\n",
            "2/2 [==============================] - 0s 5ms/step - loss: 10.6397 - mae: 10.6397\n",
            "Epoch 69/100\n",
            "2/2 [==============================] - 0s 5ms/step - loss: 22.6914 - mae: 22.6914\n",
            "Epoch 70/100\n",
            "2/2 [==============================] - 0s 4ms/step - loss: 9.3316 - mae: 9.3316\n",
            "Epoch 71/100\n",
            "2/2 [==============================] - 0s 5ms/step - loss: 15.4355 - mae: 15.4355\n",
            "Epoch 72/100\n",
            "2/2 [==============================] - 0s 5ms/step - loss: 6.7437 - mae: 6.7437\n",
            "Epoch 73/100\n",
            "2/2 [==============================] - 0s 5ms/step - loss: 11.6891 - mae: 11.6891\n",
            "Epoch 74/100\n",
            "2/2 [==============================] - 0s 5ms/step - loss: 24.0400 - mae: 24.0400\n",
            "Epoch 75/100\n",
            "2/2 [==============================] - 0s 10ms/step - loss: 9.5896 - mae: 9.5896\n",
            "Epoch 76/100\n",
            "2/2 [==============================] - 0s 5ms/step - loss: 12.4371 - mae: 12.4371\n",
            "Epoch 77/100\n",
            "2/2 [==============================] - 0s 6ms/step - loss: 16.6488 - mae: 16.6488\n",
            "Epoch 78/100\n",
            "2/2 [==============================] - 0s 5ms/step - loss: 9.0614 - mae: 9.0614\n",
            "Epoch 79/100\n",
            "2/2 [==============================] - 0s 5ms/step - loss: 23.9675 - mae: 23.9675\n",
            "Epoch 80/100\n",
            "2/2 [==============================] - 0s 5ms/step - loss: 26.7463 - mae: 26.7463\n",
            "Epoch 81/100\n",
            "2/2 [==============================] - 0s 5ms/step - loss: 11.6714 - mae: 11.6714\n",
            "Epoch 82/100\n",
            "2/2 [==============================] - 0s 5ms/step - loss: 12.0228 - mae: 12.0228\n",
            "Epoch 83/100\n",
            "2/2 [==============================] - 0s 10ms/step - loss: 17.4218 - mae: 17.4218\n",
            "Epoch 84/100\n",
            "2/2 [==============================] - 0s 5ms/step - loss: 7.2629 - mae: 7.2629\n",
            "Epoch 85/100\n",
            "2/2 [==============================] - 0s 5ms/step - loss: 14.9650 - mae: 14.9650\n",
            "Epoch 86/100\n",
            "2/2 [==============================] - 0s 12ms/step - loss: 15.2862 - mae: 15.2862\n",
            "Epoch 87/100\n",
            "2/2 [==============================] - 0s 4ms/step - loss: 19.1086 - mae: 19.1086\n",
            "Epoch 88/100\n",
            "2/2 [==============================] - 0s 5ms/step - loss: 29.8228 - mae: 29.8228\n",
            "Epoch 89/100\n",
            "2/2 [==============================] - 0s 11ms/step - loss: 10.1742 - mae: 10.1742\n",
            "Epoch 90/100\n",
            "2/2 [==============================] - 0s 5ms/step - loss: 21.5240 - mae: 21.5240\n",
            "Epoch 91/100\n",
            "2/2 [==============================] - 0s 5ms/step - loss: 10.5716 - mae: 10.5716\n",
            "Epoch 92/100\n",
            "2/2 [==============================] - 0s 13ms/step - loss: 18.3977 - mae: 18.3977\n",
            "Epoch 93/100\n",
            "2/2 [==============================] - 0s 5ms/step - loss: 7.4138 - mae: 7.4138\n",
            "Epoch 94/100\n",
            "2/2 [==============================] - 0s 5ms/step - loss: 17.7380 - mae: 17.7380\n",
            "Epoch 95/100\n",
            "2/2 [==============================] - 0s 5ms/step - loss: 11.1144 - mae: 11.1144\n",
            "Epoch 96/100\n",
            "2/2 [==============================] - 0s 9ms/step - loss: 19.4346 - mae: 19.4346\n",
            "Epoch 97/100\n",
            "2/2 [==============================] - 0s 5ms/step - loss: 12.1593 - mae: 12.1593\n",
            "Epoch 98/100\n",
            "2/2 [==============================] - 0s 5ms/step - loss: 11.5653 - mae: 11.5653\n",
            "Epoch 99/100\n",
            "2/2 [==============================] - 0s 4ms/step - loss: 13.8827 - mae: 13.8827\n",
            "Epoch 100/100\n",
            "2/2 [==============================] - 0s 4ms/step - loss: 20.2277 - mae: 20.2277\n"
          ]
        },
        {
          "output_type": "execute_result",
          "data": {
            "text/plain": [
              "<keras.callbacks.History at 0x7fc831a33f50>"
            ]
          },
          "metadata": {},
          "execution_count": 121
        }
      ]
    },
    {
      "cell_type": "code",
      "source": [
        "y_pred_2= model_2.predict(X_test)\n",
        "plot_predictions(predctions=y_pred_2)"
      ],
      "metadata": {
        "colab": {
          "base_uri": "https://localhost:8080/",
          "height": 322
        },
        "id": "rGwVgWhRPq9K",
        "outputId": "ad682d57-5234-4557-f52d-eed715ba54be"
      },
      "execution_count": 122,
      "outputs": [
        {
          "output_type": "stream",
          "name": "stderr",
          "text": [
            "WARNING:tensorflow:6 out of the last 6 calls to <function Model.make_predict_function.<locals>.predict_function at 0x7fc82ac01290> triggered tf.function retracing. Tracing is expensive and the excessive number of tracings could be due to (1) creating @tf.function repeatedly in a loop, (2) passing tensors with different shapes, (3) passing Python objects instead of tensors. For (1), please define your @tf.function outside of the loop. For (2), @tf.function has reduce_retracing=True option that can avoid unnecessary retracing. For (3), please refer to https://www.tensorflow.org/guide/function#controlling_retracing and https://www.tensorflow.org/api_docs/python/tf/function for  more details.\n"
          ]
        },
        {
          "output_type": "stream",
          "name": "stdout",
          "text": [
            "1/1 [==============================] - 0s 51ms/step\n"
          ]
        },
        {
          "output_type": "display_data",
          "data": {
            "text/plain": [
              "<Figure size 432x288 with 1 Axes>"
            ],
            "image/png": "[encoded data removed]"
          },
          "metadata": {
            "needs_background": "light"
          }
        }
      ]
    },
    {
      "cell_type": "code",
      "source": [
        "mae_2= mae(y_test,y_pred_2)\n",
        "mse_2= mse(y_test,y_pred_2)\n",
        "mae_2, mse_2"
      ],
      "metadata": {
        "colab": {
          "base_uri": "https://localhost:8080/"
        },
        "id": "o78LVpwBR6Yy",
        "outputId": "d3d59766-5815-4247-e576-6f110093b93b"
      },
      "execution_count": 123,
      "outputs": [
        {
          "output_type": "execute_result",
          "data": {
            "text/plain": [
              "(<tf.Tensor: shape=(), dtype=float32, numpy=3.19694>,\n",
              " <tf.Tensor: shape=(), dtype=float32, numpy=13.070127>)"
            ]
          },
          "metadata": {},
          "execution_count": 123
        }
      ]
    },
    {
      "cell_type": "markdown",
      "source": [
        "Build Model_3"
      ],
      "metadata": {
        "id": "_-qqxYXJSyQK"
      }
    },
    {
      "cell_type": "code",
      "source": [
        "# Set the random seed \n",
        "tf.random.set_seed(42)\n",
        "\n",
        "\n",
        "#1. Define the model\n",
        "model_3= tf.keras.Sequential([\n",
        "    tf.keras.layers.Dense(10),\n",
        "    tf.keras.layers.Dense(1)\n",
        "])\n",
        "\n",
        "\n",
        "#2. Compilr the model\n",
        "model_3.compile(loss=tf.keras.losses.MAE,\n",
        "                optimizer= tf.optimizers.SGD(),\n",
        "                metrics=['mae']\n",
        "                )\n",
        "\n",
        "\n",
        "#3. fit the model\n",
        "\n",
        "model_3.fit(X_train,y_train, epochs=500, verbose=2)"
      ],
      "metadata": {
        "id": "Yyq7bew8SgcQ",
        "colab": {
          "base_uri": "https://localhost:8080/"
        },
        "outputId": "bdfc963b-c3a6-4eda-bdbf-15f9bcda23d0"
      },
      "execution_count": 124,
      "outputs": [
        {
          "output_type": "stream",
          "name": "stdout",
          "text": [
            "Epoch 1/500\n",
            "2/2 - 0s - loss: 27.4058 - mae: 27.4058 - 321ms/epoch - 160ms/step\n",
            "Epoch 2/500\n",
            "2/2 - 0s - loss: 24.6339 - mae: 24.6339 - 9ms/epoch - 4ms/step\n",
            "Epoch 3/500\n",
            "2/2 - 0s - loss: 29.8935 - mae: 29.8935 - 8ms/epoch - 4ms/step\n",
            "Epoch 4/500\n",
            "2/2 - 0s - loss: 27.4055 - mae: 27.4055 - 10ms/epoch - 5ms/step\n",
            "Epoch 5/500\n",
            "2/2 - 0s - loss: 14.9463 - mae: 14.9463 - 7ms/epoch - 3ms/step\n",
            "Epoch 6/500\n",
            "2/2 - 0s - loss: 11.8819 - mae: 11.8819 - 7ms/epoch - 3ms/step\n",
            "Epoch 7/500\n",
            "2/2 - 0s - loss: 11.1988 - mae: 11.1988 - 8ms/epoch - 4ms/step\n",
            "Epoch 8/500\n",
            "2/2 - 0s - loss: 11.0910 - mae: 11.0910 - 8ms/epoch - 4ms/step\n",
            "Epoch 9/500\n",
            "2/2 - 0s - loss: 40.4763 - mae: 40.4763 - 9ms/epoch - 5ms/step\n",
            "Epoch 10/500\n",
            "2/2 - 0s - loss: 27.8687 - mae: 27.8687 - 8ms/epoch - 4ms/step\n",
            "Epoch 11/500\n",
            "2/2 - 0s - loss: 10.2473 - mae: 10.2473 - 9ms/epoch - 4ms/step\n",
            "Epoch 12/500\n",
            "2/2 - 0s - loss: 25.2803 - mae: 25.2803 - 12ms/epoch - 6ms/step\n",
            "Epoch 13/500\n",
            "2/2 - 0s - loss: 16.9897 - mae: 16.9897 - 9ms/epoch - 5ms/step\n",
            "Epoch 14/500\n",
            "2/2 - 0s - loss: 25.9217 - mae: 25.9217 - 11ms/epoch - 6ms/step\n",
            "Epoch 15/500\n",
            "2/2 - 0s - loss: 17.9948 - mae: 17.9948 - 8ms/epoch - 4ms/step\n",
            "Epoch 16/500\n",
            "2/2 - 0s - loss: 7.3510 - mae: 7.3510 - 9ms/epoch - 4ms/step\n",
            "Epoch 17/500\n",
            "2/2 - 0s - loss: 10.8636 - mae: 10.8636 - 12ms/epoch - 6ms/step\n",
            "Epoch 18/500\n",
            "2/2 - 0s - loss: 19.5304 - mae: 19.5304 - 7ms/epoch - 4ms/step\n",
            "Epoch 19/500\n",
            "2/2 - 0s - loss: 10.3469 - mae: 10.3469 - 7ms/epoch - 4ms/step\n",
            "Epoch 20/500\n",
            "2/2 - 0s - loss: 17.6985 - mae: 17.6985 - 10ms/epoch - 5ms/step\n",
            "Epoch 21/500\n",
            "2/2 - 0s - loss: 15.8985 - mae: 15.8985 - 8ms/epoch - 4ms/step\n",
            "Epoch 22/500\n",
            "2/2 - 0s - loss: 14.1991 - mae: 14.1991 - 8ms/epoch - 4ms/step\n",
            "Epoch 23/500\n",
            "2/2 - 0s - loss: 8.7720 - mae: 8.7720 - 8ms/epoch - 4ms/step\n",
            "Epoch 24/500\n",
            "2/2 - 0s - loss: 11.0570 - mae: 11.0570 - 10ms/epoch - 5ms/step\n",
            "Epoch 25/500\n",
            "2/2 - 0s - loss: 12.6838 - mae: 12.6838 - 8ms/epoch - 4ms/step\n",
            "Epoch 26/500\n",
            "2/2 - 0s - loss: 26.1877 - mae: 26.1877 - 8ms/epoch - 4ms/step\n",
            "Epoch 27/500\n",
            "2/2 - 0s - loss: 11.7432 - mae: 11.7432 - 7ms/epoch - 4ms/step\n",
            "Epoch 28/500\n",
            "2/2 - 0s - loss: 22.8730 - mae: 22.8730 - 7ms/epoch - 4ms/step\n",
            "Epoch 29/500\n",
            "2/2 - 0s - loss: 9.2459 - mae: 9.2459 - 7ms/epoch - 4ms/step\n",
            "Epoch 30/500\n",
            "2/2 - 0s - loss: 29.2641 - mae: 29.2641 - 8ms/epoch - 4ms/step\n",
            "Epoch 31/500\n",
            "2/2 - 0s - loss: 53.0224 - mae: 53.0224 - 7ms/epoch - 4ms/step\n",
            "Epoch 32/500\n",
            "2/2 - 0s - loss: 11.9951 - mae: 11.9951 - 7ms/epoch - 4ms/step\n",
            "Epoch 33/500\n",
            "2/2 - 0s - loss: 15.6357 - mae: 15.6357 - 7ms/epoch - 4ms/step\n",
            "Epoch 34/500\n",
            "2/2 - 0s - loss: 12.6925 - mae: 12.6925 - 8ms/epoch - 4ms/step\n",
            "Epoch 35/500\n",
            "2/2 - 0s - loss: 9.2398 - mae: 9.2398 - 8ms/epoch - 4ms/step\n",
            "Epoch 36/500\n",
            "2/2 - 0s - loss: 16.6497 - mae: 16.6497 - 8ms/epoch - 4ms/step\n",
            "Epoch 37/500\n",
            "2/2 - 0s - loss: 11.0382 - mae: 11.0382 - 8ms/epoch - 4ms/step\n",
            "Epoch 38/500\n",
            "2/2 - 0s - loss: 18.1634 - mae: 18.1634 - 9ms/epoch - 4ms/step\n",
            "Epoch 39/500\n",
            "2/2 - 0s - loss: 19.1013 - mae: 19.1013 - 15ms/epoch - 8ms/step\n",
            "Epoch 40/500\n",
            "2/2 - 0s - loss: 20.4324 - mae: 20.4324 - 8ms/epoch - 4ms/step\n",
            "Epoch 41/500\n",
            "2/2 - 0s - loss: 14.9102 - mae: 14.9102 - 8ms/epoch - 4ms/step\n",
            "Epoch 42/500\n",
            "2/2 - 0s - loss: 12.2809 - mae: 12.2809 - 8ms/epoch - 4ms/step\n",
            "Epoch 43/500\n",
            "2/2 - 0s - loss: 10.7333 - mae: 10.7333 - 9ms/epoch - 4ms/step\n",
            "Epoch 44/500\n",
            "2/2 - 0s - loss: 23.0260 - mae: 23.0260 - 8ms/epoch - 4ms/step\n",
            "Epoch 45/500\n",
            "2/2 - 0s - loss: 10.3897 - mae: 10.3897 - 8ms/epoch - 4ms/step\n",
            "Epoch 46/500\n",
            "2/2 - 0s - loss: 11.7904 - mae: 11.7904 - 8ms/epoch - 4ms/step\n",
            "Epoch 47/500\n",
            "2/2 - 0s - loss: 9.6438 - mae: 9.6438 - 8ms/epoch - 4ms/step\n",
            "Epoch 48/500\n",
            "2/2 - 0s - loss: 17.2335 - mae: 17.2335 - 8ms/epoch - 4ms/step\n",
            "Epoch 49/500\n",
            "2/2 - 0s - loss: 9.5729 - mae: 9.5729 - 8ms/epoch - 4ms/step\n",
            "Epoch 50/500\n",
            "2/2 - 0s - loss: 13.8185 - mae: 13.8185 - 8ms/epoch - 4ms/step\n",
            "Epoch 51/500\n",
            "2/2 - 0s - loss: 11.5958 - mae: 11.5958 - 9ms/epoch - 4ms/step\n",
            "Epoch 52/500\n",
            "2/2 - 0s - loss: 30.5538 - mae: 30.5538 - 9ms/epoch - 5ms/step\n",
            "Epoch 53/500\n",
            "2/2 - 0s - loss: 14.3541 - mae: 14.3541 - 10ms/epoch - 5ms/step\n",
            "Epoch 54/500\n",
            "2/2 - 0s - loss: 23.9713 - mae: 23.9713 - 8ms/epoch - 4ms/step\n",
            "Epoch 55/500\n",
            "2/2 - 0s - loss: 23.1938 - mae: 23.1938 - 8ms/epoch - 4ms/step\n",
            "Epoch 56/500\n",
            "2/2 - 0s - loss: 10.8837 - mae: 10.8837 - 8ms/epoch - 4ms/step\n",
            "Epoch 57/500\n",
            "2/2 - 0s - loss: 12.7445 - mae: 12.7445 - 8ms/epoch - 4ms/step\n",
            "Epoch 58/500\n",
            "2/2 - 0s - loss: 9.5995 - mae: 9.5995 - 7ms/epoch - 4ms/step\n",
            "Epoch 59/500\n",
            "2/2 - 0s - loss: 12.5172 - mae: 12.5172 - 8ms/epoch - 4ms/step\n",
            "Epoch 60/500\n",
            "2/2 - 0s - loss: 12.3200 - mae: 12.3200 - 7ms/epoch - 4ms/step\n",
            "Epoch 61/500\n",
            "2/2 - 0s - loss: 17.4604 - mae: 17.4604 - 9ms/epoch - 4ms/step\n",
            "Epoch 62/500\n",
            "2/2 - 0s - loss: 10.6052 - mae: 10.6052 - 9ms/epoch - 4ms/step\n",
            "Epoch 63/500\n",
            "2/2 - 0s - loss: 10.4893 - mae: 10.4893 - 8ms/epoch - 4ms/step\n",
            "Epoch 64/500\n",
            "2/2 - 0s - loss: 24.8450 - mae: 24.8450 - 7ms/epoch - 4ms/step\n",
            "Epoch 65/500\n",
            "2/2 - 0s - loss: 10.6761 - mae: 10.6761 - 7ms/epoch - 4ms/step\n",
            "Epoch 66/500\n",
            "2/2 - 0s - loss: 21.7809 - mae: 21.7809 - 7ms/epoch - 3ms/step\n",
            "Epoch 67/500\n",
            "2/2 - 0s - loss: 10.7136 - mae: 10.7136 - 8ms/epoch - 4ms/step\n",
            "Epoch 68/500\n",
            "2/2 - 0s - loss: 10.6397 - mae: 10.6397 - 10ms/epoch - 5ms/step\n",
            "Epoch 69/500\n",
            "2/2 - 0s - loss: 22.6914 - mae: 22.6914 - 8ms/epoch - 4ms/step\n",
            "Epoch 70/500\n",
            "2/2 - 0s - loss: 9.3316 - mae: 9.3316 - 8ms/epoch - 4ms/step\n",
            "Epoch 71/500\n",
            "2/2 - 0s - loss: 15.4355 - mae: 15.4355 - 8ms/epoch - 4ms/step\n",
            "Epoch 72/500\n",
            "2/2 - 0s - loss: 6.7437 - mae: 6.7437 - 7ms/epoch - 4ms/step\n",
            "Epoch 73/500\n",
            "2/2 - 0s - loss: 11.6891 - mae: 11.6891 - 8ms/epoch - 4ms/step\n",
            "Epoch 74/500\n",
            "2/2 - 0s - loss: 24.0400 - mae: 24.0400 - 7ms/epoch - 4ms/step\n",
            "Epoch 75/500\n",
            "2/2 - 0s - loss: 9.5896 - mae: 9.5896 - 8ms/epoch - 4ms/step\n",
            "Epoch 76/500\n",
            "2/2 - 0s - loss: 12.4371 - mae: 12.4371 - 7ms/epoch - 4ms/step\n",
            "Epoch 77/500\n",
            "2/2 - 0s - loss: 16.6488 - mae: 16.6488 - 7ms/epoch - 4ms/step\n",
            "Epoch 78/500\n",
            "2/2 - 0s - loss: 9.0614 - mae: 9.0614 - 13ms/epoch - 7ms/step\n",
            "Epoch 79/500\n",
            "2/2 - 0s - loss: 23.9675 - mae: 23.9675 - 10ms/epoch - 5ms/step\n",
            "Epoch 80/500\n",
            "2/2 - 0s - loss: 26.7463 - mae: 26.7463 - 8ms/epoch - 4ms/step\n",
            "Epoch 81/500\n",
            "2/2 - 0s - loss: 11.6714 - mae: 11.6714 - 7ms/epoch - 4ms/step\n",
            "Epoch 82/500\n",
            "2/2 - 0s - loss: 12.0228 - mae: 12.0228 - 8ms/epoch - 4ms/step\n",
            "Epoch 83/500\n",
            "2/2 - 0s - loss: 17.4218 - mae: 17.4218 - 8ms/epoch - 4ms/step\n",
            "Epoch 84/500\n",
            "2/2 - 0s - loss: 7.2629 - mae: 7.2629 - 8ms/epoch - 4ms/step\n",
            "Epoch 85/500\n",
            "2/2 - 0s - loss: 14.9650 - mae: 14.9650 - 11ms/epoch - 5ms/step\n",
            "Epoch 86/500\n",
            "2/2 - 0s - loss: 15.2862 - mae: 15.2862 - 8ms/epoch - 4ms/step\n",
            "Epoch 87/500\n",
            "2/2 - 0s - loss: 19.1086 - mae: 19.1086 - 9ms/epoch - 4ms/step\n",
            "Epoch 88/500\n",
            "2/2 - 0s - loss: 29.8228 - mae: 29.8228 - 9ms/epoch - 4ms/step\n",
            "Epoch 89/500\n",
            "2/2 - 0s - loss: 10.1742 - mae: 10.1742 - 8ms/epoch - 4ms/step\n",
            "Epoch 90/500\n",
            "2/2 - 0s - loss: 21.5240 - mae: 21.5240 - 8ms/epoch - 4ms/step\n",
            "Epoch 91/500\n",
            "2/2 - 0s - loss: 10.5716 - mae: 10.5716 - 8ms/epoch - 4ms/step\n",
            "Epoch 92/500\n",
            "2/2 - 0s - loss: 18.3977 - mae: 18.3977 - 10ms/epoch - 5ms/step\n",
            "Epoch 93/500\n",
            "2/2 - 0s - loss: 7.4138 - mae: 7.4138 - 11ms/epoch - 5ms/step\n",
            "Epoch 94/500\n",
            "2/2 - 0s - loss: 17.7380 - mae: 17.7380 - 12ms/epoch - 6ms/step\n",
            "Epoch 95/500\n",
            "2/2 - 0s - loss: 11.1144 - mae: 11.1144 - 8ms/epoch - 4ms/step\n",
            "Epoch 96/500\n",
            "2/2 - 0s - loss: 19.4346 - mae: 19.4346 - 8ms/epoch - 4ms/step\n",
            "Epoch 97/500\n",
            "2/2 - 0s - loss: 12.1593 - mae: 12.1593 - 8ms/epoch - 4ms/step\n",
            "Epoch 98/500\n",
            "2/2 - 0s - loss: 11.5653 - mae: 11.5653 - 8ms/epoch - 4ms/step\n",
            "Epoch 99/500\n",
            "2/2 - 0s - loss: 13.8827 - mae: 13.8827 - 8ms/epoch - 4ms/step\n",
            "Epoch 100/500\n",
            "2/2 - 0s - loss: 20.2277 - mae: 20.2277 - 8ms/epoch - 4ms/step\n",
            "Epoch 101/500\n",
            "2/2 - 0s - loss: 11.4479 - mae: 11.4479 - 8ms/epoch - 4ms/step\n",
            "Epoch 102/500\n",
            "2/2 - 0s - loss: 17.4842 - mae: 17.4842 - 8ms/epoch - 4ms/step\n",
            "Epoch 103/500\n",
            "2/2 - 0s - loss: 7.0217 - mae: 7.0217 - 8ms/epoch - 4ms/step\n",
            "Epoch 104/500\n",
            "2/2 - 0s - loss: 23.5789 - mae: 23.5789 - 7ms/epoch - 4ms/step\n",
            "Epoch 105/500\n",
            "2/2 - 0s - loss: 16.8932 - mae: 16.8932 - 8ms/epoch - 4ms/step\n",
            "Epoch 106/500\n",
            "2/2 - 0s - loss: 9.2954 - mae: 9.2954 - 8ms/epoch - 4ms/step\n",
            "Epoch 107/500\n",
            "2/2 - 0s - loss: 25.3749 - mae: 25.3749 - 8ms/epoch - 4ms/step\n",
            "Epoch 108/500\n",
            "2/2 - 0s - loss: 13.4621 - mae: 13.4621 - 8ms/epoch - 4ms/step\n",
            "Epoch 109/500\n",
            "2/2 - 0s - loss: 9.5238 - mae: 9.5238 - 7ms/epoch - 4ms/step\n",
            "Epoch 110/500\n",
            "2/2 - 0s - loss: 9.6722 - mae: 9.6722 - 8ms/epoch - 4ms/step\n",
            "Epoch 111/500\n",
            "2/2 - 0s - loss: 14.5987 - mae: 14.5987 - 8ms/epoch - 4ms/step\n",
            "Epoch 112/500\n",
            "2/2 - 0s - loss: 9.5670 - mae: 9.5670 - 9ms/epoch - 4ms/step\n",
            "Epoch 113/500\n",
            "2/2 - 0s - loss: 17.8092 - mae: 17.8092 - 8ms/epoch - 4ms/step\n",
            "Epoch 114/500\n",
            "2/2 - 0s - loss: 17.1782 - mae: 17.1782 - 8ms/epoch - 4ms/step\n",
            "Epoch 115/500\n",
            "2/2 - 0s - loss: 11.1182 - mae: 11.1182 - 8ms/epoch - 4ms/step\n",
            "Epoch 116/500\n",
            "2/2 - 0s - loss: 23.3071 - mae: 23.3071 - 8ms/epoch - 4ms/step\n",
            "Epoch 117/500\n",
            "2/2 - 0s - loss: 9.6144 - mae: 9.6144 - 8ms/epoch - 4ms/step\n",
            "Epoch 118/500\n",
            "2/2 - 0s - loss: 10.6899 - mae: 10.6899 - 8ms/epoch - 4ms/step\n",
            "Epoch 119/500\n",
            "2/2 - 0s - loss: 8.0355 - mae: 8.0355 - 8ms/epoch - 4ms/step\n",
            "Epoch 120/500\n",
            "2/2 - 0s - loss: 29.6859 - mae: 29.6859 - 8ms/epoch - 4ms/step\n",
            "Epoch 121/500\n",
            "2/2 - 0s - loss: 8.0714 - mae: 8.0714 - 8ms/epoch - 4ms/step\n",
            "Epoch 122/500\n",
            "2/2 - 0s - loss: 28.3086 - mae: 28.3086 - 9ms/epoch - 5ms/step\n",
            "Epoch 123/500\n",
            "2/2 - 0s - loss: 32.9014 - mae: 32.9014 - 8ms/epoch - 4ms/step\n",
            "Epoch 124/500\n",
            "2/2 - 0s - loss: 19.6291 - mae: 19.6291 - 8ms/epoch - 4ms/step\n",
            "Epoch 125/500\n",
            "2/2 - 0s - loss: 7.0095 - mae: 7.0095 - 8ms/epoch - 4ms/step\n",
            "Epoch 126/500\n",
            "2/2 - 0s - loss: 21.8056 - mae: 21.8056 - 8ms/epoch - 4ms/step\n",
            "Epoch 127/500\n",
            "2/2 - 0s - loss: 7.9812 - mae: 7.9812 - 8ms/epoch - 4ms/step\n",
            "Epoch 128/500\n",
            "2/2 - 0s - loss: 21.0585 - mae: 21.0585 - 9ms/epoch - 5ms/step\n",
            "Epoch 129/500\n",
            "2/2 - 0s - loss: 9.0107 - mae: 9.0107 - 7ms/epoch - 4ms/step\n",
            "Epoch 130/500\n",
            "2/2 - 0s - loss: 24.0502 - mae: 24.0502 - 8ms/epoch - 4ms/step\n",
            "Epoch 131/500\n",
            "2/2 - 0s - loss: 9.7537 - mae: 9.7537 - 8ms/epoch - 4ms/step\n",
            "Epoch 132/500\n",
            "2/2 - 0s - loss: 18.3052 - mae: 18.3052 - 8ms/epoch - 4ms/step\n",
            "Epoch 133/500\n",
            "2/2 - 0s - loss: 7.5833 - mae: 7.5833 - 8ms/epoch - 4ms/step\n",
            "Epoch 134/500\n",
            "2/2 - 0s - loss: 18.5755 - mae: 18.5755 - 8ms/epoch - 4ms/step\n",
            "Epoch 135/500\n",
            "2/2 - 0s - loss: 10.5360 - mae: 10.5360 - 8ms/epoch - 4ms/step\n",
            "Epoch 136/500\n",
            "2/2 - 0s - loss: 18.2694 - mae: 18.2694 - 8ms/epoch - 4ms/step\n",
            "Epoch 137/500\n",
            "2/2 - 0s - loss: 23.1658 - mae: 23.1658 - 9ms/epoch - 5ms/step\n",
            "Epoch 138/500\n",
            "2/2 - 0s - loss: 9.1362 - mae: 9.1362 - 8ms/epoch - 4ms/step\n",
            "Epoch 139/500\n",
            "2/2 - 0s - loss: 8.9181 - mae: 8.9181 - 8ms/epoch - 4ms/step\n",
            "Epoch 140/500\n",
            "2/2 - 0s - loss: 16.4732 - mae: 16.4732 - 8ms/epoch - 4ms/step\n",
            "Epoch 141/500\n",
            "2/2 - 0s - loss: 8.4208 - mae: 8.4208 - 8ms/epoch - 4ms/step\n",
            "Epoch 142/500\n",
            "2/2 - 0s - loss: 36.9540 - mae: 36.9540 - 8ms/epoch - 4ms/step\n",
            "Epoch 143/500\n",
            "2/2 - 0s - loss: 25.5820 - mae: 25.5820 - 9ms/epoch - 4ms/step\n",
            "Epoch 144/500\n",
            "2/2 - 0s - loss: 9.5392 - mae: 9.5392 - 8ms/epoch - 4ms/step\n",
            "Epoch 145/500\n",
            "2/2 - 0s - loss: 26.6058 - mae: 26.6058 - 9ms/epoch - 4ms/step\n",
            "Epoch 146/500\n",
            "2/2 - 0s - loss: 8.7248 - mae: 8.7248 - 8ms/epoch - 4ms/step\n",
            "Epoch 147/500\n",
            "2/2 - 0s - loss: 15.6172 - mae: 15.6172 - 8ms/epoch - 4ms/step\n",
            "Epoch 148/500\n",
            "2/2 - 0s - loss: 18.3065 - mae: 18.3065 - 8ms/epoch - 4ms/step\n",
            "Epoch 149/500\n",
            "2/2 - 0s - loss: 8.1994 - mae: 8.1994 - 8ms/epoch - 4ms/step\n",
            "Epoch 150/500\n",
            "2/2 - 0s - loss: 7.4964 - mae: 7.4964 - 8ms/epoch - 4ms/step\n",
            "Epoch 151/500\n",
            "2/2 - 0s - loss: 18.3374 - mae: 18.3374 - 10ms/epoch - 5ms/step\n",
            "Epoch 152/500\n",
            "2/2 - 0s - loss: 10.2895 - mae: 10.2895 - 8ms/epoch - 4ms/step\n",
            "Epoch 153/500\n",
            "2/2 - 0s - loss: 29.6425 - mae: 29.6425 - 8ms/epoch - 4ms/step\n",
            "Epoch 154/500\n",
            "2/2 - 0s - loss: 10.5555 - mae: 10.5555 - 9ms/epoch - 4ms/step\n",
            "Epoch 155/500\n",
            "2/2 - 0s - loss: 15.4537 - mae: 15.4537 - 6ms/epoch - 3ms/step\n",
            "Epoch 156/500\n",
            "2/2 - 0s - loss: 17.0174 - mae: 17.0174 - 7ms/epoch - 4ms/step\n",
            "Epoch 157/500\n",
            "2/2 - 0s - loss: 32.8218 - mae: 32.8218 - 8ms/epoch - 4ms/step\n",
            "Epoch 158/500\n",
            "2/2 - 0s - loss: 10.7038 - mae: 10.7038 - 9ms/epoch - 5ms/step\n",
            "Epoch 159/500\n",
            "2/2 - 0s - loss: 8.9054 - mae: 8.9054 - 9ms/epoch - 5ms/step\n",
            "Epoch 160/500\n",
            "2/2 - 0s - loss: 22.1321 - mae: 22.1321 - 10ms/epoch - 5ms/step\n",
            "Epoch 161/500\n",
            "2/2 - 0s - loss: 11.7113 - mae: 11.7113 - 8ms/epoch - 4ms/step\n",
            "Epoch 162/500\n",
            "2/2 - 0s - loss: 21.5734 - mae: 21.5734 - 8ms/epoch - 4ms/step\n",
            "Epoch 163/500\n",
            "2/2 - 0s - loss: 19.2485 - mae: 19.2485 - 8ms/epoch - 4ms/step\n",
            "Epoch 164/500\n",
            "2/2 - 0s - loss: 11.0156 - mae: 11.0156 - 8ms/epoch - 4ms/step\n",
            "Epoch 165/500\n",
            "2/2 - 0s - loss: 9.6187 - mae: 9.6187 - 8ms/epoch - 4ms/step\n",
            "Epoch 166/500\n",
            "2/2 - 0s - loss: 21.5908 - mae: 21.5908 - 8ms/epoch - 4ms/step\n",
            "Epoch 167/500\n",
            "2/2 - 0s - loss: 26.2851 - mae: 26.2851 - 8ms/epoch - 4ms/step\n",
            "Epoch 168/500\n",
            "2/2 - 0s - loss: 9.8525 - mae: 9.8525 - 8ms/epoch - 4ms/step\n",
            "Epoch 169/500\n",
            "2/2 - 0s - loss: 22.5631 - mae: 22.5631 - 8ms/epoch - 4ms/step\n",
            "Epoch 170/500\n",
            "2/2 - 0s - loss: 10.1499 - mae: 10.1499 - 8ms/epoch - 4ms/step\n",
            "Epoch 171/500\n",
            "2/2 - 0s - loss: 18.0464 - mae: 18.0464 - 8ms/epoch - 4ms/step\n",
            "Epoch 172/500\n",
            "2/2 - 0s - loss: 28.8377 - mae: 28.8377 - 8ms/epoch - 4ms/step\n",
            "Epoch 173/500\n",
            "2/2 - 0s - loss: 16.5279 - mae: 16.5279 - 8ms/epoch - 4ms/step\n",
            "Epoch 174/500\n",
            "2/2 - 0s - loss: 11.2115 - mae: 11.2115 - 9ms/epoch - 4ms/step\n",
            "Epoch 175/500\n",
            "2/2 - 0s - loss: 27.5839 - mae: 27.5839 - 9ms/epoch - 4ms/step\n",
            "Epoch 176/500\n",
            "2/2 - 0s - loss: 8.2680 - mae: 8.2680 - 9ms/epoch - 4ms/step\n",
            "Epoch 177/500\n",
            "2/2 - 0s - loss: 9.2580 - mae: 9.2580 - 10ms/epoch - 5ms/step\n",
            "Epoch 178/500\n",
            "2/2 - 0s - loss: 18.1440 - mae: 18.1440 - 10ms/epoch - 5ms/step\n",
            "Epoch 179/500\n",
            "2/2 - 0s - loss: 10.5995 - mae: 10.5995 - 9ms/epoch - 4ms/step\n",
            "Epoch 180/500\n",
            "2/2 - 0s - loss: 7.8992 - mae: 7.8992 - 9ms/epoch - 4ms/step\n",
            "Epoch 181/500\n",
            "2/2 - 0s - loss: 17.4015 - mae: 17.4015 - 18ms/epoch - 9ms/step\n",
            "Epoch 182/500\n",
            "2/2 - 0s - loss: 11.0089 - mae: 11.0089 - 12ms/epoch - 6ms/step\n",
            "Epoch 183/500\n",
            "2/2 - 0s - loss: 11.7027 - mae: 11.7027 - 8ms/epoch - 4ms/step\n",
            "Epoch 184/500\n",
            "2/2 - 0s - loss: 30.4062 - mae: 30.4062 - 9ms/epoch - 5ms/step\n",
            "Epoch 185/500\n",
            "2/2 - 0s - loss: 7.5557 - mae: 7.5557 - 7ms/epoch - 3ms/step\n",
            "Epoch 186/500\n",
            "2/2 - 0s - loss: 15.9905 - mae: 15.9905 - 7ms/epoch - 3ms/step\n",
            "Epoch 187/500\n",
            "2/2 - 0s - loss: 8.5579 - mae: 8.5579 - 8ms/epoch - 4ms/step\n",
            "Epoch 188/500\n",
            "2/2 - 0s - loss: 28.7339 - mae: 28.7339 - 7ms/epoch - 3ms/step\n",
            "Epoch 189/500\n",
            "2/2 - 0s - loss: 13.1689 - mae: 13.1689 - 8ms/epoch - 4ms/step\n",
            "Epoch 190/500\n",
            "2/2 - 0s - loss: 18.3101 - mae: 18.3101 - 8ms/epoch - 4ms/step\n",
            "Epoch 191/500\n",
            "2/2 - 0s - loss: 13.7376 - mae: 13.7376 - 7ms/epoch - 3ms/step\n",
            "Epoch 192/500\n",
            "2/2 - 0s - loss: 13.7104 - mae: 13.7104 - 7ms/epoch - 3ms/step\n",
            "Epoch 193/500\n",
            "2/2 - 0s - loss: 28.5842 - mae: 28.5842 - 8ms/epoch - 4ms/step\n",
            "Epoch 194/500\n",
            "2/2 - 0s - loss: 7.0707 - mae: 7.0707 - 7ms/epoch - 3ms/step\n",
            "Epoch 195/500\n",
            "2/2 - 0s - loss: 7.0550 - mae: 7.0550 - 7ms/epoch - 3ms/step\n",
            "Epoch 196/500\n",
            "2/2 - 0s - loss: 22.0067 - mae: 22.0067 - 8ms/epoch - 4ms/step\n",
            "Epoch 197/500\n",
            "2/2 - 0s - loss: 20.8443 - mae: 20.8443 - 7ms/epoch - 3ms/step\n",
            "Epoch 198/500\n",
            "2/2 - 0s - loss: 12.4713 - mae: 12.4713 - 6ms/epoch - 3ms/step\n",
            "Epoch 199/500\n",
            "2/2 - 0s - loss: 17.9099 - mae: 17.9099 - 9ms/epoch - 4ms/step\n",
            "Epoch 200/500\n",
            "2/2 - 0s - loss: 13.7493 - mae: 13.7493 - 8ms/epoch - 4ms/step\n",
            "Epoch 201/500\n",
            "2/2 - 0s - loss: 5.4687 - mae: 5.4687 - 7ms/epoch - 4ms/step\n",
            "Epoch 202/500\n",
            "2/2 - 0s - loss: 13.7005 - mae: 13.7005 - 8ms/epoch - 4ms/step\n",
            "Epoch 203/500\n",
            "2/2 - 0s - loss: 9.4142 - mae: 9.4142 - 7ms/epoch - 3ms/step\n",
            "Epoch 204/500\n",
            "2/2 - 0s - loss: 20.9796 - mae: 20.9796 - 9ms/epoch - 5ms/step\n",
            "Epoch 205/500\n",
            "2/2 - 0s - loss: 9.5470 - mae: 9.5470 - 8ms/epoch - 4ms/step\n",
            "Epoch 206/500\n",
            "2/2 - 0s - loss: 11.7256 - mae: 11.7256 - 8ms/epoch - 4ms/step\n",
            "Epoch 207/500\n",
            "2/2 - 0s - loss: 14.3772 - mae: 14.3772 - 9ms/epoch - 4ms/step\n",
            "Epoch 208/500\n",
            "2/2 - 0s - loss: 14.8579 - mae: 14.8579 - 9ms/epoch - 4ms/step\n",
            "Epoch 209/500\n",
            "2/2 - 0s - loss: 14.9706 - mae: 14.9706 - 8ms/epoch - 4ms/step\n",
            "Epoch 210/500\n",
            "2/2 - 0s - loss: 17.8998 - mae: 17.8998 - 9ms/epoch - 4ms/step\n",
            "Epoch 211/500\n",
            "2/2 - 0s - loss: 9.8327 - mae: 9.8327 - 7ms/epoch - 3ms/step\n",
            "Epoch 212/500\n",
            "2/2 - 0s - loss: 18.3352 - mae: 18.3352 - 9ms/epoch - 5ms/step\n",
            "Epoch 213/500\n",
            "2/2 - 0s - loss: 15.0383 - mae: 15.0383 - 7ms/epoch - 4ms/step\n",
            "Epoch 214/500\n",
            "2/2 - 0s - loss: 14.5874 - mae: 14.5874 - 6ms/epoch - 3ms/step\n",
            "Epoch 215/500\n",
            "2/2 - 0s - loss: 23.3015 - mae: 23.3015 - 10ms/epoch - 5ms/step\n",
            "Epoch 216/500\n",
            "2/2 - 0s - loss: 13.3613 - mae: 13.3613 - 12ms/epoch - 6ms/step\n",
            "Epoch 217/500\n",
            "2/2 - 0s - loss: 9.8517 - mae: 9.8517 - 10ms/epoch - 5ms/step\n",
            "Epoch 218/500\n",
            "2/2 - 0s - loss: 12.5451 - mae: 12.5451 - 14ms/epoch - 7ms/step\n",
            "Epoch 219/500\n",
            "2/2 - 0s - loss: 4.9472 - mae: 4.9472 - 7ms/epoch - 3ms/step\n",
            "Epoch 220/500\n",
            "2/2 - 0s - loss: 7.1130 - mae: 7.1130 - 8ms/epoch - 4ms/step\n",
            "Epoch 221/500\n",
            "2/2 - 0s - loss: 35.4567 - mae: 35.4567 - 8ms/epoch - 4ms/step\n",
            "Epoch 222/500\n",
            "2/2 - 0s - loss: 34.8634 - mae: 34.8634 - 7ms/epoch - 3ms/step\n",
            "Epoch 223/500\n",
            "2/2 - 0s - loss: 7.9846 - mae: 7.9846 - 8ms/epoch - 4ms/step\n",
            "Epoch 224/500\n",
            "2/2 - 0s - loss: 14.7004 - mae: 14.7004 - 8ms/epoch - 4ms/step\n",
            "Epoch 225/500\n",
            "2/2 - 0s - loss: 16.7196 - mae: 16.7196 - 7ms/epoch - 4ms/step\n",
            "Epoch 226/500\n",
            "2/2 - 0s - loss: 15.9329 - mae: 15.9329 - 10ms/epoch - 5ms/step\n",
            "Epoch 227/500\n",
            "2/2 - 0s - loss: 16.1644 - mae: 16.1644 - 8ms/epoch - 4ms/step\n",
            "Epoch 228/500\n",
            "2/2 - 0s - loss: 13.9324 - mae: 13.9324 - 8ms/epoch - 4ms/step\n",
            "Epoch 229/500\n",
            "2/2 - 0s - loss: 18.0504 - mae: 18.0504 - 8ms/epoch - 4ms/step\n",
            "Epoch 230/500\n",
            "2/2 - 0s - loss: 15.6120 - mae: 15.6120 - 8ms/epoch - 4ms/step\n",
            "Epoch 231/500\n",
            "2/2 - 0s - loss: 21.2041 - mae: 21.2041 - 6ms/epoch - 3ms/step\n",
            "Epoch 232/500\n",
            "2/2 - 0s - loss: 25.2732 - mae: 25.2732 - 8ms/epoch - 4ms/step\n",
            "Epoch 233/500\n",
            "2/2 - 0s - loss: 16.3176 - mae: 16.3176 - 9ms/epoch - 5ms/step\n",
            "Epoch 234/500\n",
            "2/2 - 0s - loss: 7.2729 - mae: 7.2729 - 8ms/epoch - 4ms/step\n",
            "Epoch 235/500\n",
            "2/2 - 0s - loss: 16.9688 - mae: 16.9688 - 13ms/epoch - 7ms/step\n",
            "Epoch 236/500\n",
            "2/2 - 0s - loss: 7.1225 - mae: 7.1225 - 9ms/epoch - 5ms/step\n",
            "Epoch 237/500\n",
            "2/2 - 0s - loss: 9.2058 - mae: 9.2058 - 7ms/epoch - 3ms/step\n",
            "Epoch 238/500\n",
            "2/2 - 0s - loss: 8.0961 - mae: 8.0961 - 11ms/epoch - 5ms/step\n",
            "Epoch 239/500\n",
            "2/2 - 0s - loss: 17.0538 - mae: 17.0538 - 19ms/epoch - 9ms/step\n",
            "Epoch 240/500\n",
            "2/2 - 0s - loss: 8.8627 - mae: 8.8627 - 10ms/epoch - 5ms/step\n",
            "Epoch 241/500\n",
            "2/2 - 0s - loss: 13.1711 - mae: 13.1711 - 10ms/epoch - 5ms/step\n",
            "Epoch 242/500\n",
            "2/2 - 0s - loss: 8.7886 - mae: 8.7886 - 14ms/epoch - 7ms/step\n",
            "Epoch 243/500\n",
            "2/2 - 0s - loss: 18.8161 - mae: 18.8161 - 10ms/epoch - 5ms/step\n",
            "Epoch 244/500\n",
            "2/2 - 0s - loss: 14.0531 - mae: 14.0531 - 10ms/epoch - 5ms/step\n",
            "Epoch 245/500\n",
            "2/2 - 0s - loss: 14.6831 - mae: 14.6831 - 12ms/epoch - 6ms/step\n",
            "Epoch 246/500\n",
            "2/2 - 0s - loss: 15.8045 - mae: 15.8045 - 11ms/epoch - 5ms/step\n",
            "Epoch 247/500\n",
            "2/2 - 0s - loss: 17.6810 - mae: 17.6810 - 11ms/epoch - 6ms/step\n",
            "Epoch 248/500\n",
            "2/2 - 0s - loss: 13.2367 - mae: 13.2367 - 14ms/epoch - 7ms/step\n",
            "Epoch 249/500\n",
            "2/2 - 0s - loss: 14.5070 - mae: 14.5070 - 12ms/epoch - 6ms/step\n",
            "Epoch 250/500\n",
            "2/2 - 0s - loss: 23.2322 - mae: 23.2322 - 21ms/epoch - 11ms/step\n",
            "Epoch 251/500\n",
            "2/2 - 0s - loss: 9.3009 - mae: 9.3009 - 9ms/epoch - 5ms/step\n",
            "Epoch 252/500\n",
            "2/2 - 0s - loss: 36.6568 - mae: 36.6568 - 15ms/epoch - 7ms/step\n",
            "Epoch 253/500\n",
            "2/2 - 0s - loss: 21.8205 - mae: 21.8205 - 9ms/epoch - 5ms/step\n",
            "Epoch 254/500\n",
            "2/2 - 0s - loss: 7.2792 - mae: 7.2792 - 9ms/epoch - 4ms/step\n",
            "Epoch 255/500\n",
            "2/2 - 0s - loss: 24.7126 - mae: 24.7126 - 12ms/epoch - 6ms/step\n",
            "Epoch 256/500\n",
            "2/2 - 0s - loss: 12.4220 - mae: 12.4220 - 9ms/epoch - 4ms/step\n",
            "Epoch 257/500\n",
            "2/2 - 0s - loss: 10.5823 - mae: 10.5823 - 11ms/epoch - 6ms/step\n",
            "Epoch 258/500\n",
            "2/2 - 0s - loss: 14.4883 - mae: 14.4883 - 10ms/epoch - 5ms/step\n",
            "Epoch 259/500\n",
            "2/2 - 0s - loss: 8.6132 - mae: 8.6132 - 9ms/epoch - 5ms/step\n",
            "Epoch 260/500\n",
            "2/2 - 0s - loss: 43.0580 - mae: 43.0580 - 8ms/epoch - 4ms/step\n",
            "Epoch 261/500\n",
            "2/2 - 0s - loss: 18.4611 - mae: 18.4611 - 9ms/epoch - 4ms/step\n",
            "Epoch 262/500\n",
            "2/2 - 0s - loss: 6.8820 - mae: 6.8820 - 16ms/epoch - 8ms/step\n",
            "Epoch 263/500\n",
            "2/2 - 0s - loss: 13.7211 - mae: 13.7211 - 20ms/epoch - 10ms/step\n",
            "Epoch 264/500\n",
            "2/2 - 0s - loss: 21.0154 - mae: 21.0154 - 9ms/epoch - 5ms/step\n",
            "Epoch 265/500\n",
            "2/2 - 0s - loss: 19.3730 - mae: 19.3730 - 10ms/epoch - 5ms/step\n",
            "Epoch 266/500\n",
            "2/2 - 0s - loss: 11.4735 - mae: 11.4735 - 9ms/epoch - 5ms/step\n",
            "Epoch 267/500\n",
            "2/2 - 0s - loss: 7.5302 - mae: 7.5302 - 10ms/epoch - 5ms/step\n",
            "Epoch 268/500\n",
            "2/2 - 0s - loss: 21.6453 - mae: 21.6453 - 8ms/epoch - 4ms/step\n",
            "Epoch 269/500\n",
            "2/2 - 0s - loss: 33.1784 - mae: 33.1784 - 9ms/epoch - 5ms/step\n",
            "Epoch 270/500\n",
            "2/2 - 0s - loss: 10.0833 - mae: 10.0833 - 12ms/epoch - 6ms/step\n",
            "Epoch 271/500\n",
            "2/2 - 0s - loss: 12.1012 - mae: 12.1012 - 17ms/epoch - 8ms/step\n",
            "Epoch 272/500\n",
            "2/2 - 0s - loss: 26.1372 - mae: 26.1372 - 11ms/epoch - 6ms/step\n",
            "Epoch 273/500\n",
            "2/2 - 0s - loss: 12.1751 - mae: 12.1751 - 11ms/epoch - 6ms/step\n",
            "Epoch 274/500\n",
            "2/2 - 0s - loss: 13.3272 - mae: 13.3272 - 10ms/epoch - 5ms/step\n",
            "Epoch 275/500\n",
            "2/2 - 0s - loss: 29.3775 - mae: 29.3775 - 10ms/epoch - 5ms/step\n",
            "Epoch 276/500\n",
            "2/2 - 0s - loss: 7.3329 - mae: 7.3329 - 11ms/epoch - 6ms/step\n",
            "Epoch 277/500\n",
            "2/2 - 0s - loss: 31.1362 - mae: 31.1362 - 11ms/epoch - 6ms/step\n",
            "Epoch 278/500\n",
            "2/2 - 0s - loss: 12.3016 - mae: 12.3016 - 11ms/epoch - 6ms/step\n",
            "Epoch 279/500\n",
            "2/2 - 0s - loss: 16.4103 - mae: 16.4103 - 15ms/epoch - 8ms/step\n",
            "Epoch 280/500\n",
            "2/2 - 0s - loss: 21.9118 - mae: 21.9118 - 11ms/epoch - 6ms/step\n",
            "Epoch 281/500\n",
            "2/2 - 0s - loss: 22.1500 - mae: 22.1500 - 13ms/epoch - 6ms/step\n",
            "Epoch 282/500\n",
            "2/2 - 0s - loss: 7.7429 - mae: 7.7429 - 10ms/epoch - 5ms/step\n",
            "Epoch 283/500\n",
            "2/2 - 0s - loss: 8.1429 - mae: 8.1429 - 11ms/epoch - 5ms/step\n",
            "Epoch 284/500\n",
            "2/2 - 0s - loss: 24.9434 - mae: 24.9434 - 9ms/epoch - 5ms/step\n",
            "Epoch 285/500\n",
            "2/2 - 0s - loss: 13.6958 - mae: 13.6958 - 10ms/epoch - 5ms/step\n",
            "Epoch 286/500\n",
            "2/2 - 0s - loss: 6.8926 - mae: 6.8926 - 10ms/epoch - 5ms/step\n",
            "Epoch 287/500\n",
            "2/2 - 0s - loss: 24.5352 - mae: 24.5352 - 14ms/epoch - 7ms/step\n",
            "Epoch 288/500\n",
            "2/2 - 0s - loss: 20.1721 - mae: 20.1721 - 9ms/epoch - 5ms/step\n",
            "Epoch 289/500\n",
            "2/2 - 0s - loss: 11.9658 - mae: 11.9658 - 10ms/epoch - 5ms/step\n",
            "Epoch 290/500\n",
            "2/2 - 0s - loss: 16.5391 - mae: 16.5391 - 10ms/epoch - 5ms/step\n",
            "Epoch 291/500\n",
            "2/2 - 0s - loss: 16.8017 - mae: 16.8017 - 11ms/epoch - 6ms/step\n",
            "Epoch 292/500\n",
            "2/2 - 0s - loss: 9.4642 - mae: 9.4642 - 10ms/epoch - 5ms/step\n",
            "Epoch 293/500\n",
            "2/2 - 0s - loss: 15.2711 - mae: 15.2711 - 11ms/epoch - 5ms/step\n",
            "Epoch 294/500\n",
            "2/2 - 0s - loss: 22.7179 - mae: 22.7179 - 11ms/epoch - 6ms/step\n",
            "Epoch 295/500\n",
            "2/2 - 0s - loss: 17.9234 - mae: 17.9234 - 10ms/epoch - 5ms/step\n",
            "Epoch 296/500\n",
            "2/2 - 0s - loss: 6.1742 - mae: 6.1742 - 10ms/epoch - 5ms/step\n",
            "Epoch 297/500\n",
            "2/2 - 0s - loss: 10.9440 - mae: 10.9440 - 11ms/epoch - 5ms/step\n",
            "Epoch 298/500\n",
            "2/2 - 0s - loss: 23.1530 - mae: 23.1530 - 24ms/epoch - 12ms/step\n",
            "Epoch 299/500\n",
            "2/2 - 0s - loss: 17.7331 - mae: 17.7331 - 11ms/epoch - 5ms/step\n",
            "Epoch 300/500\n",
            "2/2 - 0s - loss: 6.9824 - mae: 6.9824 - 14ms/epoch - 7ms/step\n",
            "Epoch 301/500\n",
            "2/2 - 0s - loss: 25.1857 - mae: 25.1857 - 10ms/epoch - 5ms/step\n",
            "Epoch 302/500\n",
            "2/2 - 0s - loss: 8.9025 - mae: 8.9025 - 10ms/epoch - 5ms/step\n",
            "Epoch 303/500\n",
            "2/2 - 0s - loss: 17.7668 - mae: 17.7668 - 12ms/epoch - 6ms/step\n",
            "Epoch 304/500\n",
            "2/2 - 0s - loss: 11.0002 - mae: 11.0002 - 13ms/epoch - 6ms/step\n",
            "Epoch 305/500\n",
            "2/2 - 0s - loss: 12.9191 - mae: 12.9191 - 13ms/epoch - 7ms/step\n",
            "Epoch 306/500\n",
            "2/2 - 0s - loss: 8.4033 - mae: 8.4033 - 13ms/epoch - 6ms/step\n",
            "Epoch 307/500\n",
            "2/2 - 0s - loss: 13.6094 - mae: 13.6094 - 13ms/epoch - 7ms/step\n",
            "Epoch 308/500\n",
            "2/2 - 0s - loss: 7.4404 - mae: 7.4404 - 15ms/epoch - 8ms/step\n",
            "Epoch 309/500\n",
            "2/2 - 0s - loss: 9.4642 - mae: 9.4642 - 15ms/epoch - 8ms/step\n",
            "Epoch 310/500\n",
            "2/2 - 0s - loss: 10.7099 - mae: 10.7099 - 14ms/epoch - 7ms/step\n",
            "Epoch 311/500\n",
            "2/2 - 0s - loss: 13.2814 - mae: 13.2814 - 18ms/epoch - 9ms/step\n",
            "Epoch 312/500\n",
            "2/2 - 0s - loss: 29.9763 - mae: 29.9763 - 16ms/epoch - 8ms/step\n",
            "Epoch 313/500\n",
            "2/2 - 0s - loss: 7.6304 - mae: 7.6304 - 12ms/epoch - 6ms/step\n",
            "Epoch 314/500\n",
            "2/2 - 0s - loss: 9.9106 - mae: 9.9106 - 9ms/epoch - 4ms/step\n",
            "Epoch 315/500\n",
            "2/2 - 0s - loss: 23.7669 - mae: 23.7669 - 9ms/epoch - 4ms/step\n",
            "Epoch 316/500\n",
            "2/2 - 0s - loss: 16.3936 - mae: 16.3936 - 9ms/epoch - 4ms/step\n",
            "Epoch 317/500\n",
            "2/2 - 0s - loss: 21.0758 - mae: 21.0758 - 16ms/epoch - 8ms/step\n",
            "Epoch 318/500\n",
            "2/2 - 0s - loss: 7.9367 - mae: 7.9367 - 14ms/epoch - 7ms/step\n",
            "Epoch 319/500\n",
            "2/2 - 0s - loss: 17.9731 - mae: 17.9731 - 15ms/epoch - 8ms/step\n",
            "Epoch 320/500\n",
            "2/2 - 0s - loss: 10.2375 - mae: 10.2375 - 15ms/epoch - 7ms/step\n",
            "Epoch 321/500\n",
            "2/2 - 0s - loss: 8.3338 - mae: 8.3338 - 12ms/epoch - 6ms/step\n",
            "Epoch 322/500\n",
            "2/2 - 0s - loss: 5.0621 - mae: 5.0621 - 15ms/epoch - 8ms/step\n",
            "Epoch 323/500\n",
            "2/2 - 0s - loss: 23.5109 - mae: 23.5109 - 20ms/epoch - 10ms/step\n",
            "Epoch 324/500\n",
            "2/2 - 0s - loss: 6.8309 - mae: 6.8309 - 12ms/epoch - 6ms/step\n",
            "Epoch 325/500\n",
            "2/2 - 0s - loss: 16.3863 - mae: 16.3863 - 14ms/epoch - 7ms/step\n",
            "Epoch 326/500\n",
            "2/2 - 0s - loss: 7.5019 - mae: 7.5019 - 20ms/epoch - 10ms/step\n",
            "Epoch 327/500\n",
            "2/2 - 0s - loss: 20.0573 - mae: 20.0573 - 28ms/epoch - 14ms/step\n",
            "Epoch 328/500\n",
            "2/2 - 0s - loss: 13.7661 - mae: 13.7661 - 10ms/epoch - 5ms/step\n",
            "Epoch 329/500\n",
            "2/2 - 0s - loss: 16.8282 - mae: 16.8282 - 19ms/epoch - 10ms/step\n",
            "Epoch 330/500\n",
            "2/2 - 0s - loss: 7.0514 - mae: 7.0514 - 16ms/epoch - 8ms/step\n",
            "Epoch 331/500\n",
            "2/2 - 0s - loss: 21.4846 - mae: 21.4846 - 14ms/epoch - 7ms/step\n",
            "Epoch 332/500\n",
            "2/2 - 0s - loss: 12.2880 - mae: 12.2880 - 20ms/epoch - 10ms/step\n",
            "Epoch 333/500\n",
            "2/2 - 0s - loss: 11.8117 - mae: 11.8117 - 14ms/epoch - 7ms/step\n",
            "Epoch 334/500\n",
            "2/2 - 0s - loss: 8.3600 - mae: 8.3600 - 10ms/epoch - 5ms/step\n",
            "Epoch 335/500\n",
            "2/2 - 0s - loss: 12.4833 - mae: 12.4833 - 15ms/epoch - 8ms/step\n",
            "Epoch 336/500\n",
            "2/2 - 0s - loss: 32.2171 - mae: 32.2171 - 15ms/epoch - 7ms/step\n",
            "Epoch 337/500\n",
            "2/2 - 0s - loss: 10.4477 - mae: 10.4477 - 16ms/epoch - 8ms/step\n",
            "Epoch 338/500\n",
            "2/2 - 0s - loss: 19.6832 - mae: 19.6832 - 15ms/epoch - 7ms/step\n",
            "Epoch 339/500\n",
            "2/2 - 0s - loss: 35.0762 - mae: 35.0762 - 9ms/epoch - 4ms/step\n",
            "Epoch 340/500\n",
            "2/2 - 0s - loss: 10.4192 - mae: 10.4192 - 15ms/epoch - 8ms/step\n",
            "Epoch 341/500\n",
            "2/2 - 0s - loss: 9.7625 - mae: 9.7625 - 15ms/epoch - 8ms/step\n",
            "Epoch 342/500\n",
            "2/2 - 0s - loss: 11.9500 - mae: 11.9500 - 20ms/epoch - 10ms/step\n",
            "Epoch 343/500\n",
            "2/2 - 0s - loss: 9.3943 - mae: 9.3943 - 17ms/epoch - 9ms/step\n",
            "Epoch 344/500\n",
            "2/2 - 0s - loss: 5.6071 - mae: 5.6071 - 17ms/epoch - 9ms/step\n",
            "Epoch 345/500\n",
            "2/2 - 0s - loss: 37.4876 - mae: 37.4876 - 26ms/epoch - 13ms/step\n",
            "Epoch 346/500\n",
            "2/2 - 0s - loss: 16.8830 - mae: 16.8830 - 20ms/epoch - 10ms/step\n",
            "Epoch 347/500\n",
            "2/2 - 0s - loss: 12.8748 - mae: 12.8748 - 15ms/epoch - 8ms/step\n",
            "Epoch 348/500\n",
            "2/2 - 0s - loss: 8.1960 - mae: 8.1960 - 19ms/epoch - 9ms/step\n",
            "Epoch 349/500\n",
            "2/2 - 0s - loss: 13.5568 - mae: 13.5568 - 16ms/epoch - 8ms/step\n",
            "Epoch 350/500\n",
            "2/2 - 0s - loss: 15.4354 - mae: 15.4354 - 23ms/epoch - 12ms/step\n",
            "Epoch 351/500\n",
            "2/2 - 0s - loss: 32.9626 - mae: 32.9626 - 21ms/epoch - 10ms/step\n",
            "Epoch 352/500\n",
            "2/2 - 0s - loss: 14.2040 - mae: 14.2040 - 12ms/epoch - 6ms/step\n",
            "Epoch 353/500\n",
            "2/2 - 0s - loss: 15.9196 - mae: 15.9196 - 13ms/epoch - 7ms/step\n",
            "Epoch 354/500\n",
            "2/2 - 0s - loss: 19.0878 - mae: 19.0878 - 11ms/epoch - 5ms/step\n",
            "Epoch 355/500\n",
            "2/2 - 0s - loss: 34.1178 - mae: 34.1178 - 22ms/epoch - 11ms/step\n",
            "Epoch 356/500\n",
            "2/2 - 0s - loss: 7.6798 - mae: 7.6798 - 18ms/epoch - 9ms/step\n",
            "Epoch 357/500\n",
            "2/2 - 0s - loss: 25.2287 - mae: 25.2287 - 16ms/epoch - 8ms/step\n",
            "Epoch 358/500\n",
            "2/2 - 0s - loss: 22.6759 - mae: 22.6759 - 18ms/epoch - 9ms/step\n",
            "Epoch 359/500\n",
            "2/2 - 0s - loss: 8.8765 - mae: 8.8765 - 18ms/epoch - 9ms/step\n",
            "Epoch 360/500\n",
            "2/2 - 0s - loss: 21.4709 - mae: 21.4709 - 13ms/epoch - 6ms/step\n",
            "Epoch 361/500\n",
            "2/2 - 0s - loss: 20.6073 - mae: 20.6073 - 19ms/epoch - 9ms/step\n",
            "Epoch 362/500\n",
            "2/2 - 0s - loss: 7.0611 - mae: 7.0611 - 18ms/epoch - 9ms/step\n",
            "Epoch 363/500\n",
            "2/2 - 0s - loss: 25.8117 - mae: 25.8117 - 17ms/epoch - 9ms/step\n",
            "Epoch 364/500\n",
            "2/2 - 0s - loss: 32.2247 - mae: 32.2247 - 11ms/epoch - 5ms/step\n",
            "Epoch 365/500\n",
            "2/2 - 0s - loss: 10.0205 - mae: 10.0205 - 20ms/epoch - 10ms/step\n",
            "Epoch 366/500\n",
            "2/2 - 0s - loss: 9.6722 - mae: 9.6722 - 18ms/epoch - 9ms/step\n",
            "Epoch 367/500\n",
            "2/2 - 0s - loss: 30.4171 - mae: 30.4171 - 23ms/epoch - 11ms/step\n",
            "Epoch 368/500\n",
            "2/2 - 0s - loss: 10.5020 - mae: 10.5020 - 15ms/epoch - 7ms/step\n",
            "Epoch 369/500\n",
            "2/2 - 0s - loss: 14.9909 - mae: 14.9909 - 23ms/epoch - 12ms/step\n",
            "Epoch 370/500\n",
            "2/2 - 0s - loss: 14.6580 - mae: 14.6580 - 15ms/epoch - 7ms/step\n",
            "Epoch 371/500\n",
            "2/2 - 0s - loss: 23.3672 - mae: 23.3672 - 13ms/epoch - 6ms/step\n",
            "Epoch 372/500\n",
            "2/2 - 0s - loss: 13.1025 - mae: 13.1025 - 20ms/epoch - 10ms/step\n",
            "Epoch 373/500\n",
            "2/2 - 0s - loss: 9.2586 - mae: 9.2586 - 16ms/epoch - 8ms/step\n",
            "Epoch 374/500\n",
            "2/2 - 0s - loss: 9.6648 - mae: 9.6648 - 14ms/epoch - 7ms/step\n",
            "Epoch 375/500\n",
            "2/2 - 0s - loss: 13.0041 - mae: 13.0041 - 10ms/epoch - 5ms/step\n",
            "Epoch 376/500\n",
            "2/2 - 0s - loss: 14.8863 - mae: 14.8863 - 10ms/epoch - 5ms/step\n",
            "Epoch 377/500\n",
            "2/2 - 0s - loss: 14.7932 - mae: 14.7932 - 15ms/epoch - 7ms/step\n",
            "Epoch 378/500\n",
            "2/2 - 0s - loss: 16.2751 - mae: 16.2751 - 16ms/epoch - 8ms/step\n",
            "Epoch 379/500\n",
            "2/2 - 0s - loss: 20.8307 - mae: 20.8307 - 15ms/epoch - 7ms/step\n",
            "Epoch 380/500\n",
            "2/2 - 0s - loss: 33.5318 - mae: 33.5318 - 9ms/epoch - 4ms/step\n",
            "Epoch 381/500\n",
            "2/2 - 0s - loss: 8.2166 - mae: 8.2166 - 11ms/epoch - 6ms/step\n",
            "Epoch 382/500\n",
            "2/2 - 0s - loss: 13.0960 - mae: 13.0960 - 14ms/epoch - 7ms/step\n",
            "Epoch 383/500\n",
            "2/2 - 0s - loss: 8.3999 - mae: 8.3999 - 14ms/epoch - 7ms/step\n",
            "Epoch 384/500\n",
            "2/2 - 0s - loss: 7.1283 - mae: 7.1283 - 24ms/epoch - 12ms/step\n",
            "Epoch 385/500\n",
            "2/2 - 0s - loss: 10.9390 - mae: 10.9390 - 14ms/epoch - 7ms/step\n",
            "Epoch 386/500\n",
            "2/2 - 0s - loss: 19.7654 - mae: 19.7654 - 12ms/epoch - 6ms/step\n",
            "Epoch 387/500\n",
            "2/2 - 0s - loss: 24.8625 - mae: 24.8625 - 13ms/epoch - 6ms/step\n",
            "Epoch 388/500\n",
            "2/2 - 0s - loss: 8.7422 - mae: 8.7422 - 20ms/epoch - 10ms/step\n",
            "Epoch 389/500\n",
            "2/2 - 0s - loss: 5.9488 - mae: 5.9488 - 16ms/epoch - 8ms/step\n",
            "Epoch 390/500\n",
            "2/2 - 0s - loss: 24.4401 - mae: 24.4401 - 21ms/epoch - 11ms/step\n",
            "Epoch 391/500\n",
            "2/2 - 0s - loss: 5.9771 - mae: 5.9771 - 18ms/epoch - 9ms/step\n",
            "Epoch 392/500\n",
            "2/2 - 0s - loss: 16.3250 - mae: 16.3250 - 17ms/epoch - 9ms/step\n",
            "Epoch 393/500\n",
            "2/2 - 0s - loss: 6.0917 - mae: 6.0917 - 17ms/epoch - 8ms/step\n",
            "Epoch 394/500\n",
            "2/2 - 0s - loss: 11.0963 - mae: 11.0963 - 16ms/epoch - 8ms/step\n",
            "Epoch 395/500\n",
            "2/2 - 0s - loss: 14.9601 - mae: 14.9601 - 15ms/epoch - 8ms/step\n",
            "Epoch 396/500\n",
            "2/2 - 0s - loss: 7.6462 - mae: 7.6462 - 17ms/epoch - 8ms/step\n",
            "Epoch 397/500\n",
            "2/2 - 0s - loss: 8.7654 - mae: 8.7654 - 10ms/epoch - 5ms/step\n",
            "Epoch 398/500\n",
            "2/2 - 0s - loss: 14.5992 - mae: 14.5992 - 15ms/epoch - 7ms/step\n",
            "Epoch 399/500\n",
            "2/2 - 0s - loss: 11.3166 - mae: 11.3166 - 16ms/epoch - 8ms/step\n",
            "Epoch 400/500\n",
            "2/2 - 0s - loss: 21.9080 - mae: 21.9080 - 12ms/epoch - 6ms/step\n",
            "Epoch 401/500\n",
            "2/2 - 0s - loss: 14.8654 - mae: 14.8654 - 13ms/epoch - 7ms/step\n",
            "Epoch 402/500\n",
            "2/2 - 0s - loss: 8.4970 - mae: 8.4970 - 13ms/epoch - 6ms/step\n",
            "Epoch 403/500\n",
            "2/2 - 0s - loss: 10.3957 - mae: 10.3957 - 13ms/epoch - 7ms/step\n",
            "Epoch 404/500\n",
            "2/2 - 0s - loss: 10.2556 - mae: 10.2556 - 18ms/epoch - 9ms/step\n",
            "Epoch 405/500\n",
            "2/2 - 0s - loss: 6.3392 - mae: 6.3392 - 12ms/epoch - 6ms/step\n",
            "Epoch 406/500\n",
            "2/2 - 0s - loss: 17.4602 - mae: 17.4602 - 21ms/epoch - 10ms/step\n",
            "Epoch 407/500\n",
            "2/2 - 0s - loss: 11.4627 - mae: 11.4627 - 13ms/epoch - 7ms/step\n",
            "Epoch 408/500\n",
            "2/2 - 0s - loss: 20.7294 - mae: 20.7294 - 20ms/epoch - 10ms/step\n",
            "Epoch 409/500\n",
            "2/2 - 0s - loss: 31.3339 - mae: 31.3339 - 18ms/epoch - 9ms/step\n",
            "Epoch 410/500\n",
            "2/2 - 0s - loss: 9.2542 - mae: 9.2542 - 12ms/epoch - 6ms/step\n",
            "Epoch 411/500\n",
            "2/2 - 0s - loss: 14.8621 - mae: 14.8621 - 19ms/epoch - 10ms/step\n",
            "Epoch 412/500\n",
            "2/2 - 0s - loss: 21.7182 - mae: 21.7182 - 12ms/epoch - 6ms/step\n",
            "Epoch 413/500\n",
            "2/2 - 0s - loss: 12.6615 - mae: 12.6615 - 14ms/epoch - 7ms/step\n",
            "Epoch 414/500\n",
            "2/2 - 0s - loss: 6.0687 - mae: 6.0687 - 14ms/epoch - 7ms/step\n",
            "Epoch 415/500\n",
            "2/2 - 0s - loss: 13.2201 - mae: 13.2201 - 16ms/epoch - 8ms/step\n",
            "Epoch 416/500\n",
            "2/2 - 0s - loss: 27.4244 - mae: 27.4244 - 16ms/epoch - 8ms/step\n",
            "Epoch 417/500\n",
            "2/2 - 0s - loss: 10.6407 - mae: 10.6407 - 9ms/epoch - 5ms/step\n",
            "Epoch 418/500\n",
            "2/2 - 0s - loss: 12.8230 - mae: 12.8230 - 9ms/epoch - 5ms/step\n",
            "Epoch 419/500\n",
            "2/2 - 0s - loss: 15.8836 - mae: 15.8836 - 13ms/epoch - 7ms/step\n",
            "Epoch 420/500\n",
            "2/2 - 0s - loss: 24.7510 - mae: 24.7510 - 19ms/epoch - 9ms/step\n",
            "Epoch 421/500\n",
            "2/2 - 0s - loss: 17.3753 - mae: 17.3753 - 16ms/epoch - 8ms/step\n",
            "Epoch 422/500\n",
            "2/2 - 0s - loss: 7.8241 - mae: 7.8241 - 17ms/epoch - 9ms/step\n",
            "Epoch 423/500\n",
            "2/2 - 0s - loss: 25.3789 - mae: 25.3789 - 15ms/epoch - 8ms/step\n",
            "Epoch 424/500\n",
            "2/2 - 0s - loss: 15.1031 - mae: 15.1031 - 13ms/epoch - 7ms/step\n",
            "Epoch 425/500\n",
            "2/2 - 0s - loss: 7.1643 - mae: 7.1643 - 12ms/epoch - 6ms/step\n",
            "Epoch 426/500\n",
            "2/2 - 0s - loss: 20.3318 - mae: 20.3318 - 16ms/epoch - 8ms/step\n",
            "Epoch 427/500\n",
            "2/2 - 0s - loss: 6.3283 - mae: 6.3283 - 12ms/epoch - 6ms/step\n",
            "Epoch 428/500\n",
            "2/2 - 0s - loss: 12.9962 - mae: 12.9962 - 13ms/epoch - 6ms/step\n",
            "Epoch 429/500\n",
            "2/2 - 0s - loss: 10.7869 - mae: 10.7869 - 11ms/epoch - 6ms/step\n",
            "Epoch 430/500\n",
            "2/2 - 0s - loss: 11.4007 - mae: 11.4007 - 13ms/epoch - 7ms/step\n",
            "Epoch 431/500\n",
            "2/2 - 0s - loss: 10.6153 - mae: 10.6153 - 14ms/epoch - 7ms/step\n",
            "Epoch 432/500\n",
            "2/2 - 0s - loss: 11.4582 - mae: 11.4582 - 15ms/epoch - 8ms/step\n",
            "Epoch 433/500\n",
            "2/2 - 0s - loss: 11.3851 - mae: 11.3851 - 22ms/epoch - 11ms/step\n",
            "Epoch 434/500\n",
            "2/2 - 0s - loss: 30.3986 - mae: 30.3986 - 10ms/epoch - 5ms/step\n",
            "Epoch 435/500\n",
            "2/2 - 0s - loss: 10.5052 - mae: 10.5052 - 17ms/epoch - 9ms/step\n",
            "Epoch 436/500\n",
            "2/2 - 0s - loss: 28.8810 - mae: 28.8810 - 16ms/epoch - 8ms/step\n",
            "Epoch 437/500\n",
            "2/2 - 0s - loss: 8.5916 - mae: 8.5916 - 21ms/epoch - 11ms/step\n",
            "Epoch 438/500\n",
            "2/2 - 0s - loss: 12.7378 - mae: 12.7378 - 15ms/epoch - 7ms/step\n",
            "Epoch 439/500\n",
            "2/2 - 0s - loss: 33.6754 - mae: 33.6754 - 14ms/epoch - 7ms/step\n",
            "Epoch 440/500\n",
            "2/2 - 0s - loss: 15.0962 - mae: 15.0962 - 12ms/epoch - 6ms/step\n",
            "Epoch 441/500\n",
            "2/2 - 0s - loss: 17.4813 - mae: 17.4813 - 14ms/epoch - 7ms/step\n",
            "Epoch 442/500\n",
            "2/2 - 0s - loss: 22.3049 - mae: 22.3049 - 22ms/epoch - 11ms/step\n",
            "Epoch 443/500\n",
            "2/2 - 0s - loss: 23.5841 - mae: 23.5841 - 15ms/epoch - 8ms/step\n",
            "Epoch 444/500\n",
            "2/2 - 0s - loss: 11.0008 - mae: 11.0008 - 14ms/epoch - 7ms/step\n",
            "Epoch 445/500\n",
            "2/2 - 0s - loss: 14.9175 - mae: 14.9175 - 16ms/epoch - 8ms/step\n",
            "Epoch 446/500\n",
            "2/2 - 0s - loss: 17.9979 - mae: 17.9979 - 21ms/epoch - 10ms/step\n",
            "Epoch 447/500\n",
            "2/2 - 0s - loss: 5.4482 - mae: 5.4482 - 13ms/epoch - 6ms/step\n",
            "Epoch 448/500\n",
            "2/2 - 0s - loss: 10.0527 - mae: 10.0527 - 9ms/epoch - 4ms/step\n",
            "Epoch 449/500\n",
            "2/2 - 0s - loss: 14.0052 - mae: 14.0052 - 9ms/epoch - 5ms/step\n",
            "Epoch 450/500\n",
            "2/2 - 0s - loss: 16.7782 - mae: 16.7782 - 9ms/epoch - 5ms/step\n",
            "Epoch 451/500\n",
            "2/2 - 0s - loss: 14.2937 - mae: 14.2937 - 10ms/epoch - 5ms/step\n",
            "Epoch 452/500\n",
            "2/2 - 0s - loss: 30.6192 - mae: 30.6192 - 14ms/epoch - 7ms/step\n",
            "Epoch 453/500\n",
            "2/2 - 0s - loss: 7.6541 - mae: 7.6541 - 15ms/epoch - 8ms/step\n",
            "Epoch 454/500\n",
            "2/2 - 0s - loss: 28.1428 - mae: 28.1428 - 15ms/epoch - 8ms/step\n",
            "Epoch 455/500\n",
            "2/2 - 0s - loss: 8.0017 - mae: 8.0017 - 17ms/epoch - 9ms/step\n",
            "Epoch 456/500\n",
            "2/2 - 0s - loss: 10.3933 - mae: 10.3933 - 12ms/epoch - 6ms/step\n",
            "Epoch 457/500\n",
            "2/2 - 0s - loss: 15.0242 - mae: 15.0242 - 20ms/epoch - 10ms/step\n",
            "Epoch 458/500\n",
            "2/2 - 0s - loss: 16.5653 - mae: 16.5653 - 14ms/epoch - 7ms/step\n",
            "Epoch 459/500\n",
            "2/2 - 0s - loss: 26.8566 - mae: 26.8566 - 19ms/epoch - 9ms/step\n",
            "Epoch 460/500\n",
            "2/2 - 0s - loss: 12.4852 - mae: 12.4852 - 12ms/epoch - 6ms/step\n",
            "Epoch 461/500\n",
            "2/2 - 0s - loss: 12.4784 - mae: 12.4784 - 14ms/epoch - 7ms/step\n",
            "Epoch 462/500\n",
            "2/2 - 0s - loss: 13.3186 - mae: 13.3186 - 15ms/epoch - 8ms/step\n",
            "Epoch 463/500\n",
            "2/2 - 0s - loss: 29.5524 - mae: 29.5524 - 11ms/epoch - 6ms/step\n",
            "Epoch 464/500\n",
            "2/2 - 0s - loss: 3.4664 - mae: 3.4664 - 17ms/epoch - 8ms/step\n",
            "Epoch 465/500\n",
            "2/2 - 0s - loss: 15.2136 - mae: 15.2136 - 13ms/epoch - 6ms/step\n",
            "Epoch 466/500\n",
            "2/2 - 0s - loss: 20.8327 - mae: 20.8327 - 15ms/epoch - 7ms/step\n",
            "Epoch 467/500\n",
            "2/2 - 0s - loss: 30.5108 - mae: 30.5108 - 15ms/epoch - 7ms/step\n",
            "Epoch 468/500\n",
            "2/2 - 0s - loss: 11.0598 - mae: 11.0598 - 9ms/epoch - 5ms/step\n",
            "Epoch 469/500\n",
            "2/2 - 0s - loss: 12.8372 - mae: 12.8372 - 11ms/epoch - 6ms/step\n",
            "Epoch 470/500\n",
            "2/2 - 0s - loss: 3.2398 - mae: 3.2398 - 14ms/epoch - 7ms/step\n",
            "Epoch 471/500\n",
            "2/2 - 0s - loss: 16.6964 - mae: 16.6964 - 12ms/epoch - 6ms/step\n",
            "Epoch 472/500\n",
            "2/2 - 0s - loss: 13.3883 - mae: 13.3883 - 13ms/epoch - 7ms/step\n",
            "Epoch 473/500\n",
            "2/2 - 0s - loss: 15.2771 - mae: 15.2771 - 11ms/epoch - 6ms/step\n",
            "Epoch 474/500\n",
            "2/2 - 0s - loss: 11.7448 - mae: 11.7448 - 13ms/epoch - 6ms/step\n",
            "Epoch 475/500\n",
            "2/2 - 0s - loss: 16.4113 - mae: 16.4113 - 12ms/epoch - 6ms/step\n",
            "Epoch 476/500\n",
            "2/2 - 0s - loss: 13.8785 - mae: 13.8785 - 11ms/epoch - 5ms/step\n",
            "Epoch 477/500\n",
            "2/2 - 0s - loss: 30.6702 - mae: 30.6702 - 14ms/epoch - 7ms/step\n",
            "Epoch 478/500\n",
            "2/2 - 0s - loss: 8.5880 - mae: 8.5880 - 12ms/epoch - 6ms/step\n",
            "Epoch 479/500\n",
            "2/2 - 0s - loss: 10.7384 - mae: 10.7384 - 21ms/epoch - 10ms/step\n",
            "Epoch 480/500\n",
            "2/2 - 0s - loss: 17.9051 - mae: 17.9051 - 17ms/epoch - 9ms/step\n",
            "Epoch 481/500\n",
            "2/2 - 0s - loss: 15.8094 - mae: 15.8094 - 16ms/epoch - 8ms/step\n",
            "Epoch 482/500\n",
            "2/2 - 0s - loss: 21.3054 - mae: 21.3054 - 16ms/epoch - 8ms/step\n",
            "Epoch 483/500\n",
            "2/2 - 0s - loss: 25.3845 - mae: 25.3845 - 17ms/epoch - 8ms/step\n",
            "Epoch 484/500\n",
            "2/2 - 0s - loss: 23.9816 - mae: 23.9816 - 13ms/epoch - 6ms/step\n",
            "Epoch 485/500\n",
            "2/2 - 0s - loss: 5.7734 - mae: 5.7734 - 17ms/epoch - 8ms/step\n",
            "Epoch 486/500\n",
            "2/2 - 0s - loss: 20.0011 - mae: 20.0011 - 18ms/epoch - 9ms/step\n",
            "Epoch 487/500\n",
            "2/2 - 0s - loss: 14.0419 - mae: 14.0419 - 12ms/epoch - 6ms/step\n",
            "Epoch 488/500\n",
            "2/2 - 0s - loss: 30.6088 - mae: 30.6088 - 12ms/epoch - 6ms/step\n",
            "Epoch 489/500\n",
            "2/2 - 0s - loss: 11.9409 - mae: 11.9409 - 8ms/epoch - 4ms/step\n",
            "Epoch 490/500\n",
            "2/2 - 0s - loss: 12.7352 - mae: 12.7352 - 13ms/epoch - 7ms/step\n",
            "Epoch 491/500\n",
            "2/2 - 0s - loss: 23.6139 - mae: 23.6139 - 17ms/epoch - 9ms/step\n",
            "Epoch 492/500\n",
            "2/2 - 0s - loss: 20.5365 - mae: 20.5365 - 23ms/epoch - 11ms/step\n",
            "Epoch 493/500\n",
            "2/2 - 0s - loss: 4.9942 - mae: 4.9942 - 14ms/epoch - 7ms/step\n",
            "Epoch 494/500\n",
            "2/2 - 0s - loss: 12.7987 - mae: 12.7987 - 13ms/epoch - 7ms/step\n",
            "Epoch 495/500\n",
            "2/2 - 0s - loss: 13.3772 - mae: 13.3772 - 15ms/epoch - 7ms/step\n",
            "Epoch 496/500\n",
            "2/2 - 0s - loss: 12.6727 - mae: 12.6727 - 20ms/epoch - 10ms/step\n",
            "Epoch 497/500\n",
            "2/2 - 0s - loss: 17.6192 - mae: 17.6192 - 21ms/epoch - 10ms/step\n",
            "Epoch 498/500\n",
            "2/2 - 0s - loss: 23.5629 - mae: 23.5629 - 19ms/epoch - 9ms/step\n",
            "Epoch 499/500\n",
            "2/2 - 0s - loss: 9.3755 - mae: 9.3755 - 19ms/epoch - 9ms/step\n",
            "Epoch 500/500\n",
            "2/2 - 0s - loss: 14.6316 - mae: 14.6316 - 18ms/epoch - 9ms/step\n"
          ]
        },
        {
          "output_type": "execute_result",
          "data": {
            "text/plain": [
              "<keras.callbacks.History at 0x7fc831738710>"
            ]
          },
          "metadata": {},
          "execution_count": 124
        }
      ]
    },
    {
      "cell_type": "code",
      "source": [
        "g=tf.expand_dims(X_test,axis=-1)"
      ],
      "metadata": {
        "id": "ZmCYGaFJVB3v"
      },
      "execution_count": 125,
      "outputs": []
    },
    {
      "cell_type": "code",
      "source": [
        "#plot the prediction of model_3\n",
        "\n",
        "y_pred_3 = model_3.predict(g)\n",
        "plot_predictions(predctions=y_pred_3)"
      ],
      "metadata": {
        "colab": {
          "base_uri": "https://localhost:8080/",
          "height": 283
        },
        "id": "LKVuNFQiUHgB",
        "outputId": "96e7ba04-2811-4b71-bfea-046390bd9cf5"
      },
      "execution_count": 126,
      "outputs": [
        {
          "output_type": "stream",
          "name": "stdout",
          "text": [
            "1/1 [==============================] - 0s 294ms/step\n"
          ]
        },
        {
          "output_type": "display_data",
          "data": {
            "text/plain": [
              "<Figure size 432x288 with 1 Axes>"
            ],
            "image/png": "[encoded data removed]"
          },
          "metadata": {
            "needs_background": "light"
          }
        }
      ]
    },
    {
      "cell_type": "code",
      "source": [
        "#Calculate model_3 evaluaiton metrics\n",
        "mae_3= mae(y_test, y_pred_3)\n",
        "mse_3 = mse(y_test,y_pred_3)\n",
        "mae_3, mse_3"
      ],
      "metadata": {
        "colab": {
          "base_uri": "https://localhost:8080/"
        },
        "id": "zWo7e7lueBcP",
        "outputId": "7b537c60-ea02-4091-defc-4defc7066893"
      },
      "execution_count": 127,
      "outputs": [
        {
          "output_type": "execute_result",
          "data": {
            "text/plain": [
              "(<tf.Tensor: shape=(), dtype=float32, numpy=68.713615>,\n",
              " <tf.Tensor: shape=(), dtype=float32, numpy=4808.0273>)"
            ]
          },
          "metadata": {},
          "execution_count": 127
        }
      ]
    },
    {
      "cell_type": "markdown",
      "source": [
        "### Comparing the results of our experiments"
      ],
      "metadata": {
        "id": "8dnvbEq_eAy2"
      }
    },
    {
      "cell_type": "code",
      "source": [
        "# Lets's compare our models results using pandas's dataframe"
      ],
      "metadata": {
        "id": "Tk2BwP58eec9"
      },
      "execution_count": 128,
      "outputs": []
    },
    {
      "cell_type": "markdown",
      "source": [
        "## Saving our models\n",
        "\n",
        "formt to save\n",
        "1. SaveModel format\n",
        "2. HDF5 formnat"
      ],
      "metadata": {
        "id": "g-Dh20Ksg_X2"
      }
    },
    {
      "cell_type": "code",
      "source": [
        "# save model using the SavedMOdel format\n",
        "model_2.save(\"best_model_SavedModel_format\")"
      ],
      "metadata": {
        "id": "5X7TPEmMhVOe"
      },
      "execution_count": 129,
      "outputs": []
    },
    {
      "cell_type": "code",
      "source": [
        "# Save model using the HDF5 format\n",
        "model_2.save(\"best_model_HDF5-format.h5\")"
      ],
      "metadata": {
        "id": "qpKic_0ziqav"
      },
      "execution_count": 130,
      "outputs": []
    },
    {
      "cell_type": "markdown",
      "source": [
        "#Loading the model\n",
        "\n"
      ],
      "metadata": {
        "id": "1LZLMa7xje--"
      }
    },
    {
      "cell_type": "code",
      "source": [
        "# Load in the SavedModel format model\n",
        "load_SaveModel_format = tf.keras.models.load_model(\"/content/best_model_SavedModel_format\")\n",
        "load_SaveModel_format.summary()"
      ],
      "metadata": {
        "colab": {
          "base_uri": "https://localhost:8080/"
        },
        "id": "9CMknq4sjVhn",
        "outputId": "45195c15-a57a-4fa2-c4f0-0d97d6ba8ada"
      },
      "execution_count": 131,
      "outputs": [
        {
          "output_type": "stream",
          "name": "stdout",
          "text": [
            "Model: \"sequential_16\"\n",
            "_________________________________________________________________\n",
            " Layer (type)                Output Shape              Param #   \n",
            "=================================================================\n",
            " dense_38 (Dense)            (None, 10)                20        \n",
            "                                                                 \n",
            " dense_39 (Dense)            (None, 1)                 11        \n",
            "                                                                 \n",
            "=================================================================\n",
            "Total params: 31\n",
            "Trainable params: 31\n",
            "Non-trainable params: 0\n",
            "_________________________________________________________________\n"
          ]
        }
      ]
    },
    {
      "cell_type": "code",
      "source": [
        "# Load in HDF5 format\n",
        "\n",
        "load_HDF5_format = tf.keras.models.load_model(\"/content/best_model_HDF5-format.h5\")\n",
        "load_HDF5_format.summary()"
      ],
      "metadata": {
        "colab": {
          "base_uri": "https://localhost:8080/"
        },
        "id": "BoWpVuLvjyH2",
        "outputId": "6c08d78c-26e5-42d7-eadc-b6f74fb4b623"
      },
      "execution_count": 132,
      "outputs": [
        {
          "output_type": "stream",
          "name": "stdout",
          "text": [
            "Model: \"sequential_16\"\n",
            "_________________________________________________________________\n",
            " Layer (type)                Output Shape              Param #   \n",
            "=================================================================\n",
            " dense_38 (Dense)            (None, 10)                20        \n",
            "                                                                 \n",
            " dense_39 (Dense)            (None, 1)                 11        \n",
            "                                                                 \n",
            "=================================================================\n",
            "Total params: 31\n",
            "Trainable params: 31\n",
            "Non-trainable params: 0\n",
            "_________________________________________________________________\n"
          ]
        }
      ]
    },
    {
      "cell_type": "code",
      "source": [
        "# compare model_2 predictions with SavedModels \n",
        "\n",
        "\n",
        "model_2_preds = model_2.predict(X_test)\n",
        "loaded_savedModel_format_preds = load_SaveModel_format.predict(X_test)\n",
        "model_2_preds== loaded_savedModel_format_preds"
      ],
      "metadata": {
        "colab": {
          "base_uri": "https://localhost:8080/"
        },
        "id": "rSyFEUGskMTO",
        "outputId": "922ebdc7-3605-4ce0-aa91-06b5f4810ca5"
      },
      "execution_count": 133,
      "outputs": [
        {
          "output_type": "stream",
          "name": "stdout",
          "text": [
            "1/1 [==============================] - 0s 28ms/step\n",
            "1/1 [==============================] - 0s 48ms/step\n"
          ]
        },
        {
          "output_type": "execute_result",
          "data": {
            "text/plain": [
              "array([[ True],\n",
              "       [ True],\n",
              "       [ True],\n",
              "       [ True],\n",
              "       [ True],\n",
              "       [ True],\n",
              "       [ True],\n",
              "       [ True],\n",
              "       [ True],\n",
              "       [ True]])"
            ]
          },
          "metadata": {},
          "execution_count": 133
        }
      ]
    },
    {
      "cell_type": "code",
      "source": [
        "# Compare the model .h5 prediction\n",
        "model_2_preds = model_2.predict(X_test)\n",
        "loaded_SavedModel_format_preds= load_HDF5_format(X_test)\n",
        "model_2_preds== loaded_savedModel_format_preds"
      ],
      "metadata": {
        "colab": {
          "base_uri": "https://localhost:8080/"
        },
        "id": "RBXLGaDSl6p-",
        "outputId": "5ac0b452-f757-4f8f-8df2-e53f3169bba3"
      },
      "execution_count": 134,
      "outputs": [
        {
          "output_type": "stream",
          "name": "stdout",
          "text": [
            "1/1 [==============================] - 0s 18ms/step\n"
          ]
        },
        {
          "output_type": "execute_result",
          "data": {
            "text/plain": [
              "array([[ True],\n",
              "       [ True],\n",
              "       [ True],\n",
              "       [ True],\n",
              "       [ True],\n",
              "       [ True],\n",
              "       [ True],\n",
              "       [ True],\n",
              "       [ True],\n",
              "       [ True]])"
            ]
          },
          "metadata": {},
          "execution_count": 134
        }
      ]
    },
    {
      "cell_type": "markdown",
      "source": [
        "## Download a model(or any other file) from google colab\n"
      ],
      "metadata": {
        "id": "gkhnldMSmu14"
      }
    },
    {
      "cell_type": "code",
      "source": [
        "from google.colab import files\n",
        "files.download(\"/content/best_model_HDF5-format.h5\")"
      ],
      "metadata": {
        "colab": {
          "base_uri": "https://localhost:8080/",
          "height": 34
        },
        "id": "UFX2lQK8nLjP",
        "outputId": "1fa44683-60d2-4a93-ff7f-43df163faa7a"
      },
      "execution_count": 135,
      "outputs": [
        {
          "output_type": "display_data",
          "data": {
            "text/plain": [
              "<IPython.core.display.Javascript object>"
            ],
            "application/javascript": [
              "\n",
              "    async function download(id, filename, size) {\n",
              "      if (!google.colab.kernel.accessAllowed) {\n",
              "        return;\n",
              "      }\n",
              "      const div = document.createElement('div');\n",
              "      const label = document.createElement('label');\n",
              "      label.textContent = `Downloading \"${filename}\": `;\n",
              "      div.appendChild(label);\n",
              "      const progress = document.createElement('progress');\n",
              "      progress.max = size;\n",
              "      div.appendChild(progress);\n",
              "      document.body.appendChild(div);\n",
              "\n",
              "      const buffers = [];\n",
              "      let downloaded = 0;\n",
              "\n",
              "      const channel = await google.colab.kernel.comms.open(id);\n",
              "      // Send a message to notify the kernel that we're ready.\n",
              "      channel.send({})\n",
              "\n",
              "      for await (const message of channel.messages) {\n",
              "        // Send a message to notify the kernel that we're ready.\n",
              "        channel.send({})\n",
              "        if (message.buffers) {\n",
              "          for (const buffer of message.buffers) {\n",
              "            buffers.push(buffer);\n",
              "            downloaded += buffer.byteLength;\n",
              "            progress.value = downloaded;\n",
              "          }\n",
              "        }\n",
              "      }\n",
              "      const blob = new Blob(buffers, {type: 'application/binary'});\n",
              "      const a = document.createElement('a');\n",
              "      a.href = window.URL.createObjectURL(blob);\n",
              "      a.download = filename;\n",
              "      div.appendChild(a);\n",
              "      a.click();\n",
              "      div.remove();\n",
              "    }\n",
              "  "
            ]
          },
          "metadata": {}
        },
        {
          "output_type": "display_data",
          "data": {
            "text/plain": [
              "<IPython.core.display.Javascript object>"
            ],
            "application/javascript": [
              "download(\"download_0c37286b-a607-42dd-b825-d140d4d3310f\", \"best_model_HDF5-format.h5\", 17872)"
            ]
          },
          "metadata": {}
        }
      ]
    },
    {
      "cell_type": "code",
      "source": [
        "from google.colab import drive\n",
        "drive.mount('/content/drive')"
      ],
      "metadata": {
        "id": "qXcrMl3Anl9x",
        "colab": {
          "base_uri": "https://localhost:8080/",
          "height": 341
        },
        "outputId": "a49c17b4-840e-4d84-9cd1-68a3d0bd01c5"
      },
      "execution_count": 136,
      "outputs": [
        {
          "output_type": "error",
          "ename": "MessageError",
          "evalue": "ignored",
          "traceback": [
            "\u001b[0;31m---------------------------------------------------------------------------\u001b[0m",
            "\u001b[0;31mMessageError\u001b[0m                              Traceback (most recent call last)",
            "\u001b[0;32m<ipython-input-136-d5df0069828e>\u001b[0m in \u001b[0;36m<module>\u001b[0;34m\u001b[0m\n\u001b[1;32m      1\u001b[0m \u001b[0;32mfrom\u001b[0m \u001b[0mgoogle\u001b[0m\u001b[0;34m.\u001b[0m\u001b[0mcolab\u001b[0m \u001b[0;32mimport\u001b[0m \u001b[0mdrive\u001b[0m\u001b[0;34m\u001b[0m\u001b[0;34m\u001b[0m\u001b[0m\n\u001b[0;32m----> 2\u001b[0;31m \u001b[0mdrive\u001b[0m\u001b[0;34m.\u001b[0m\u001b[0mmount\u001b[0m\u001b[0;34m(\u001b[0m\u001b[0;34m'/content/drive'\u001b[0m\u001b[0;34m)\u001b[0m\u001b[0;34m\u001b[0m\u001b[0;34m\u001b[0m\u001b[0m\n\u001b[0m",
            "\u001b[0;32m/usr/local/lib/python3.7/dist-packages/google/colab/drive.py\u001b[0m in \u001b[0;36mmount\u001b[0;34m(mountpoint, force_remount, timeout_ms, readonly)\u001b[0m\n\u001b[1;32m    104\u001b[0m       \u001b[0mtimeout_ms\u001b[0m\u001b[0;34m=\u001b[0m\u001b[0mtimeout_ms\u001b[0m\u001b[0;34m,\u001b[0m\u001b[0;34m\u001b[0m\u001b[0;34m\u001b[0m\u001b[0m\n\u001b[1;32m    105\u001b[0m       \u001b[0mephemeral\u001b[0m\u001b[0;34m=\u001b[0m\u001b[0;32mTrue\u001b[0m\u001b[0;34m,\u001b[0m\u001b[0;34m\u001b[0m\u001b[0;34m\u001b[0m\u001b[0m\n\u001b[0;32m--> 106\u001b[0;31m       readonly=readonly)\n\u001b[0m\u001b[1;32m    107\u001b[0m \u001b[0;34m\u001b[0m\u001b[0m\n\u001b[1;32m    108\u001b[0m \u001b[0;34m\u001b[0m\u001b[0m\n",
            "\u001b[0;32m/usr/local/lib/python3.7/dist-packages/google/colab/drive.py\u001b[0m in \u001b[0;36m_mount\u001b[0;34m(mountpoint, force_remount, timeout_ms, ephemeral, readonly)\u001b[0m\n\u001b[1;32m    123\u001b[0m   \u001b[0;32mif\u001b[0m \u001b[0mephemeral\u001b[0m\u001b[0;34m:\u001b[0m\u001b[0;34m\u001b[0m\u001b[0;34m\u001b[0m\u001b[0m\n\u001b[1;32m    124\u001b[0m     _message.blocking_request(\n\u001b[0;32m--> 125\u001b[0;31m         'request_auth', request={'authType': 'dfs_ephemeral'}, timeout_sec=None)\n\u001b[0m\u001b[1;32m    126\u001b[0m \u001b[0;34m\u001b[0m\u001b[0m\n\u001b[1;32m    127\u001b[0m   \u001b[0mmountpoint\u001b[0m \u001b[0;34m=\u001b[0m \u001b[0m_os\u001b[0m\u001b[0;34m.\u001b[0m\u001b[0mpath\u001b[0m\u001b[0;34m.\u001b[0m\u001b[0mexpanduser\u001b[0m\u001b[0;34m(\u001b[0m\u001b[0mmountpoint\u001b[0m\u001b[0;34m)\u001b[0m\u001b[0;34m\u001b[0m\u001b[0;34m\u001b[0m\u001b[0m\n",
            "\u001b[0;32m/usr/local/lib/python3.7/dist-packages/google/colab/_message.py\u001b[0m in \u001b[0;36mblocking_request\u001b[0;34m(request_type, request, timeout_sec, parent)\u001b[0m\n\u001b[1;32m    169\u001b[0m   request_id = send_request(\n\u001b[1;32m    170\u001b[0m       request_type, request, parent=parent, expect_reply=True)\n\u001b[0;32m--> 171\u001b[0;31m   \u001b[0;32mreturn\u001b[0m \u001b[0mread_reply_from_input\u001b[0m\u001b[0;34m(\u001b[0m\u001b[0mrequest_id\u001b[0m\u001b[0;34m,\u001b[0m \u001b[0mtimeout_sec\u001b[0m\u001b[0;34m)\u001b[0m\u001b[0;34m\u001b[0m\u001b[0;34m\u001b[0m\u001b[0m\n\u001b[0m",
            "\u001b[0;32m/usr/local/lib/python3.7/dist-packages/google/colab/_message.py\u001b[0m in \u001b[0;36mread_reply_from_input\u001b[0;34m(message_id, timeout_sec)\u001b[0m\n\u001b[1;32m    100\u001b[0m         reply.get('colab_msg_id') == message_id):\n\u001b[1;32m    101\u001b[0m       \u001b[0;32mif\u001b[0m \u001b[0;34m'error'\u001b[0m \u001b[0;32min\u001b[0m \u001b[0mreply\u001b[0m\u001b[0;34m:\u001b[0m\u001b[0;34m\u001b[0m\u001b[0;34m\u001b[0m\u001b[0m\n\u001b[0;32m--> 102\u001b[0;31m         \u001b[0;32mraise\u001b[0m \u001b[0mMessageError\u001b[0m\u001b[0;34m(\u001b[0m\u001b[0mreply\u001b[0m\u001b[0;34m[\u001b[0m\u001b[0;34m'error'\u001b[0m\u001b[0;34m]\u001b[0m\u001b[0;34m)\u001b[0m\u001b[0;34m\u001b[0m\u001b[0;34m\u001b[0m\u001b[0m\n\u001b[0m\u001b[1;32m    103\u001b[0m       \u001b[0;32mreturn\u001b[0m \u001b[0mreply\u001b[0m\u001b[0;34m.\u001b[0m\u001b[0mget\u001b[0m\u001b[0;34m(\u001b[0m\u001b[0;34m'data'\u001b[0m\u001b[0;34m,\u001b[0m \u001b[0;32mNone\u001b[0m\u001b[0;34m)\u001b[0m\u001b[0;34m\u001b[0m\u001b[0;34m\u001b[0m\u001b[0m\n\u001b[1;32m    104\u001b[0m \u001b[0;34m\u001b[0m\u001b[0m\n",
            "\u001b[0;31mMessageError\u001b[0m: Error: credential propagation was unsuccessful"
          ]
        }
      ]
    },
    {
      "cell_type": "code",
      "source": [
        "#save a file from colab to drive\n",
        "\n",
        "!cp /content/best_model_HDF5-format.h5 "
      ],
      "metadata": {
        "id": "LtgDhuU3n4aP"
      },
      "execution_count": null,
      "outputs": []
    },
    {
      "cell_type": "code",
      "source": [
        "ls /content/drive/MyDrive"
      ],
      "metadata": {
        "id": "NaSwGFq1oGIo"
      },
      "execution_count": null,
      "outputs": []
    },
    {
      "cell_type": "markdown",
      "source": [
        "# A larger Example"
      ],
      "metadata": {
        "id": "Qk5F4OhOoLog"
      }
    },
    {
      "cell_type": "code",
      "source": [
        "#Import required libraries\n",
        "import tensorflow as tf\n",
        "import pandas as pd\n",
        "import matplotlib.pyplot as plt"
      ],
      "metadata": {
        "id": "gwLbWlNQwWN2"
      },
      "execution_count": 138,
      "outputs": []
    },
    {
      "cell_type": "code",
      "source": [
        "#load the csv file\n",
        "insurance = pd.read_csv(\"https://raw.githubusercontent.com/stedy/Machine-Learning-with-R-datasets/master/insurance.csv\")"
      ],
      "metadata": {
        "id": "eIXc7ASAxBsq"
      },
      "execution_count": 139,
      "outputs": []
    },
    {
      "cell_type": "code",
      "source": [
        "insurance"
      ],
      "metadata": {
        "colab": {
          "base_uri": "https://localhost:8080/",
          "height": 423
        },
        "id": "5yif9xYkxk94",
        "outputId": "7bcf4e7b-5a7f-4b2c-880b-4913bcb5dbef"
      },
      "execution_count": 140,
      "outputs": [
        {
          "output_type": "execute_result",
          "data": {
            "text/plain": [
              "      age     sex     bmi  children smoker     region      charges\n",
              "0      19  female  27.900         0    yes  southwest  16884.92400\n",
              "1      18    male  33.770         1     no  southeast   1725.55230\n",
              "2      28    male  33.000         3     no  southeast   4449.46200\n",
              "3      33    male  22.705         0     no  northwest  21984.47061\n",
              "4      32    male  28.880         0     no  northwest   3866.85520\n",
              "...   ...     ...     ...       ...    ...        ...          ...\n",
              "1333   50    male  30.970         3     no  northwest  10600.54830\n",
              "1334   18  female  31.920         0     no  northeast   2205.98080\n",
              "1335   18  female  36.850         0     no  southeast   1629.83350\n",
              "1336   21  female  25.800         0     no  southwest   2007.94500\n",
              "1337   61  female  29.070         0    yes  northwest  29141.36030\n",
              "\n",
              "[1338 rows x 7 columns]"
            ],
            "text/html": [
              "\n",
              "  <div id=\"df-e7b82532-bdd9-485d-a258-74c94a61abe0\">\n",
              "    <div class=\"colab-df-container\">\n",
              "      <div>\n",
              "<style scoped>\n",
              "    .dataframe tbody tr th:only-of-type {\n",
              "        vertical-align: middle;\n",
              "    }\n",
              "\n",
              "    .dataframe tbody tr th {\n",
              "        vertical-align: top;\n",
              "    }\n",
              "\n",
              "    .dataframe thead th {\n",
              "        text-align: right;\n",
              "    }\n",
              "</style>\n",
              "<table border=\"1\" class=\"dataframe\">\n",
              "  <thead>\n",
              "    <tr style=\"text-align: right;\">\n",
              "      <th></th>\n",
              "      <th>age</th>\n",
              "      <th>sex</th>\n",
              "      <th>bmi</th>\n",
              "      <th>children</th>\n",
              "      <th>smoker</th>\n",
              "      <th>region</th>\n",
              "      <th>charges</th>\n",
              "    </tr>\n",
              "  </thead>\n",
              "  <tbody>\n",
              "    <tr>\n",
              "      <th>0</th>\n",
              "      <td>19</td>\n",
              "      <td>female</td>\n",
              "      <td>27.900</td>\n",
              "      <td>0</td>\n",
              "      <td>yes</td>\n",
              "      <td>southwest</td>\n",
              "      <td>16884.92400</td>\n",
              "    </tr>\n",
              "    <tr>\n",
              "      <th>1</th>\n",
              "      <td>18</td>\n",
              "      <td>male</td>\n",
              "      <td>33.770</td>\n",
              "      <td>1</td>\n",
              "      <td>no</td>\n",
              "      <td>southeast</td>\n",
              "      <td>1725.55230</td>\n",
              "    </tr>\n",
              "    <tr>\n",
              "      <th>2</th>\n",
              "      <td>28</td>\n",
              "      <td>male</td>\n",
              "      <td>33.000</td>\n",
              "      <td>3</td>\n",
              "      <td>no</td>\n",
              "      <td>southeast</td>\n",
              "      <td>4449.46200</td>\n",
              "    </tr>\n",
              "    <tr>\n",
              "      <th>3</th>\n",
              "      <td>33</td>\n",
              "      <td>male</td>\n",
              "      <td>22.705</td>\n",
              "      <td>0</td>\n",
              "      <td>no</td>\n",
              "      <td>northwest</td>\n",
              "      <td>21984.47061</td>\n",
              "    </tr>\n",
              "    <tr>\n",
              "      <th>4</th>\n",
              "      <td>32</td>\n",
              "      <td>male</td>\n",
              "      <td>28.880</td>\n",
              "      <td>0</td>\n",
              "      <td>no</td>\n",
              "      <td>northwest</td>\n",
              "      <td>3866.85520</td>\n",
              "    </tr>\n",
              "    <tr>\n",
              "      <th>...</th>\n",
              "      <td>...</td>\n",
              "      <td>...</td>\n",
              "      <td>...</td>\n",
              "      <td>...</td>\n",
              "      <td>...</td>\n",
              "      <td>...</td>\n",
              "      <td>...</td>\n",
              "    </tr>\n",
              "    <tr>\n",
              "      <th>1333</th>\n",
              "      <td>50</td>\n",
              "      <td>male</td>\n",
              "      <td>30.970</td>\n",
              "      <td>3</td>\n",
              "      <td>no</td>\n",
              "      <td>northwest</td>\n",
              "      <td>10600.54830</td>\n",
              "    </tr>\n",
              "    <tr>\n",
              "      <th>1334</th>\n",
              "      <td>18</td>\n",
              "      <td>female</td>\n",
              "      <td>31.920</td>\n",
              "      <td>0</td>\n",
              "      <td>no</td>\n",
              "      <td>northeast</td>\n",
              "      <td>2205.98080</td>\n",
              "    </tr>\n",
              "    <tr>\n",
              "      <th>1335</th>\n",
              "      <td>18</td>\n",
              "      <td>female</td>\n",
              "      <td>36.850</td>\n",
              "      <td>0</td>\n",
              "      <td>no</td>\n",
              "      <td>southeast</td>\n",
              "      <td>1629.83350</td>\n",
              "    </tr>\n",
              "    <tr>\n",
              "      <th>1336</th>\n",
              "      <td>21</td>\n",
              "      <td>female</td>\n",
              "      <td>25.800</td>\n",
              "      <td>0</td>\n",
              "      <td>no</td>\n",
              "      <td>southwest</td>\n",
              "      <td>2007.94500</td>\n",
              "    </tr>\n",
              "    <tr>\n",
              "      <th>1337</th>\n",
              "      <td>61</td>\n",
              "      <td>female</td>\n",
              "      <td>29.070</td>\n",
              "      <td>0</td>\n",
              "      <td>yes</td>\n",
              "      <td>northwest</td>\n",
              "      <td>29141.36030</td>\n",
              "    </tr>\n",
              "  </tbody>\n",
              "</table>\n",
              "<p>1338 rows × 7 columns</p>\n",
              "</div>\n",
              "      <button class=\"colab-df-convert\" onclick=\"convertToInteractive('df-e7b82532-bdd9-485d-a258-74c94a61abe0')\"\n",
              "              title=\"Convert this dataframe to an interactive table.\"\n",
              "              style=\"display:none;\">\n",
              "        \n",
              "  <svg xmlns=\"http://www.w3.org/2000/svg\" height=\"24px\"viewBox=\"0 0 24 24\"\n",
              "       width=\"24px\">\n",
              "    <path d=\"M0 0h24v24H0V0z\" fill=\"none\"/>\n",
              "    <path d=\"M18.56 5.44l.94 2.06.94-2.06 2.06-.94-2.06-.94-.94-2.06-.94 2.06-2.06.94zm-11 1L8.5 8.5l.94-2.06 2.06-.94-2.06-.94L8.5 2.5l-.94 2.06-2.06.94zm10 10l.94 2.06.94-2.06 2.06-.94-2.06-.94-.94-2.06-.94 2.06-2.06.94z\"/><path d=\"M17.41 7.96l-1.37-1.37c-.4-.4-.92-.59-1.43-.59-.52 0-1.04.2-1.43.59L10.3 9.45l-7.72 7.72c-.78.78-.78 2.05 0 2.83L4 21.41c.39.39.9.59 1.41.59.51 0 1.02-.2 1.41-.59l7.78-7.78 2.81-2.81c.8-.78.8-2.07 0-2.86zM5.41 20L4 18.59l7.72-7.72 1.47 1.35L5.41 20z\"/>\n",
              "  </svg>\n",
              "      </button>\n",
              "      \n",
              "  <style>\n",
              "    .colab-df-container {\n",
              "      display:flex;\n",
              "      flex-wrap:wrap;\n",
              "      gap: 12px;\n",
              "    }\n",
              "\n",
              "    .colab-df-convert {\n",
              "      background-color: #E8F0FE;\n",
              "      border: none;\n",
              "      border-radius: 50%;\n",
              "      cursor: pointer;\n",
              "      display: none;\n",
              "      fill: #1967D2;\n",
              "      height: 32px;\n",
              "      padding: 0 0 0 0;\n",
              "      width: 32px;\n",
              "    }\n",
              "\n",
              "    .colab-df-convert:hover {\n",
              "      background-color: #E2EBFA;\n",
              "      box-shadow: 0px 1px 2px rgba(60, 64, 67, 0.3), 0px 1px 3px 1px rgba(60, 64, 67, 0.15);\n",
              "      fill: #174EA6;\n",
              "    }\n",
              "\n",
              "    [theme=dark] .colab-df-convert {\n",
              "      background-color: #3B4455;\n",
              "      fill: #D2E3FC;\n",
              "    }\n",
              "\n",
              "    [theme=dark] .colab-df-convert:hover {\n",
              "      background-color: #434B5C;\n",
              "      box-shadow: 0px 1px 3px 1px rgba(0, 0, 0, 0.15);\n",
              "      filter: drop-shadow(0px 1px 2px rgba(0, 0, 0, 0.3));\n",
              "      fill: #FFFFFF;\n",
              "    }\n",
              "  </style>\n",
              "\n",
              "      <script>\n",
              "        const buttonEl =\n",
              "          document.querySelector('#df-e7b82532-bdd9-485d-a258-74c94a61abe0 button.colab-df-convert');\n",
              "        buttonEl.style.display =\n",
              "          google.colab.kernel.accessAllowed ? 'block' : 'none';\n",
              "\n",
              "        async function convertToInteractive(key) {\n",
              "          const element = document.querySelector('#df-e7b82532-bdd9-485d-a258-74c94a61abe0');\n",
              "          const dataTable =\n",
              "            await google.colab.kernel.invokeFunction('convertToInteractive',\n",
              "                                                     [key], {});\n",
              "          if (!dataTable) return;\n",
              "\n",
              "          const docLinkHtml = 'Like what you see? Visit the ' +\n",
              "            '<a target=\"_blank\" href=https://colab.research.google.com/notebooks/data_table.ipynb>data table notebook</a>'\n",
              "            + ' to learn more about interactive tables.';\n",
              "          element.innerHTML = '';\n",
              "          dataTable['output_type'] = 'display_data';\n",
              "          await google.colab.output.renderOutput(dataTable, element);\n",
              "          const docLink = document.createElement('div');\n",
              "          docLink.innerHTML = docLinkHtml;\n",
              "          element.appendChild(docLink);\n",
              "        }\n",
              "      </script>\n",
              "    </div>\n",
              "  </div>\n",
              "  "
            ]
          },
          "metadata": {},
          "execution_count": 140
        }
      ]
    },
    {
      "cell_type": "code",
      "source": [
        "insurance_one_hot = pd.get_dummies(insurance)\n",
        "insurance_one_hot.head()"
      ],
      "metadata": {
        "id": "lJE9GrGXxyb5",
        "colab": {
          "base_uri": "https://localhost:8080/",
          "height": 206
        },
        "outputId": "7d7bb92b-3ef5-49f9-ce3a-87301ee28049"
      },
      "execution_count": 141,
      "outputs": [
        {
          "output_type": "execute_result",
          "data": {
            "text/plain": [
              "   age     bmi  children      charges  sex_female  sex_male  smoker_no  \\\n",
              "0   19  27.900         0  16884.92400           1         0          0   \n",
              "1   18  33.770         1   1725.55230           0         1          1   \n",
              "2   28  33.000         3   4449.46200           0         1          1   \n",
              "3   33  22.705         0  21984.47061           0         1          1   \n",
              "4   32  28.880         0   3866.85520           0         1          1   \n",
              "\n",
              "   smoker_yes  region_northeast  region_northwest  region_southeast  \\\n",
              "0           1                 0                 0                 0   \n",
              "1           0                 0                 0                 1   \n",
              "2           0                 0                 0                 1   \n",
              "3           0                 0                 1                 0   \n",
              "4           0                 0                 1                 0   \n",
              "\n",
              "   region_southwest  \n",
              "0                 1  \n",
              "1                 0  \n",
              "2                 0  \n",
              "3                 0  \n",
              "4                 0  "
            ],
            "text/html": [
              "\n",
              "  <div id=\"df-f4dc52e1-c803-4e68-bb80-8a32a90179d3\">\n",
              "    <div class=\"colab-df-container\">\n",
              "      <div>\n",
              "<style scoped>\n",
              "    .dataframe tbody tr th:only-of-type {\n",
              "        vertical-align: middle;\n",
              "    }\n",
              "\n",
              "    .dataframe tbody tr th {\n",
              "        vertical-align: top;\n",
              "    }\n",
              "\n",
              "    .dataframe thead th {\n",
              "        text-align: right;\n",
              "    }\n",
              "</style>\n",
              "<table border=\"1\" class=\"dataframe\">\n",
              "  <thead>\n",
              "    <tr style=\"text-align: right;\">\n",
              "      <th></th>\n",
              "      <th>age</th>\n",
              "      <th>bmi</th>\n",
              "      <th>children</th>\n",
              "      <th>charges</th>\n",
              "      <th>sex_female</th>\n",
              "      <th>sex_male</th>\n",
              "      <th>smoker_no</th>\n",
              "      <th>smoker_yes</th>\n",
              "      <th>region_northeast</th>\n",
              "      <th>region_northwest</th>\n",
              "      <th>region_southeast</th>\n",
              "      <th>region_southwest</th>\n",
              "    </tr>\n",
              "  </thead>\n",
              "  <tbody>\n",
              "    <tr>\n",
              "      <th>0</th>\n",
              "      <td>19</td>\n",
              "      <td>27.900</td>\n",
              "      <td>0</td>\n",
              "      <td>16884.92400</td>\n",
              "      <td>1</td>\n",
              "      <td>0</td>\n",
              "      <td>0</td>\n",
              "      <td>1</td>\n",
              "      <td>0</td>\n",
              "      <td>0</td>\n",
              "      <td>0</td>\n",
              "      <td>1</td>\n",
              "    </tr>\n",
              "    <tr>\n",
              "      <th>1</th>\n",
              "      <td>18</td>\n",
              "      <td>33.770</td>\n",
              "      <td>1</td>\n",
              "      <td>1725.55230</td>\n",
              "      <td>0</td>\n",
              "      <td>1</td>\n",
              "      <td>1</td>\n",
              "      <td>0</td>\n",
              "      <td>0</td>\n",
              "      <td>0</td>\n",
              "      <td>1</td>\n",
              "      <td>0</td>\n",
              "    </tr>\n",
              "    <tr>\n",
              "      <th>2</th>\n",
              "      <td>28</td>\n",
              "      <td>33.000</td>\n",
              "      <td>3</td>\n",
              "      <td>4449.46200</td>\n",
              "      <td>0</td>\n",
              "      <td>1</td>\n",
              "      <td>1</td>\n",
              "      <td>0</td>\n",
              "      <td>0</td>\n",
              "      <td>0</td>\n",
              "      <td>1</td>\n",
              "      <td>0</td>\n",
              "    </tr>\n",
              "    <tr>\n",
              "      <th>3</th>\n",
              "      <td>33</td>\n",
              "      <td>22.705</td>\n",
              "      <td>0</td>\n",
              "      <td>21984.47061</td>\n",
              "      <td>0</td>\n",
              "      <td>1</td>\n",
              "      <td>1</td>\n",
              "      <td>0</td>\n",
              "      <td>0</td>\n",
              "      <td>1</td>\n",
              "      <td>0</td>\n",
              "      <td>0</td>\n",
              "    </tr>\n",
              "    <tr>\n",
              "      <th>4</th>\n",
              "      <td>32</td>\n",
              "      <td>28.880</td>\n",
              "      <td>0</td>\n",
              "      <td>3866.85520</td>\n",
              "      <td>0</td>\n",
              "      <td>1</td>\n",
              "      <td>1</td>\n",
              "      <td>0</td>\n",
              "      <td>0</td>\n",
              "      <td>1</td>\n",
              "      <td>0</td>\n",
              "      <td>0</td>\n",
              "    </tr>\n",
              "  </tbody>\n",
              "</table>\n",
              "</div>\n",
              "      <button class=\"colab-df-convert\" onclick=\"convertToInteractive('df-f4dc52e1-c803-4e68-bb80-8a32a90179d3')\"\n",
              "              title=\"Convert this dataframe to an interactive table.\"\n",
              "              style=\"display:none;\">\n",
              "        \n",
              "  <svg xmlns=\"http://www.w3.org/2000/svg\" height=\"24px\"viewBox=\"0 0 24 24\"\n",
              "       width=\"24px\">\n",
              "    <path d=\"M0 0h24v24H0V0z\" fill=\"none\"/>\n",
              "    <path d=\"M18.56 5.44l.94 2.06.94-2.06 2.06-.94-2.06-.94-.94-2.06-.94 2.06-2.06.94zm-11 1L8.5 8.5l.94-2.06 2.06-.94-2.06-.94L8.5 2.5l-.94 2.06-2.06.94zm10 10l.94 2.06.94-2.06 2.06-.94-2.06-.94-.94-2.06-.94 2.06-2.06.94z\"/><path d=\"M17.41 7.96l-1.37-1.37c-.4-.4-.92-.59-1.43-.59-.52 0-1.04.2-1.43.59L10.3 9.45l-7.72 7.72c-.78.78-.78 2.05 0 2.83L4 21.41c.39.39.9.59 1.41.59.51 0 1.02-.2 1.41-.59l7.78-7.78 2.81-2.81c.8-.78.8-2.07 0-2.86zM5.41 20L4 18.59l7.72-7.72 1.47 1.35L5.41 20z\"/>\n",
              "  </svg>\n",
              "      </button>\n",
              "      \n",
              "  <style>\n",
              "    .colab-df-container {\n",
              "      display:flex;\n",
              "      flex-wrap:wrap;\n",
              "      gap: 12px;\n",
              "    }\n",
              "\n",
              "    .colab-df-convert {\n",
              "      background-color: #E8F0FE;\n",
              "      border: none;\n",
              "      border-radius: 50%;\n",
              "      cursor: pointer;\n",
              "      display: none;\n",
              "      fill: #1967D2;\n",
              "      height: 32px;\n",
              "      padding: 0 0 0 0;\n",
              "      width: 32px;\n",
              "    }\n",
              "\n",
              "    .colab-df-convert:hover {\n",
              "      background-color: #E2EBFA;\n",
              "      box-shadow: 0px 1px 2px rgba(60, 64, 67, 0.3), 0px 1px 3px 1px rgba(60, 64, 67, 0.15);\n",
              "      fill: #174EA6;\n",
              "    }\n",
              "\n",
              "    [theme=dark] .colab-df-convert {\n",
              "      background-color: #3B4455;\n",
              "      fill: #D2E3FC;\n",
              "    }\n",
              "\n",
              "    [theme=dark] .colab-df-convert:hover {\n",
              "      background-color: #434B5C;\n",
              "      box-shadow: 0px 1px 3px 1px rgba(0, 0, 0, 0.15);\n",
              "      filter: drop-shadow(0px 1px 2px rgba(0, 0, 0, 0.3));\n",
              "      fill: #FFFFFF;\n",
              "    }\n",
              "  </style>\n",
              "\n",
              "      <script>\n",
              "        const buttonEl =\n",
              "          document.querySelector('#df-f4dc52e1-c803-4e68-bb80-8a32a90179d3 button.colab-df-convert');\n",
              "        buttonEl.style.display =\n",
              "          google.colab.kernel.accessAllowed ? 'block' : 'none';\n",
              "\n",
              "        async function convertToInteractive(key) {\n",
              "          const element = document.querySelector('#df-f4dc52e1-c803-4e68-bb80-8a32a90179d3');\n",
              "          const dataTable =\n",
              "            await google.colab.kernel.invokeFunction('convertToInteractive',\n",
              "                                                     [key], {});\n",
              "          if (!dataTable) return;\n",
              "\n",
              "          const docLinkHtml = 'Like what you see? Visit the ' +\n",
              "            '<a target=\"_blank\" href=https://colab.research.google.com/notebooks/data_table.ipynb>data table notebook</a>'\n",
              "            + ' to learn more about interactive tables.';\n",
              "          element.innerHTML = '';\n",
              "          dataTable['output_type'] = 'display_data';\n",
              "          await google.colab.output.renderOutput(dataTable, element);\n",
              "          const docLink = document.createElement('div');\n",
              "          docLink.innerHTML = docLinkHtml;\n",
              "          element.appendChild(docLink);\n",
              "        }\n",
              "      </script>\n",
              "    </div>\n",
              "  </div>\n",
              "  "
            ]
          },
          "metadata": {},
          "execution_count": 141
        }
      ]
    },
    {
      "cell_type": "code",
      "source": [
        "#Creating feature and label set\n",
        "X=insurance_one_hot.drop(columns=\"charges\")\n",
        "y= insurance_one_hot[\"charges\"]\n"
      ],
      "metadata": {
        "id": "JxOR1gXD2JIK"
      },
      "execution_count": 142,
      "outputs": []
    },
    {
      "cell_type": "code",
      "source": [
        "X"
      ],
      "metadata": {
        "colab": {
          "base_uri": "https://localhost:8080/",
          "height": 423
        },
        "id": "Kyh6d4kI7kTT",
        "outputId": "e167092c-7a58-4974-c717-ac238934e25c"
      },
      "execution_count": 143,
      "outputs": [
        {
          "output_type": "execute_result",
          "data": {
            "text/plain": [
              "      age     bmi  children  sex_female  sex_male  smoker_no  smoker_yes  \\\n",
              "0      19  27.900         0           1         0          0           1   \n",
              "1      18  33.770         1           0         1          1           0   \n",
              "2      28  33.000         3           0         1          1           0   \n",
              "3      33  22.705         0           0         1          1           0   \n",
              "4      32  28.880         0           0         1          1           0   \n",
              "...   ...     ...       ...         ...       ...        ...         ...   \n",
              "1333   50  30.970         3           0         1          1           0   \n",
              "1334   18  31.920         0           1         0          1           0   \n",
              "1335   18  36.850         0           1         0          1           0   \n",
              "1336   21  25.800         0           1         0          1           0   \n",
              "1337   61  29.070         0           1         0          0           1   \n",
              "\n",
              "      region_northeast  region_northwest  region_southeast  region_southwest  \n",
              "0                    0                 0                 0                 1  \n",
              "1                    0                 0                 1                 0  \n",
              "2                    0                 0                 1                 0  \n",
              "3                    0                 1                 0                 0  \n",
              "4                    0                 1                 0                 0  \n",
              "...                ...               ...               ...               ...  \n",
              "1333                 0                 1                 0                 0  \n",
              "1334                 1                 0                 0                 0  \n",
              "1335                 0                 0                 1                 0  \n",
              "1336                 0                 0                 0                 1  \n",
              "1337                 0                 1                 0                 0  \n",
              "\n",
              "[1338 rows x 11 columns]"
            ],
            "text/html": [
              "\n",
              "  <div id=\"df-64ca076c-fe14-496b-96da-caff510c3870\">\n",
              "    <div class=\"colab-df-container\">\n",
              "      <div>\n",
              "<style scoped>\n",
              "    .dataframe tbody tr th:only-of-type {\n",
              "        vertical-align: middle;\n",
              "    }\n",
              "\n",
              "    .dataframe tbody tr th {\n",
              "        vertical-align: top;\n",
              "    }\n",
              "\n",
              "    .dataframe thead th {\n",
              "        text-align: right;\n",
              "    }\n",
              "</style>\n",
              "<table border=\"1\" class=\"dataframe\">\n",
              "  <thead>\n",
              "    <tr style=\"text-align: right;\">\n",
              "      <th></th>\n",
              "      <th>age</th>\n",
              "      <th>bmi</th>\n",
              "      <th>children</th>\n",
              "      <th>sex_female</th>\n",
              "      <th>sex_male</th>\n",
              "      <th>smoker_no</th>\n",
              "      <th>smoker_yes</th>\n",
              "      <th>region_northeast</th>\n",
              "      <th>region_northwest</th>\n",
              "      <th>region_southeast</th>\n",
              "      <th>region_southwest</th>\n",
              "    </tr>\n",
              "  </thead>\n",
              "  <tbody>\n",
              "    <tr>\n",
              "      <th>0</th>\n",
              "      <td>19</td>\n",
              "      <td>27.900</td>\n",
              "      <td>0</td>\n",
              "      <td>1</td>\n",
              "      <td>0</td>\n",
              "      <td>0</td>\n",
              "      <td>1</td>\n",
              "      <td>0</td>\n",
              "      <td>0</td>\n",
              "      <td>0</td>\n",
              "      <td>1</td>\n",
              "    </tr>\n",
              "    <tr>\n",
              "      <th>1</th>\n",
              "      <td>18</td>\n",
              "      <td>33.770</td>\n",
              "      <td>1</td>\n",
              "      <td>0</td>\n",
              "      <td>1</td>\n",
              "      <td>1</td>\n",
              "      <td>0</td>\n",
              "      <td>0</td>\n",
              "      <td>0</td>\n",
              "      <td>1</td>\n",
              "      <td>0</td>\n",
              "    </tr>\n",
              "    <tr>\n",
              "      <th>2</th>\n",
              "      <td>28</td>\n",
              "      <td>33.000</td>\n",
              "      <td>3</td>\n",
              "      <td>0</td>\n",
              "      <td>1</td>\n",
              "      <td>1</td>\n",
              "      <td>0</td>\n",
              "      <td>0</td>\n",
              "      <td>0</td>\n",
              "      <td>1</td>\n",
              "      <td>0</td>\n",
              "    </tr>\n",
              "    <tr>\n",
              "      <th>3</th>\n",
              "      <td>33</td>\n",
              "      <td>22.705</td>\n",
              "      <td>0</td>\n",
              "      <td>0</td>\n",
              "      <td>1</td>\n",
              "      <td>1</td>\n",
              "      <td>0</td>\n",
              "      <td>0</td>\n",
              "      <td>1</td>\n",
              "      <td>0</td>\n",
              "      <td>0</td>\n",
              "    </tr>\n",
              "    <tr>\n",
              "      <th>4</th>\n",
              "      <td>32</td>\n",
              "      <td>28.880</td>\n",
              "      <td>0</td>\n",
              "      <td>0</td>\n",
              "      <td>1</td>\n",
              "      <td>1</td>\n",
              "      <td>0</td>\n",
              "      <td>0</td>\n",
              "      <td>1</td>\n",
              "      <td>0</td>\n",
              "      <td>0</td>\n",
              "    </tr>\n",
              "    <tr>\n",
              "      <th>...</th>\n",
              "      <td>...</td>\n",
              "      <td>...</td>\n",
              "      <td>...</td>\n",
              "      <td>...</td>\n",
              "      <td>...</td>\n",
              "      <td>...</td>\n",
              "      <td>...</td>\n",
              "      <td>...</td>\n",
              "      <td>...</td>\n",
              "      <td>...</td>\n",
              "      <td>...</td>\n",
              "    </tr>\n",
              "    <tr>\n",
              "      <th>1333</th>\n",
              "      <td>50</td>\n",
              "      <td>30.970</td>\n",
              "      <td>3</td>\n",
              "      <td>0</td>\n",
              "      <td>1</td>\n",
              "      <td>1</td>\n",
              "      <td>0</td>\n",
              "      <td>0</td>\n",
              "      <td>1</td>\n",
              "      <td>0</td>\n",
              "      <td>0</td>\n",
              "    </tr>\n",
              "    <tr>\n",
              "      <th>1334</th>\n",
              "      <td>18</td>\n",
              "      <td>31.920</td>\n",
              "      <td>0</td>\n",
              "      <td>1</td>\n",
              "      <td>0</td>\n",
              "      <td>1</td>\n",
              "      <td>0</td>\n",
              "      <td>1</td>\n",
              "      <td>0</td>\n",
              "      <td>0</td>\n",
              "      <td>0</td>\n",
              "    </tr>\n",
              "    <tr>\n",
              "      <th>1335</th>\n",
              "      <td>18</td>\n",
              "      <td>36.850</td>\n",
              "      <td>0</td>\n",
              "      <td>1</td>\n",
              "      <td>0</td>\n",
              "      <td>1</td>\n",
              "      <td>0</td>\n",
              "      <td>0</td>\n",
              "      <td>0</td>\n",
              "      <td>1</td>\n",
              "      <td>0</td>\n",
              "    </tr>\n",
              "    <tr>\n",
              "      <th>1336</th>\n",
              "      <td>21</td>\n",
              "      <td>25.800</td>\n",
              "      <td>0</td>\n",
              "      <td>1</td>\n",
              "      <td>0</td>\n",
              "      <td>1</td>\n",
              "      <td>0</td>\n",
              "      <td>0</td>\n",
              "      <td>0</td>\n",
              "      <td>0</td>\n",
              "      <td>1</td>\n",
              "    </tr>\n",
              "    <tr>\n",
              "      <th>1337</th>\n",
              "      <td>61</td>\n",
              "      <td>29.070</td>\n",
              "      <td>0</td>\n",
              "      <td>1</td>\n",
              "      <td>0</td>\n",
              "      <td>0</td>\n",
              "      <td>1</td>\n",
              "      <td>0</td>\n",
              "      <td>1</td>\n",
              "      <td>0</td>\n",
              "      <td>0</td>\n",
              "    </tr>\n",
              "  </tbody>\n",
              "</table>\n",
              "<p>1338 rows × 11 columns</p>\n",
              "</div>\n",
              "      <button class=\"colab-df-convert\" onclick=\"convertToInteractive('df-64ca076c-fe14-496b-96da-caff510c3870')\"\n",
              "              title=\"Convert this dataframe to an interactive table.\"\n",
              "              style=\"display:none;\">\n",
              "        \n",
              "  <svg xmlns=\"http://www.w3.org/2000/svg\" height=\"24px\"viewBox=\"0 0 24 24\"\n",
              "       width=\"24px\">\n",
              "    <path d=\"M0 0h24v24H0V0z\" fill=\"none\"/>\n",
              "    <path d=\"M18.56 5.44l.94 2.06.94-2.06 2.06-.94-2.06-.94-.94-2.06-.94 2.06-2.06.94zm-11 1L8.5 8.5l.94-2.06 2.06-.94-2.06-.94L8.5 2.5l-.94 2.06-2.06.94zm10 10l.94 2.06.94-2.06 2.06-.94-2.06-.94-.94-2.06-.94 2.06-2.06.94z\"/><path d=\"M17.41 7.96l-1.37-1.37c-.4-.4-.92-.59-1.43-.59-.52 0-1.04.2-1.43.59L10.3 9.45l-7.72 7.72c-.78.78-.78 2.05 0 2.83L4 21.41c.39.39.9.59 1.41.59.51 0 1.02-.2 1.41-.59l7.78-7.78 2.81-2.81c.8-.78.8-2.07 0-2.86zM5.41 20L4 18.59l7.72-7.72 1.47 1.35L5.41 20z\"/>\n",
              "  </svg>\n",
              "      </button>\n",
              "      \n",
              "  <style>\n",
              "    .colab-df-container {\n",
              "      display:flex;\n",
              "      flex-wrap:wrap;\n",
              "      gap: 12px;\n",
              "    }\n",
              "\n",
              "    .colab-df-convert {\n",
              "      background-color: #E8F0FE;\n",
              "      border: none;\n",
              "      border-radius: 50%;\n",
              "      cursor: pointer;\n",
              "      display: none;\n",
              "      fill: #1967D2;\n",
              "      height: 32px;\n",
              "      padding: 0 0 0 0;\n",
              "      width: 32px;\n",
              "    }\n",
              "\n",
              "    .colab-df-convert:hover {\n",
              "      background-color: #E2EBFA;\n",
              "      box-shadow: 0px 1px 2px rgba(60, 64, 67, 0.3), 0px 1px 3px 1px rgba(60, 64, 67, 0.15);\n",
              "      fill: #174EA6;\n",
              "    }\n",
              "\n",
              "    [theme=dark] .colab-df-convert {\n",
              "      background-color: #3B4455;\n",
              "      fill: #D2E3FC;\n",
              "    }\n",
              "\n",
              "    [theme=dark] .colab-df-convert:hover {\n",
              "      background-color: #434B5C;\n",
              "      box-shadow: 0px 1px 3px 1px rgba(0, 0, 0, 0.15);\n",
              "      filter: drop-shadow(0px 1px 2px rgba(0, 0, 0, 0.3));\n",
              "      fill: #FFFFFF;\n",
              "    }\n",
              "  </style>\n",
              "\n",
              "      <script>\n",
              "        const buttonEl =\n",
              "          document.querySelector('#df-64ca076c-fe14-496b-96da-caff510c3870 button.colab-df-convert');\n",
              "        buttonEl.style.display =\n",
              "          google.colab.kernel.accessAllowed ? 'block' : 'none';\n",
              "\n",
              "        async function convertToInteractive(key) {\n",
              "          const element = document.querySelector('#df-64ca076c-fe14-496b-96da-caff510c3870');\n",
              "          const dataTable =\n",
              "            await google.colab.kernel.invokeFunction('convertToInteractive',\n",
              "                                                     [key], {});\n",
              "          if (!dataTable) return;\n",
              "\n",
              "          const docLinkHtml = 'Like what you see? Visit the ' +\n",
              "            '<a target=\"_blank\" href=https://colab.research.google.com/notebooks/data_table.ipynb>data table notebook</a>'\n",
              "            + ' to learn more about interactive tables.';\n",
              "          element.innerHTML = '';\n",
              "          dataTable['output_type'] = 'display_data';\n",
              "          await google.colab.output.renderOutput(dataTable, element);\n",
              "          const docLink = document.createElement('div');\n",
              "          docLink.innerHTML = docLinkHtml;\n",
              "          element.appendChild(docLink);\n",
              "        }\n",
              "      </script>\n",
              "    </div>\n",
              "  </div>\n",
              "  "
            ]
          },
          "metadata": {},
          "execution_count": 143
        }
      ]
    },
    {
      "cell_type": "code",
      "source": [
        "#Creatin gTrainijng and testing set\n",
        "\n",
        "X_train = X[:1100]\n",
        "X_test= X[1100:]\n",
        "\n",
        "y_train = y[:1100]\n",
        "y_test  = y[1100:]\n"
      ],
      "metadata": {
        "id": "-RCY0GhRxxyh"
      },
      "execution_count": 144,
      "outputs": []
    },
    {
      "cell_type": "code",
      "source": [],
      "metadata": {
        "id": "lDoL3MSH81CZ"
      },
      "execution_count": 144,
      "outputs": []
    },
    {
      "cell_type": "code",
      "source": [
        "# Building a Network\n",
        "\n",
        "#1. setting random seed\n",
        "tf.random.set_seed(42)\n",
        "\n",
        "model = tf.keras.Sequential([\n",
        "    tf.keras.layers.Dense(10),\n",
        "    tf.keras.layers.Dense(1)\n",
        "])\n",
        "\n",
        "#2. Compiling the model\n",
        "model.compile(loss= tf.keras.losses.MAE,\n",
        "              optimizer= tf.optimizers.SGD(),\n",
        "              metrics=[\"mae\"])\n",
        "\n",
        "#fitting the model\n",
        "model.fit(X_train,y_train, epochs=100)"
      ],
      "metadata": {
        "colab": {
          "base_uri": "https://localhost:8080/"
        },
        "id": "CG-kAWEv65vy",
        "outputId": "83fbb980-f44d-4cd3-ab36-4ebcb8643227"
      },
      "execution_count": 145,
      "outputs": [
        {
          "output_type": "stream",
          "name": "stdout",
          "text": [
            "Epoch 1/100\n",
            "35/35 [==============================] - 0s 2ms/step - loss: 8482.9092 - mae: 8482.9092\n",
            "Epoch 2/100\n",
            "35/35 [==============================] - 0s 2ms/step - loss: 7618.0093 - mae: 7618.0093\n",
            "Epoch 3/100\n",
            "35/35 [==============================] - 0s 2ms/step - loss: 7546.5508 - mae: 7546.5508\n",
            "Epoch 4/100\n",
            "35/35 [==============================] - 0s 2ms/step - loss: 7593.7617 - mae: 7593.7617\n",
            "Epoch 5/100\n",
            "35/35 [==============================] - 0s 2ms/step - loss: 7615.5024 - mae: 7615.5024\n",
            "Epoch 6/100\n",
            "35/35 [==============================] - 0s 2ms/step - loss: 7635.7310 - mae: 7635.7310\n",
            "Epoch 7/100\n",
            "35/35 [==============================] - 0s 2ms/step - loss: 7688.9199 - mae: 7688.9199\n",
            "Epoch 8/100\n",
            "35/35 [==============================] - 0s 2ms/step - loss: 7500.2529 - mae: 7500.2529\n",
            "Epoch 9/100\n",
            "35/35 [==============================] - 0s 2ms/step - loss: 7438.0454 - mae: 7438.0454\n",
            "Epoch 10/100\n",
            "35/35 [==============================] - 0s 2ms/step - loss: 7764.4346 - mae: 7764.4346\n",
            "Epoch 11/100\n",
            "35/35 [==============================] - 0s 2ms/step - loss: 7618.3916 - mae: 7618.3916\n",
            "Epoch 12/100\n",
            "35/35 [==============================] - 0s 2ms/step - loss: 7615.2617 - mae: 7615.2617\n",
            "Epoch 13/100\n",
            "35/35 [==============================] - 0s 2ms/step - loss: 7178.2246 - mae: 7178.2246\n",
            "Epoch 14/100\n",
            "35/35 [==============================] - 0s 2ms/step - loss: 7587.9243 - mae: 7587.9243\n",
            "Epoch 15/100\n",
            "35/35 [==============================] - 0s 2ms/step - loss: 7547.3057 - mae: 7547.3057\n",
            "Epoch 16/100\n",
            "35/35 [==============================] - 0s 2ms/step - loss: 7425.4365 - mae: 7425.4365\n",
            "Epoch 17/100\n",
            "35/35 [==============================] - 0s 2ms/step - loss: 7703.1245 - mae: 7703.1245\n",
            "Epoch 18/100\n",
            "35/35 [==============================] - 0s 2ms/step - loss: 7575.3584 - mae: 7575.3584\n",
            "Epoch 19/100\n",
            "35/35 [==============================] - 0s 1ms/step - loss: 7852.7671 - mae: 7852.7671\n",
            "Epoch 20/100\n",
            "35/35 [==============================] - 0s 2ms/step - loss: 7330.2598 - mae: 7330.2598\n",
            "Epoch 21/100\n",
            "35/35 [==============================] - 0s 2ms/step - loss: 7415.4307 - mae: 7415.4307\n",
            "Epoch 22/100\n",
            "35/35 [==============================] - 0s 1ms/step - loss: 7533.4424 - mae: 7533.4424\n",
            "Epoch 23/100\n",
            "35/35 [==============================] - 0s 2ms/step - loss: 7542.1616 - mae: 7542.1616\n",
            "Epoch 24/100\n",
            "35/35 [==============================] - 0s 2ms/step - loss: 7533.9834 - mae: 7533.9834\n",
            "Epoch 25/100\n",
            "35/35 [==============================] - 0s 2ms/step - loss: 7650.6045 - mae: 7650.6045\n",
            "Epoch 26/100\n",
            "35/35 [==============================] - 0s 2ms/step - loss: 7571.4839 - mae: 7571.4839\n",
            "Epoch 27/100\n",
            "35/35 [==============================] - 0s 2ms/step - loss: 7514.8818 - mae: 7514.8818\n",
            "Epoch 28/100\n",
            "35/35 [==============================] - 0s 1ms/step - loss: 7426.9346 - mae: 7426.9346\n",
            "Epoch 29/100\n",
            "35/35 [==============================] - 0s 1ms/step - loss: 7233.6919 - mae: 7233.6919\n",
            "Epoch 30/100\n",
            "35/35 [==============================] - 0s 2ms/step - loss: 7557.8936 - mae: 7557.8936\n",
            "Epoch 31/100\n",
            "35/35 [==============================] - 0s 1ms/step - loss: 7400.2725 - mae: 7400.2725\n",
            "Epoch 32/100\n",
            "35/35 [==============================] - 0s 2ms/step - loss: 7660.6201 - mae: 7660.6201\n",
            "Epoch 33/100\n",
            "35/35 [==============================] - 0s 1ms/step - loss: 7568.7427 - mae: 7568.7427\n",
            "Epoch 34/100\n",
            "35/35 [==============================] - 0s 2ms/step - loss: 7587.1250 - mae: 7587.1250\n",
            "Epoch 35/100\n",
            "35/35 [==============================] - 0s 1ms/step - loss: 7493.1660 - mae: 7493.1660\n",
            "Epoch 36/100\n",
            "35/35 [==============================] - 0s 2ms/step - loss: 7224.6846 - mae: 7224.6846\n",
            "Epoch 37/100\n",
            "35/35 [==============================] - 0s 1ms/step - loss: 7348.0967 - mae: 7348.0967\n",
            "Epoch 38/100\n",
            "35/35 [==============================] - 0s 1ms/step - loss: 7465.2720 - mae: 7465.2720\n",
            "Epoch 39/100\n",
            "35/35 [==============================] - 0s 2ms/step - loss: 7558.3481 - mae: 7558.3481\n",
            "Epoch 40/100\n",
            "35/35 [==============================] - 0s 1ms/step - loss: 7737.2646 - mae: 7737.2646\n",
            "Epoch 41/100\n",
            "35/35 [==============================] - 0s 2ms/step - loss: 7453.7212 - mae: 7453.7212\n",
            "Epoch 42/100\n",
            "35/35 [==============================] - 0s 1ms/step - loss: 7474.5820 - mae: 7474.5820\n",
            "Epoch 43/100\n",
            "35/35 [==============================] - 0s 2ms/step - loss: 7523.6865 - mae: 7523.6865\n",
            "Epoch 44/100\n",
            "35/35 [==============================] - 0s 2ms/step - loss: 7440.5229 - mae: 7440.5229\n",
            "Epoch 45/100\n",
            "35/35 [==============================] - 0s 2ms/step - loss: 7351.7212 - mae: 7351.7212\n",
            "Epoch 46/100\n",
            "35/35 [==============================] - 0s 2ms/step - loss: 7623.7368 - mae: 7623.7368\n",
            "Epoch 47/100\n",
            "35/35 [==============================] - 0s 2ms/step - loss: 7358.2798 - mae: 7358.2798\n",
            "Epoch 48/100\n",
            "35/35 [==============================] - 0s 1ms/step - loss: 7299.1099 - mae: 7299.1099\n",
            "Epoch 49/100\n",
            "35/35 [==============================] - 0s 1ms/step - loss: 7279.9634 - mae: 7279.9634\n",
            "Epoch 50/100\n",
            "35/35 [==============================] - 0s 1ms/step - loss: 7552.2334 - mae: 7552.2334\n",
            "Epoch 51/100\n",
            "35/35 [==============================] - 0s 1ms/step - loss: 7257.1919 - mae: 7257.1919\n",
            "Epoch 52/100\n",
            "35/35 [==============================] - 0s 1ms/step - loss: 7575.1631 - mae: 7575.1631\n",
            "Epoch 53/100\n",
            "35/35 [==============================] - 0s 1ms/step - loss: 7252.6396 - mae: 7252.6396\n",
            "Epoch 54/100\n",
            "35/35 [==============================] - 0s 2ms/step - loss: 7369.6938 - mae: 7369.6938\n",
            "Epoch 55/100\n",
            "35/35 [==============================] - 0s 1ms/step - loss: 7489.3501 - mae: 7489.3501\n",
            "Epoch 56/100\n",
            "35/35 [==============================] - 0s 2ms/step - loss: 7366.1035 - mae: 7366.1035\n",
            "Epoch 57/100\n",
            "35/35 [==============================] - 0s 1ms/step - loss: 7320.8335 - mae: 7320.8335\n",
            "Epoch 58/100\n",
            "35/35 [==============================] - 0s 1ms/step - loss: 7378.3008 - mae: 7378.3008\n",
            "Epoch 59/100\n",
            "35/35 [==============================] - 0s 2ms/step - loss: 7343.9658 - mae: 7343.9658\n",
            "Epoch 60/100\n",
            "35/35 [==============================] - 0s 1ms/step - loss: 7346.5415 - mae: 7346.5415\n",
            "Epoch 61/100\n",
            "35/35 [==============================] - 0s 2ms/step - loss: 7532.6274 - mae: 7532.6274\n",
            "Epoch 62/100\n",
            "35/35 [==============================] - 0s 2ms/step - loss: 7386.6250 - mae: 7386.6250\n",
            "Epoch 63/100\n",
            "35/35 [==============================] - 0s 1ms/step - loss: 7320.1616 - mae: 7320.1616\n",
            "Epoch 64/100\n",
            "35/35 [==============================] - 0s 2ms/step - loss: 7228.4761 - mae: 7228.4761\n",
            "Epoch 65/100\n",
            "35/35 [==============================] - 0s 1ms/step - loss: 7428.3911 - mae: 7428.3911\n",
            "Epoch 66/100\n",
            "35/35 [==============================] - 0s 2ms/step - loss: 7307.0532 - mae: 7307.0532\n",
            "Epoch 67/100\n",
            "35/35 [==============================] - 0s 2ms/step - loss: 7405.0659 - mae: 7405.0659\n",
            "Epoch 68/100\n",
            "35/35 [==============================] - 0s 2ms/step - loss: 7253.8950 - mae: 7253.8950\n",
            "Epoch 69/100\n",
            "35/35 [==============================] - 0s 2ms/step - loss: 7480.1851 - mae: 7480.1851\n",
            "Epoch 70/100\n",
            "35/35 [==============================] - 0s 1ms/step - loss: 7382.2510 - mae: 7382.2510\n",
            "Epoch 71/100\n",
            "35/35 [==============================] - 0s 2ms/step - loss: 7505.1299 - mae: 7505.1299\n",
            "Epoch 72/100\n",
            "35/35 [==============================] - 0s 2ms/step - loss: 7333.9614 - mae: 7333.9614\n",
            "Epoch 73/100\n",
            "35/35 [==============================] - 0s 1ms/step - loss: 7062.1914 - mae: 7062.1914\n",
            "Epoch 74/100\n",
            "35/35 [==============================] - 0s 1ms/step - loss: 7293.5532 - mae: 7293.5532\n",
            "Epoch 75/100\n",
            "35/35 [==============================] - 0s 1ms/step - loss: 7387.3711 - mae: 7387.3711\n",
            "Epoch 76/100\n",
            "35/35 [==============================] - 0s 2ms/step - loss: 7342.4834 - mae: 7342.4834\n",
            "Epoch 77/100\n",
            "35/35 [==============================] - 0s 2ms/step - loss: 7322.0591 - mae: 7322.0591\n",
            "Epoch 78/100\n",
            "35/35 [==============================] - 0s 1ms/step - loss: 7434.1650 - mae: 7434.1650\n",
            "Epoch 79/100\n",
            "35/35 [==============================] - 0s 1ms/step - loss: 7409.2739 - mae: 7409.2739\n",
            "Epoch 80/100\n",
            "35/35 [==============================] - 0s 1ms/step - loss: 7418.4829 - mae: 7418.4829\n",
            "Epoch 81/100\n",
            "35/35 [==============================] - 0s 2ms/step - loss: 7198.3647 - mae: 7198.3647\n",
            "Epoch 82/100\n",
            "35/35 [==============================] - 0s 1ms/step - loss: 7384.2241 - mae: 7384.2241\n",
            "Epoch 83/100\n",
            "35/35 [==============================] - 0s 1ms/step - loss: 7339.0796 - mae: 7339.0796\n",
            "Epoch 84/100\n",
            "35/35 [==============================] - 0s 1ms/step - loss: 7086.5239 - mae: 7086.5239\n",
            "Epoch 85/100\n",
            "35/35 [==============================] - 0s 1ms/step - loss: 7266.0430 - mae: 7266.0430\n",
            "Epoch 86/100\n",
            "35/35 [==============================] - 0s 1ms/step - loss: 7494.0352 - mae: 7494.0352\n",
            "Epoch 87/100\n",
            "35/35 [==============================] - 0s 2ms/step - loss: 7465.1826 - mae: 7465.1826\n",
            "Epoch 88/100\n",
            "35/35 [==============================] - 0s 1ms/step - loss: 7047.7729 - mae: 7047.7729\n",
            "Epoch 89/100\n",
            "35/35 [==============================] - 0s 2ms/step - loss: 7336.8066 - mae: 7336.8066\n",
            "Epoch 90/100\n",
            "35/35 [==============================] - 0s 1ms/step - loss: 7285.9468 - mae: 7285.9468\n",
            "Epoch 91/100\n",
            "35/35 [==============================] - 0s 2ms/step - loss: 7265.5278 - mae: 7265.5278\n",
            "Epoch 92/100\n",
            "35/35 [==============================] - 0s 2ms/step - loss: 7104.5996 - mae: 7104.5996\n",
            "Epoch 93/100\n",
            "35/35 [==============================] - 0s 2ms/step - loss: 7323.9668 - mae: 7323.9668\n",
            "Epoch 94/100\n",
            "35/35 [==============================] - 0s 2ms/step - loss: 7439.7798 - mae: 7439.7798\n",
            "Epoch 95/100\n",
            "35/35 [==============================] - 0s 2ms/step - loss: 7137.4502 - mae: 7137.4502\n",
            "Epoch 96/100\n",
            "35/35 [==============================] - 0s 1ms/step - loss: 6911.4614 - mae: 6911.4614\n",
            "Epoch 97/100\n",
            "35/35 [==============================] - 0s 2ms/step - loss: 7306.7217 - mae: 7306.7217\n",
            "Epoch 98/100\n",
            "35/35 [==============================] - 0s 1ms/step - loss: 7212.9199 - mae: 7212.9199\n",
            "Epoch 99/100\n",
            "35/35 [==============================] - 0s 2ms/step - loss: 7054.2686 - mae: 7054.2686\n",
            "Epoch 100/100\n",
            "35/35 [==============================] - 0s 1ms/step - loss: 6982.1982 - mae: 6982.1982\n"
          ]
        },
        {
          "output_type": "execute_result",
          "data": {
            "text/plain": [
              "<keras.callbacks.History at 0x7fc831733550>"
            ]
          },
          "metadata": {},
          "execution_count": 145
        }
      ]
    },
    {
      "cell_type": "code",
      "source": [
        "# check the reslts of prediction\n",
        "model.evaluate(X_test, y_test)"
      ],
      "metadata": {
        "id": "p8pCvbcg_EYF",
        "colab": {
          "base_uri": "https://localhost:8080/"
        },
        "outputId": "722f601e-3796-4b39-9d73-d0aa43171642"
      },
      "execution_count": 146,
      "outputs": [
        {
          "output_type": "stream",
          "name": "stdout",
          "text": [
            "8/8 [==============================] - 0s 2ms/step - loss: 6788.2720 - mae: 6788.2720\n"
          ]
        },
        {
          "output_type": "execute_result",
          "data": {
            "text/plain": [
              "[6788.27197265625, 6788.27197265625]"
            ]
          },
          "metadata": {},
          "execution_count": 146
        }
      ]
    },
    {
      "cell_type": "markdown",
      "source": [
        "\n",
        " Right now the mnodel is not performing well\n",
        " We should now improve\n",
        "\n",
        " 1. Add extra layer\n",
        " 2. train for longer\n",
        " 3. (insert your own experiment here)\n",
        "\n"
      ],
      "metadata": {
        "id": "SxO-geVLRB9W"
      }
    },
    {
      "cell_type": "code",
      "source": [
        "# Set random seed\n",
        "tf.random.set_seed(47)\n",
        "\n",
        "#1.Make the model\n",
        "model_2= tf.keras.Sequential([\n",
        "    tf.keras.layers.Dense(100),\n",
        "    tf.keras.layers.Dense(10),\n",
        "    tf.keras.layers.Dense(1)\n",
        "])\n",
        "\n",
        "#2. Compile the model\n",
        "model_2.compile(loss= tf.keras.losses.MAE,\n",
        "              optimizer= tf.keras.optimizers.Adam(),\n",
        "              metrics= ['MAE']\n",
        "              )\n",
        "\n",
        "#3. Fit the model\n",
        "model_2.fit(X_train,y_train, epochs=100,verbose=1)"
      ],
      "metadata": {
        "colab": {
          "base_uri": "https://localhost:8080/"
        },
        "id": "U1El8-z1RUZq",
        "outputId": "9be66e44-db39-4ae7-e39c-8b9ad6c476c2"
      },
      "execution_count": 147,
      "outputs": [
        {
          "output_type": "stream",
          "name": "stdout",
          "text": [
            "Epoch 1/100\n",
            "35/35 [==============================] - 0s 2ms/step - loss: 13189.6719 - MAE: 13189.6719\n",
            "Epoch 2/100\n",
            "35/35 [==============================] - 0s 2ms/step - loss: 13004.4414 - MAE: 13004.4414\n",
            "Epoch 3/100\n",
            "35/35 [==============================] - 0s 2ms/step - loss: 12619.2480 - MAE: 12619.2480\n",
            "Epoch 4/100\n",
            "35/35 [==============================] - 0s 2ms/step - loss: 11863.6211 - MAE: 11863.6211\n",
            "Epoch 5/100\n",
            "35/35 [==============================] - 0s 2ms/step - loss: 10630.5713 - MAE: 10630.5713\n",
            "Epoch 6/100\n",
            "35/35 [==============================] - 0s 2ms/step - loss: 9140.6631 - MAE: 9140.6631\n",
            "Epoch 7/100\n",
            "35/35 [==============================] - 0s 2ms/step - loss: 7926.1680 - MAE: 7926.1680\n",
            "Epoch 8/100\n",
            "35/35 [==============================] - 0s 2ms/step - loss: 7471.3330 - MAE: 7471.3330\n",
            "Epoch 9/100\n",
            "35/35 [==============================] - 0s 2ms/step - loss: 7387.6128 - MAE: 7387.6128\n",
            "Epoch 10/100\n",
            "35/35 [==============================] - 0s 2ms/step - loss: 7360.9409 - MAE: 7360.9409\n",
            "Epoch 11/100\n",
            "35/35 [==============================] - 0s 2ms/step - loss: 7336.1313 - MAE: 7336.1313\n",
            "Epoch 12/100\n",
            "35/35 [==============================] - 0s 2ms/step - loss: 7304.7725 - MAE: 7304.7725\n",
            "Epoch 13/100\n",
            "35/35 [==============================] - 0s 2ms/step - loss: 7275.0132 - MAE: 7275.0132\n",
            "Epoch 14/100\n",
            "35/35 [==============================] - 0s 2ms/step - loss: 7246.2480 - MAE: 7246.2480\n",
            "Epoch 15/100\n",
            "35/35 [==============================] - 0s 2ms/step - loss: 7218.5386 - MAE: 7218.5386\n",
            "Epoch 16/100\n",
            "35/35 [==============================] - 0s 3ms/step - loss: 7186.1157 - MAE: 7186.1157\n",
            "Epoch 17/100\n",
            "35/35 [==============================] - 0s 2ms/step - loss: 7152.3257 - MAE: 7152.3257\n",
            "Epoch 18/100\n",
            "35/35 [==============================] - 0s 2ms/step - loss: 7118.0688 - MAE: 7118.0688\n",
            "Epoch 19/100\n",
            "35/35 [==============================] - 0s 2ms/step - loss: 7086.2690 - MAE: 7086.2690\n",
            "Epoch 20/100\n",
            "35/35 [==============================] - 0s 2ms/step - loss: 7050.6494 - MAE: 7050.6494\n",
            "Epoch 21/100\n",
            "35/35 [==============================] - 0s 2ms/step - loss: 7009.4976 - MAE: 7009.4976\n",
            "Epoch 22/100\n",
            "35/35 [==============================] - 0s 2ms/step - loss: 6969.4360 - MAE: 6969.4360\n",
            "Epoch 23/100\n",
            "35/35 [==============================] - 0s 2ms/step - loss: 6932.7197 - MAE: 6932.7197\n",
            "Epoch 24/100\n",
            "35/35 [==============================] - 0s 2ms/step - loss: 6890.8110 - MAE: 6890.8110\n",
            "Epoch 25/100\n",
            "35/35 [==============================] - 0s 2ms/step - loss: 6845.4121 - MAE: 6845.4121\n",
            "Epoch 26/100\n",
            "35/35 [==============================] - 0s 2ms/step - loss: 6801.9102 - MAE: 6801.9102\n",
            "Epoch 27/100\n",
            "35/35 [==============================] - 0s 2ms/step - loss: 6755.8682 - MAE: 6755.8682\n",
            "Epoch 28/100\n",
            "35/35 [==============================] - 0s 2ms/step - loss: 6708.5532 - MAE: 6708.5532\n",
            "Epoch 29/100\n",
            "35/35 [==============================] - 0s 2ms/step - loss: 6661.2100 - MAE: 6661.2100\n",
            "Epoch 30/100\n",
            "35/35 [==============================] - 0s 2ms/step - loss: 6612.4111 - MAE: 6612.4111\n",
            "Epoch 31/100\n",
            "35/35 [==============================] - 0s 2ms/step - loss: 6563.1880 - MAE: 6563.1880\n",
            "Epoch 32/100\n",
            "35/35 [==============================] - 0s 2ms/step - loss: 6516.5127 - MAE: 6516.5127\n",
            "Epoch 33/100\n",
            "35/35 [==============================] - 0s 3ms/step - loss: 6475.1597 - MAE: 6475.1597\n",
            "Epoch 34/100\n",
            "35/35 [==============================] - 0s 2ms/step - loss: 6442.0952 - MAE: 6442.0952\n",
            "Epoch 35/100\n",
            "35/35 [==============================] - 0s 2ms/step - loss: 6417.1392 - MAE: 6417.1392\n",
            "Epoch 36/100\n",
            "35/35 [==============================] - 0s 2ms/step - loss: 6388.4731 - MAE: 6388.4731\n",
            "Epoch 37/100\n",
            "35/35 [==============================] - 0s 2ms/step - loss: 6367.4233 - MAE: 6367.4233\n",
            "Epoch 38/100\n",
            "35/35 [==============================] - 0s 2ms/step - loss: 6350.2095 - MAE: 6350.2095\n",
            "Epoch 39/100\n",
            "35/35 [==============================] - 0s 2ms/step - loss: 6336.0923 - MAE: 6336.0923\n",
            "Epoch 40/100\n",
            "35/35 [==============================] - 0s 2ms/step - loss: 6319.8159 - MAE: 6319.8159\n",
            "Epoch 41/100\n",
            "35/35 [==============================] - 0s 2ms/step - loss: 6303.5254 - MAE: 6303.5254\n",
            "Epoch 42/100\n",
            "35/35 [==============================] - 0s 2ms/step - loss: 6291.0918 - MAE: 6291.0918\n",
            "Epoch 43/100\n",
            "35/35 [==============================] - 0s 2ms/step - loss: 6276.8657 - MAE: 6276.8657\n",
            "Epoch 44/100\n",
            "35/35 [==============================] - 0s 2ms/step - loss: 6262.5615 - MAE: 6262.5615\n",
            "Epoch 45/100\n",
            "35/35 [==============================] - 0s 2ms/step - loss: 6249.1074 - MAE: 6249.1074\n",
            "Epoch 46/100\n",
            "35/35 [==============================] - 0s 2ms/step - loss: 6235.0586 - MAE: 6235.0586\n",
            "Epoch 47/100\n",
            "35/35 [==============================] - 0s 2ms/step - loss: 6222.0273 - MAE: 6222.0273\n",
            "Epoch 48/100\n",
            "35/35 [==============================] - 0s 2ms/step - loss: 6209.7036 - MAE: 6209.7036\n",
            "Epoch 49/100\n",
            "35/35 [==============================] - 0s 2ms/step - loss: 6197.5142 - MAE: 6197.5142\n",
            "Epoch 50/100\n",
            "35/35 [==============================] - 0s 2ms/step - loss: 6180.8740 - MAE: 6180.8740\n",
            "Epoch 51/100\n",
            "35/35 [==============================] - 0s 2ms/step - loss: 6166.0205 - MAE: 6166.0205\n",
            "Epoch 52/100\n",
            "35/35 [==============================] - 0s 2ms/step - loss: 6156.9082 - MAE: 6156.9082\n",
            "Epoch 53/100\n",
            "35/35 [==============================] - 0s 2ms/step - loss: 6137.4468 - MAE: 6137.4468\n",
            "Epoch 54/100\n",
            "35/35 [==============================] - 0s 2ms/step - loss: 6121.1724 - MAE: 6121.1724\n",
            "Epoch 55/100\n",
            "35/35 [==============================] - 0s 2ms/step - loss: 6107.8877 - MAE: 6107.8877\n",
            "Epoch 56/100\n",
            "35/35 [==============================] - 0s 2ms/step - loss: 6093.3872 - MAE: 6093.3872\n",
            "Epoch 57/100\n",
            "35/35 [==============================] - 0s 2ms/step - loss: 6077.1548 - MAE: 6077.1548\n",
            "Epoch 58/100\n",
            "35/35 [==============================] - 0s 2ms/step - loss: 6064.7690 - MAE: 6064.7690\n",
            "Epoch 59/100\n",
            "35/35 [==============================] - 0s 2ms/step - loss: 6048.4194 - MAE: 6048.4194\n",
            "Epoch 60/100\n",
            "35/35 [==============================] - 0s 2ms/step - loss: 6031.6816 - MAE: 6031.6816\n",
            "Epoch 61/100\n",
            "35/35 [==============================] - 0s 2ms/step - loss: 6018.8887 - MAE: 6018.8887\n",
            "Epoch 62/100\n",
            "35/35 [==============================] - 0s 2ms/step - loss: 6003.0483 - MAE: 6003.0483\n",
            "Epoch 63/100\n",
            "35/35 [==============================] - 0s 2ms/step - loss: 5979.1621 - MAE: 5979.1621\n",
            "Epoch 64/100\n",
            "35/35 [==============================] - 0s 2ms/step - loss: 5969.6860 - MAE: 5969.6860\n",
            "Epoch 65/100\n",
            "35/35 [==============================] - 0s 2ms/step - loss: 5947.3843 - MAE: 5947.3843\n",
            "Epoch 66/100\n",
            "35/35 [==============================] - 0s 2ms/step - loss: 5930.6782 - MAE: 5930.6782\n",
            "Epoch 67/100\n",
            "35/35 [==============================] - 0s 2ms/step - loss: 5907.5498 - MAE: 5907.5498\n",
            "Epoch 68/100\n",
            "35/35 [==============================] - 0s 2ms/step - loss: 5889.0200 - MAE: 5889.0200\n",
            "Epoch 69/100\n",
            "35/35 [==============================] - 0s 2ms/step - loss: 5871.2729 - MAE: 5871.2729\n",
            "Epoch 70/100\n",
            "35/35 [==============================] - 0s 2ms/step - loss: 5847.7744 - MAE: 5847.7744\n",
            "Epoch 71/100\n",
            "35/35 [==============================] - 0s 2ms/step - loss: 5829.0762 - MAE: 5829.0762\n",
            "Epoch 72/100\n",
            "35/35 [==============================] - 0s 2ms/step - loss: 5812.3608 - MAE: 5812.3608\n",
            "Epoch 73/100\n",
            "35/35 [==============================] - 0s 2ms/step - loss: 5788.0630 - MAE: 5788.0630\n",
            "Epoch 74/100\n",
            "35/35 [==============================] - 0s 2ms/step - loss: 5759.6152 - MAE: 5759.6152\n",
            "Epoch 75/100\n",
            "35/35 [==============================] - 0s 2ms/step - loss: 5737.5591 - MAE: 5737.5591\n",
            "Epoch 76/100\n",
            "35/35 [==============================] - 0s 2ms/step - loss: 5711.9897 - MAE: 5711.9897\n",
            "Epoch 77/100\n",
            "35/35 [==============================] - 0s 2ms/step - loss: 5686.6318 - MAE: 5686.6318\n",
            "Epoch 78/100\n",
            "35/35 [==============================] - 0s 2ms/step - loss: 5666.2334 - MAE: 5666.2334\n",
            "Epoch 79/100\n",
            "35/35 [==============================] - 0s 2ms/step - loss: 5631.7705 - MAE: 5631.7705\n",
            "Epoch 80/100\n",
            "35/35 [==============================] - 0s 2ms/step - loss: 5601.5542 - MAE: 5601.5542\n",
            "Epoch 81/100\n",
            "35/35 [==============================] - 0s 2ms/step - loss: 5574.2480 - MAE: 5574.2480\n",
            "Epoch 82/100\n",
            "35/35 [==============================] - 0s 2ms/step - loss: 5539.1636 - MAE: 5539.1636\n",
            "Epoch 83/100\n",
            "35/35 [==============================] - 0s 2ms/step - loss: 5508.0591 - MAE: 5508.0591\n",
            "Epoch 84/100\n",
            "35/35 [==============================] - 0s 2ms/step - loss: 5477.7896 - MAE: 5477.7896\n",
            "Epoch 85/100\n",
            "35/35 [==============================] - 0s 2ms/step - loss: 5440.8291 - MAE: 5440.8291\n",
            "Epoch 86/100\n",
            "35/35 [==============================] - 0s 2ms/step - loss: 5403.3467 - MAE: 5403.3467\n",
            "Epoch 87/100\n",
            "35/35 [==============================] - 0s 2ms/step - loss: 5375.2134 - MAE: 5375.2134\n",
            "Epoch 88/100\n",
            "35/35 [==============================] - 0s 2ms/step - loss: 5324.4131 - MAE: 5324.4131\n",
            "Epoch 89/100\n",
            "35/35 [==============================] - 0s 2ms/step - loss: 5283.3589 - MAE: 5283.3589\n",
            "Epoch 90/100\n",
            "35/35 [==============================] - 0s 2ms/step - loss: 5238.4424 - MAE: 5238.4424\n",
            "Epoch 91/100\n",
            "35/35 [==============================] - 0s 2ms/step - loss: 5202.5835 - MAE: 5202.5835\n",
            "Epoch 92/100\n",
            "35/35 [==============================] - 0s 2ms/step - loss: 5144.6548 - MAE: 5144.6548\n",
            "Epoch 93/100\n",
            "35/35 [==============================] - 0s 2ms/step - loss: 5098.5488 - MAE: 5098.5488\n",
            "Epoch 94/100\n",
            "35/35 [==============================] - 0s 2ms/step - loss: 5083.9912 - MAE: 5083.9912\n",
            "Epoch 95/100\n",
            "35/35 [==============================] - 0s 2ms/step - loss: 4990.4966 - MAE: 4990.4966\n",
            "Epoch 96/100\n",
            "35/35 [==============================] - 0s 2ms/step - loss: 4936.5239 - MAE: 4936.5239\n",
            "Epoch 97/100\n",
            "35/35 [==============================] - 0s 2ms/step - loss: 4877.8950 - MAE: 4877.8950\n",
            "Epoch 98/100\n",
            "35/35 [==============================] - 0s 2ms/step - loss: 4814.2236 - MAE: 4814.2236\n",
            "Epoch 99/100\n",
            "35/35 [==============================] - 0s 2ms/step - loss: 4747.1421 - MAE: 4747.1421\n",
            "Epoch 100/100\n",
            "35/35 [==============================] - 0s 2ms/step - loss: 4676.2764 - MAE: 4676.2764\n"
          ]
        },
        {
          "output_type": "execute_result",
          "data": {
            "text/plain": [
              "<keras.callbacks.History at 0x7fc831b83810>"
            ]
          },
          "metadata": {},
          "execution_count": 147
        }
      ]
    },
    {
      "cell_type": "code",
      "source": [
        "#Evaluate the larger model\n",
        "model_2.evaluate(X_test,y_test )"
      ],
      "metadata": {
        "colab": {
          "base_uri": "https://localhost:8080/"
        },
        "id": "p30rOUtsTRHR",
        "outputId": "46a544ca-3c4a-4482-c4c4-5138b90ea445"
      },
      "execution_count": 148,
      "outputs": [
        {
          "output_type": "stream",
          "name": "stdout",
          "text": [
            "8/8 [==============================] - 0s 2ms/step - loss: 5186.7563 - MAE: 5186.7563\n"
          ]
        },
        {
          "output_type": "execute_result",
          "data": {
            "text/plain": [
              "[5186.75634765625, 5186.75634765625]"
            ]
          },
          "metadata": {},
          "execution_count": 148
        }
      ]
    },
    {
      "cell_type": "markdown",
      "source": [
        "Tring another model\n",
        "1. Add an extra layer witjh adam optimizer\n",
        "2. Same as above but train for longer\n",
        "3."
      ],
      "metadata": {
        "id": "lNQF71AnTseb"
      }
    },
    {
      "cell_type": "code",
      "source": [
        "#set random seed\n",
        "tf.random.set_seed(47)\n",
        "\n",
        "#1. build the model\n",
        "model_3= tf.keras.Sequential([\n",
        "    tf.keras.layers.Dense(100),\n",
        "    tf.keras.layers.Dense(10),\n",
        "    tf.keras.layers.Dense(1)\n",
        "])\n",
        "\n",
        "#2. compile the model\n",
        "model_3.compile(loss= tf.keras.losses.MAE,\n",
        "                optimizer= tf.keras.optimizers.Adam(),\n",
        "                metrics= [\"MAE\"])\n",
        "\n",
        "#3. Fir the modle\n",
        "history=model_3.fit(X_train,y_train, epochs=200,verbose=1)"
      ],
      "metadata": {
        "colab": {
          "base_uri": "https://localhost:8080/"
        },
        "id": "SS9_Im6-Tm8g",
        "outputId": "38e24b26-9f9e-418a-9b6e-eba064b9b1ef"
      },
      "execution_count": 149,
      "outputs": [
        {
          "output_type": "stream",
          "name": "stdout",
          "text": [
            "Epoch 1/200\n",
            "35/35 [==============================] - 1s 2ms/step - loss: 13189.6719 - MAE: 13189.6719\n",
            "Epoch 2/200\n",
            "35/35 [==============================] - 0s 2ms/step - loss: 13004.4414 - MAE: 13004.4414\n",
            "Epoch 3/200\n",
            "35/35 [==============================] - 0s 2ms/step - loss: 12619.2480 - MAE: 12619.2480\n",
            "Epoch 4/200\n",
            "35/35 [==============================] - 0s 2ms/step - loss: 11863.6211 - MAE: 11863.6211\n",
            "Epoch 5/200\n",
            "35/35 [==============================] - 0s 2ms/step - loss: 10630.5713 - MAE: 10630.5713\n",
            "Epoch 6/200\n",
            "35/35 [==============================] - 0s 2ms/step - loss: 9140.6631 - MAE: 9140.6631\n",
            "Epoch 7/200\n",
            "35/35 [==============================] - 0s 2ms/step - loss: 7926.1680 - MAE: 7926.1680\n",
            "Epoch 8/200\n",
            "35/35 [==============================] - 0s 2ms/step - loss: 7471.3330 - MAE: 7471.3330\n",
            "Epoch 9/200\n",
            "35/35 [==============================] - 0s 2ms/step - loss: 7387.6128 - MAE: 7387.6128\n",
            "Epoch 10/200\n",
            "35/35 [==============================] - 0s 2ms/step - loss: 7360.9409 - MAE: 7360.9409\n",
            "Epoch 11/200\n",
            "35/35 [==============================] - 0s 3ms/step - loss: 7336.1313 - MAE: 7336.1313\n",
            "Epoch 12/200\n",
            "35/35 [==============================] - 0s 2ms/step - loss: 7304.7725 - MAE: 7304.7725\n",
            "Epoch 13/200\n",
            "35/35 [==============================] - 0s 2ms/step - loss: 7275.0132 - MAE: 7275.0132\n",
            "Epoch 14/200\n",
            "35/35 [==============================] - 0s 2ms/step - loss: 7246.2480 - MAE: 7246.2480\n",
            "Epoch 15/200\n",
            "35/35 [==============================] - 0s 2ms/step - loss: 7218.5386 - MAE: 7218.5386\n",
            "Epoch 16/200\n",
            "35/35 [==============================] - 0s 2ms/step - loss: 7186.1157 - MAE: 7186.1157\n",
            "Epoch 17/200\n",
            "35/35 [==============================] - 0s 2ms/step - loss: 7152.3257 - MAE: 7152.3257\n",
            "Epoch 18/200\n",
            "35/35 [==============================] - 0s 2ms/step - loss: 7118.0688 - MAE: 7118.0688\n",
            "Epoch 19/200\n",
            "35/35 [==============================] - 0s 2ms/step - loss: 7086.2690 - MAE: 7086.2690\n",
            "Epoch 20/200\n",
            "35/35 [==============================] - 0s 2ms/step - loss: 7050.6494 - MAE: 7050.6494\n",
            "Epoch 21/200\n",
            "35/35 [==============================] - 0s 2ms/step - loss: 7009.4976 - MAE: 7009.4976\n",
            "Epoch 22/200\n",
            "35/35 [==============================] - 0s 2ms/step - loss: 6969.4360 - MAE: 6969.4360\n",
            "Epoch 23/200\n",
            "35/35 [==============================] - 0s 2ms/step - loss: 6932.7197 - MAE: 6932.7197\n",
            "Epoch 24/200\n",
            "35/35 [==============================] - 0s 2ms/step - loss: 6890.8110 - MAE: 6890.8110\n",
            "Epoch 25/200\n",
            "35/35 [==============================] - 0s 2ms/step - loss: 6845.4121 - MAE: 6845.4121\n",
            "Epoch 26/200\n",
            "35/35 [==============================] - 0s 2ms/step - loss: 6801.9102 - MAE: 6801.9102\n",
            "Epoch 27/200\n",
            "35/35 [==============================] - 0s 2ms/step - loss: 6755.8682 - MAE: 6755.8682\n",
            "Epoch 28/200\n",
            "35/35 [==============================] - 0s 2ms/step - loss: 6708.5532 - MAE: 6708.5532\n",
            "Epoch 29/200\n",
            "35/35 [==============================] - 0s 2ms/step - loss: 6661.2100 - MAE: 6661.2100\n",
            "Epoch 30/200\n",
            "35/35 [==============================] - 0s 2ms/step - loss: 6612.4111 - MAE: 6612.4111\n",
            "Epoch 31/200\n",
            "35/35 [==============================] - 0s 2ms/step - loss: 6563.1880 - MAE: 6563.1880\n",
            "Epoch 32/200\n",
            "35/35 [==============================] - 0s 2ms/step - loss: 6516.5127 - MAE: 6516.5127\n",
            "Epoch 33/200\n",
            "35/35 [==============================] - 0s 2ms/step - loss: 6475.1597 - MAE: 6475.1597\n",
            "Epoch 34/200\n",
            "35/35 [==============================] - 0s 2ms/step - loss: 6442.0952 - MAE: 6442.0952\n",
            "Epoch 35/200\n",
            "35/35 [==============================] - 0s 2ms/step - loss: 6417.1392 - MAE: 6417.1392\n",
            "Epoch 36/200\n",
            "35/35 [==============================] - 0s 2ms/step - loss: 6388.4731 - MAE: 6388.4731\n",
            "Epoch 37/200\n",
            "35/35 [==============================] - 0s 2ms/step - loss: 6367.4233 - MAE: 6367.4233\n",
            "Epoch 38/200\n",
            "35/35 [==============================] - 0s 2ms/step - loss: 6350.2095 - MAE: 6350.2095\n",
            "Epoch 39/200\n",
            "35/35 [==============================] - 0s 2ms/step - loss: 6336.0923 - MAE: 6336.0923\n",
            "Epoch 40/200\n",
            "35/35 [==============================] - 0s 2ms/step - loss: 6319.8159 - MAE: 6319.8159\n",
            "Epoch 41/200\n",
            "35/35 [==============================] - 0s 2ms/step - loss: 6303.5254 - MAE: 6303.5254\n",
            "Epoch 42/200\n",
            "35/35 [==============================] - 0s 2ms/step - loss: 6291.0918 - MAE: 6291.0918\n",
            "Epoch 43/200\n",
            "35/35 [==============================] - 0s 2ms/step - loss: 6276.8657 - MAE: 6276.8657\n",
            "Epoch 44/200\n",
            "35/35 [==============================] - 0s 3ms/step - loss: 6262.5615 - MAE: 6262.5615\n",
            "Epoch 45/200\n",
            "35/35 [==============================] - 0s 2ms/step - loss: 6249.1074 - MAE: 6249.1074\n",
            "Epoch 46/200\n",
            "35/35 [==============================] - 0s 2ms/step - loss: 6235.0586 - MAE: 6235.0586\n",
            "Epoch 47/200\n",
            "35/35 [==============================] - 0s 2ms/step - loss: 6222.0273 - MAE: 6222.0273\n",
            "Epoch 48/200\n",
            "35/35 [==============================] - 0s 2ms/step - loss: 6209.7036 - MAE: 6209.7036\n",
            "Epoch 49/200\n",
            "35/35 [==============================] - 0s 2ms/step - loss: 6197.5142 - MAE: 6197.5142\n",
            "Epoch 50/200\n",
            "35/35 [==============================] - 0s 2ms/step - loss: 6180.8740 - MAE: 6180.8740\n",
            "Epoch 51/200\n",
            "35/35 [==============================] - 0s 2ms/step - loss: 6166.0205 - MAE: 6166.0205\n",
            "Epoch 52/200\n",
            "35/35 [==============================] - 0s 2ms/step - loss: 6156.9082 - MAE: 6156.9082\n",
            "Epoch 53/200\n",
            "35/35 [==============================] - 0s 2ms/step - loss: 6137.4468 - MAE: 6137.4468\n",
            "Epoch 54/200\n",
            "35/35 [==============================] - 0s 2ms/step - loss: 6121.1724 - MAE: 6121.1724\n",
            "Epoch 55/200\n",
            "35/35 [==============================] - 0s 2ms/step - loss: 6107.8877 - MAE: 6107.8877\n",
            "Epoch 56/200\n",
            "35/35 [==============================] - 0s 2ms/step - loss: 6093.3872 - MAE: 6093.3872\n",
            "Epoch 57/200\n",
            "35/35 [==============================] - 0s 2ms/step - loss: 6077.1548 - MAE: 6077.1548\n",
            "Epoch 58/200\n",
            "35/35 [==============================] - 0s 3ms/step - loss: 6064.7690 - MAE: 6064.7690\n",
            "Epoch 59/200\n",
            "35/35 [==============================] - 0s 2ms/step - loss: 6048.4194 - MAE: 6048.4194\n",
            "Epoch 60/200\n",
            "35/35 [==============================] - 0s 2ms/step - loss: 6031.6816 - MAE: 6031.6816\n",
            "Epoch 61/200\n",
            "35/35 [==============================] - 0s 2ms/step - loss: 6018.8887 - MAE: 6018.8887\n",
            "Epoch 62/200\n",
            "35/35 [==============================] - 0s 2ms/step - loss: 6003.0483 - MAE: 6003.0483\n",
            "Epoch 63/200\n",
            "35/35 [==============================] - 0s 2ms/step - loss: 5979.1621 - MAE: 5979.1621\n",
            "Epoch 64/200\n",
            "35/35 [==============================] - 0s 2ms/step - loss: 5969.6860 - MAE: 5969.6860\n",
            "Epoch 65/200\n",
            "35/35 [==============================] - 0s 2ms/step - loss: 5947.3843 - MAE: 5947.3843\n",
            "Epoch 66/200\n",
            "35/35 [==============================] - 0s 2ms/step - loss: 5930.6782 - MAE: 5930.6782\n",
            "Epoch 67/200\n",
            "35/35 [==============================] - 0s 2ms/step - loss: 5907.5498 - MAE: 5907.5498\n",
            "Epoch 68/200\n",
            "35/35 [==============================] - 0s 2ms/step - loss: 5889.0200 - MAE: 5889.0200\n",
            "Epoch 69/200\n",
            "35/35 [==============================] - 0s 2ms/step - loss: 5871.2729 - MAE: 5871.2729\n",
            "Epoch 70/200\n",
            "35/35 [==============================] - 0s 2ms/step - loss: 5847.7744 - MAE: 5847.7744\n",
            "Epoch 71/200\n",
            "35/35 [==============================] - 0s 2ms/step - loss: 5829.0762 - MAE: 5829.0762\n",
            "Epoch 72/200\n",
            "35/35 [==============================] - 0s 2ms/step - loss: 5812.3608 - MAE: 5812.3608\n",
            "Epoch 73/200\n",
            "35/35 [==============================] - 0s 2ms/step - loss: 5788.0630 - MAE: 5788.0630\n",
            "Epoch 74/200\n",
            "35/35 [==============================] - 0s 2ms/step - loss: 5759.6152 - MAE: 5759.6152\n",
            "Epoch 75/200\n",
            "35/35 [==============================] - 0s 2ms/step - loss: 5737.5591 - MAE: 5737.5591\n",
            "Epoch 76/200\n",
            "35/35 [==============================] - 0s 2ms/step - loss: 5711.9897 - MAE: 5711.9897\n",
            "Epoch 77/200\n",
            "35/35 [==============================] - 0s 2ms/step - loss: 5686.6318 - MAE: 5686.6318\n",
            "Epoch 78/200\n",
            "35/35 [==============================] - 0s 2ms/step - loss: 5666.2334 - MAE: 5666.2334\n",
            "Epoch 79/200\n",
            "35/35 [==============================] - 0s 2ms/step - loss: 5631.7705 - MAE: 5631.7705\n",
            "Epoch 80/200\n",
            "35/35 [==============================] - 0s 2ms/step - loss: 5601.5542 - MAE: 5601.5542\n",
            "Epoch 81/200\n",
            "35/35 [==============================] - 0s 2ms/step - loss: 5574.2480 - MAE: 5574.2480\n",
            "Epoch 82/200\n",
            "35/35 [==============================] - 0s 3ms/step - loss: 5539.1636 - MAE: 5539.1636\n",
            "Epoch 83/200\n",
            "35/35 [==============================] - 0s 2ms/step - loss: 5508.0591 - MAE: 5508.0591\n",
            "Epoch 84/200\n",
            "35/35 [==============================] - 0s 2ms/step - loss: 5477.7896 - MAE: 5477.7896\n",
            "Epoch 85/200\n",
            "35/35 [==============================] - 0s 2ms/step - loss: 5440.8291 - MAE: 5440.8291\n",
            "Epoch 86/200\n",
            "35/35 [==============================] - 0s 2ms/step - loss: 5403.3467 - MAE: 5403.3467\n",
            "Epoch 87/200\n",
            "35/35 [==============================] - 0s 2ms/step - loss: 5375.2134 - MAE: 5375.2134\n",
            "Epoch 88/200\n",
            "35/35 [==============================] - 0s 2ms/step - loss: 5324.4131 - MAE: 5324.4131\n",
            "Epoch 89/200\n",
            "35/35 [==============================] - 0s 2ms/step - loss: 5283.3589 - MAE: 5283.3589\n",
            "Epoch 90/200\n",
            "35/35 [==============================] - 0s 2ms/step - loss: 5238.4424 - MAE: 5238.4424\n",
            "Epoch 91/200\n",
            "35/35 [==============================] - 0s 2ms/step - loss: 5202.5835 - MAE: 5202.5835\n",
            "Epoch 92/200\n",
            "35/35 [==============================] - 0s 2ms/step - loss: 5144.6548 - MAE: 5144.6548\n",
            "Epoch 93/200\n",
            "35/35 [==============================] - 0s 2ms/step - loss: 5098.5488 - MAE: 5098.5488\n",
            "Epoch 94/200\n",
            "35/35 [==============================] - 0s 2ms/step - loss: 5083.9912 - MAE: 5083.9912\n",
            "Epoch 95/200\n",
            "35/35 [==============================] - 0s 2ms/step - loss: 4990.4966 - MAE: 4990.4966\n",
            "Epoch 96/200\n",
            "35/35 [==============================] - 0s 3ms/step - loss: 4936.5239 - MAE: 4936.5239\n",
            "Epoch 97/200\n",
            "35/35 [==============================] - 0s 2ms/step - loss: 4877.8950 - MAE: 4877.8950\n",
            "Epoch 98/200\n",
            "35/35 [==============================] - 0s 2ms/step - loss: 4814.2236 - MAE: 4814.2236\n",
            "Epoch 99/200\n",
            "35/35 [==============================] - 0s 2ms/step - loss: 4747.1421 - MAE: 4747.1421\n",
            "Epoch 100/200\n",
            "35/35 [==============================] - 0s 2ms/step - loss: 4676.2764 - MAE: 4676.2764\n",
            "Epoch 101/200\n",
            "35/35 [==============================] - 0s 2ms/step - loss: 4605.8652 - MAE: 4605.8652\n",
            "Epoch 102/200\n",
            "35/35 [==============================] - 0s 2ms/step - loss: 4538.5210 - MAE: 4538.5210\n",
            "Epoch 103/200\n",
            "35/35 [==============================] - 0s 2ms/step - loss: 4448.7271 - MAE: 4448.7271\n",
            "Epoch 104/200\n",
            "35/35 [==============================] - 0s 2ms/step - loss: 4371.5957 - MAE: 4371.5957\n",
            "Epoch 105/200\n",
            "35/35 [==============================] - 0s 3ms/step - loss: 4290.4048 - MAE: 4290.4048\n",
            "Epoch 106/200\n",
            "35/35 [==============================] - 0s 2ms/step - loss: 4213.0435 - MAE: 4213.0435\n",
            "Epoch 107/200\n",
            "35/35 [==============================] - 0s 2ms/step - loss: 4134.9004 - MAE: 4134.9004\n",
            "Epoch 108/200\n",
            "35/35 [==============================] - 0s 2ms/step - loss: 4060.8391 - MAE: 4060.8391\n",
            "Epoch 109/200\n",
            "35/35 [==============================] - 0s 2ms/step - loss: 3995.1296 - MAE: 3995.1296\n",
            "Epoch 110/200\n",
            "35/35 [==============================] - 0s 2ms/step - loss: 3928.1104 - MAE: 3928.1104\n",
            "Epoch 111/200\n",
            "35/35 [==============================] - 0s 2ms/step - loss: 3895.3240 - MAE: 3895.3240\n",
            "Epoch 112/200\n",
            "35/35 [==============================] - 0s 2ms/step - loss: 3842.0686 - MAE: 3842.0686\n",
            "Epoch 113/200\n",
            "35/35 [==============================] - 0s 2ms/step - loss: 3835.5413 - MAE: 3835.5413\n",
            "Epoch 114/200\n",
            "35/35 [==============================] - 0s 2ms/step - loss: 3793.1936 - MAE: 3793.1936\n",
            "Epoch 115/200\n",
            "35/35 [==============================] - 0s 2ms/step - loss: 3788.5288 - MAE: 3788.5288\n",
            "Epoch 116/200\n",
            "35/35 [==============================] - 0s 3ms/step - loss: 3758.6113 - MAE: 3758.6113\n",
            "Epoch 117/200\n",
            "35/35 [==============================] - 0s 2ms/step - loss: 3748.0938 - MAE: 3748.0938\n",
            "Epoch 118/200\n",
            "35/35 [==============================] - 0s 2ms/step - loss: 3737.5544 - MAE: 3737.5544\n",
            "Epoch 119/200\n",
            "35/35 [==============================] - 0s 2ms/step - loss: 3727.1924 - MAE: 3727.1924\n",
            "Epoch 120/200\n",
            "35/35 [==============================] - 0s 2ms/step - loss: 3726.0767 - MAE: 3726.0767\n",
            "Epoch 121/200\n",
            "35/35 [==============================] - 0s 2ms/step - loss: 3743.1763 - MAE: 3743.1763\n",
            "Epoch 122/200\n",
            "35/35 [==============================] - 0s 2ms/step - loss: 3723.5513 - MAE: 3723.5513\n",
            "Epoch 123/200\n",
            "35/35 [==============================] - 0s 2ms/step - loss: 3701.4612 - MAE: 3701.4612\n",
            "Epoch 124/200\n",
            "35/35 [==============================] - 0s 2ms/step - loss: 3707.2375 - MAE: 3707.2375\n",
            "Epoch 125/200\n",
            "35/35 [==============================] - 0s 2ms/step - loss: 3695.4084 - MAE: 3695.4084\n",
            "Epoch 126/200\n",
            "35/35 [==============================] - 0s 2ms/step - loss: 3693.2117 - MAE: 3693.2117\n",
            "Epoch 127/200\n",
            "35/35 [==============================] - 0s 2ms/step - loss: 3694.3545 - MAE: 3694.3545\n",
            "Epoch 128/200\n",
            "35/35 [==============================] - 0s 2ms/step - loss: 3693.7122 - MAE: 3693.7122\n",
            "Epoch 129/200\n",
            "35/35 [==============================] - 0s 2ms/step - loss: 3694.6521 - MAE: 3694.6521\n",
            "Epoch 130/200\n",
            "35/35 [==============================] - 0s 2ms/step - loss: 3710.1375 - MAE: 3710.1375\n",
            "Epoch 131/200\n",
            "35/35 [==============================] - 0s 2ms/step - loss: 3685.9697 - MAE: 3685.9697\n",
            "Epoch 132/200\n",
            "35/35 [==============================] - 0s 2ms/step - loss: 3696.1924 - MAE: 3696.1924\n",
            "Epoch 133/200\n",
            "35/35 [==============================] - 0s 2ms/step - loss: 3676.2869 - MAE: 3676.2869\n",
            "Epoch 134/200\n",
            "35/35 [==============================] - 0s 2ms/step - loss: 3699.9170 - MAE: 3699.9170\n",
            "Epoch 135/200\n",
            "35/35 [==============================] - 0s 2ms/step - loss: 3679.0156 - MAE: 3679.0156\n",
            "Epoch 136/200\n",
            "35/35 [==============================] - 0s 2ms/step - loss: 3675.9805 - MAE: 3675.9805\n",
            "Epoch 137/200\n",
            "35/35 [==============================] - 0s 2ms/step - loss: 3673.9106 - MAE: 3673.9106\n",
            "Epoch 138/200\n",
            "35/35 [==============================] - 0s 2ms/step - loss: 3671.1135 - MAE: 3671.1135\n",
            "Epoch 139/200\n",
            "35/35 [==============================] - 0s 2ms/step - loss: 3680.2078 - MAE: 3680.2078\n",
            "Epoch 140/200\n",
            "35/35 [==============================] - 0s 3ms/step - loss: 3672.6648 - MAE: 3672.6648\n",
            "Epoch 141/200\n",
            "35/35 [==============================] - 0s 2ms/step - loss: 3666.0295 - MAE: 3666.0295\n",
            "Epoch 142/200\n",
            "35/35 [==============================] - 0s 2ms/step - loss: 3663.4761 - MAE: 3663.4761\n",
            "Epoch 143/200\n",
            "35/35 [==============================] - 0s 2ms/step - loss: 3664.1843 - MAE: 3664.1843\n",
            "Epoch 144/200\n",
            "35/35 [==============================] - 0s 2ms/step - loss: 3661.2803 - MAE: 3661.2803\n",
            "Epoch 145/200\n",
            "35/35 [==============================] - 0s 2ms/step - loss: 3654.2424 - MAE: 3654.2424\n",
            "Epoch 146/200\n",
            "35/35 [==============================] - 0s 2ms/step - loss: 3661.9536 - MAE: 3661.9536\n",
            "Epoch 147/200\n",
            "35/35 [==============================] - 0s 3ms/step - loss: 3655.3831 - MAE: 3655.3831\n",
            "Epoch 148/200\n",
            "35/35 [==============================] - 0s 2ms/step - loss: 3653.5894 - MAE: 3653.5894\n",
            "Epoch 149/200\n",
            "35/35 [==============================] - 0s 2ms/step - loss: 3658.6956 - MAE: 3658.6956\n",
            "Epoch 150/200\n",
            "35/35 [==============================] - 0s 2ms/step - loss: 3654.5222 - MAE: 3654.5222\n",
            "Epoch 151/200\n",
            "35/35 [==============================] - 0s 3ms/step - loss: 3652.9363 - MAE: 3652.9363\n",
            "Epoch 152/200\n",
            "35/35 [==============================] - 0s 2ms/step - loss: 3649.7051 - MAE: 3649.7051\n",
            "Epoch 153/200\n",
            "35/35 [==============================] - 0s 2ms/step - loss: 3650.8259 - MAE: 3650.8259\n",
            "Epoch 154/200\n",
            "35/35 [==============================] - 0s 2ms/step - loss: 3644.0891 - MAE: 3644.0891\n",
            "Epoch 155/200\n",
            "35/35 [==============================] - 0s 2ms/step - loss: 3654.5032 - MAE: 3654.5032\n",
            "Epoch 156/200\n",
            "35/35 [==============================] - 0s 2ms/step - loss: 3647.6548 - MAE: 3647.6548\n",
            "Epoch 157/200\n",
            "35/35 [==============================] - 0s 2ms/step - loss: 3641.1050 - MAE: 3641.1050\n",
            "Epoch 158/200\n",
            "35/35 [==============================] - 0s 2ms/step - loss: 3640.1675 - MAE: 3640.1675\n",
            "Epoch 159/200\n",
            "35/35 [==============================] - 0s 2ms/step - loss: 3646.0356 - MAE: 3646.0356\n",
            "Epoch 160/200\n",
            "35/35 [==============================] - 0s 2ms/step - loss: 3639.7571 - MAE: 3639.7571\n",
            "Epoch 161/200\n",
            "35/35 [==============================] - 0s 2ms/step - loss: 3645.3459 - MAE: 3645.3459\n",
            "Epoch 162/200\n",
            "35/35 [==============================] - 0s 3ms/step - loss: 3631.5500 - MAE: 3631.5500\n",
            "Epoch 163/200\n",
            "35/35 [==============================] - 0s 2ms/step - loss: 3625.8213 - MAE: 3625.8213\n",
            "Epoch 164/200\n",
            "35/35 [==============================] - 0s 2ms/step - loss: 3633.4824 - MAE: 3633.4824\n",
            "Epoch 165/200\n",
            "35/35 [==============================] - 0s 2ms/step - loss: 3629.0850 - MAE: 3629.0850\n",
            "Epoch 166/200\n",
            "35/35 [==============================] - 0s 2ms/step - loss: 3636.8718 - MAE: 3636.8718\n",
            "Epoch 167/200\n",
            "35/35 [==============================] - 0s 2ms/step - loss: 3639.6404 - MAE: 3639.6404\n",
            "Epoch 168/200\n",
            "35/35 [==============================] - 0s 3ms/step - loss: 3626.0537 - MAE: 3626.0537\n",
            "Epoch 169/200\n",
            "35/35 [==============================] - 0s 2ms/step - loss: 3621.5017 - MAE: 3621.5017\n",
            "Epoch 170/200\n",
            "35/35 [==============================] - 0s 2ms/step - loss: 3620.9216 - MAE: 3620.9216\n",
            "Epoch 171/200\n",
            "35/35 [==============================] - 0s 2ms/step - loss: 3627.2722 - MAE: 3627.2722\n",
            "Epoch 172/200\n",
            "35/35 [==============================] - 0s 2ms/step - loss: 3619.2178 - MAE: 3619.2178\n",
            "Epoch 173/200\n",
            "35/35 [==============================] - 0s 3ms/step - loss: 3618.6909 - MAE: 3618.6909\n",
            "Epoch 174/200\n",
            "35/35 [==============================] - 0s 2ms/step - loss: 3620.8752 - MAE: 3620.8752\n",
            "Epoch 175/200\n",
            "35/35 [==============================] - 0s 2ms/step - loss: 3627.6492 - MAE: 3627.6492\n",
            "Epoch 176/200\n",
            "35/35 [==============================] - 0s 2ms/step - loss: 3613.8513 - MAE: 3613.8513\n",
            "Epoch 177/200\n",
            "35/35 [==============================] - 0s 2ms/step - loss: 3606.1523 - MAE: 3606.1523\n",
            "Epoch 178/200\n",
            "35/35 [==============================] - 0s 2ms/step - loss: 3606.0281 - MAE: 3606.0281\n",
            "Epoch 179/200\n",
            "35/35 [==============================] - 0s 2ms/step - loss: 3606.7424 - MAE: 3606.7424\n",
            "Epoch 180/200\n",
            "35/35 [==============================] - 0s 2ms/step - loss: 3613.0510 - MAE: 3613.0510\n",
            "Epoch 181/200\n",
            "35/35 [==============================] - 0s 2ms/step - loss: 3604.7068 - MAE: 3604.7068\n",
            "Epoch 182/200\n",
            "35/35 [==============================] - 0s 2ms/step - loss: 3608.1738 - MAE: 3608.1738\n",
            "Epoch 183/200\n",
            "35/35 [==============================] - 0s 2ms/step - loss: 3596.8411 - MAE: 3596.8411\n",
            "Epoch 184/200\n",
            "35/35 [==============================] - 0s 2ms/step - loss: 3602.3494 - MAE: 3602.3494\n",
            "Epoch 185/200\n",
            "35/35 [==============================] - 0s 2ms/step - loss: 3601.9871 - MAE: 3601.9871\n",
            "Epoch 186/200\n",
            "35/35 [==============================] - 0s 2ms/step - loss: 3597.5215 - MAE: 3597.5215\n",
            "Epoch 187/200\n",
            "35/35 [==============================] - 0s 2ms/step - loss: 3606.0239 - MAE: 3606.0239\n",
            "Epoch 188/200\n",
            "35/35 [==============================] - 0s 2ms/step - loss: 3592.3472 - MAE: 3592.3472\n",
            "Epoch 189/200\n",
            "35/35 [==============================] - 0s 2ms/step - loss: 3590.8020 - MAE: 3590.8020\n",
            "Epoch 190/200\n",
            "35/35 [==============================] - 0s 2ms/step - loss: 3591.4067 - MAE: 3591.4067\n",
            "Epoch 191/200\n",
            "35/35 [==============================] - 0s 2ms/step - loss: 3585.0322 - MAE: 3585.0322\n",
            "Epoch 192/200\n",
            "35/35 [==============================] - 0s 2ms/step - loss: 3582.0212 - MAE: 3582.0212\n",
            "Epoch 193/200\n",
            "35/35 [==============================] - 0s 2ms/step - loss: 3581.7385 - MAE: 3581.7385\n",
            "Epoch 194/200\n",
            "35/35 [==============================] - 0s 2ms/step - loss: 3578.1362 - MAE: 3578.1362\n",
            "Epoch 195/200\n",
            "35/35 [==============================] - 0s 2ms/step - loss: 3585.5740 - MAE: 3585.5740\n",
            "Epoch 196/200\n",
            "35/35 [==============================] - 0s 4ms/step - loss: 3597.3413 - MAE: 3597.3413\n",
            "Epoch 197/200\n",
            "35/35 [==============================] - 0s 4ms/step - loss: 3575.0354 - MAE: 3575.0354\n",
            "Epoch 198/200\n",
            "35/35 [==============================] - 0s 4ms/step - loss: 3580.7815 - MAE: 3580.7815\n",
            "Epoch 199/200\n",
            "35/35 [==============================] - 0s 4ms/step - loss: 3576.3123 - MAE: 3576.3123\n",
            "Epoch 200/200\n",
            "35/35 [==============================] - 0s 4ms/step - loss: 3570.7734 - MAE: 3570.7734\n"
          ]
        }
      ]
    },
    {
      "cell_type": "code",
      "source": [
        "model_3.evaluate(X_test, y_test)"
      ],
      "metadata": {
        "colab": {
          "base_uri": "https://localhost:8080/"
        },
        "id": "aMEuBvywU49x",
        "outputId": "2042c2bd-23a2-4a30-d7b5-d02b6aa21c4e"
      },
      "execution_count": 150,
      "outputs": [
        {
          "output_type": "stream",
          "name": "stdout",
          "text": [
            "8/8 [==============================] - 0s 3ms/step - loss: 3841.4475 - MAE: 3841.4475\n"
          ]
        },
        {
          "output_type": "execute_result",
          "data": {
            "text/plain": [
              "[3841.447509765625, 3841.447509765625]"
            ]
          },
          "metadata": {},
          "execution_count": 150
        }
      ]
    },
    {
      "cell_type": "code",
      "source": [
        "model.evaluate(X_test,y_test)"
      ],
      "metadata": {
        "colab": {
          "base_uri": "https://localhost:8080/"
        },
        "id": "EtuguXbGVHsi",
        "outputId": "0f31cf0b-d5ec-4242-e4cd-5b1881755824"
      },
      "execution_count": 151,
      "outputs": [
        {
          "output_type": "stream",
          "name": "stdout",
          "text": [
            "8/8 [==============================] - 0s 3ms/step - loss: 6788.2720 - mae: 6788.2720\n"
          ]
        },
        {
          "output_type": "execute_result",
          "data": {
            "text/plain": [
              "[6788.27197265625, 6788.27197265625]"
            ]
          },
          "metadata": {},
          "execution_count": 151
        }
      ]
    },
    {
      "cell_type": "code",
      "source": [
        "#plot the loss curve\n",
        "pd.DataFrame(history.history).plot()\n",
        "plt.ylabel(\"loss\")\n",
        "plt.xlabel(\"Epochs\")"
      ],
      "metadata": {
        "colab": {
          "base_uri": "https://localhost:8080/",
          "height": 297
        },
        "id": "3uZ5lcCWVZWo",
        "outputId": "d1a0b39a-e8ec-4f8a-a689-0413a872c592"
      },
      "execution_count": 152,
      "outputs": [
        {
          "output_type": "execute_result",
          "data": {
            "text/plain": [
              "Text(0.5, 0, 'Epochs')"
            ]
          },
          "metadata": {},
          "execution_count": 152
        },
        {
          "output_type": "display_data",
          "data": {
            "text/plain": [
              "<Figure size 432x288 with 1 Axes>"
            ],
            "image/png": "[encoded data removed]"
          },
          "metadata": {
            "needs_background": "light"
          }
        }
      ]
    },
    {
      "cell_type": "markdown",
      "source": [
        "When to stop training? How long should you train for? \n",
        "It depends.\n",
        "So there is a TensorFlow componenet that can be use for this task called \"Early stopping callback\""
      ],
      "metadata": {
        "id": "gjWShAubWvjG"
      }
    },
    {
      "cell_type": "markdown",
      "source": [
        "# Preprocessign data (normalization and standardisation)\n",
        "\n",
        "In terms of scaling value, neural networks tend to prefer normalization.\n",
        "if you're not sure on which to use,you could try both and see which performs better.\n",
        "\n",
        "* Normalisation: min max \n",
        "* Standardisation : mean minus std divides"
      ],
      "metadata": {
        "id": "8o6DN3esW9ov"
      }
    },
    {
      "cell_type": "code",
      "source": [
        "import pandas as pd\n",
        "import matplotlib.pyplot as plt\n",
        "import tensorflow as tf\n",
        "\n",
        "#read the insurence dataframe\n",
        "insurence= pd.read_csv(\"https://raw.githubusercontent.com/stedy/Machine-Learning-with-R-datasets/master/insurance.csv\")\n",
        "insurence"
      ],
      "metadata": {
        "colab": {
          "base_uri": "https://localhost:8080/",
          "height": 423
        },
        "id": "wXTLrPVqWCkC",
        "outputId": "439411b9-8872-419f-e295-02d629242325"
      },
      "execution_count": 153,
      "outputs": [
        {
          "output_type": "execute_result",
          "data": {
            "text/plain": [
              "      age     sex     bmi  children smoker     region      charges\n",
              "0      19  female  27.900         0    yes  southwest  16884.92400\n",
              "1      18    male  33.770         1     no  southeast   1725.55230\n",
              "2      28    male  33.000         3     no  southeast   4449.46200\n",
              "3      33    male  22.705         0     no  northwest  21984.47061\n",
              "4      32    male  28.880         0     no  northwest   3866.85520\n",
              "...   ...     ...     ...       ...    ...        ...          ...\n",
              "1333   50    male  30.970         3     no  northwest  10600.54830\n",
              "1334   18  female  31.920         0     no  northeast   2205.98080\n",
              "1335   18  female  36.850         0     no  southeast   1629.83350\n",
              "1336   21  female  25.800         0     no  southwest   2007.94500\n",
              "1337   61  female  29.070         0    yes  northwest  29141.36030\n",
              "\n",
              "[1338 rows x 7 columns]"
            ],
            "text/html": [
              "\n",
              "  <div id=\"df-7a73bc57-e579-4d56-b429-dd23ced9f25e\">\n",
              "    <div class=\"colab-df-container\">\n",
              "      <div>\n",
              "<style scoped>\n",
              "    .dataframe tbody tr th:only-of-type {\n",
              "        vertical-align: middle;\n",
              "    }\n",
              "\n",
              "    .dataframe tbody tr th {\n",
              "        vertical-align: top;\n",
              "    }\n",
              "\n",
              "    .dataframe thead th {\n",
              "        text-align: right;\n",
              "    }\n",
              "</style>\n",
              "<table border=\"1\" class=\"dataframe\">\n",
              "  <thead>\n",
              "    <tr style=\"text-align: right;\">\n",
              "      <th></th>\n",
              "      <th>age</th>\n",
              "      <th>sex</th>\n",
              "      <th>bmi</th>\n",
              "      <th>children</th>\n",
              "      <th>smoker</th>\n",
              "      <th>region</th>\n",
              "      <th>charges</th>\n",
              "    </tr>\n",
              "  </thead>\n",
              "  <tbody>\n",
              "    <tr>\n",
              "      <th>0</th>\n",
              "      <td>19</td>\n",
              "      <td>female</td>\n",
              "      <td>27.900</td>\n",
              "      <td>0</td>\n",
              "      <td>yes</td>\n",
              "      <td>southwest</td>\n",
              "      <td>16884.92400</td>\n",
              "    </tr>\n",
              "    <tr>\n",
              "      <th>1</th>\n",
              "      <td>18</td>\n",
              "      <td>male</td>\n",
              "      <td>33.770</td>\n",
              "      <td>1</td>\n",
              "      <td>no</td>\n",
              "      <td>southeast</td>\n",
              "      <td>1725.55230</td>\n",
              "    </tr>\n",
              "    <tr>\n",
              "      <th>2</th>\n",
              "      <td>28</td>\n",
              "      <td>male</td>\n",
              "      <td>33.000</td>\n",
              "      <td>3</td>\n",
              "      <td>no</td>\n",
              "      <td>southeast</td>\n",
              "      <td>4449.46200</td>\n",
              "    </tr>\n",
              "    <tr>\n",
              "      <th>3</th>\n",
              "      <td>33</td>\n",
              "      <td>male</td>\n",
              "      <td>22.705</td>\n",
              "      <td>0</td>\n",
              "      <td>no</td>\n",
              "      <td>northwest</td>\n",
              "      <td>21984.47061</td>\n",
              "    </tr>\n",
              "    <tr>\n",
              "      <th>4</th>\n",
              "      <td>32</td>\n",
              "      <td>male</td>\n",
              "      <td>28.880</td>\n",
              "      <td>0</td>\n",
              "      <td>no</td>\n",
              "      <td>northwest</td>\n",
              "      <td>3866.85520</td>\n",
              "    </tr>\n",
              "    <tr>\n",
              "      <th>...</th>\n",
              "      <td>...</td>\n",
              "      <td>...</td>\n",
              "      <td>...</td>\n",
              "      <td>...</td>\n",
              "      <td>...</td>\n",
              "      <td>...</td>\n",
              "      <td>...</td>\n",
              "    </tr>\n",
              "    <tr>\n",
              "      <th>1333</th>\n",
              "      <td>50</td>\n",
              "      <td>male</td>\n",
              "      <td>30.970</td>\n",
              "      <td>3</td>\n",
              "      <td>no</td>\n",
              "      <td>northwest</td>\n",
              "      <td>10600.54830</td>\n",
              "    </tr>\n",
              "    <tr>\n",
              "      <th>1334</th>\n",
              "      <td>18</td>\n",
              "      <td>female</td>\n",
              "      <td>31.920</td>\n",
              "      <td>0</td>\n",
              "      <td>no</td>\n",
              "      <td>northeast</td>\n",
              "      <td>2205.98080</td>\n",
              "    </tr>\n",
              "    <tr>\n",
              "      <th>1335</th>\n",
              "      <td>18</td>\n",
              "      <td>female</td>\n",
              "      <td>36.850</td>\n",
              "      <td>0</td>\n",
              "      <td>no</td>\n",
              "      <td>southeast</td>\n",
              "      <td>1629.83350</td>\n",
              "    </tr>\n",
              "    <tr>\n",
              "      <th>1336</th>\n",
              "      <td>21</td>\n",
              "      <td>female</td>\n",
              "      <td>25.800</td>\n",
              "      <td>0</td>\n",
              "      <td>no</td>\n",
              "      <td>southwest</td>\n",
              "      <td>2007.94500</td>\n",
              "    </tr>\n",
              "    <tr>\n",
              "      <th>1337</th>\n",
              "      <td>61</td>\n",
              "      <td>female</td>\n",
              "      <td>29.070</td>\n",
              "      <td>0</td>\n",
              "      <td>yes</td>\n",
              "      <td>northwest</td>\n",
              "      <td>29141.36030</td>\n",
              "    </tr>\n",
              "  </tbody>\n",
              "</table>\n",
              "<p>1338 rows × 7 columns</p>\n",
              "</div>\n",
              "      <button class=\"colab-df-convert\" onclick=\"convertToInteractive('df-7a73bc57-e579-4d56-b429-dd23ced9f25e')\"\n",
              "              title=\"Convert this dataframe to an interactive table.\"\n",
              "              style=\"display:none;\">\n",
              "        \n",
              "  <svg xmlns=\"http://www.w3.org/2000/svg\" height=\"24px\"viewBox=\"0 0 24 24\"\n",
              "       width=\"24px\">\n",
              "    <path d=\"M0 0h24v24H0V0z\" fill=\"none\"/>\n",
              "    <path d=\"M18.56 5.44l.94 2.06.94-2.06 2.06-.94-2.06-.94-.94-2.06-.94 2.06-2.06.94zm-11 1L8.5 8.5l.94-2.06 2.06-.94-2.06-.94L8.5 2.5l-.94 2.06-2.06.94zm10 10l.94 2.06.94-2.06 2.06-.94-2.06-.94-.94-2.06-.94 2.06-2.06.94z\"/><path d=\"M17.41 7.96l-1.37-1.37c-.4-.4-.92-.59-1.43-.59-.52 0-1.04.2-1.43.59L10.3 9.45l-7.72 7.72c-.78.78-.78 2.05 0 2.83L4 21.41c.39.39.9.59 1.41.59.51 0 1.02-.2 1.41-.59l7.78-7.78 2.81-2.81c.8-.78.8-2.07 0-2.86zM5.41 20L4 18.59l7.72-7.72 1.47 1.35L5.41 20z\"/>\n",
              "  </svg>\n",
              "      </button>\n",
              "      \n",
              "  <style>\n",
              "    .colab-df-container {\n",
              "      display:flex;\n",
              "      flex-wrap:wrap;\n",
              "      gap: 12px;\n",
              "    }\n",
              "\n",
              "    .colab-df-convert {\n",
              "      background-color: #E8F0FE;\n",
              "      border: none;\n",
              "      border-radius: 50%;\n",
              "      cursor: pointer;\n",
              "      display: none;\n",
              "      fill: #1967D2;\n",
              "      height: 32px;\n",
              "      padding: 0 0 0 0;\n",
              "      width: 32px;\n",
              "    }\n",
              "\n",
              "    .colab-df-convert:hover {\n",
              "      background-color: #E2EBFA;\n",
              "      box-shadow: 0px 1px 2px rgba(60, 64, 67, 0.3), 0px 1px 3px 1px rgba(60, 64, 67, 0.15);\n",
              "      fill: #174EA6;\n",
              "    }\n",
              "\n",
              "    [theme=dark] .colab-df-convert {\n",
              "      background-color: #3B4455;\n",
              "      fill: #D2E3FC;\n",
              "    }\n",
              "\n",
              "    [theme=dark] .colab-df-convert:hover {\n",
              "      background-color: #434B5C;\n",
              "      box-shadow: 0px 1px 3px 1px rgba(0, 0, 0, 0.15);\n",
              "      filter: drop-shadow(0px 1px 2px rgba(0, 0, 0, 0.3));\n",
              "      fill: #FFFFFF;\n",
              "    }\n",
              "  </style>\n",
              "\n",
              "      <script>\n",
              "        const buttonEl =\n",
              "          document.querySelector('#df-7a73bc57-e579-4d56-b429-dd23ced9f25e button.colab-df-convert');\n",
              "        buttonEl.style.display =\n",
              "          google.colab.kernel.accessAllowed ? 'block' : 'none';\n",
              "\n",
              "        async function convertToInteractive(key) {\n",
              "          const element = document.querySelector('#df-7a73bc57-e579-4d56-b429-dd23ced9f25e');\n",
              "          const dataTable =\n",
              "            await google.colab.kernel.invokeFunction('convertToInteractive',\n",
              "                                                     [key], {});\n",
              "          if (!dataTable) return;\n",
              "\n",
              "          const docLinkHtml = 'Like what you see? Visit the ' +\n",
              "            '<a target=\"_blank\" href=https://colab.research.google.com/notebooks/data_table.ipynb>data table notebook</a>'\n",
              "            + ' to learn more about interactive tables.';\n",
              "          element.innerHTML = '';\n",
              "          dataTable['output_type'] = 'display_data';\n",
              "          await google.colab.output.renderOutput(dataTable, element);\n",
              "          const docLink = document.createElement('div');\n",
              "          docLink.innerHTML = docLinkHtml;\n",
              "          element.appendChild(docLink);\n",
              "        }\n",
              "      </script>\n",
              "    </div>\n",
              "  </div>\n",
              "  "
            ]
          },
          "metadata": {},
          "execution_count": 153
        }
      ]
    },
    {
      "cell_type": "code",
      "source": [
        "insurence_one_hot = pd.get_dummies(insurence)\n",
        "insurence_one_hot"
      ],
      "metadata": {
        "colab": {
          "base_uri": "https://localhost:8080/",
          "height": 423
        },
        "id": "p-XjXsFTjL8u",
        "outputId": "6faa3ed3-73f4-407c-ad3c-7d9de958ab24"
      },
      "execution_count": 154,
      "outputs": [
        {
          "output_type": "execute_result",
          "data": {
            "text/plain": [
              "      age     bmi  children      charges  sex_female  sex_male  smoker_no  \\\n",
              "0      19  27.900         0  16884.92400           1         0          0   \n",
              "1      18  33.770         1   1725.55230           0         1          1   \n",
              "2      28  33.000         3   4449.46200           0         1          1   \n",
              "3      33  22.705         0  21984.47061           0         1          1   \n",
              "4      32  28.880         0   3866.85520           0         1          1   \n",
              "...   ...     ...       ...          ...         ...       ...        ...   \n",
              "1333   50  30.970         3  10600.54830           0         1          1   \n",
              "1334   18  31.920         0   2205.98080           1         0          1   \n",
              "1335   18  36.850         0   1629.83350           1         0          1   \n",
              "1336   21  25.800         0   2007.94500           1         0          1   \n",
              "1337   61  29.070         0  29141.36030           1         0          0   \n",
              "\n",
              "      smoker_yes  region_northeast  region_northwest  region_southeast  \\\n",
              "0              1                 0                 0                 0   \n",
              "1              0                 0                 0                 1   \n",
              "2              0                 0                 0                 1   \n",
              "3              0                 0                 1                 0   \n",
              "4              0                 0                 1                 0   \n",
              "...          ...               ...               ...               ...   \n",
              "1333           0                 0                 1                 0   \n",
              "1334           0                 1                 0                 0   \n",
              "1335           0                 0                 0                 1   \n",
              "1336           0                 0                 0                 0   \n",
              "1337           1                 0                 1                 0   \n",
              "\n",
              "      region_southwest  \n",
              "0                    1  \n",
              "1                    0  \n",
              "2                    0  \n",
              "3                    0  \n",
              "4                    0  \n",
              "...                ...  \n",
              "1333                 0  \n",
              "1334                 0  \n",
              "1335                 0  \n",
              "1336                 1  \n",
              "1337                 0  \n",
              "\n",
              "[1338 rows x 12 columns]"
            ],
            "text/html": [
              "\n",
              "  <div id=\"df-e93ed2df-d641-479f-8903-5236c8781a1b\">\n",
              "    <div class=\"colab-df-container\">\n",
              "      <div>\n",
              "<style scoped>\n",
              "    .dataframe tbody tr th:only-of-type {\n",
              "        vertical-align: middle;\n",
              "    }\n",
              "\n",
              "    .dataframe tbody tr th {\n",
              "        vertical-align: top;\n",
              "    }\n",
              "\n",
              "    .dataframe thead th {\n",
              "        text-align: right;\n",
              "    }\n",
              "</style>\n",
              "<table border=\"1\" class=\"dataframe\">\n",
              "  <thead>\n",
              "    <tr style=\"text-align: right;\">\n",
              "      <th></th>\n",
              "      <th>age</th>\n",
              "      <th>bmi</th>\n",
              "      <th>children</th>\n",
              "      <th>charges</th>\n",
              "      <th>sex_female</th>\n",
              "      <th>sex_male</th>\n",
              "      <th>smoker_no</th>\n",
              "      <th>smoker_yes</th>\n",
              "      <th>region_northeast</th>\n",
              "      <th>region_northwest</th>\n",
              "      <th>region_southeast</th>\n",
              "      <th>region_southwest</th>\n",
              "    </tr>\n",
              "  </thead>\n",
              "  <tbody>\n",
              "    <tr>\n",
              "      <th>0</th>\n",
              "      <td>19</td>\n",
              "      <td>27.900</td>\n",
              "      <td>0</td>\n",
              "      <td>16884.92400</td>\n",
              "      <td>1</td>\n",
              "      <td>0</td>\n",
              "      <td>0</td>\n",
              "      <td>1</td>\n",
              "      <td>0</td>\n",
              "      <td>0</td>\n",
              "      <td>0</td>\n",
              "      <td>1</td>\n",
              "    </tr>\n",
              "    <tr>\n",
              "      <th>1</th>\n",
              "      <td>18</td>\n",
              "      <td>33.770</td>\n",
              "      <td>1</td>\n",
              "      <td>1725.55230</td>\n",
              "      <td>0</td>\n",
              "      <td>1</td>\n",
              "      <td>1</td>\n",
              "      <td>0</td>\n",
              "      <td>0</td>\n",
              "      <td>0</td>\n",
              "      <td>1</td>\n",
              "      <td>0</td>\n",
              "    </tr>\n",
              "    <tr>\n",
              "      <th>2</th>\n",
              "      <td>28</td>\n",
              "      <td>33.000</td>\n",
              "      <td>3</td>\n",
              "      <td>4449.46200</td>\n",
              "      <td>0</td>\n",
              "      <td>1</td>\n",
              "      <td>1</td>\n",
              "      <td>0</td>\n",
              "      <td>0</td>\n",
              "      <td>0</td>\n",
              "      <td>1</td>\n",
              "      <td>0</td>\n",
              "    </tr>\n",
              "    <tr>\n",
              "      <th>3</th>\n",
              "      <td>33</td>\n",
              "      <td>22.705</td>\n",
              "      <td>0</td>\n",
              "      <td>21984.47061</td>\n",
              "      <td>0</td>\n",
              "      <td>1</td>\n",
              "      <td>1</td>\n",
              "      <td>0</td>\n",
              "      <td>0</td>\n",
              "      <td>1</td>\n",
              "      <td>0</td>\n",
              "      <td>0</td>\n",
              "    </tr>\n",
              "    <tr>\n",
              "      <th>4</th>\n",
              "      <td>32</td>\n",
              "      <td>28.880</td>\n",
              "      <td>0</td>\n",
              "      <td>3866.85520</td>\n",
              "      <td>0</td>\n",
              "      <td>1</td>\n",
              "      <td>1</td>\n",
              "      <td>0</td>\n",
              "      <td>0</td>\n",
              "      <td>1</td>\n",
              "      <td>0</td>\n",
              "      <td>0</td>\n",
              "    </tr>\n",
              "    <tr>\n",
              "      <th>...</th>\n",
              "      <td>...</td>\n",
              "      <td>...</td>\n",
              "      <td>...</td>\n",
              "      <td>...</td>\n",
              "      <td>...</td>\n",
              "      <td>...</td>\n",
              "      <td>...</td>\n",
              "      <td>...</td>\n",
              "      <td>...</td>\n",
              "      <td>...</td>\n",
              "      <td>...</td>\n",
              "      <td>...</td>\n",
              "    </tr>\n",
              "    <tr>\n",
              "      <th>1333</th>\n",
              "      <td>50</td>\n",
              "      <td>30.970</td>\n",
              "      <td>3</td>\n",
              "      <td>10600.54830</td>\n",
              "      <td>0</td>\n",
              "      <td>1</td>\n",
              "      <td>1</td>\n",
              "      <td>0</td>\n",
              "      <td>0</td>\n",
              "      <td>1</td>\n",
              "      <td>0</td>\n",
              "      <td>0</td>\n",
              "    </tr>\n",
              "    <tr>\n",
              "      <th>1334</th>\n",
              "      <td>18</td>\n",
              "      <td>31.920</td>\n",
              "      <td>0</td>\n",
              "      <td>2205.98080</td>\n",
              "      <td>1</td>\n",
              "      <td>0</td>\n",
              "      <td>1</td>\n",
              "      <td>0</td>\n",
              "      <td>1</td>\n",
              "      <td>0</td>\n",
              "      <td>0</td>\n",
              "      <td>0</td>\n",
              "    </tr>\n",
              "    <tr>\n",
              "      <th>1335</th>\n",
              "      <td>18</td>\n",
              "      <td>36.850</td>\n",
              "      <td>0</td>\n",
              "      <td>1629.83350</td>\n",
              "      <td>1</td>\n",
              "      <td>0</td>\n",
              "      <td>1</td>\n",
              "      <td>0</td>\n",
              "      <td>0</td>\n",
              "      <td>0</td>\n",
              "      <td>1</td>\n",
              "      <td>0</td>\n",
              "    </tr>\n",
              "    <tr>\n",
              "      <th>1336</th>\n",
              "      <td>21</td>\n",
              "      <td>25.800</td>\n",
              "      <td>0</td>\n",
              "      <td>2007.94500</td>\n",
              "      <td>1</td>\n",
              "      <td>0</td>\n",
              "      <td>1</td>\n",
              "      <td>0</td>\n",
              "      <td>0</td>\n",
              "      <td>0</td>\n",
              "      <td>0</td>\n",
              "      <td>1</td>\n",
              "    </tr>\n",
              "    <tr>\n",
              "      <th>1337</th>\n",
              "      <td>61</td>\n",
              "      <td>29.070</td>\n",
              "      <td>0</td>\n",
              "      <td>29141.36030</td>\n",
              "      <td>1</td>\n",
              "      <td>0</td>\n",
              "      <td>0</td>\n",
              "      <td>1</td>\n",
              "      <td>0</td>\n",
              "      <td>1</td>\n",
              "      <td>0</td>\n",
              "      <td>0</td>\n",
              "    </tr>\n",
              "  </tbody>\n",
              "</table>\n",
              "<p>1338 rows × 12 columns</p>\n",
              "</div>\n",
              "      <button class=\"colab-df-convert\" onclick=\"convertToInteractive('df-e93ed2df-d641-479f-8903-5236c8781a1b')\"\n",
              "              title=\"Convert this dataframe to an interactive table.\"\n",
              "              style=\"display:none;\">\n",
              "        \n",
              "  <svg xmlns=\"http://www.w3.org/2000/svg\" height=\"24px\"viewBox=\"0 0 24 24\"\n",
              "       width=\"24px\">\n",
              "    <path d=\"M0 0h24v24H0V0z\" fill=\"none\"/>\n",
              "    <path d=\"M18.56 5.44l.94 2.06.94-2.06 2.06-.94-2.06-.94-.94-2.06-.94 2.06-2.06.94zm-11 1L8.5 8.5l.94-2.06 2.06-.94-2.06-.94L8.5 2.5l-.94 2.06-2.06.94zm10 10l.94 2.06.94-2.06 2.06-.94-2.06-.94-.94-2.06-.94 2.06-2.06.94z\"/><path d=\"M17.41 7.96l-1.37-1.37c-.4-.4-.92-.59-1.43-.59-.52 0-1.04.2-1.43.59L10.3 9.45l-7.72 7.72c-.78.78-.78 2.05 0 2.83L4 21.41c.39.39.9.59 1.41.59.51 0 1.02-.2 1.41-.59l7.78-7.78 2.81-2.81c.8-.78.8-2.07 0-2.86zM5.41 20L4 18.59l7.72-7.72 1.47 1.35L5.41 20z\"/>\n",
              "  </svg>\n",
              "      </button>\n",
              "      \n",
              "  <style>\n",
              "    .colab-df-container {\n",
              "      display:flex;\n",
              "      flex-wrap:wrap;\n",
              "      gap: 12px;\n",
              "    }\n",
              "\n",
              "    .colab-df-convert {\n",
              "      background-color: #E8F0FE;\n",
              "      border: none;\n",
              "      border-radius: 50%;\n",
              "      cursor: pointer;\n",
              "      display: none;\n",
              "      fill: #1967D2;\n",
              "      height: 32px;\n",
              "      padding: 0 0 0 0;\n",
              "      width: 32px;\n",
              "    }\n",
              "\n",
              "    .colab-df-convert:hover {\n",
              "      background-color: #E2EBFA;\n",
              "      box-shadow: 0px 1px 2px rgba(60, 64, 67, 0.3), 0px 1px 3px 1px rgba(60, 64, 67, 0.15);\n",
              "      fill: #174EA6;\n",
              "    }\n",
              "\n",
              "    [theme=dark] .colab-df-convert {\n",
              "      background-color: #3B4455;\n",
              "      fill: #D2E3FC;\n",
              "    }\n",
              "\n",
              "    [theme=dark] .colab-df-convert:hover {\n",
              "      background-color: #434B5C;\n",
              "      box-shadow: 0px 1px 3px 1px rgba(0, 0, 0, 0.15);\n",
              "      filter: drop-shadow(0px 1px 2px rgba(0, 0, 0, 0.3));\n",
              "      fill: #FFFFFF;\n",
              "    }\n",
              "  </style>\n",
              "\n",
              "      <script>\n",
              "        const buttonEl =\n",
              "          document.querySelector('#df-e93ed2df-d641-479f-8903-5236c8781a1b button.colab-df-convert');\n",
              "        buttonEl.style.display =\n",
              "          google.colab.kernel.accessAllowed ? 'block' : 'none';\n",
              "\n",
              "        async function convertToInteractive(key) {\n",
              "          const element = document.querySelector('#df-e93ed2df-d641-479f-8903-5236c8781a1b');\n",
              "          const dataTable =\n",
              "            await google.colab.kernel.invokeFunction('convertToInteractive',\n",
              "                                                     [key], {});\n",
              "          if (!dataTable) return;\n",
              "\n",
              "          const docLinkHtml = 'Like what you see? Visit the ' +\n",
              "            '<a target=\"_blank\" href=https://colab.research.google.com/notebooks/data_table.ipynb>data table notebook</a>'\n",
              "            + ' to learn more about interactive tables.';\n",
              "          element.innerHTML = '';\n",
              "          dataTable['output_type'] = 'display_data';\n",
              "          await google.colab.output.renderOutput(dataTable, element);\n",
              "          const docLink = document.createElement('div');\n",
              "          docLink.innerHTML = docLinkHtml;\n",
              "          element.appendChild(docLink);\n",
              "        }\n",
              "      </script>\n",
              "    </div>\n",
              "  </div>\n",
              "  "
            ]
          },
          "metadata": {},
          "execution_count": 154
        }
      ]
    },
    {
      "cell_type": "markdown",
      "source": [
        "To prepare our data we can borrow a few classes from Scikit-learn"
      ],
      "metadata": {
        "id": "sv2TKDLCkkET"
      }
    },
    {
      "cell_type": "code",
      "source": [
        "from sklearn.compose import make_column_transformer\n",
        "from sklearn.preprocessing import OneHotEncoder, MinMaxScaler\n",
        "from sklearn.model_selection import train_test_split\n",
        "\n",
        "#normalising gthe data\n",
        "ct = make_column_transformer(\n",
        "    (MinMaxScaler(), [\"age\",\"bmi\",\"children\"]),\n",
        "     (OneHotEncoder(handle_unknown=\"ignore\"),[\"sex\",\"smoker\",\"region\"])\n",
        "     )\n",
        "\n",
        "#create X and y\n",
        "X= insurance.drop(\"charges\",axis=1)\n",
        "y= insurance[\"charges\"]\n",
        "\n",
        "#split data into test train\n",
        "X_train,X_test,y_train,y_test = train_test_split(X,y, test_size=0.2, random_state=42)\n",
        "\n",
        "#Fit column transformer to our training data\n",
        "ct.fit(X_train)\n",
        "\n",
        "#transform the trainng data and testing data with Normalization(Min Max Scaler ) and OneHotEncoder\n",
        "X_train_normal = ct.transform(X_train) \n",
        "X_test_normal = ct.transform(X_test)\n"
      ],
      "metadata": {
        "id": "TUbmzYcHkb3D"
      },
      "execution_count": 155,
      "outputs": []
    },
    {
      "cell_type": "code",
      "source": [
        "#hat doe sour data look like \n",
        "X_train.loc[0], X_train_normal[0]"
      ],
      "metadata": {
        "colab": {
          "base_uri": "https://localhost:8080/"
        },
        "id": "Ya4v8KHpsgoX",
        "outputId": "16e94451-5ea7-493c-89f2-c4b327e6f8e4"
      },
      "execution_count": 156,
      "outputs": [
        {
          "output_type": "execute_result",
          "data": {
            "text/plain": [
              "(age                19\n",
              " sex            female\n",
              " bmi              27.9\n",
              " children            0\n",
              " smoker            yes\n",
              " region      southwest\n",
              " Name: 0, dtype: object,\n",
              " array([0.60869565, 0.10734463, 0.4       , 1.        , 0.        ,\n",
              "        1.        , 0.        , 0.        , 1.        , 0.        ,\n",
              "        0.        ]))"
            ]
          },
          "metadata": {},
          "execution_count": 156
        }
      ]
    },
    {
      "cell_type": "code",
      "source": [
        "X_train[\"age\"].hist(), X_train[\"bmi\"].hist(), X_train[\"children\"].hist()"
      ],
      "metadata": {
        "colab": {
          "base_uri": "https://localhost:8080/",
          "height": 320
        },
        "id": "kFH_KjR1vkIv",
        "outputId": "274cf3b0-c8d4-4f51-d3d3-4ebda17a9910"
      },
      "execution_count": 157,
      "outputs": [
        {
          "output_type": "execute_result",
          "data": {
            "text/plain": [
              "(<matplotlib.axes._subplots.AxesSubplot at 0x7fc8316b6fd0>,\n",
              " <matplotlib.axes._subplots.AxesSubplot at 0x7fc8316b6fd0>,\n",
              " <matplotlib.axes._subplots.AxesSubplot at 0x7fc8316b6fd0>)"
            ]
          },
          "metadata": {},
          "execution_count": 157
        },
        {
          "output_type": "display_data",
          "data": {
            "text/plain": [
              "<Figure size 432x288 with 1 Axes>"
            ],
            "image/png": "[encoded data removed]"
          },
          "metadata": {
            "needs_background": "light"
          }
        }
      ]
    },
    {
      "cell_type": "code",
      "source": [
        "X_train[\"bmi\"].plot(kind=\"hist\")"
      ],
      "metadata": {
        "colab": {
          "base_uri": "https://localhost:8080/",
          "height": 283
        },
        "id": "VXTsZASxvxPy",
        "outputId": "b10c5490-491f-4ce3-85c5-b41d01d054a6"
      },
      "execution_count": 158,
      "outputs": [
        {
          "output_type": "execute_result",
          "data": {
            "text/plain": [
              "<matplotlib.axes._subplots.AxesSubplot at 0x7fc831a0d210>"
            ]
          },
          "metadata": {},
          "execution_count": 158
        },
        {
          "output_type": "display_data",
          "data": {
            "text/plain": [
              "<Figure size 432x288 with 1 Axes>"
            ],
            "image/png": "[encoded data removed]"
          },
          "metadata": {
            "needs_background": "light"
          }
        }
      ]
    },
    {
      "cell_type": "markdown",
      "source": [
        "  Our data is now normalized and one hot encoded. Now  let's build a  neural network model on the data"
      ],
      "metadata": {
        "id": "bMBNiIj3wnCl"
      }
    },
    {
      "cell_type": "code",
      "source": [
        "# Build a model to fit on our normalized data\n",
        "\n",
        "#set random seed\n",
        "tf.random.set_seed(47)\n",
        "\n",
        "#build the model\n",
        "model_4 = tf.keras.Sequential([\n",
        "    tf.keras.layers.Dense(100),\n",
        "    tf.keras.layers.Dense(10),\n",
        "    tf.keras.layers.Dense(1)\n",
        "])\n",
        "\n",
        "#compile the model\n",
        "model_4.compile(loss= tf.keras.losses.MAE,\n",
        "              optimizer= tf.keras.optimizers.Adam(),\n",
        "              metrics= [\"MAE\"])\n",
        "\n",
        "#fit the model\n",
        "model_4.fit(X_train_normal,y_train,epochs=100)"
      ],
      "metadata": {
        "colab": {
          "base_uri": "https://localhost:8080/"
        },
        "id": "FYxFKgOYw3xL",
        "outputId": "68bd340b-23c5-467a-c54f-e3f28cc47f02"
      },
      "execution_count": 159,
      "outputs": [
        {
          "output_type": "stream",
          "name": "stdout",
          "text": [
            "Epoch 1/100\n",
            "34/34 [==============================] - 1s 4ms/step - loss: 13343.3184 - MAE: 13343.3184\n",
            "Epoch 2/100\n",
            "34/34 [==============================] - 0s 4ms/step - loss: 13333.3115 - MAE: 13333.3115\n",
            "Epoch 3/100\n",
            "34/34 [==============================] - 0s 4ms/step - loss: 13309.1279 - MAE: 13309.1279\n",
            "Epoch 4/100\n",
            "34/34 [==============================] - 0s 4ms/step - loss: 13260.1475 - MAE: 13260.1475\n",
            "Epoch 5/100\n",
            "34/34 [==============================] - 0s 4ms/step - loss: 13174.9443 - MAE: 13174.9443\n",
            "Epoch 6/100\n",
            "34/34 [==============================] - 0s 4ms/step - loss: 13042.2832 - MAE: 13042.2832\n",
            "Epoch 7/100\n",
            "34/34 [==============================] - 0s 4ms/step - loss: 12851.8750 - MAE: 12851.8750\n",
            "Epoch 8/100\n",
            "34/34 [==============================] - 0s 4ms/step - loss: 12593.8252 - MAE: 12593.8252\n",
            "Epoch 9/100\n",
            "34/34 [==============================] - 0s 2ms/step - loss: 12258.7041 - MAE: 12258.7041\n",
            "Epoch 10/100\n",
            "34/34 [==============================] - 0s 2ms/step - loss: 11843.9912 - MAE: 11843.9912\n",
            "Epoch 11/100\n",
            "34/34 [==============================] - 0s 2ms/step - loss: 11361.8633 - MAE: 11361.8633\n",
            "Epoch 12/100\n",
            "34/34 [==============================] - 0s 2ms/step - loss: 10856.5811 - MAE: 10856.5811\n",
            "Epoch 13/100\n",
            "34/34 [==============================] - 0s 2ms/step - loss: 10358.4795 - MAE: 10358.4795\n",
            "Epoch 14/100\n",
            "34/34 [==============================] - 0s 2ms/step - loss: 9865.6582 - MAE: 9865.6582\n",
            "Epoch 15/100\n",
            "34/34 [==============================] - 0s 2ms/step - loss: 9410.3418 - MAE: 9410.3418\n",
            "Epoch 16/100\n",
            "34/34 [==============================] - 0s 2ms/step - loss: 9007.6670 - MAE: 9007.6670\n",
            "Epoch 17/100\n",
            "34/34 [==============================] - 0s 2ms/step - loss: 8677.1680 - MAE: 8677.1680\n",
            "Epoch 18/100\n",
            "34/34 [==============================] - 0s 2ms/step - loss: 8415.5967 - MAE: 8415.5967\n",
            "Epoch 19/100\n",
            "34/34 [==============================] - 0s 2ms/step - loss: 8207.8691 - MAE: 8207.8691\n",
            "Epoch 20/100\n",
            "34/34 [==============================] - 0s 2ms/step - loss: 8066.3765 - MAE: 8066.3765\n",
            "Epoch 21/100\n",
            "34/34 [==============================] - 0s 2ms/step - loss: 7966.9756 - MAE: 7966.9756\n",
            "Epoch 22/100\n",
            "34/34 [==============================] - 0s 2ms/step - loss: 7895.3281 - MAE: 7895.3281\n",
            "Epoch 23/100\n",
            "34/34 [==============================] - 0s 2ms/step - loss: 7837.6025 - MAE: 7837.6025\n",
            "Epoch 24/100\n",
            "34/34 [==============================] - 0s 2ms/step - loss: 7790.9355 - MAE: 7790.9355\n",
            "Epoch 25/100\n",
            "34/34 [==============================] - 0s 2ms/step - loss: 7743.9424 - MAE: 7743.9424\n",
            "Epoch 26/100\n",
            "34/34 [==============================] - 0s 2ms/step - loss: 7697.0732 - MAE: 7697.0732\n",
            "Epoch 27/100\n",
            "34/34 [==============================] - 0s 2ms/step - loss: 7653.6465 - MAE: 7653.6465\n",
            "Epoch 28/100\n",
            "34/34 [==============================] - 0s 2ms/step - loss: 7608.9438 - MAE: 7608.9438\n",
            "Epoch 29/100\n",
            "34/34 [==============================] - 0s 2ms/step - loss: 7565.4780 - MAE: 7565.4780\n",
            "Epoch 30/100\n",
            "34/34 [==============================] - 0s 2ms/step - loss: 7520.6519 - MAE: 7520.6519\n",
            "Epoch 31/100\n",
            "34/34 [==============================] - 0s 2ms/step - loss: 7475.5356 - MAE: 7475.5356\n",
            "Epoch 32/100\n",
            "34/34 [==============================] - 0s 3ms/step - loss: 7429.7588 - MAE: 7429.7588\n",
            "Epoch 33/100\n",
            "34/34 [==============================] - 0s 2ms/step - loss: 7383.6543 - MAE: 7383.6543\n",
            "Epoch 34/100\n",
            "34/34 [==============================] - 0s 2ms/step - loss: 7334.9048 - MAE: 7334.9048\n",
            "Epoch 35/100\n",
            "34/34 [==============================] - 0s 2ms/step - loss: 7284.4507 - MAE: 7284.4507\n",
            "Epoch 36/100\n",
            "34/34 [==============================] - 0s 2ms/step - loss: 7232.6841 - MAE: 7232.6841\n",
            "Epoch 37/100\n",
            "34/34 [==============================] - 0s 2ms/step - loss: 7180.8213 - MAE: 7180.8213\n",
            "Epoch 38/100\n",
            "34/34 [==============================] - 0s 2ms/step - loss: 7125.0903 - MAE: 7125.0903\n",
            "Epoch 39/100\n",
            "34/34 [==============================] - 0s 2ms/step - loss: 7069.3779 - MAE: 7069.3779\n",
            "Epoch 40/100\n",
            "34/34 [==============================] - 0s 2ms/step - loss: 7010.2715 - MAE: 7010.2715\n",
            "Epoch 41/100\n",
            "34/34 [==============================] - 0s 2ms/step - loss: 6951.6426 - MAE: 6951.6426\n",
            "Epoch 42/100\n",
            "34/34 [==============================] - 0s 2ms/step - loss: 6888.5444 - MAE: 6888.5444\n",
            "Epoch 43/100\n",
            "34/34 [==============================] - 0s 2ms/step - loss: 6824.6313 - MAE: 6824.6313\n",
            "Epoch 44/100\n",
            "34/34 [==============================] - 0s 3ms/step - loss: 6755.3330 - MAE: 6755.3330\n",
            "Epoch 45/100\n",
            "34/34 [==============================] - 0s 2ms/step - loss: 6684.5376 - MAE: 6684.5376\n",
            "Epoch 46/100\n",
            "34/34 [==============================] - 0s 2ms/step - loss: 6610.5381 - MAE: 6610.5381\n",
            "Epoch 47/100\n",
            "34/34 [==============================] - 0s 2ms/step - loss: 6533.7686 - MAE: 6533.7686\n",
            "Epoch 48/100\n",
            "34/34 [==============================] - 0s 2ms/step - loss: 6452.6641 - MAE: 6452.6641\n",
            "Epoch 49/100\n",
            "34/34 [==============================] - 0s 2ms/step - loss: 6369.6470 - MAE: 6369.6470\n",
            "Epoch 50/100\n",
            "34/34 [==============================] - 0s 3ms/step - loss: 6280.3540 - MAE: 6280.3540\n",
            "Epoch 51/100\n",
            "34/34 [==============================] - 0s 2ms/step - loss: 6187.2139 - MAE: 6187.2139\n",
            "Epoch 52/100\n",
            "34/34 [==============================] - 0s 2ms/step - loss: 6092.8535 - MAE: 6092.8535\n",
            "Epoch 53/100\n",
            "34/34 [==============================] - 0s 2ms/step - loss: 5988.6055 - MAE: 5988.6055\n",
            "Epoch 54/100\n",
            "34/34 [==============================] - 0s 2ms/step - loss: 5881.7661 - MAE: 5881.7661\n",
            "Epoch 55/100\n",
            "34/34 [==============================] - 0s 2ms/step - loss: 5772.5605 - MAE: 5772.5605\n",
            "Epoch 56/100\n",
            "34/34 [==============================] - 0s 2ms/step - loss: 5652.8530 - MAE: 5652.8530\n",
            "Epoch 57/100\n",
            "34/34 [==============================] - 0s 2ms/step - loss: 5531.4419 - MAE: 5531.4419\n",
            "Epoch 58/100\n",
            "34/34 [==============================] - 0s 2ms/step - loss: 5409.5176 - MAE: 5409.5176\n",
            "Epoch 59/100\n",
            "34/34 [==============================] - 0s 2ms/step - loss: 5280.6616 - MAE: 5280.6616\n",
            "Epoch 60/100\n",
            "34/34 [==============================] - 0s 2ms/step - loss: 5149.8652 - MAE: 5149.8652\n",
            "Epoch 61/100\n",
            "34/34 [==============================] - 0s 2ms/step - loss: 5015.5415 - MAE: 5015.5415\n",
            "Epoch 62/100\n",
            "34/34 [==============================] - 0s 2ms/step - loss: 4879.2539 - MAE: 4879.2539\n",
            "Epoch 63/100\n",
            "34/34 [==============================] - 0s 2ms/step - loss: 4743.1484 - MAE: 4743.1484\n",
            "Epoch 64/100\n",
            "34/34 [==============================] - 0s 2ms/step - loss: 4607.5620 - MAE: 4607.5620\n",
            "Epoch 65/100\n",
            "34/34 [==============================] - 0s 2ms/step - loss: 4481.6792 - MAE: 4481.6792\n",
            "Epoch 66/100\n",
            "34/34 [==============================] - 0s 2ms/step - loss: 4367.0205 - MAE: 4367.0205\n",
            "Epoch 67/100\n",
            "34/34 [==============================] - 0s 2ms/step - loss: 4256.0728 - MAE: 4256.0728\n",
            "Epoch 68/100\n",
            "34/34 [==============================] - 0s 2ms/step - loss: 4153.4233 - MAE: 4153.4233\n",
            "Epoch 69/100\n",
            "34/34 [==============================] - 0s 2ms/step - loss: 4060.9636 - MAE: 4060.9636\n",
            "Epoch 70/100\n",
            "34/34 [==============================] - 0s 2ms/step - loss: 3980.0369 - MAE: 3980.0369\n",
            "Epoch 71/100\n",
            "34/34 [==============================] - 0s 2ms/step - loss: 3908.1890 - MAE: 3908.1890\n",
            "Epoch 72/100\n",
            "34/34 [==============================] - 0s 2ms/step - loss: 3850.1980 - MAE: 3850.1980\n",
            "Epoch 73/100\n",
            "34/34 [==============================] - 0s 2ms/step - loss: 3801.6016 - MAE: 3801.6016\n",
            "Epoch 74/100\n",
            "34/34 [==============================] - 0s 2ms/step - loss: 3761.8208 - MAE: 3761.8208\n",
            "Epoch 75/100\n",
            "34/34 [==============================] - 0s 2ms/step - loss: 3736.5967 - MAE: 3736.5967\n",
            "Epoch 76/100\n",
            "34/34 [==============================] - 0s 2ms/step - loss: 3713.0254 - MAE: 3713.0254\n",
            "Epoch 77/100\n",
            "34/34 [==============================] - 0s 2ms/step - loss: 3699.7366 - MAE: 3699.7366\n",
            "Epoch 78/100\n",
            "34/34 [==============================] - 0s 2ms/step - loss: 3690.7627 - MAE: 3690.7627\n",
            "Epoch 79/100\n",
            "34/34 [==============================] - 0s 3ms/step - loss: 3682.2581 - MAE: 3682.2581\n",
            "Epoch 80/100\n",
            "34/34 [==============================] - 0s 2ms/step - loss: 3677.5413 - MAE: 3677.5413\n",
            "Epoch 81/100\n",
            "34/34 [==============================] - 0s 2ms/step - loss: 3674.2871 - MAE: 3674.2871\n",
            "Epoch 82/100\n",
            "34/34 [==============================] - 0s 2ms/step - loss: 3670.6514 - MAE: 3670.6514\n",
            "Epoch 83/100\n",
            "34/34 [==============================] - 0s 2ms/step - loss: 3669.0906 - MAE: 3669.0906\n",
            "Epoch 84/100\n",
            "34/34 [==============================] - 0s 2ms/step - loss: 3664.5410 - MAE: 3664.5410\n",
            "Epoch 85/100\n",
            "34/34 [==============================] - 0s 2ms/step - loss: 3661.0161 - MAE: 3661.0161\n",
            "Epoch 86/100\n",
            "34/34 [==============================] - 0s 2ms/step - loss: 3660.4038 - MAE: 3660.4038\n",
            "Epoch 87/100\n",
            "34/34 [==============================] - 0s 2ms/step - loss: 3657.9194 - MAE: 3657.9194\n",
            "Epoch 88/100\n",
            "34/34 [==============================] - 0s 2ms/step - loss: 3656.1841 - MAE: 3656.1841\n",
            "Epoch 89/100\n",
            "34/34 [==============================] - 0s 2ms/step - loss: 3653.0928 - MAE: 3653.0928\n",
            "Epoch 90/100\n",
            "34/34 [==============================] - 0s 2ms/step - loss: 3651.8262 - MAE: 3651.8262\n",
            "Epoch 91/100\n",
            "34/34 [==============================] - 0s 2ms/step - loss: 3650.4324 - MAE: 3650.4324\n",
            "Epoch 92/100\n",
            "34/34 [==============================] - 0s 3ms/step - loss: 3647.7183 - MAE: 3647.7183\n",
            "Epoch 93/100\n",
            "34/34 [==============================] - 0s 2ms/step - loss: 3645.2920 - MAE: 3645.2920\n",
            "Epoch 94/100\n",
            "34/34 [==============================] - 0s 2ms/step - loss: 3644.2415 - MAE: 3644.2415\n",
            "Epoch 95/100\n",
            "34/34 [==============================] - 0s 2ms/step - loss: 3642.3130 - MAE: 3642.3130\n",
            "Epoch 96/100\n",
            "34/34 [==============================] - 0s 2ms/step - loss: 3640.5161 - MAE: 3640.5161\n",
            "Epoch 97/100\n",
            "34/34 [==============================] - 0s 2ms/step - loss: 3640.3914 - MAE: 3640.3914\n",
            "Epoch 98/100\n",
            "34/34 [==============================] - 0s 2ms/step - loss: 3637.0720 - MAE: 3637.0720\n",
            "Epoch 99/100\n",
            "34/34 [==============================] - 0s 2ms/step - loss: 3635.1428 - MAE: 3635.1428\n",
            "Epoch 100/100\n",
            "34/34 [==============================] - 0s 2ms/step - loss: 3633.8506 - MAE: 3633.8506\n"
          ]
        },
        {
          "output_type": "execute_result",
          "data": {
            "text/plain": [
              "<keras.callbacks.History at 0x7fc832f5e610>"
            ]
          },
          "metadata": {},
          "execution_count": 159
        }
      ]
    },
    {
      "cell_type": "code",
      "source": [
        "#summary\n",
        "model_2.summary()"
      ],
      "metadata": {
        "colab": {
          "base_uri": "https://localhost:8080/"
        },
        "id": "FNf_f_yKxUCQ",
        "outputId": "c113e6b2-b5f0-4d45-caf4-463d9f6d6228"
      },
      "execution_count": 160,
      "outputs": [
        {
          "output_type": "stream",
          "name": "stdout",
          "text": [
            "Model: \"sequential_19\"\n",
            "_________________________________________________________________\n",
            " Layer (type)                Output Shape              Param #   \n",
            "=================================================================\n",
            " dense_44 (Dense)            (None, 100)               1200      \n",
            "                                                                 \n",
            " dense_45 (Dense)            (None, 10)                1010      \n",
            "                                                                 \n",
            " dense_46 (Dense)            (None, 1)                 11        \n",
            "                                                                 \n",
            "=================================================================\n",
            "Total params: 2,221\n",
            "Trainable params: 2,221\n",
            "Non-trainable params: 0\n",
            "_________________________________________________________________\n"
          ]
        }
      ]
    },
    {
      "cell_type": "code",
      "source": [
        "#Evaluate our model\n",
        "model_4.evaluate(X_test_normal,y_test)"
      ],
      "metadata": {
        "colab": {
          "base_uri": "https://localhost:8080/"
        },
        "id": "yRWxTPAWyrYS",
        "outputId": "b1c65b2d-4a0b-4f2b-c1d2-8b87ed0220b3"
      },
      "execution_count": 161,
      "outputs": [
        {
          "output_type": "stream",
          "name": "stdout",
          "text": [
            "9/9 [==============================] - 0s 2ms/step - loss: 3438.1309 - MAE: 3438.1309\n"
          ]
        },
        {
          "output_type": "execute_result",
          "data": {
            "text/plain": [
              "[3438.130859375, 3438.130859375]"
            ]
          },
          "metadata": {},
          "execution_count": 161
        }
      ]
    },
    {
      "cell_type": "code",
      "source": [
        "# loss: 5186.7563 - MAE: 5186.7563\n",
        "#[3166.2099609375, 3166.2099609375]"
      ],
      "metadata": {
        "id": "yvWWlbjFy5sb"
      },
      "execution_count": 162,
      "outputs": []
    },
    {
      "cell_type": "code",
      "source": [],
      "metadata": {
        "id": "gkovEWDZ1swK"
      },
      "execution_count": 162,
      "outputs": []
    },
    {
      "cell_type": "code",
      "source": [],
      "metadata": {
        "id": "ht3xdna51shc"
      },
      "execution_count": 162,
      "outputs": []
    }
  ]
}