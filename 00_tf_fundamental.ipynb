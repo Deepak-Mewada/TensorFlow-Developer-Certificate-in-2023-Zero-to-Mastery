{
  "nbformat": 4,
  "nbformat_minor": 0,
  "metadata": {
    "colab": {
      "provenance": [],
      "authorship_tag": "ABX9TyP0DWUBcCTUtdjKx0GQuX4P",
      "include_colab_link": true
    },
    "kernelspec": {
      "name": "python3",
      "display_name": "Python 3"
    },
    "language_info": {
      "name": "python"
    }
  },
  "cells": [
    {
      "cell_type": "markdown",
      "metadata": {
        "id": "view-in-github",
        "colab_type": "text"
      },
      "source": [
        "<a href=\"https://colab.research.google.com/github/Deepak-Mewada/TensorFlow-Developer-Certificate-in-2023-Zero-to-Mastery/blob/main/00_tf_fundamental.ipynb\" target=\"_parent\"><img src=\"https://colab.research.google.com/assets/colab-badge.svg\" alt=\"Open In Colab\"/></a>"
      ]
    },
    {
      "cell_type": "markdown",
      "source": [
        "In this notebook we are going to cover most fundamental concepts of TenbsorFlow\n",
        "\n",
        "More specifically,We are going to cover:\n",
        "* Introduction to tensor\n",
        "* Getting informaiton from tensors\n",
        "* Manipulating tensors\n",
        "* Tensors & NumPy\n",
        "* Using @tf.function(w way to speed up regular poython functions)\n",
        "* Using GPU with tensorflow\n",
        "* Exercise to try by yourself\n"
      ],
      "metadata": {
        "id": "xv24WIdeczI7"
      }
    },
    {
      "cell_type": "code",
      "execution_count": 1,
      "metadata": {
        "id": "1VbUT_vNCbRG",
        "colab": {
          "base_uri": "https://localhost:8080/"
        },
        "outputId": "7f9efce1-aec8-4138-f272-640e4e7e6c5b"
      },
      "outputs": [
        {
          "output_type": "stream",
          "name": "stdout",
          "text": [
            "2.9.2\n"
          ]
        }
      ],
      "source": [
        "# import tensorflow\n",
        "import tensorflow as tf\n",
        "print(tf.__version__)"
      ]
    },
    {
      "cell_type": "markdown",
      "source": [
        "#Introduction to Tensor"
      ],
      "metadata": {
        "id": "MhO1PY4kgpjB"
      }
    },
    {
      "cell_type": "code",
      "source": [
        "# create tensors with tf.constant()\n",
        "scalar = tf.constant(7)\n",
        "scalar"
      ],
      "metadata": {
        "colab": {
          "base_uri": "https://localhost:8080/"
        },
        "id": "RLJPV2QreAwL",
        "outputId": "6a27f642-29cf-4e33-cafd-2036a9fa666c"
      },
      "execution_count": 2,
      "outputs": [
        {
          "output_type": "execute_result",
          "data": {
            "text/plain": [
              "<tf.Tensor: shape=(), dtype=int32, numpy=7>"
            ]
          },
          "metadata": {},
          "execution_count": 2
        }
      ]
    },
    {
      "cell_type": "code",
      "source": [
        "# check the number of dimentsion of a tensor() ndim stands for number of dimensions\n",
        "scalar.ndim"
      ],
      "metadata": {
        "colab": {
          "base_uri": "https://localhost:8080/"
        },
        "id": "Ie-A_Abqh9oc",
        "outputId": "16a8f13b-9f66-427e-c2c4-3153a3f8d033"
      },
      "execution_count": 3,
      "outputs": [
        {
          "output_type": "execute_result",
          "data": {
            "text/plain": [
              "0"
            ]
          },
          "metadata": {},
          "execution_count": 3
        }
      ]
    },
    {
      "cell_type": "code",
      "source": [
        "# create a vector\n",
        "vector = tf.constant([10,10])\n",
        "vector"
      ],
      "metadata": {
        "colab": {
          "base_uri": "https://localhost:8080/"
        },
        "id": "1z5tBcr9gqpY",
        "outputId": "c9f70ff7-8eae-44e6-e556-2d2c173b659a"
      },
      "execution_count": 4,
      "outputs": [
        {
          "output_type": "execute_result",
          "data": {
            "text/plain": [
              "<tf.Tensor: shape=(2,), dtype=int32, numpy=array([10, 10], dtype=int32)>"
            ]
          },
          "metadata": {},
          "execution_count": 4
        }
      ]
    },
    {
      "cell_type": "code",
      "source": [
        "#check the dimension of our vector\n",
        "vector.ndim"
      ],
      "metadata": {
        "colab": {
          "base_uri": "https://localhost:8080/"
        },
        "id": "1NWNSLMqgrPa",
        "outputId": "4f15cf06-bb63-40f0-a584-8a5050f689d1"
      },
      "execution_count": 5,
      "outputs": [
        {
          "output_type": "execute_result",
          "data": {
            "text/plain": [
              "1"
            ]
          },
          "metadata": {},
          "execution_count": 5
        }
      ]
    },
    {
      "cell_type": "code",
      "source": [
        "# create a matrix\n",
        "matrix= tf.constant([[7.,10],[10,7]])\n",
        "matrix"
      ],
      "metadata": {
        "colab": {
          "base_uri": "https://localhost:8080/"
        },
        "id": "inK9Yiw2gsRq",
        "outputId": "f9976c76-21d5-457f-adbf-375a33c98a11"
      },
      "execution_count": 6,
      "outputs": [
        {
          "output_type": "execute_result",
          "data": {
            "text/plain": [
              "<tf.Tensor: shape=(2, 2), dtype=float32, numpy=\n",
              "array([[ 7., 10.],\n",
              "       [10.,  7.]], dtype=float32)>"
            ]
          },
          "metadata": {},
          "execution_count": 6
        }
      ]
    },
    {
      "cell_type": "code",
      "source": [
        "matrix.ndim"
      ],
      "metadata": {
        "id": "vMBZFFEmgtBa",
        "colab": {
          "base_uri": "https://localhost:8080/"
        },
        "outputId": "af8195a8-38a6-4510-aacf-3ee924a5b76a"
      },
      "execution_count": 7,
      "outputs": [
        {
          "output_type": "execute_result",
          "data": {
            "text/plain": [
              "2"
            ]
          },
          "metadata": {},
          "execution_count": 7
        }
      ]
    },
    {
      "cell_type": "code",
      "source": [
        "#create another matrix \n",
        "another_matrix = tf.constant([[10.,7],\n",
        "                              [3,2],\n",
        "                              [8,9]], dtype=tf.float16) # specify the data\n",
        "another_matrix                             "
      ],
      "metadata": {
        "id": "DOnePoIqgtki",
        "colab": {
          "base_uri": "https://localhost:8080/"
        },
        "outputId": "f48cf09c-cb38-4cd5-81b2-4be0d46a926c"
      },
      "execution_count": 8,
      "outputs": [
        {
          "output_type": "execute_result",
          "data": {
            "text/plain": [
              "<tf.Tensor: shape=(3, 2), dtype=float16, numpy=\n",
              "array([[10.,  7.],\n",
              "       [ 3.,  2.],\n",
              "       [ 8.,  9.]], dtype=float16)>"
            ]
          },
          "metadata": {},
          "execution_count": 8
        }
      ]
    },
    {
      "cell_type": "code",
      "source": [
        "another_matrix.ndim"
      ],
      "metadata": {
        "colab": {
          "base_uri": "https://localhost:8080/"
        },
        "id": "oDFow-AemdVS",
        "outputId": "e5461cd2-37e2-40c7-c21a-35d3665b5925"
      },
      "execution_count": 9,
      "outputs": [
        {
          "output_type": "execute_result",
          "data": {
            "text/plain": [
              "2"
            ]
          },
          "metadata": {},
          "execution_count": 9
        }
      ]
    },
    {
      "cell_type": "code",
      "source": [
        "# let's create a tenosr\n",
        "tensor= tf.constant([[[1,2,2],\n",
        "                      [4,5,6]],\n",
        "                      [[7,8,9],\n",
        "                       [10,11,12]],\n",
        "                     [[13,14,15],\n",
        "                      [16,17,18]]],dtype=tf.int32)\n",
        "\n",
        "tensor"
      ],
      "metadata": {
        "colab": {
          "base_uri": "https://localhost:8080/"
        },
        "id": "gQD3zv6-mhuJ",
        "outputId": "65bdf7ac-84d5-4455-e24a-0ffb3413088f"
      },
      "execution_count": 10,
      "outputs": [
        {
          "output_type": "execute_result",
          "data": {
            "text/plain": [
              "<tf.Tensor: shape=(3, 2, 3), dtype=int32, numpy=\n",
              "array([[[ 1,  2,  2],\n",
              "        [ 4,  5,  6]],\n",
              "\n",
              "       [[ 7,  8,  9],\n",
              "        [10, 11, 12]],\n",
              "\n",
              "       [[13, 14, 15],\n",
              "        [16, 17, 18]]], dtype=int32)>"
            ]
          },
          "metadata": {},
          "execution_count": 10
        }
      ]
    },
    {
      "cell_type": "code",
      "source": [
        "tensor.ndim"
      ],
      "metadata": {
        "colab": {
          "base_uri": "https://localhost:8080/"
        },
        "id": "jz3_Dg96ndQJ",
        "outputId": "49cdab97-e29c-42b0-f4f1-b7b8735b67ef"
      },
      "execution_count": 11,
      "outputs": [
        {
          "output_type": "execute_result",
          "data": {
            "text/plain": [
              "3"
            ]
          },
          "metadata": {},
          "execution_count": 11
        }
      ]
    },
    {
      "cell_type": "markdown",
      "source": [
        "What we created so far"
      ],
      "metadata": {
        "id": "--fPjY-TnqZK"
      }
    },
    {
      "cell_type": "markdown",
      "source": [
        "# Creating with tf.veriable"
      ],
      "metadata": {
        "id": "-eBpVvfwn-ep"
      }
    },
    {
      "cell_type": "code",
      "source": [
        "# creating the same tesnors with tf.veriable() as above\n",
        "changeable_tensor = tf.Variable([10,7])\n",
        "unchangeable_tensor = tf.constant([10,7])\n",
        "changeable_tensor, unchangeable_tensor"
      ],
      "metadata": {
        "colab": {
          "base_uri": "https://localhost:8080/"
        },
        "id": "Hde__f8tnidE",
        "outputId": "1cbad992-338f-48e9-d6af-b3420b6620d0"
      },
      "execution_count": 12,
      "outputs": [
        {
          "output_type": "execute_result",
          "data": {
            "text/plain": [
              "(<tf.Variable 'Variable:0' shape=(2,) dtype=int32, numpy=array([10,  7], dtype=int32)>,\n",
              " <tf.Tensor: shape=(2,), dtype=int32, numpy=array([10,  7], dtype=int32)>)"
            ]
          },
          "metadata": {},
          "execution_count": 12
        }
      ]
    },
    {
      "cell_type": "code",
      "source": [
        "#changeable_tensor[0]=1"
      ],
      "metadata": {
        "id": "6yIDDK59n96S"
      },
      "execution_count": 13,
      "outputs": []
    },
    {
      "cell_type": "code",
      "source": [
        "# how anbout we try .assign()\n",
        "changeable_tensor[0].assign(1)\n",
        "changeable_tensor"
      ],
      "metadata": {
        "colab": {
          "base_uri": "https://localhost:8080/"
        },
        "id": "7beqPvc3npOD",
        "outputId": "6581577c-352c-4f7f-e182-8d5e7e7f8c6e"
      },
      "execution_count": 14,
      "outputs": [
        {
          "output_type": "execute_result",
          "data": {
            "text/plain": [
              "<tf.Variable 'Variable:0' shape=(2,) dtype=int32, numpy=array([1, 7], dtype=int32)>"
            ]
          },
          "metadata": {},
          "execution_count": 14
        }
      ]
    },
    {
      "cell_type": "code",
      "source": [
        "#unchangeable_tensor[0].assign(7)"
      ],
      "metadata": {
        "id": "XmxiIL60pQfq"
      },
      "execution_count": 15,
      "outputs": []
    },
    {
      "cell_type": "markdown",
      "source": [
        "### Creating random tensor\n",
        "Creating random tensors of arbitrary size which contain random numbers.\n"
      ],
      "metadata": {
        "id": "Pc-Lsg8Spy7y"
      }
    },
    {
      "cell_type": "code",
      "source": [
        "#### Creating two random (but the same) tensors\n",
        "random_1 = tf.random.Generator.from_seed(7) # set seed for reproducibility\n",
        "random_1= random_1.normal(shape= (3,2))\n",
        "random_2 = tf.random.Generator.from_seed(7)\n",
        "random_2 = random_2.normal(shape=(3,2))\n",
        "\n",
        "\n",
        "# are they equal?\n",
        "random_1, random_2 , random_1== random_2"
      ],
      "metadata": {
        "colab": {
          "base_uri": "https://localhost:8080/"
        },
        "id": "T3wuAVBdpxsz",
        "outputId": "0737c9fb-08f5-488f-d01f-dffdb0eb6528"
      },
      "execution_count": 16,
      "outputs": [
        {
          "output_type": "execute_result",
          "data": {
            "text/plain": [
              "(<tf.Tensor: shape=(3, 2), dtype=float32, numpy=\n",
              " array([[-1.3240396 ,  0.28785667],\n",
              "        [-0.8757901 , -0.08857018],\n",
              "        [ 0.69211644,  0.84215707]], dtype=float32)>,\n",
              " <tf.Tensor: shape=(3, 2), dtype=float32, numpy=\n",
              " array([[-1.3240396 ,  0.28785667],\n",
              "        [-0.8757901 , -0.08857018],\n",
              "        [ 0.69211644,  0.84215707]], dtype=float32)>,\n",
              " <tf.Tensor: shape=(3, 2), dtype=bool, numpy=\n",
              " array([[ True,  True],\n",
              "        [ True,  True],\n",
              "        [ True,  True]])>)"
            ]
          },
          "metadata": {},
          "execution_count": 16
        }
      ]
    },
    {
      "cell_type": "markdown",
      "source": [
        "## Shuffle the order ofelemnts in a tensor"
      ],
      "metadata": {
        "id": "Mzy-MPYQunyN"
      }
    },
    {
      "cell_type": "code",
      "source": [
        "##  shuffle a tensor\n",
        "not_shuffled = tf.constant([[10,7],\n",
        "                           [2,3],\n",
        "                           [4,5],\n",
        "                            [1,2],\n",
        "                            [4,5],\n",
        "                            [6,7]])\n",
        "\n",
        "not_shuffled.ndim\n"
      ],
      "metadata": {
        "colab": {
          "base_uri": "https://localhost:8080/"
        },
        "id": "OXSHSNkTpxfa",
        "outputId": "1f2bdc67-b97a-4516-c470-583ad48331c3"
      },
      "execution_count": 17,
      "outputs": [
        {
          "output_type": "execute_result",
          "data": {
            "text/plain": [
              "2"
            ]
          },
          "metadata": {},
          "execution_count": 17
        }
      ]
    },
    {
      "cell_type": "code",
      "source": [
        "#shuffle our non-shuffled tensor\n",
        "tf.random.set_seed(3)\n",
        "print(tf.random.shuffle(not_shuffled, seed=9))\n",
        "print(tf.random.shuffle(not_shuffled, seed=9))"
      ],
      "metadata": {
        "colab": {
          "base_uri": "https://localhost:8080/"
        },
        "id": "Brw9XeupvPDN",
        "outputId": "bd7daefc-233e-469e-9d62-b86ed479c6c6"
      },
      "execution_count": 18,
      "outputs": [
        {
          "output_type": "stream",
          "name": "stdout",
          "text": [
            "tf.Tensor(\n",
            "[[ 4  5]\n",
            " [10  7]\n",
            " [ 1  2]\n",
            " [ 6  7]\n",
            " [ 2  3]\n",
            " [ 4  5]], shape=(6, 2), dtype=int32)\n",
            "tf.Tensor(\n",
            "[[ 1  2]\n",
            " [ 4  5]\n",
            " [ 2  3]\n",
            " [ 6  7]\n",
            " [10  7]\n",
            " [ 4  5]], shape=(6, 2), dtype=int32)\n"
          ]
        }
      ]
    },
    {
      "cell_type": "code",
      "source": [
        "not_shuffled"
      ],
      "metadata": {
        "colab": {
          "base_uri": "https://localhost:8080/"
        },
        "id": "cAvSxz2SvqKD",
        "outputId": "c9a33f96-bb51-4907-e70e-27ac19d9d123"
      },
      "execution_count": 19,
      "outputs": [
        {
          "output_type": "execute_result",
          "data": {
            "text/plain": [
              "<tf.Tensor: shape=(6, 2), dtype=int32, numpy=\n",
              "array([[10,  7],\n",
              "       [ 2,  3],\n",
              "       [ 4,  5],\n",
              "       [ 1,  2],\n",
              "       [ 4,  5],\n",
              "       [ 6,  7]], dtype=int32)>"
            ]
          },
          "metadata": {},
          "execution_count": 19
        }
      ]
    },
    {
      "cell_type": "code",
      "source": [
        "tf.random.set_seed(1235)\n",
        "print(tf.random.uniform([1],seed=2))  # generates 'A1'\n",
        "print(tf.random.uniform([1],seed=2))  # generates 'A2'\n",
        "print(tf.random.uniform([1],seed=2))"
      ],
      "metadata": {
        "colab": {
          "base_uri": "https://localhost:8080/"
        },
        "id": "rfmUe7hi25P2",
        "outputId": "a2cbab34-75fc-4060-b09b-a8d7473b2909"
      },
      "execution_count": 20,
      "outputs": [
        {
          "output_type": "stream",
          "name": "stdout",
          "text": [
            "tf.Tensor([0.14347446], shape=(1,), dtype=float32)\n",
            "tf.Tensor([0.34754717], shape=(1,), dtype=float32)\n",
            "tf.Tensor([0.5156163], shape=(1,), dtype=float32)\n"
          ]
        }
      ]
    },
    {
      "cell_type": "code",
      "source": [
        "tf.random.set_seed(1235)\n",
        "print(tf.random.uniform([1],seed=2))  # generates 'A1'\n",
        "print(tf.random.uniform([1],seed=2))  # generates 'A2'"
      ],
      "metadata": {
        "colab": {
          "base_uri": "https://localhost:8080/"
        },
        "id": "tu98_w443FhV",
        "outputId": "80993c9c-84bc-47c2-8843-2e47832c9f35"
      },
      "execution_count": 21,
      "outputs": [
        {
          "output_type": "stream",
          "name": "stdout",
          "text": [
            "tf.Tensor([0.14347446], shape=(1,), dtype=float32)\n",
            "tf.Tensor([0.34754717], shape=(1,), dtype=float32)\n"
          ]
        }
      ]
    },
    {
      "cell_type": "markdown",
      "source": [
        "# other ways to amke tensors"
      ],
      "metadata": {
        "id": "WoRwlhvk-Svg"
      }
    },
    {
      "cell_type": "code",
      "source": [
        "# create a tensor of all ones\n",
        "tf.ones([10,7])"
      ],
      "metadata": {
        "colab": {
          "base_uri": "https://localhost:8080/"
        },
        "id": "v2XlesrO85Tg",
        "outputId": "5a76223b-b7f7-4adf-8bd2-32058d772c50"
      },
      "execution_count": 22,
      "outputs": [
        {
          "output_type": "execute_result",
          "data": {
            "text/plain": [
              "<tf.Tensor: shape=(10, 7), dtype=float32, numpy=\n",
              "array([[1., 1., 1., 1., 1., 1., 1.],\n",
              "       [1., 1., 1., 1., 1., 1., 1.],\n",
              "       [1., 1., 1., 1., 1., 1., 1.],\n",
              "       [1., 1., 1., 1., 1., 1., 1.],\n",
              "       [1., 1., 1., 1., 1., 1., 1.],\n",
              "       [1., 1., 1., 1., 1., 1., 1.],\n",
              "       [1., 1., 1., 1., 1., 1., 1.],\n",
              "       [1., 1., 1., 1., 1., 1., 1.],\n",
              "       [1., 1., 1., 1., 1., 1., 1.],\n",
              "       [1., 1., 1., 1., 1., 1., 1.]], dtype=float32)>"
            ]
          },
          "metadata": {},
          "execution_count": 22
        }
      ]
    },
    {
      "cell_type": "code",
      "source": [
        "tf.zeros([2,3])"
      ],
      "metadata": {
        "colab": {
          "base_uri": "https://localhost:8080/"
        },
        "id": "gE30m3Il851X",
        "outputId": "543f7a06-11ae-4a2c-c10b-4390f8b9664c"
      },
      "execution_count": 23,
      "outputs": [
        {
          "output_type": "execute_result",
          "data": {
            "text/plain": [
              "<tf.Tensor: shape=(2, 3), dtype=float32, numpy=\n",
              "array([[0., 0., 0.],\n",
              "       [0., 0., 0.]], dtype=float32)>"
            ]
          },
          "metadata": {},
          "execution_count": 23
        }
      ]
    },
    {
      "cell_type": "markdown",
      "source": [
        "### Turn Numpy arrays into tensors\n",
        "\n"
      ],
      "metadata": {
        "id": "D5esZbhc-iOf"
      }
    },
    {
      "cell_type": "code",
      "source": [
        "# You can also turn Numpy arrays into tensors\n",
        "import numpy as np\n",
        "numpy_A =  np.arange(1,25,dtype=np.int16)\n",
        "numpy_A"
      ],
      "metadata": {
        "colab": {
          "base_uri": "https://localhost:8080/"
        },
        "id": "y2prTi9y-hhh",
        "outputId": "bf5aedf4-5ec7-462e-b0bd-4f22e307b329"
      },
      "execution_count": 24,
      "outputs": [
        {
          "output_type": "execute_result",
          "data": {
            "text/plain": [
              "array([ 1,  2,  3,  4,  5,  6,  7,  8,  9, 10, 11, 12, 13, 14, 15, 16, 17,\n",
              "       18, 19, 20, 21, 22, 23, 24], dtype=int16)"
            ]
          },
          "metadata": {},
          "execution_count": 24
        }
      ]
    },
    {
      "cell_type": "code",
      "source": [
        "A = tf.constant(numpy_A,shape=(3,8))\n",
        "A"
      ],
      "metadata": {
        "colab": {
          "base_uri": "https://localhost:8080/"
        },
        "id": "_-M535Lo_ktY",
        "outputId": "b0c74c48-107a-42bb-e7a4-0790a46991d8"
      },
      "execution_count": 25,
      "outputs": [
        {
          "output_type": "execute_result",
          "data": {
            "text/plain": [
              "<tf.Tensor: shape=(3, 8), dtype=int16, numpy=\n",
              "array([[ 1,  2,  3,  4,  5,  6,  7,  8],\n",
              "       [ 9, 10, 11, 12, 13, 14, 15, 16],\n",
              "       [17, 18, 19, 20, 21, 22, 23, 24]], dtype=int16)>"
            ]
          },
          "metadata": {},
          "execution_count": 25
        }
      ]
    },
    {
      "cell_type": "markdown",
      "source": [
        "### Getting information from tensors\n",
        "\n",
        "* shape\n",
        "\n",
        "* rank\n",
        "\n",
        "* Axis\n",
        "\n",
        "* Size"
      ],
      "metadata": {
        "id": "S49hq1iOAHvw"
      }
    },
    {
      "cell_type": "code",
      "source": [
        "#create a rank 4 tensor(4 dimensions)\n",
        "rank_4_tensor= tf.zeros(shape=[2,3,4,5])\n",
        "rank_4_tensor"
      ],
      "metadata": {
        "colab": {
          "base_uri": "https://localhost:8080/"
        },
        "id": "Cjn3yaPVBS-A",
        "outputId": "890c2e31-f17a-4ae0-8f7c-6c1fcfafc055"
      },
      "execution_count": 26,
      "outputs": [
        {
          "output_type": "execute_result",
          "data": {
            "text/plain": [
              "<tf.Tensor: shape=(2, 3, 4, 5), dtype=float32, numpy=\n",
              "array([[[[0., 0., 0., 0., 0.],\n",
              "         [0., 0., 0., 0., 0.],\n",
              "         [0., 0., 0., 0., 0.],\n",
              "         [0., 0., 0., 0., 0.]],\n",
              "\n",
              "        [[0., 0., 0., 0., 0.],\n",
              "         [0., 0., 0., 0., 0.],\n",
              "         [0., 0., 0., 0., 0.],\n",
              "         [0., 0., 0., 0., 0.]],\n",
              "\n",
              "        [[0., 0., 0., 0., 0.],\n",
              "         [0., 0., 0., 0., 0.],\n",
              "         [0., 0., 0., 0., 0.],\n",
              "         [0., 0., 0., 0., 0.]]],\n",
              "\n",
              "\n",
              "       [[[0., 0., 0., 0., 0.],\n",
              "         [0., 0., 0., 0., 0.],\n",
              "         [0., 0., 0., 0., 0.],\n",
              "         [0., 0., 0., 0., 0.]],\n",
              "\n",
              "        [[0., 0., 0., 0., 0.],\n",
              "         [0., 0., 0., 0., 0.],\n",
              "         [0., 0., 0., 0., 0.],\n",
              "         [0., 0., 0., 0., 0.]],\n",
              "\n",
              "        [[0., 0., 0., 0., 0.],\n",
              "         [0., 0., 0., 0., 0.],\n",
              "         [0., 0., 0., 0., 0.],\n",
              "         [0., 0., 0., 0., 0.]]]], dtype=float32)>"
            ]
          },
          "metadata": {},
          "execution_count": 26
        }
      ]
    },
    {
      "cell_type": "code",
      "source": [
        "rank_4_tensor[0]"
      ],
      "metadata": {
        "colab": {
          "base_uri": "https://localhost:8080/"
        },
        "id": "zDxhdZ4ABZI4",
        "outputId": "0a9c6030-d394-4c83-a02b-b0cbb6b5d3fe"
      },
      "execution_count": 27,
      "outputs": [
        {
          "output_type": "execute_result",
          "data": {
            "text/plain": [
              "<tf.Tensor: shape=(3, 4, 5), dtype=float32, numpy=\n",
              "array([[[0., 0., 0., 0., 0.],\n",
              "        [0., 0., 0., 0., 0.],\n",
              "        [0., 0., 0., 0., 0.],\n",
              "        [0., 0., 0., 0., 0.]],\n",
              "\n",
              "       [[0., 0., 0., 0., 0.],\n",
              "        [0., 0., 0., 0., 0.],\n",
              "        [0., 0., 0., 0., 0.],\n",
              "        [0., 0., 0., 0., 0.]],\n",
              "\n",
              "       [[0., 0., 0., 0., 0.],\n",
              "        [0., 0., 0., 0., 0.],\n",
              "        [0., 0., 0., 0., 0.],\n",
              "        [0., 0., 0., 0., 0.]]], dtype=float32)>"
            ]
          },
          "metadata": {},
          "execution_count": 27
        }
      ]
    },
    {
      "cell_type": "code",
      "source": [
        "rank_4_tensor.shape, rank_4_tensor.ndim , tf.size(rank_4_tensor)"
      ],
      "metadata": {
        "colab": {
          "base_uri": "https://localhost:8080/"
        },
        "id": "2JJvEgXTBZdg",
        "outputId": "5192fcf2-ed04-4d62-fc9d-9e36a9ce30dd"
      },
      "execution_count": 28,
      "outputs": [
        {
          "output_type": "execute_result",
          "data": {
            "text/plain": [
              "(TensorShape([2, 3, 4, 5]), 4, <tf.Tensor: shape=(), dtype=int32, numpy=120>)"
            ]
          },
          "metadata": {},
          "execution_count": 28
        }
      ]
    },
    {
      "cell_type": "code",
      "source": [
        "# get vaeious attribute of of our tesnor\n",
        "\n",
        "print(\"Datatype of every element:\", rank_4_tensor.dtype)\n",
        "print(\"Num\")"
      ],
      "metadata": {
        "colab": {
          "base_uri": "https://localhost:8080/"
        },
        "id": "3KNb_7n2CQ3g",
        "outputId": "8ecfaabb-bece-4849-b764-c679d05ef98f"
      },
      "execution_count": 29,
      "outputs": [
        {
          "output_type": "stream",
          "name": "stdout",
          "text": [
            "Datatype of every element: <dtype: 'float32'>\n",
            "Num\n"
          ]
        }
      ]
    },
    {
      "cell_type": "markdown",
      "source": [
        "#Indexing tensors\n",
        "Tensors can be indexed just like python lists"
      ],
      "metadata": {
        "id": "zYeCJW4DFOtI"
      }
    },
    {
      "cell_type": "code",
      "source": [
        "#Get the first two elemnts of each dimension\n",
        "rank_4_tensor[:2,:2,:2,:2]\n"
      ],
      "metadata": {
        "colab": {
          "base_uri": "https://localhost:8080/"
        },
        "id": "iP8SpHqbFN_j",
        "outputId": "791d2cc1-87d9-4dd7-f7f7-fe5e18f77deb"
      },
      "execution_count": 30,
      "outputs": [
        {
          "output_type": "execute_result",
          "data": {
            "text/plain": [
              "<tf.Tensor: shape=(2, 2, 2, 2), dtype=float32, numpy=\n",
              "array([[[[0., 0.],\n",
              "         [0., 0.]],\n",
              "\n",
              "        [[0., 0.],\n",
              "         [0., 0.]]],\n",
              "\n",
              "\n",
              "       [[[0., 0.],\n",
              "         [0., 0.]],\n",
              "\n",
              "        [[0., 0.],\n",
              "         [0., 0.]]]], dtype=float32)>"
            ]
          },
          "metadata": {},
          "execution_count": 30
        }
      ]
    },
    {
      "cell_type": "code",
      "source": [
        "#get the first element from each dimension from each index except for the final one\n",
        "rank_4_tensor[:1,:1,:1,:]"
      ],
      "metadata": {
        "colab": {
          "base_uri": "https://localhost:8080/"
        },
        "id": "3wLsIkDBGekg",
        "outputId": "eaffe919-41e6-4abb-a7d7-6cfe558e8c9a"
      },
      "execution_count": 31,
      "outputs": [
        {
          "output_type": "execute_result",
          "data": {
            "text/plain": [
              "<tf.Tensor: shape=(1, 1, 1, 5), dtype=float32, numpy=array([[[[0., 0., 0., 0., 0.]]]], dtype=float32)>"
            ]
          },
          "metadata": {},
          "execution_count": 31
        }
      ]
    },
    {
      "cell_type": "code",
      "source": [
        "#create a rank 2 tensor\n",
        "rank_2_tensor = tf.constant([[2,3],\n",
        "                            [4,5]])\n",
        "rank_2_tensor"
      ],
      "metadata": {
        "colab": {
          "base_uri": "https://localhost:8080/"
        },
        "id": "kfYg1L_vAuGu",
        "outputId": "2f6f335d-23bf-497b-c50e-df165aa852db"
      },
      "execution_count": 32,
      "outputs": [
        {
          "output_type": "execute_result",
          "data": {
            "text/plain": [
              "<tf.Tensor: shape=(2, 2), dtype=int32, numpy=\n",
              "array([[2, 3],\n",
              "       [4, 5]], dtype=int32)>"
            ]
          },
          "metadata": {},
          "execution_count": 32
        }
      ]
    },
    {
      "cell_type": "code",
      "source": [
        "#get the last element of each row of rank 2\n",
        "rank_2_tensor[:,-1]"
      ],
      "metadata": {
        "colab": {
          "base_uri": "https://localhost:8080/"
        },
        "id": "HdIpkxqUBFhn",
        "outputId": "b0eba93f-979e-4eb6-aeb8-79e785dc1111"
      },
      "execution_count": 33,
      "outputs": [
        {
          "output_type": "execute_result",
          "data": {
            "text/plain": [
              "<tf.Tensor: shape=(2,), dtype=int32, numpy=array([3, 5], dtype=int32)>"
            ]
          },
          "metadata": {},
          "execution_count": 33
        }
      ]
    },
    {
      "cell_type": "code",
      "source": [
        "# adding an extra dimension to the end of a tensor\n",
        "rank_3_tensor = rank_2_tensor[...,tf.newaxis]\n",
        "rank_3_tensor"
      ],
      "metadata": {
        "colab": {
          "base_uri": "https://localhost:8080/"
        },
        "id": "7PUp_TRhAYO_",
        "outputId": "bab9d71d-64c8-47af-8609-1a267fe280b0"
      },
      "execution_count": 34,
      "outputs": [
        {
          "output_type": "execute_result",
          "data": {
            "text/plain": [
              "<tf.Tensor: shape=(2, 2, 1), dtype=int32, numpy=\n",
              "array([[[2],\n",
              "        [3]],\n",
              "\n",
              "       [[4],\n",
              "        [5]]], dtype=int32)>"
            ]
          },
          "metadata": {},
          "execution_count": 34
        }
      ]
    },
    {
      "cell_type": "code",
      "source": [
        "#Alternative to tf.newaxis\n",
        "tf.expand_dims(rank_2_tensor, axis=2)"
      ],
      "metadata": {
        "colab": {
          "base_uri": "https://localhost:8080/"
        },
        "id": "XjHmzi6SB4wg",
        "outputId": "2cf328fa-7308-4c6b-ee18-c88137e66439"
      },
      "execution_count": 35,
      "outputs": [
        {
          "output_type": "execute_result",
          "data": {
            "text/plain": [
              "<tf.Tensor: shape=(2, 2, 1), dtype=int32, numpy=\n",
              "array([[[2],\n",
              "        [3]],\n",
              "\n",
              "       [[4],\n",
              "        [5]]], dtype=int32)>"
            ]
          },
          "metadata": {},
          "execution_count": 35
        }
      ]
    },
    {
      "cell_type": "markdown",
      "source": [
        "### Manipulating tensors(tensor operations)\n",
        "**basic operations**\n",
        "\n",
        "`+` `-` `\\` `*`"
      ],
      "metadata": {
        "id": "AWErZo9nCXDY"
      }
    },
    {
      "cell_type": "code",
      "source": [
        "#addition\n",
        "tensor= tf.constant([[1,2],\n",
        "                    [3,4]])\n",
        "tensor+10"
      ],
      "metadata": {
        "colab": {
          "base_uri": "https://localhost:8080/"
        },
        "id": "lAjMRkejCOmf",
        "outputId": "727b48b2-5469-4450-d608-ec01f12cbe52"
      },
      "execution_count": 39,
      "outputs": [
        {
          "output_type": "execute_result",
          "data": {
            "text/plain": [
              "<tf.Tensor: shape=(2, 2), dtype=int32, numpy=\n",
              "array([[11, 12],\n",
              "       [13, 14]], dtype=int32)>"
            ]
          },
          "metadata": {},
          "execution_count": 39
        }
      ]
    },
    {
      "cell_type": "code",
      "source": [
        "# we can us the tensorflow built-in function too\n",
        "tf.multiply(tensor,10)"
      ],
      "metadata": {
        "colab": {
          "base_uri": "https://localhost:8080/"
        },
        "id": "1CSrSaHghaxe",
        "outputId": "68ae31d9-8712-4c09-8351-0b70ee49434f"
      },
      "execution_count": 44,
      "outputs": [
        {
          "output_type": "execute_result",
          "data": {
            "text/plain": [
              "<tf.Tensor: shape=(2, 2), dtype=int32, numpy=\n",
              "array([[10, 20],\n",
              "       [30, 40]], dtype=int32)>"
            ]
          },
          "metadata": {},
          "execution_count": 44
        }
      ]
    },
    {
      "cell_type": "markdown",
      "source": [
        "#Matrix Mulitplicaiton\n",
        "\n",
        "`matmul`\n",
        "`tensordot`\n",
        "`@`"
      ],
      "metadata": {
        "id": "CVkYqufLiEf-"
      }
    },
    {
      "cell_type": "code",
      "source": [
        "#multiplying matrix\n",
        "matrix1= tf.constant([[2,3,1],\n",
        "                      [4,5,2]])\n",
        "\n",
        "matrix2= tf.constant([[1,2],\n",
        "                     [3,4],\n",
        "                     [5,2]\n",
        "                     ])\n",
        "\n",
        "tf.linalg.matmul(matrix1,matrix2)"
      ],
      "metadata": {
        "colab": {
          "base_uri": "https://localhost:8080/"
        },
        "id": "jNjm2GzCh6vP",
        "outputId": "a947fcb5-2435-4a31-d9e1-1d91018b91e2"
      },
      "execution_count": 53,
      "outputs": [
        {
          "output_type": "execute_result",
          "data": {
            "text/plain": [
              "<tf.Tensor: shape=(2, 2), dtype=int32, numpy=\n",
              "array([[16, 18],\n",
              "       [29, 32]], dtype=int32)>"
            ]
          },
          "metadata": {},
          "execution_count": 53
        }
      ]
    },
    {
      "cell_type": "code",
      "source": [
        "matrix1 @ matrix2"
      ],
      "metadata": {
        "colab": {
          "base_uri": "https://localhost:8080/"
        },
        "id": "rFIE5Xavh7Me",
        "outputId": "84737bb2-09a6-42ef-f595-dce2e429b3c2"
      },
      "execution_count": 56,
      "outputs": [
        {
          "output_type": "execute_result",
          "data": {
            "text/plain": [
              "<tf.Tensor: shape=(2, 2), dtype=int32, numpy=\n",
              "array([[16, 18],\n",
              "       [29, 32]], dtype=int32)>"
            ]
          },
          "metadata": {},
          "execution_count": 56
        }
      ]
    },
    {
      "cell_type": "code",
      "source": [
        "matrix1.shape"
      ],
      "metadata": {
        "colab": {
          "base_uri": "https://localhost:8080/"
        },
        "id": "xpW2sALOjSLJ",
        "outputId": "fc6d14c9-d439-4771-f251-52b1847447ee"
      },
      "execution_count": 60,
      "outputs": [
        {
          "output_type": "execute_result",
          "data": {
            "text/plain": [
              "TensorShape([2, 3])"
            ]
          },
          "metadata": {},
          "execution_count": 60
        }
      ]
    },
    {
      "cell_type": "code",
      "source": [
        "tf.reshape(matrix2, (2,3))"
      ],
      "metadata": {
        "colab": {
          "base_uri": "https://localhost:8080/"
        },
        "id": "DAJw3JTVjisW",
        "outputId": "63e0abfc-3367-4924-fb5e-d1a2c04d66a4"
      },
      "execution_count": 61,
      "outputs": [
        {
          "output_type": "execute_result",
          "data": {
            "text/plain": [
              "<tf.Tensor: shape=(2, 3), dtype=int32, numpy=\n",
              "array([[1, 2, 3],\n",
              "       [4, 5, 2]], dtype=int32)>"
            ]
          },
          "metadata": {},
          "execution_count": 61
        }
      ]
    },
    {
      "cell_type": "code",
      "source": [
        "tf.reshape(matrix1,(3,2))"
      ],
      "metadata": {
        "colab": {
          "base_uri": "https://localhost:8080/"
        },
        "id": "f6SrYpU5kZ4_",
        "outputId": "f5a9191f-a372-44f4-9922-d767a9b5f8bf"
      },
      "execution_count": 62,
      "outputs": [
        {
          "output_type": "execute_result",
          "data": {
            "text/plain": [
              "<tf.Tensor: shape=(3, 2), dtype=int32, numpy=\n",
              "array([[2, 3],\n",
              "       [1, 4],\n",
              "       [5, 2]], dtype=int32)>"
            ]
          },
          "metadata": {},
          "execution_count": 62
        }
      ]
    },
    {
      "cell_type": "code",
      "source": [
        "tf.linalg.matmul(matrix1,matrix2)"
      ],
      "metadata": {
        "colab": {
          "base_uri": "https://localhost:8080/"
        },
        "id": "EetjW3ppkfUu",
        "outputId": "212af706-6bb9-4717-deae-33843894f660"
      },
      "execution_count": 63,
      "outputs": [
        {
          "output_type": "execute_result",
          "data": {
            "text/plain": [
              "<tf.Tensor: shape=(2, 2), dtype=int32, numpy=\n",
              "array([[16, 18],\n",
              "       [29, 32]], dtype=int32)>"
            ]
          },
          "metadata": {},
          "execution_count": 63
        }
      ]
    },
    {
      "cell_type": "code",
      "source": [
        "#transpose\n",
        "tf.transpose(matrix1),matrix1"
      ],
      "metadata": {
        "colab": {
          "base_uri": "https://localhost:8080/"
        },
        "id": "MSSB8sISkn6G",
        "outputId": "18cbfbe2-db19-417f-9650-cf2b3808c88d"
      },
      "execution_count": 67,
      "outputs": [
        {
          "output_type": "execute_result",
          "data": {
            "text/plain": [
              "(<tf.Tensor: shape=(3, 2), dtype=int32, numpy=\n",
              " array([[2, 4],\n",
              "        [3, 5],\n",
              "        [1, 2]], dtype=int32)>, <tf.Tensor: shape=(2, 3), dtype=int32, numpy=\n",
              " array([[2, 3, 1],\n",
              "        [4, 5, 2]], dtype=int32)>)"
            ]
          },
          "metadata": {},
          "execution_count": 67
        }
      ]
    },
    {
      "cell_type": "code",
      "source": [
        "tf.matmul(tf.transpose(matrix1),tf.transpose(matrix2))"
      ],
      "metadata": {
        "colab": {
          "base_uri": "https://localhost:8080/"
        },
        "id": "Z6V3M1sclQCv",
        "outputId": "4c0310e5-dc87-40e3-a245-0c14da9145be"
      },
      "execution_count": 69,
      "outputs": [
        {
          "output_type": "execute_result",
          "data": {
            "text/plain": [
              "<tf.Tensor: shape=(3, 3), dtype=int32, numpy=\n",
              "array([[10, 22, 18],\n",
              "       [13, 29, 25],\n",
              "       [ 5, 11,  9]], dtype=int32)>"
            ]
          },
          "metadata": {},
          "execution_count": 69
        }
      ]
    },
    {
      "cell_type": "markdown",
      "source": [
        "### Dot product\n",
        "\n",
        "Matrix multiplicaiton is alos refered as dost product"
      ],
      "metadata": {
        "id": "RyX9b-8plb6v"
      }
    },
    {
      "cell_type": "code",
      "source": [
        "tf.tensordot(matrix1,matrix2,axes=1)"
      ],
      "metadata": {
        "colab": {
          "base_uri": "https://localhost:8080/"
        },
        "id": "B8gFic50lacO",
        "outputId": "fe88aa63-4635-4da5-be16-6ea704e33bbe"
      },
      "execution_count": 71,
      "outputs": [
        {
          "output_type": "execute_result",
          "data": {
            "text/plain": [
              "<tf.Tensor: shape=(2, 2), dtype=int32, numpy=\n",
              "array([[16, 18],\n",
              "       [29, 32]], dtype=int32)>"
            ]
          },
          "metadata": {},
          "execution_count": 71
        }
      ]
    },
    {
      "cell_type": "code",
      "source": [
        "# Perform Matrix multiplicaitonb between X and y\n",
        "tf.matmul(matrix1,tf.reshape(matrix2,(2,3)))"
      ],
      "metadata": {
        "colab": {
          "base_uri": "https://localhost:8080/"
        },
        "id": "jdSyje6cla2-",
        "outputId": "46d3260c-0f29-4378-a6cd-4194f997ab40"
      },
      "execution_count": 74,
      "outputs": [
        {
          "output_type": "execute_result",
          "data": {
            "text/plain": [
              "<tf.Tensor: shape=(3, 3), dtype=int32, numpy=\n",
              "array([[ 9, 12,  7],\n",
              "       [19, 26, 17],\n",
              "       [13, 20, 19]], dtype=int32)>"
            ]
          },
          "metadata": {},
          "execution_count": 74
        }
      ]
    },
    {
      "cell_type": "markdown",
      "source": [
        "#Changing the datatype of tensor"
      ],
      "metadata": {
        "id": "p-ARwxDcm4EQ"
      }
    },
    {
      "cell_type": "code",
      "source": [
        "#change from float32 to float16\n",
        "\n",
        "B=tf.constant([1,2])\n",
        "B"
      ],
      "metadata": {
        "colab": {
          "base_uri": "https://localhost:8080/"
        },
        "id": "81ilxMA8mzyv",
        "outputId": "70cfd342-a4f3-4c14-ff90-2839e65a815e"
      },
      "execution_count": 76,
      "outputs": [
        {
          "output_type": "execute_result",
          "data": {
            "text/plain": [
              "<tf.Tensor: shape=(2,), dtype=int32, numpy=array([1, 2], dtype=int32)>"
            ]
          },
          "metadata": {},
          "execution_count": 76
        }
      ]
    },
    {
      "cell_type": "code",
      "source": [
        "D=tf.cast(B,dtype=tf.float16)\n",
        "D,D.dtype"
      ],
      "metadata": {
        "colab": {
          "base_uri": "https://localhost:8080/"
        },
        "id": "HRZQkqHUm0Gn",
        "outputId": "477bbedb-d523-4e31-b9cc-9665a565ff1e"
      },
      "execution_count": 78,
      "outputs": [
        {
          "output_type": "execute_result",
          "data": {
            "text/plain": [
              "(<tf.Tensor: shape=(2,), dtype=float16, numpy=array([1., 2.], dtype=float16)>,\n",
              " tf.float16)"
            ]
          },
          "metadata": {},
          "execution_count": 78
        }
      ]
    },
    {
      "cell_type": "code",
      "source": [
        "# change from int32 to float32\n",
        "E = tf.cast(D, dtype= tf.float32)\n",
        "E"
      ],
      "metadata": {
        "colab": {
          "base_uri": "https://localhost:8080/"
        },
        "id": "lAnb8J_Nn8Kw",
        "outputId": "c075903d-7f2c-4720-9f12-1b28625cfc56"
      },
      "execution_count": 82,
      "outputs": [
        {
          "output_type": "execute_result",
          "data": {
            "text/plain": [
              "<tf.Tensor: shape=(2,), dtype=float32, numpy=array([1., 2.], dtype=float32)>"
            ]
          },
          "metadata": {},
          "execution_count": 82
        }
      ]
    },
    {
      "cell_type": "markdown",
      "source": [
        "#Aggregating tensors\n",
        "\n",
        "Aggregating tensors = consdesning them from multiple value down to a smaller amount of values"
      ],
      "metadata": {
        "id": "-4-p3CNloK6x"
      }
    },
    {
      "cell_type": "code",
      "source": [
        "# get the absolute values\n",
        "D= tf.constant([10,-2])\n",
        "tf.abs(D)"
      ],
      "metadata": {
        "colab": {
          "base_uri": "https://localhost:8080/"
        },
        "id": "uEf1G369n-FB",
        "outputId": "a4736cad-9092-4c8c-9f74-728cd8003cd6"
      },
      "execution_count": 83,
      "outputs": [
        {
          "output_type": "execute_result",
          "data": {
            "text/plain": [
              "<tf.Tensor: shape=(2,), dtype=int32, numpy=array([10,  2], dtype=int32)>"
            ]
          },
          "metadata": {},
          "execution_count": 83
        }
      ]
    },
    {
      "cell_type": "code",
      "source": [
        "tensor"
      ],
      "metadata": {
        "colab": {
          "base_uri": "https://localhost:8080/"
        },
        "id": "uUwpq0OdoZWf",
        "outputId": "392cac65-f87d-4f2a-eaeb-84a0c50fddf8"
      },
      "execution_count": 84,
      "outputs": [
        {
          "output_type": "execute_result",
          "data": {
            "text/plain": [
              "<tf.Tensor: shape=(2, 2), dtype=int32, numpy=\n",
              "array([[1, 2],\n",
              "       [3, 4]], dtype=int32)>"
            ]
          },
          "metadata": {},
          "execution_count": 84
        }
      ]
    },
    {
      "cell_type": "code",
      "source": [
        "tf.math.reduce_min(tensor)"
      ],
      "metadata": {
        "colab": {
          "base_uri": "https://localhost:8080/"
        },
        "id": "n0S2VrU5o9nA",
        "outputId": "0b1b690d-59bf-4a37-c001-c13ab596dc8c"
      },
      "execution_count": 88,
      "outputs": [
        {
          "output_type": "execute_result",
          "data": {
            "text/plain": [
              "<tf.Tensor: shape=(), dtype=int32, numpy=1>"
            ]
          },
          "metadata": {},
          "execution_count": 88
        }
      ]
    },
    {
      "cell_type": "code",
      "source": [
        "tf.math.reduce_max(tensor)"
      ],
      "metadata": {
        "colab": {
          "base_uri": "https://localhost:8080/"
        },
        "id": "DRr0YJrGpkQZ",
        "outputId": "baf6b96e-4ae6-47c5-a3e7-8ef7660a5ed6"
      },
      "execution_count": 90,
      "outputs": [
        {
          "output_type": "execute_result",
          "data": {
            "text/plain": [
              "<tf.Tensor: shape=(), dtype=int32, numpy=4>"
            ]
          },
          "metadata": {},
          "execution_count": 90
        }
      ]
    },
    {
      "cell_type": "code",
      "source": [
        "tf.math.reduce_mean(tensor), tf.math.reduce_sum(tensor)"
      ],
      "metadata": {
        "colab": {
          "base_uri": "https://localhost:8080/"
        },
        "id": "aL1zuhZipsR5",
        "outputId": "af07973f-fefd-4c82-f91e-6eb4f1dc71ad"
      },
      "execution_count": 92,
      "outputs": [
        {
          "output_type": "execute_result",
          "data": {
            "text/plain": [
              "(<tf.Tensor: shape=(), dtype=int32, numpy=2>,\n",
              " <tf.Tensor: shape=(), dtype=int32, numpy=10>)"
            ]
          },
          "metadata": {},
          "execution_count": 92
        }
      ]
    },
    {
      "cell_type": "code",
      "source": [
        "tf.math.reduce_variance(tf.cast(tensor,dtype=tf.float16)),tf.math.reduce_std(tf.cast(tensor,dtype=tf.float32))"
      ],
      "metadata": {
        "colab": {
          "base_uri": "https://localhost:8080/"
        },
        "id": "jdp1rMprp8Fq",
        "outputId": "f8747928-f411-440e-e5b4-a763b134b9f9"
      },
      "execution_count": 105,
      "outputs": [
        {
          "output_type": "execute_result",
          "data": {
            "text/plain": [
              "(<tf.Tensor: shape=(), dtype=float16, numpy=1.25>,\n",
              " <tf.Tensor: shape=(), dtype=float32, numpy=1.118034>)"
            ]
          },
          "metadata": {},
          "execution_count": 105
        }
      ]
    },
    {
      "cell_type": "markdown",
      "source": [
        "#### Find the positional maximum and minimum"
      ],
      "metadata": {
        "id": "U9pVezCsr2Rr"
      }
    },
    {
      "cell_type": "code",
      "source": [
        "#create a new tensor\n",
        "tf.random.set_seed(12)\n",
        "F = tf.random.uniform(shape=[50])\n",
        "F"
      ],
      "metadata": {
        "colab": {
          "base_uri": "https://localhost:8080/"
        },
        "id": "6Y1vMWgVqKEq",
        "outputId": "1127bbab-cd8a-4fb1-cec0-539610ecc1de"
      },
      "execution_count": 111,
      "outputs": [
        {
          "output_type": "execute_result",
          "data": {
            "text/plain": [
              "<tf.Tensor: shape=(50,), dtype=float32, numpy=\n",
              "array([0.47720265, 0.33357763, 0.4960823 , 0.48351312, 0.2963959 ,\n",
              "       0.69444907, 0.68488   , 0.6662284 , 0.07551682, 0.06608915,\n",
              "       0.91428673, 0.21982336, 0.066468  , 0.37987065, 0.88209164,\n",
              "       0.73124087, 0.59181285, 0.9785874 , 0.0937705 , 0.37701082,\n",
              "       0.2055552 , 0.2800591 , 0.44172525, 0.9199766 , 0.49873018,\n",
              "       0.10266078, 0.12177575, 0.10520744, 0.22547913, 0.39156199,\n",
              "       0.5587522 , 0.7095549 , 0.04214132, 0.03028095, 0.14591146,\n",
              "       0.7897457 , 0.52633774, 0.8487345 , 0.08758485, 0.5727763 ,\n",
              "       0.74252594, 0.63061965, 0.03749514, 0.0432719 , 0.13088238,\n",
              "       0.6540686 , 0.9438777 , 0.65461504, 0.10520577, 0.8353534 ],\n",
              "      dtype=float32)>"
            ]
          },
          "metadata": {},
          "execution_count": 111
        }
      ]
    },
    {
      "cell_type": "code",
      "source": [
        "tf.argmax(F)"
      ],
      "metadata": {
        "colab": {
          "base_uri": "https://localhost:8080/"
        },
        "id": "xed_HpEethJa",
        "outputId": "13da9e5c-1381-419b-b676-2d5f1c57ef1a"
      },
      "execution_count": 112,
      "outputs": [
        {
          "output_type": "execute_result",
          "data": {
            "text/plain": [
              "<tf.Tensor: shape=(), dtype=int64, numpy=17>"
            ]
          },
          "metadata": {},
          "execution_count": 112
        }
      ]
    },
    {
      "cell_type": "code",
      "source": [
        "F[tf.argmax(F)] "
      ],
      "metadata": {
        "colab": {
          "base_uri": "https://localhost:8080/"
        },
        "id": "uOLp2D85rzoZ",
        "outputId": "bad5ea52-1094-4b0c-cbd2-2354cf73c1fd"
      },
      "execution_count": 114,
      "outputs": [
        {
          "output_type": "execute_result",
          "data": {
            "text/plain": [
              "<tf.Tensor: shape=(), dtype=float32, numpy=0.9785874>"
            ]
          },
          "metadata": {},
          "execution_count": 114
        }
      ]
    },
    {
      "cell_type": "code",
      "source": [
        "tf.argmin(F)"
      ],
      "metadata": {
        "colab": {
          "base_uri": "https://localhost:8080/"
        },
        "id": "emxiNRBSt5f6",
        "outputId": "8b8b4412-aea5-49f3-9aef-8f0c70924e17"
      },
      "execution_count": 116,
      "outputs": [
        {
          "output_type": "execute_result",
          "data": {
            "text/plain": [
              "<tf.Tensor: shape=(), dtype=int64, numpy=33>"
            ]
          },
          "metadata": {},
          "execution_count": 116
        }
      ]
    },
    {
      "cell_type": "code",
      "source": [
        "F[tf.argmin(F)]"
      ],
      "metadata": {
        "colab": {
          "base_uri": "https://localhost:8080/"
        },
        "id": "DoMI34d3t5TZ",
        "outputId": "a8612095-a9a1-4b52-bedd-b2ba0602838f"
      },
      "execution_count": 117,
      "outputs": [
        {
          "output_type": "execute_result",
          "data": {
            "text/plain": [
              "<tf.Tensor: shape=(), dtype=float32, numpy=0.030280948>"
            ]
          },
          "metadata": {},
          "execution_count": 117
        }
      ]
    },
    {
      "cell_type": "markdown",
      "source": [
        "###Sqeezing a tensor(removing all single dimensions)"
      ],
      "metadata": {
        "id": "sfMEKWuFuLAq"
      }
    },
    {
      "cell_type": "code",
      "source": [
        "# create a tensoir to get started\n",
        "tf.random.set_seed(40)\n",
        "G= tf.constant(tf.random.uniform(shape=[50]),shape=(1,1,1,1,50))\n",
        "G "
      ],
      "metadata": {
        "colab": {
          "base_uri": "https://localhost:8080/"
        },
        "id": "7OlfN6FruJyD",
        "outputId": "53ca0489-e884-4ef6-8e7e-dcbed8e09732"
      },
      "execution_count": 126,
      "outputs": [
        {
          "output_type": "execute_result",
          "data": {
            "text/plain": [
              "<tf.Tensor: shape=(1, 1, 1, 1, 50), dtype=float32, numpy=\n",
              "array([[[[[0.54513085, 0.7588961 , 0.8362565 , 0.39474642, 0.72001076,\n",
              "           0.6402768 , 0.15894496, 0.57128036, 0.41122293, 0.18993318,\n",
              "           0.2312665 , 0.7875649 , 0.18806243, 0.8033031 , 0.12747478,\n",
              "           0.43258965, 0.98803484, 0.8451586 , 0.9797807 , 0.9952853 ,\n",
              "           0.6283821 , 0.8643936 , 0.9500631 , 0.41532683, 0.388798  ,\n",
              "           0.33959448, 0.36432612, 0.79217136, 0.90930283, 0.6459546 ,\n",
              "           0.4547919 , 0.3669002 , 0.22951639, 0.54661405, 0.9371824 ,\n",
              "           0.04014015, 0.82825315, 0.45409238, 0.943413  , 0.20978856,\n",
              "           0.1274836 , 0.9666685 , 0.97015405, 0.568432  , 0.99477863,\n",
              "           0.39956594, 0.3263564 , 0.61465824, 0.24279046, 0.03102553]]]]],\n",
              "      dtype=float32)>"
            ]
          },
          "metadata": {},
          "execution_count": 126
        }
      ]
    },
    {
      "cell_type": "code",
      "source": [
        "G.shape"
      ],
      "metadata": {
        "colab": {
          "base_uri": "https://localhost:8080/"
        },
        "id": "w1BhhaFpuaUk",
        "outputId": "2475b46e-b280-4bc7-c348-9e584cc05b62"
      },
      "execution_count": 127,
      "outputs": [
        {
          "output_type": "execute_result",
          "data": {
            "text/plain": [
              "TensorShape([1, 1, 1, 1, 50])"
            ]
          },
          "metadata": {},
          "execution_count": 127
        }
      ]
    },
    {
      "cell_type": "code",
      "source": [
        "G_squeezed= tf.squeeze(G)\n",
        "G_squeezed, G_squeezed.shape"
      ],
      "metadata": {
        "colab": {
          "base_uri": "https://localhost:8080/"
        },
        "id": "BGuMBo-luKL4",
        "outputId": "5887bfdc-e13d-41a9-c0a7-847045556305"
      },
      "execution_count": 130,
      "outputs": [
        {
          "output_type": "execute_result",
          "data": {
            "text/plain": [
              "(<tf.Tensor: shape=(50,), dtype=float32, numpy=\n",
              " array([0.54513085, 0.7588961 , 0.8362565 , 0.39474642, 0.72001076,\n",
              "        0.6402768 , 0.15894496, 0.57128036, 0.41122293, 0.18993318,\n",
              "        0.2312665 , 0.7875649 , 0.18806243, 0.8033031 , 0.12747478,\n",
              "        0.43258965, 0.98803484, 0.8451586 , 0.9797807 , 0.9952853 ,\n",
              "        0.6283821 , 0.8643936 , 0.9500631 , 0.41532683, 0.388798  ,\n",
              "        0.33959448, 0.36432612, 0.79217136, 0.90930283, 0.6459546 ,\n",
              "        0.4547919 , 0.3669002 , 0.22951639, 0.54661405, 0.9371824 ,\n",
              "        0.04014015, 0.82825315, 0.45409238, 0.943413  , 0.20978856,\n",
              "        0.1274836 , 0.9666685 , 0.97015405, 0.568432  , 0.99477863,\n",
              "        0.39956594, 0.3263564 , 0.61465824, 0.24279046, 0.03102553],\n",
              "       dtype=float32)>, TensorShape([50]))"
            ]
          },
          "metadata": {},
          "execution_count": 130
        }
      ]
    },
    {
      "cell_type": "markdown",
      "source": [
        "## One hot encoding in data mining"
      ],
      "metadata": {
        "id": "DAE35fCkvVBC"
      }
    },
    {
      "cell_type": "code",
      "source": [
        "#create a list of indices\n",
        "some_list= [0,1,2,3]  \n",
        "\n",
        "#one hot encod\n",
        "tf.one_hot(some_list, depth=4)\n"
      ],
      "metadata": {
        "colab": {
          "base_uri": "https://localhost:8080/"
        },
        "id": "tcna_k4SuKIa",
        "outputId": "6fd833fc-737b-4f9c-97a2-45000e488d7c"
      },
      "execution_count": 134,
      "outputs": [
        {
          "output_type": "execute_result",
          "data": {
            "text/plain": [
              "<tf.Tensor: shape=(4, 4), dtype=float32, numpy=\n",
              "array([[1., 0., 0., 0.],\n",
              "       [0., 1., 0., 0.],\n",
              "       [0., 0., 1., 0.],\n",
              "       [0., 0., 0., 1.]], dtype=float32)>"
            ]
          },
          "metadata": {},
          "execution_count": 134
        }
      ]
    },
    {
      "cell_type": "code",
      "source": [
        "# Specify custom value for one hot encoding\n",
        "tf.one_hot(some_list, depth=4, on_value=\"yo I love deep learning\", off_value=\"I also like to dance\")"
      ],
      "metadata": {
        "colab": {
          "base_uri": "https://localhost:8080/"
        },
        "id": "K-I0wc87vPLC",
        "outputId": "90442441-c431-4334-88a5-62c0210227ca"
      },
      "execution_count": 138,
      "outputs": [
        {
          "output_type": "execute_result",
          "data": {
            "text/plain": [
              "<tf.Tensor: shape=(4, 4), dtype=string, numpy=\n",
              "array([[b'yo I love deep learning', b'I also like to dance',\n",
              "        b'I also like to dance', b'I also like to dance'],\n",
              "       [b'I also like to dance', b'yo I love deep learning',\n",
              "        b'I also like to dance', b'I also like to dance'],\n",
              "       [b'I also like to dance', b'I also like to dance',\n",
              "        b'yo I love deep learning', b'I also like to dance'],\n",
              "       [b'I also like to dance', b'I also like to dance',\n",
              "        b'I also like to dance', b'yo I love deep learning']],\n",
              "      dtype=object)>"
            ]
          },
          "metadata": {},
          "execution_count": 138
        }
      ]
    },
    {
      "cell_type": "markdown",
      "source": [
        "## Squaring , log, square root of tenosr"
      ],
      "metadata": {
        "id": "r878eiK6xJKy"
      }
    },
    {
      "cell_type": "code",
      "source": [
        "# crerate a tenosr\n",
        "H = tf.range(10)\n",
        "H"
      ],
      "metadata": {
        "colab": {
          "base_uri": "https://localhost:8080/"
        },
        "id": "2andDi05vPFU",
        "outputId": "a21bb58e-ce23-45bc-c654-6fea4b563965"
      },
      "execution_count": 142,
      "outputs": [
        {
          "output_type": "execute_result",
          "data": {
            "text/plain": [
              "<tf.Tensor: shape=(10,), dtype=int32, numpy=array([0, 1, 2, 3, 4, 5, 6, 7, 8, 9], dtype=int32)>"
            ]
          },
          "metadata": {},
          "execution_count": 142
        }
      ]
    },
    {
      "cell_type": "code",
      "source": [
        "tf.square(H)"
      ],
      "metadata": {
        "colab": {
          "base_uri": "https://localhost:8080/"
        },
        "id": "sShZizDuvPCa",
        "outputId": "c34f3983-4b7a-44cb-82f8-9b27b2cb9d6b"
      },
      "execution_count": 143,
      "outputs": [
        {
          "output_type": "execute_result",
          "data": {
            "text/plain": [
              "<tf.Tensor: shape=(10,), dtype=int32, numpy=array([ 0,  1,  4,  9, 16, 25, 36, 49, 64, 81], dtype=int32)>"
            ]
          },
          "metadata": {},
          "execution_count": 143
        }
      ]
    },
    {
      "cell_type": "code",
      "source": [
        "tf.math.log(tf.cast(H,dtype=tf.float32))"
      ],
      "metadata": {
        "colab": {
          "base_uri": "https://localhost:8080/"
        },
        "id": "yYzBUhGYxa4z",
        "outputId": "3a20ba91-b963-4b7b-b188-b4735b5bb780"
      },
      "execution_count": 150,
      "outputs": [
        {
          "output_type": "execute_result",
          "data": {
            "text/plain": [
              "<tf.Tensor: shape=(10,), dtype=float32, numpy=\n",
              "array([     -inf, 0.       , 0.6931472, 1.0986123, 1.3862944, 1.609438 ,\n",
              "       1.7917595, 1.9459102, 2.0794415, 2.1972246], dtype=float32)>"
            ]
          },
          "metadata": {},
          "execution_count": 150
        }
      ]
    },
    {
      "cell_type": "code",
      "source": [
        "tf.sqrt(tf.cast(H,dtype=tf.float32))"
      ],
      "metadata": {
        "colab": {
          "base_uri": "https://localhost:8080/"
        },
        "id": "-XSTTqn6xdtU",
        "outputId": "7f794b20-67cb-4176-90ab-51511a81ea7b"
      },
      "execution_count": 151,
      "outputs": [
        {
          "output_type": "execute_result",
          "data": {
            "text/plain": [
              "<tf.Tensor: shape=(10,), dtype=float32, numpy=\n",
              "array([0.       , 1.       , 1.4142135, 1.7320508, 2.       , 2.236068 ,\n",
              "       2.4494898, 2.6457512, 2.828427 , 3.       ], dtype=float32)>"
            ]
          },
          "metadata": {},
          "execution_count": 151
        }
      ]
    },
    {
      "cell_type": "markdown",
      "source": [
        "### Tensors and Numpy\n",
        "Tensorflow interact with Numpy array"
      ],
      "metadata": {
        "id": "yieip_yAyBuD"
      }
    },
    {
      "cell_type": "code",
      "source": [
        "#create a tenosr from numpy array\n",
        "J = tf.constant(np.array([3.,7.,8.]))\n",
        "J"
      ],
      "metadata": {
        "colab": {
          "base_uri": "https://localhost:8080/"
        },
        "id": "Pi4-ztLFx-4U",
        "outputId": "ebb2c640-9c16-4522-910b-5ef2bd22b688"
      },
      "execution_count": 156,
      "outputs": [
        {
          "output_type": "execute_result",
          "data": {
            "text/plain": [
              "<tf.Tensor: shape=(3,), dtype=float64, numpy=array([3., 7., 8.])>"
            ]
          },
          "metadata": {},
          "execution_count": 156
        }
      ]
    },
    {
      "cell_type": "code",
      "source": [
        "np.array(J), type(np.array(J))"
      ],
      "metadata": {
        "colab": {
          "base_uri": "https://localhost:8080/"
        },
        "id": "lT96RdSPx_Nq",
        "outputId": "38e55406-1162-454e-d539-faadff3d6c30"
      },
      "execution_count": 158,
      "outputs": [
        {
          "output_type": "execute_result",
          "data": {
            "text/plain": [
              "(array([3., 7., 8.]), numpy.ndarray)"
            ]
          },
          "metadata": {},
          "execution_count": 158
        }
      ]
    },
    {
      "cell_type": "code",
      "source": [
        "J.numpy()[1]"
      ],
      "metadata": {
        "colab": {
          "base_uri": "https://localhost:8080/"
        },
        "id": "2nyQELhBx_Y8",
        "outputId": "7dbbf76d-875a-49fa-ee2c-13e841ad42cd"
      },
      "execution_count": 161,
      "outputs": [
        {
          "output_type": "execute_result",
          "data": {
            "text/plain": [
              "7.0"
            ]
          },
          "metadata": {},
          "execution_count": 161
        }
      ]
    },
    {
      "cell_type": "code",
      "source": [
        "# Default type of each are slightly differewnt \n",
        "numpy_J = tf.constant(np.array([3.,7.,10.]))\n",
        "tensor_j= tf.constant([2.,4.,5.,6.])\n",
        "\n",
        "numpy_J.dtype, tensor_j.dtype"
      ],
      "metadata": {
        "colab": {
          "base_uri": "https://localhost:8080/"
        },
        "id": "-TAeZWdyylYr",
        "outputId": "9f4dc12e-354a-40d3-db91-59b785be0db5"
      },
      "execution_count": 166,
      "outputs": [
        {
          "output_type": "execute_result",
          "data": {
            "text/plain": [
              "(tf.float64, tf.float32)"
            ]
          },
          "metadata": {},
          "execution_count": 166
        }
      ]
    },
    {
      "cell_type": "code",
      "source": [],
      "metadata": {
        "id": "1UzQL_RYylqz"
      },
      "execution_count": null,
      "outputs": []
    }
  ]
}